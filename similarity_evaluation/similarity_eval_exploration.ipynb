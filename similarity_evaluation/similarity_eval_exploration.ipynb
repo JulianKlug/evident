{
 "cells": [
  {
   "cell_type": "markdown",
   "id": "997186be",
   "metadata": {},
   "source": [
    "Test multiple similarity models (later needed for extraction model eval)"
   ]
  },
  {
   "cell_type": "code",
   "execution_count": 1,
   "id": "df20f801",
   "metadata": {},
   "outputs": [],
   "source": [
    "import pandas as pd\n",
    "import glob\n",
    "import os"
   ]
  },
  {
   "cell_type": "code",
   "execution_count": 2,
   "id": "6d9725a1",
   "metadata": {},
   "outputs": [],
   "source": [
    "ebmsass_path = '/Users/jk1/temp/evident_data/EBMSASS'"
   ]
  },
  {
   "cell_type": "code",
   "execution_count": 3,
   "id": "5f2318d6",
   "metadata": {},
   "outputs": [
    {
     "data": {
      "application/vnd.microsoft.datawrangler.viewer.v0+json": {
       "columns": [
        {
         "name": "index",
         "rawType": "int64",
         "type": "integer"
        },
        {
         "name": "id",
         "rawType": "object",
         "type": "string"
        },
        {
         "name": "sentence1",
         "rawType": "object",
         "type": "string"
        },
        {
         "name": "sentence2",
         "rawType": "object",
         "type": "string"
        },
        {
         "name": "score",
         "rawType": "float64",
         "type": "float"
        }
       ],
       "ref": "a7fc54db-707f-4f38-af12-9837a91c9aa8",
       "rows": [
        [
         "0",
         "10080570-2_11313090-3",
         "This study tested the hypothesis that female subjects may exhibit a higher prevalence than male subjects of depression associated with somatic symptoms but not a higher prevalence of depression not associated with these other symptoms.",
         "Despite the high prevalence, most cases of depression in the elderly remain unrecognized and untreated, maybe because of a different pattern of symptoms across age groups.",
         "2.0"
        ],
        [
         "1",
         "10084436-2_15672627-1",
         "To compare the pressor response to static exercise in subjects with cervical spinal cord injury (SCI) at the C6 to C8 level with that in able-bodied control subjects.",
         "Spinal cord injury (SCI) is a devastating condition often affecting young and healthy individuals around the world.",
         "1.8"
        ],
        [
         "2",
         "10422730-8_11728416-2",
         "Finally, galanin is co-localized with classic monoamine transmitters in two central systems, the dorsal raphe serotonin neurons and the locus coeruleus noradrenergic neurons.",
         "Pharmacogenetics is the science of the influence of heredity on pharmacological response.",
         "1.0"
        ],
        [
         "3",
         "8735663-2_16009872-2",
         "However, studies utilizing established psychiatric diagnostic schemes to study these outcomes after TBI are scarce, and no studies have included an assessment of personality disorders in addition to the major psychiatric disorders.",
         "Acute urinary retention (AUR) is characterized by the sudden inability to urinate, which is usually extremely painful and requires catheterization.",
         "1.0"
        ],
        [
         "4",
         "10084436-3_14505102-4",
         "In these SCI subjects, the descending supraspinal sympathetic neurons and afferent pathways from the contracting muscles to peripheral vessels via the medullary cardiovascular center are damaged.",
         "The objectives of this paper are to summarize the frequency and the modalities of intracranial pressure (ICP) monitoring in different centers in Italy; to describe its use in traumatic brain injury (TBI) and in subarachnoid hemorrhage (SAH); and to identi",
         "1.0"
        ],
        [
         "5",
         "12505533-3_9696457-3",
         "However, responsiveness to thermal and mechanical hyperalgesia may be distinct, and have thus far not been directly compared in chronic inflammatory pain models.",
         "The aim of the study was to evaluate the long-term effect of the treatment program as well as the effect of a work supervisor-training program on the patients' return to work.",
         "1.0"
        ],
        [
         "6",
         "17335974-1_17968166-4",
         "Neuropathic pain after spinal cord injury is not well understood and is difficult to treat.",
         "Although TME results in lower rate of locoregional recurrence compared with conventional surgery, these 2 treatment modalities following TME have not adequately been appraised until the present trend of preoperative chemoradiotherapy.",
         "1.0"
        ],
        [
         "7",
         "10084436-3_11145005-1",
         "In these SCI subjects, the descending supraspinal sympathetic neurons and afferent pathways from the contracting muscles to peripheral vessels via the medullary cardiovascular center are damaged.",
         "Efficiency and safety of amantadine sulfate (AMS) infusions were investigated in late stage complications of Parkinson's disease (PD).",
         "1.0"
        ],
        [
         "8",
         "10084436-3_11758872-5",
         "In these SCI subjects, the descending supraspinal sympathetic neurons and afferent pathways from the contracting muscles to peripheral vessels via the medullary cardiovascular center are damaged.",
         "To manage neuropathic pain in this population, nonopioid adjuvant drugs that are neuroactive or neuromodulatory are often needed to complement opioid therapy.",
         "1.0"
        ],
        [
         "9",
         "10084436-2_8148099-1",
         "To compare the pressor response to static exercise in subjects with cervical spinal cord injury (SCI) at the C6 to C8 level with that in able-bodied control subjects.",
         "The community integration questionnaire (CIQ) was designed to assess home integration, social integration and productive activity in persons with acquired brain injury.",
         "1.0"
        ],
        [
         "10",
         "15949752-1_17891468-1",
         "The calculation of protein structures from nuclear magnetic resonance (NMR) data has been greatly facilitated by improvements in software for the automatic assignment of NOESY spectra.",
         "Canine aggressive behaviour is one of the most common problems being reported by dog owners.",
         "1.0"
        ],
        [
         "11",
         "10495097-4_17550722-2",
         "By reducing uncertainties in clinical decisions, informatics tools can support the appropriate implementation of knowledge and free clinicians to use their creativity where patients require new or unique interventions.",
         "To observe the effect and safety of one-stage single balloon multiple expansions percutaneous kyphoplasty (PKP) in treatment of osteoporotic vertebral compressive fracture (OVCF) and spinal tumor.",
         "1.0"
        ],
        [
         "12",
         "10072623-2_15945300-2",
         "We wanted to evaluate the urodynamic changes of radical retropubic prostatectomy in patients with localized prostate cancer and identify specific factors that could influence the postoperative continence status.",
         "The aim of this study was to evaluate retrospectively the tolerability, safety and efficacy of antialdosterone therapy in patients with heart failure admitted to our ambulatory from June 1995 to September 2003.",
         "1.0"
        ],
        [
         "13",
         "16034862-4_7023659-5",
         "Despite improved asepsis and surgical techniques, postoperative complications, such as wound infection and intraabdominal abscess, still account for a significant morbidity.",
         "Some progress has been made in separating the epidemiologies of various kinds of ovarian and uterine cancer.",
         "1.0"
        ],
        [
         "14",
         "16185161-3_2092556-3",
         "However, several recent developments have potentially opened new windows of opportunity in the use of nicotinic agents for analgesia.",
         "On Nov 8th 1987 the battery exhausted gradually whereas the patient increased the output up to maximum.",
         "1.0"
        ],
        [
         "15",
         "11792611-3_11713035-3",
         "The main objective is the development of clinical practice guidelines to improve the quality of health care and outcome of cancer patients.",
         "The main objective is the development of clinical practice guidelines to improve the quality of health care and outcome for cancer patients.",
         "5.0"
        ],
        [
         "16",
         "10084436-3_12531372-7",
         "In these SCI subjects, the descending supraspinal sympathetic neurons and afferent pathways from the contracting muscles to peripheral vessels via the medullary cardiovascular center are damaged.",
         "Specific problems that concern the traumatised patients are helplessness, humiliation, threat to body image and mental symptoms.",
         "1.0"
        ],
        [
         "17",
         "10164045-2_14499516-4",
         "This paper examines this trade-off empirically by estimating both the demand for health insurance and the demand for health services.",
         "DDM goals were to: (a) strengthen the capacity of decision makers to identify data needs for solving problems and to interpret and use data appropriately for public health decisions; (b) enhance the capacity of technical advisors to provide valid, essenti",
         "1.2"
        ],
        [
         "18",
         "10232536-3_17030685-2",
         "Whereas the primary injury is fated by the circumstances of the trauma, the outcome of the secondary injury may be amenable to therapeutic modulation.",
         "Atrial fibrosis is an important substrate in atrial fibrillation (AF), particularly in the setting of structural heart disease.",
         "1.0"
        ],
        [
         "19",
         "7596504-2_16389204-2",
         "Several factors might account for its apparent poor success rate, including inadequate patient selection, inaccurate surgical anatomy, and technical errors.",
         "Effective alternatives to long waiting lists for entry into methadone hydrochloride maintenance treatment are needed to reduce the complications of continuing heroin dependence and to increase methadone treatment entry.",
         "1.0"
        ],
        [
         "20",
         "10084436-3_11750932-1",
         "In these SCI subjects, the descending supraspinal sympathetic neurons and afferent pathways from the contracting muscles to peripheral vessels via the medullary cardiovascular center are damaged.",
         "Dysfunction of surviving axons which traverse the site of spinal cord injury (SCI) appears to contribute to posttraumatic neurological deficits, though the underlying mechanisms remain unclear.",
         "2.0"
        ],
        [
         "21",
         "17253537-3_15338064-3",
         "A variety of treatments are available, ranging from pharmacotherapy or stereotactic neurosurgery to neurorehabilitation.",
         "However, there is little experience with the interpretation of QoL results.",
         "1.0"
        ],
        [
         "22",
         "16970638-2_8452782-4",
         "To determine whether nursing home residents with urinary incontinence (UI) have worse quality of life (QoL) than continent residents, whether the relationship between UI and QoL differs across strata of cognitive and functional impairment, and whether cha",
         "Preoperative radiation treatment has several advantages over postoperative radiotherapy.",
         "1.0"
        ],
        [
         "23",
         "9935109-2_1714897-1",
         "To compare the efficacy of two clinically accepted methods of progesterone supplementation during IVF.",
         "The JAR human placental choriocarcinoma cell line transports serotonin, accumulating the monoamine inside the cell against a concentration gradient.",
         "1.0"
        ],
        [
         "24",
         "1588072-6_16227129-3",
         "Methods of preventing or correcting iatrogenic deformity have improved outcome.",
         "To examine how self-reported well-being, weight-related concerns, self-image, peer relationships and psychiatric disorders are associated with obesity at ages 11 and 15 years.",
         "1.0"
        ],
        [
         "25",
         "18253995-5_3534508-1",
         "Previous systematic reviews or meta-analyses summarising the evidence are methodologically problematic or limited in the scope of their analysis.",
         "Individuals with traumatic spinal cord injury (SCI) represent a population with extreme inactivity.",
         "1.0"
        ],
        [
         "26",
         "10084436-2_12514454-2",
         "To compare the pressor response to static exercise in subjects with cervical spinal cord injury (SCI) at the C6 to C8 level with that in able-bodied control subjects.",
         "To develop and establish the psychometric properties of a pain treatment willingness scale and identify factors associated with willingness to try specific pain treatments for spinal cord injury (SCI)-related pain.",
         "1.8"
        ],
        [
         "27",
         "10084436-3_10422730-10",
         "In these SCI subjects, the descending supraspinal sympathetic neurons and afferent pathways from the contracting muscles to peripheral vessels via the medullary cardiovascular center are damaged.",
         "It may therefore be interesting to analyse to what extent drugs affecting galaninergic transmission also may be efficient in the treatment of, for example, depression.",
         "1.0"
        ],
        [
         "28",
         "12597233-2_16674806-2",
         "Risk factors include traumatic needle/catheter placement, sustained anticoagulation in an indwelling neuraxial catheter, and catheter removal during therapeutic levels of anticoagulation.",
         "The main aims of this paper are to describe the setting and design of a Minimal Intervention in general practice for Stress-related mental disorders in patients on Sick leave (MISS), as well as to ascertain the study complies with the requirements for a c",
         "1.0"
        ],
        [
         "29",
         "16531984-3_16227129-3",
         "Diets enriched with n-3 polyunsaturated fatty acids (PUFAs) (omega-3) have been associated to a lower incidence of coronary heart disease (CHD) and a reduction in atherosclerotic lesions.",
         "To examine how self-reported well-being, weight-related concerns, self-image, peer relationships and psychiatric disorders are associated with obesity at ages 11 and 15 years.",
         "1.0"
        ],
        [
         "30",
         "15252824-1_15373378-3",
         "The stimulant modafinil has proved to be an effective treatment modality for narcolepsy and related sleep disorders and is also being studied for use during sustained military operations to ameliorate the effects of fatigue due to sleep loss.",
         "While the existence of this disorder is generally accepted, debate continues in relation to aspects of assessment, as well as the effectiveness and choice of treatment options and their continuation into adult life.",
         "1.0"
        ],
        [
         "31",
         "10796847-3_18034814-6",
         "Surgical opinions appear to be equally divided when considering the relative risks and benefits of these two procedures.",
         "Although the underlying neurological damage is not amenable to correction, many health services are dedicated to providing therapeutic and adaptive support to help people with the condition reach their potential.",
         "1.0"
        ],
        [
         "32",
         "12071542-2_9454313-11",
         "As a result, for many years, epidemiologic studies of the general population examining the prevalence of OSAS included only males and investigators examined almost exclusively males in their pathophysiologic studies.",
         "Regard should be had for the various psychosocial factors which interfere with the healing process, and a method should be adopted which is no longer based on the classic biomedical model but on a bio-psycho-social approach as proposed by Waddell.",
         "1.0"
        ],
        [
         "33",
         "10084436-3_11575593-3",
         "In these SCI subjects, the descending supraspinal sympathetic neurons and afferent pathways from the contracting muscles to peripheral vessels via the medullary cardiovascular center are damaged.",
         "Unlike accuracy-based analyses, the model-based analyses allow one to quantify and separate the effects of categorization rule learning from variability in the trial-by-trial application of the participant's rule.",
         "1.0"
        ],
        [
         "34",
         "12719182-6_7580006-4",
         "The place/space dilemma of health services provision is examined through several interrelated subjects: long-term care at the end of life, gendered characteristics of care giving, the limitations of Medicare and Medicaid, historical changes in hospital le",
         "It has a high specific activity and can be administered subcutaneously.",
         "1.0"
        ],
        [
         "35",
         "10235074-2_17253573-3",
         "Unfortunately, resection for cure is feasible in a limited number of patients, thus confirming the need for an early diagnosis and accurate preoperative staging to select patients potentially resectable from those candidates to palliative treatment.",
         "The prevalence of wandering by people with dementia is difficult to assess; wandering is not a simple or static behaviour and the reasons why people wander remain unclear.",
         "1.0"
        ],
        [
         "36",
         "16456449-2_14529539-7",
         "Using a model of traumatic brain injury (TBI) in the rat, this study was undertaken to characterize the short-term biochemical changes of IL-1beta, IL-10, and tumor necrosis factor TNF-alpha to determine whether injury in the brain elicits a systemic cyto",
         "Calcitonin has been demonstrated to be clinically useful in improving pain, not only from the acute vertebral fractures of osteoporosis, but also in Paget's disease, bone malignancies, and other sources of musculoskeletal pain.",
         "1.0"
        ],
        [
         "37",
         "12294592-2_15065383-2",
         "While only 2% of federal dollars are currently earmarked for reproductive health services for young men, a survey revealed that only 32% of sexually active men and 17% of sexually inexperienced men reported receiving contraceptive information from health ",
         "A new National Health Insurance Law came into effect, mandating compulsory health insurance for all Israeli citizens.",
         "1.0"
        ],
        [
         "38",
         "11945138-4_12077636-1",
         "Glutamate, aspartate and their receptors can be detected in particularly high concentrations in the dorsal root ganglia and the superficial laminae (I, II) of the spinal cord.",
         "Hemorrhoidal disease is a common pathology in patients with chronic spinal cord injury (SCI).",
         "1.4"
        ],
        [
         "39",
         "16770167-2_17126273-1",
         "Individualized and tailored nutritional management for patients with short bowel syndrome (SBS) helps to optimize intestinal absorption, leading to nutritional independence such that a patient can resume as normal a lifestyle as possible.",
         "Congenital muscular torticollis is due to fibrosis of one or both the heads of sternocleidomastoid muscle.",
         "1.0"
        ],
        [
         "40",
         "145506-2_3515292-2",
         "This does not occur after a suboccipital puncture.",
         "The hypothesis rests on two assumptions: that a high rate of firing in spinal wide-dynamic-range (WDR) or multireceptive neurons results in painful sensations; and that nociceptor responses associated with trauma can produce long-term sensitization of WDR",
         "1.0"
        ],
        [
         "41",
         "11535963-2_11748345-7",
         "Vertebral fractures are the earliest and most common osteoporotic fractures.",
         "Multiple vertebral fractures were diagnosed by X-ray.",
         "2.0"
        ],
        [
         "42",
         "11501604-1_18806535-2",
         "The use of spinal cord stimulation (SCS) for chronic intractable anginal pain was first described in 1987.",
         "The communication impairments that characterize severe dementia make pain assessment challenging.",
         "1.0"
        ],
        [
         "43",
         "10084436-3_14659506-1",
         "In these SCI subjects, the descending supraspinal sympathetic neurons and afferent pathways from the contracting muscles to peripheral vessels via the medullary cardiovascular center are damaged.",
         "Clinically, chronic pain and hyperalgesia induced by muscle injury are disabling and difficult to treat.",
         "1.0"
        ],
        [
         "44",
         "11313090-2_16338278-2",
         "Depression is the most prevalent psychiatric disorder in the elderly and several studies indicate that 10-15% of persons over 65 years suffer from significant depressive symptoms.",
         "The clinical outcome of acid-related disorders treated by proton pump inhibitors (PPIs) might be dependent on the polymorphically expressed cytochrome P450 (CYP) 2C19, which is involved in PPI metabolism.",
         "1.0"
        ],
        [
         "45",
         "15307975-6_12079865-2",
         "Most women receive treatment similar to other epithelial ovarian cancers.",
         "Both lean and obese subjects eventually reach energy balance and their body weight regulation implies that the adipose tissue mass is &quot;sensed&quot;, leading to appropriate responses of energy intake and energy expenditure.",
         "1.0"
        ],
        [
         "46",
         "11284550-2_12292288-6",
         "No systematic studies have determined the postinjury duration of this vulnerability.",
         "The author, US First Lady, visited one of the clinics during her trip to participate in the Sixth Conference of Wives of Heads of State and Government of the Americas.",
         "1.0"
        ],
        [
         "47",
         "16483576-4_12402129-2",
         "There is no alternative procedure serving as a control.",
         "To what extent does the scientific literature have an impact on current clinical practice guidelines (CPGs) in trauma surgery?",
         "1.0"
        ],
        [
         "48",
         "10084436-2_11034763-2",
         "To compare the pressor response to static exercise in subjects with cervical spinal cord injury (SCI) at the C6 to C8 level with that in able-bodied control subjects.",
         "To determine the effect of iNO, compared with inhaled placebo, on outcome in AHRF in children and/or adults.",
         "1.0"
        ],
        [
         "49",
         "10235074-10_12433890-2",
         "Endoscopic ultrasonography (EUS) is able to produce great detail of the pancreatic parenchyma and regional lymph nodes.",
         "To determine tolerability and symptom changes associated with the introduction of bisoprolol treatment in older patients with heart failure.",
         "1.0"
        ]
       ],
       "shape": {
        "columns": 4,
        "rows": 200
       }
      },
      "text/html": [
       "<div>\n",
       "<style scoped>\n",
       "    .dataframe tbody tr th:only-of-type {\n",
       "        vertical-align: middle;\n",
       "    }\n",
       "\n",
       "    .dataframe tbody tr th {\n",
       "        vertical-align: top;\n",
       "    }\n",
       "\n",
       "    .dataframe thead th {\n",
       "        text-align: right;\n",
       "    }\n",
       "</style>\n",
       "<table border=\"1\" class=\"dataframe\">\n",
       "  <thead>\n",
       "    <tr style=\"text-align: right;\">\n",
       "      <th></th>\n",
       "      <th>id</th>\n",
       "      <th>sentence1</th>\n",
       "      <th>sentence2</th>\n",
       "      <th>score</th>\n",
       "    </tr>\n",
       "  </thead>\n",
       "  <tbody>\n",
       "    <tr>\n",
       "      <th>0</th>\n",
       "      <td>10080570-2_11313090-3</td>\n",
       "      <td>This study tested the hypothesis that female s...</td>\n",
       "      <td>Despite the high prevalence, most cases of dep...</td>\n",
       "      <td>2.0</td>\n",
       "    </tr>\n",
       "    <tr>\n",
       "      <th>1</th>\n",
       "      <td>10084436-2_15672627-1</td>\n",
       "      <td>To compare the pressor response to static exer...</td>\n",
       "      <td>Spinal cord injury (SCI) is a devastating cond...</td>\n",
       "      <td>1.8</td>\n",
       "    </tr>\n",
       "    <tr>\n",
       "      <th>2</th>\n",
       "      <td>10422730-8_11728416-2</td>\n",
       "      <td>Finally, galanin is co-localized with classic ...</td>\n",
       "      <td>Pharmacogenetics is the science of the influen...</td>\n",
       "      <td>1.0</td>\n",
       "    </tr>\n",
       "    <tr>\n",
       "      <th>3</th>\n",
       "      <td>8735663-2_16009872-2</td>\n",
       "      <td>However, studies utilizing established psychia...</td>\n",
       "      <td>Acute urinary retention (AUR) is characterized...</td>\n",
       "      <td>1.0</td>\n",
       "    </tr>\n",
       "    <tr>\n",
       "      <th>4</th>\n",
       "      <td>10084436-3_14505102-4</td>\n",
       "      <td>In these SCI subjects, the descending supraspi...</td>\n",
       "      <td>The objectives of this paper are to summarize ...</td>\n",
       "      <td>1.0</td>\n",
       "    </tr>\n",
       "    <tr>\n",
       "      <th>...</th>\n",
       "      <td>...</td>\n",
       "      <td>...</td>\n",
       "      <td>...</td>\n",
       "      <td>...</td>\n",
       "    </tr>\n",
       "    <tr>\n",
       "      <th>195</th>\n",
       "      <td>16421065-2_17402851-1</td>\n",
       "      <td>Age is assumed to be a negative prognostic fac...</td>\n",
       "      <td>Conventional clinical neuroimaging is insensit...</td>\n",
       "      <td>2.2</td>\n",
       "    </tr>\n",
       "    <tr>\n",
       "      <th>196</th>\n",
       "      <td>8622391-6_15881697-2</td>\n",
       "      <td>We have carried out such a study to assess the...</td>\n",
       "      <td>Our aim was to find out which factors favor th...</td>\n",
       "      <td>1.2</td>\n",
       "    </tr>\n",
       "    <tr>\n",
       "      <th>197</th>\n",
       "      <td>10908939-6_9141327-2</td>\n",
       "      <td>The magnitude of low back disorders in society...</td>\n",
       "      <td>Primary goals of these initiatives include imp...</td>\n",
       "      <td>1.0</td>\n",
       "    </tr>\n",
       "    <tr>\n",
       "      <th>198</th>\n",
       "      <td>11750932-3_16207647-1</td>\n",
       "      <td>It has been theorized that exposure of K+ chan...</td>\n",
       "      <td>Clinical and experimental evidence has support...</td>\n",
       "      <td>1.0</td>\n",
       "    </tr>\n",
       "    <tr>\n",
       "      <th>199</th>\n",
       "      <td>12322634-2_17825546-1</td>\n",
       "      <td>The petition alleges violations of the woman's...</td>\n",
       "      <td>Fatty acid deficiency symptoms (FADS) of dry h...</td>\n",
       "      <td>1.0</td>\n",
       "    </tr>\n",
       "  </tbody>\n",
       "</table>\n",
       "<p>200 rows × 4 columns</p>\n",
       "</div>"
      ],
      "text/plain": [
       "                        id                                          sentence1  \\\n",
       "0    10080570-2_11313090-3  This study tested the hypothesis that female s...   \n",
       "1    10084436-2_15672627-1  To compare the pressor response to static exer...   \n",
       "2    10422730-8_11728416-2  Finally, galanin is co-localized with classic ...   \n",
       "3     8735663-2_16009872-2  However, studies utilizing established psychia...   \n",
       "4    10084436-3_14505102-4  In these SCI subjects, the descending supraspi...   \n",
       "..                     ...                                                ...   \n",
       "195  16421065-2_17402851-1  Age is assumed to be a negative prognostic fac...   \n",
       "196   8622391-6_15881697-2  We have carried out such a study to assess the...   \n",
       "197   10908939-6_9141327-2  The magnitude of low back disorders in society...   \n",
       "198  11750932-3_16207647-1  It has been theorized that exposure of K+ chan...   \n",
       "199  12322634-2_17825546-1  The petition alleges violations of the woman's...   \n",
       "\n",
       "                                             sentence2  score  \n",
       "0    Despite the high prevalence, most cases of dep...    2.0  \n",
       "1    Spinal cord injury (SCI) is a devastating cond...    1.8  \n",
       "2    Pharmacogenetics is the science of the influen...    1.0  \n",
       "3    Acute urinary retention (AUR) is characterized...    1.0  \n",
       "4    The objectives of this paper are to summarize ...    1.0  \n",
       "..                                                 ...    ...  \n",
       "195  Conventional clinical neuroimaging is insensit...    2.2  \n",
       "196  Our aim was to find out which factors favor th...    1.2  \n",
       "197  Primary goals of these initiatives include imp...    1.0  \n",
       "198  Clinical and experimental evidence has support...    1.0  \n",
       "199  Fatty acid deficiency symptoms (FADS) of dry h...    1.0  \n",
       "\n",
       "[200 rows x 4 columns]"
      ]
     },
     "execution_count": 3,
     "metadata": {},
     "output_type": "execute_result"
    }
   ],
   "source": [
    "pd.read_csv('/Users/jk1/temp/evident_data/EBMSASS/background_pairs.txt', sep='\\t', header=None, names=['id', 'sentence1', 'sentence2', 'score'])"
   ]
  },
  {
   "cell_type": "code",
   "execution_count": 4,
   "id": "33f5d756",
   "metadata": {},
   "outputs": [],
   "source": [
    "# read all txt files (tsv) in ebmsass_path and load as a DataFrame\n",
    "def load_ebmsass_data(path):   \n",
    "    files = glob.glob(os.path.join(path, '*.txt'))\n",
    "    dataframes = []\n",
    "    \n",
    "    for file in files:\n",
    "        df = pd.read_csv(file, sep='\\t', header=None, names=['id', 'sentence1', 'sentence2', 'score'])\n",
    "        dataframes.append(df)\n",
    "    \n",
    "    return pd.concat(dataframes, ignore_index=True)\n",
    "\n",
    "# Load the data\n",
    "ebmsass_df = load_ebmsass_data(ebmsass_path)"
   ]
  },
  {
   "cell_type": "code",
   "execution_count": 5,
   "id": "ac7c701a",
   "metadata": {},
   "outputs": [],
   "source": [
    "# https://huggingface.co/datasets/tabilab/biosses\n",
    "biossess_df = pd.read_parquet(\"hf://datasets/tabilab/biosses/data/train-00000-of-00001.parquet\")"
   ]
  },
  {
   "cell_type": "code",
   "execution_count": 6,
   "id": "065f385e",
   "metadata": {},
   "outputs": [
    {
     "data": {
      "application/vnd.microsoft.datawrangler.viewer.v0+json": {
       "columns": [
        {
         "name": "index",
         "rawType": "int64",
         "type": "integer"
        },
        {
         "name": "id",
         "rawType": "object",
         "type": "string"
        },
        {
         "name": "sentence1",
         "rawType": "object",
         "type": "string"
        },
        {
         "name": "sentence2",
         "rawType": "object",
         "type": "string"
        },
        {
         "name": "score",
         "rawType": "float64",
         "type": "float"
        }
       ],
       "ref": "66289b04-0355-43fa-b793-d770f819eb8a",
       "rows": [
        [
         "0",
         "10080570-2_11313090-3",
         "This study tested the hypothesis that female subjects may exhibit a higher prevalence than male subjects of depression associated with somatic symptoms but not a higher prevalence of depression not associated with these other symptoms.",
         "Despite the high prevalence, most cases of depression in the elderly remain unrecognized and untreated, maybe because of a different pattern of symptoms across age groups.",
         "2.0"
        ],
        [
         "1",
         "10084436-2_15672627-1",
         "To compare the pressor response to static exercise in subjects with cervical spinal cord injury (SCI) at the C6 to C8 level with that in able-bodied control subjects.",
         "Spinal cord injury (SCI) is a devastating condition often affecting young and healthy individuals around the world.",
         "1.8"
        ],
        [
         "2",
         "10422730-8_11728416-2",
         "Finally, galanin is co-localized with classic monoamine transmitters in two central systems, the dorsal raphe serotonin neurons and the locus coeruleus noradrenergic neurons.",
         "Pharmacogenetics is the science of the influence of heredity on pharmacological response.",
         "1.0"
        ],
        [
         "3",
         "8735663-2_16009872-2",
         "However, studies utilizing established psychiatric diagnostic schemes to study these outcomes after TBI are scarce, and no studies have included an assessment of personality disorders in addition to the major psychiatric disorders.",
         "Acute urinary retention (AUR) is characterized by the sudden inability to urinate, which is usually extremely painful and requires catheterization.",
         "1.0"
        ],
        [
         "4",
         "10084436-3_14505102-4",
         "In these SCI subjects, the descending supraspinal sympathetic neurons and afferent pathways from the contracting muscles to peripheral vessels via the medullary cardiovascular center are damaged.",
         "The objectives of this paper are to summarize the frequency and the modalities of intracranial pressure (ICP) monitoring in different centers in Italy; to describe its use in traumatic brain injury (TBI) and in subarachnoid hemorrhage (SAH); and to identi",
         "1.0"
        ],
        [
         "5",
         "12505533-3_9696457-3",
         "However, responsiveness to thermal and mechanical hyperalgesia may be distinct, and have thus far not been directly compared in chronic inflammatory pain models.",
         "The aim of the study was to evaluate the long-term effect of the treatment program as well as the effect of a work supervisor-training program on the patients' return to work.",
         "1.0"
        ],
        [
         "6",
         "17335974-1_17968166-4",
         "Neuropathic pain after spinal cord injury is not well understood and is difficult to treat.",
         "Although TME results in lower rate of locoregional recurrence compared with conventional surgery, these 2 treatment modalities following TME have not adequately been appraised until the present trend of preoperative chemoradiotherapy.",
         "1.0"
        ],
        [
         "7",
         "10084436-3_11145005-1",
         "In these SCI subjects, the descending supraspinal sympathetic neurons and afferent pathways from the contracting muscles to peripheral vessels via the medullary cardiovascular center are damaged.",
         "Efficiency and safety of amantadine sulfate (AMS) infusions were investigated in late stage complications of Parkinson's disease (PD).",
         "1.0"
        ],
        [
         "8",
         "10084436-3_11758872-5",
         "In these SCI subjects, the descending supraspinal sympathetic neurons and afferent pathways from the contracting muscles to peripheral vessels via the medullary cardiovascular center are damaged.",
         "To manage neuropathic pain in this population, nonopioid adjuvant drugs that are neuroactive or neuromodulatory are often needed to complement opioid therapy.",
         "1.0"
        ],
        [
         "9",
         "10084436-2_8148099-1",
         "To compare the pressor response to static exercise in subjects with cervical spinal cord injury (SCI) at the C6 to C8 level with that in able-bodied control subjects.",
         "The community integration questionnaire (CIQ) was designed to assess home integration, social integration and productive activity in persons with acquired brain injury.",
         "1.0"
        ],
        [
         "10",
         "15949752-1_17891468-1",
         "The calculation of protein structures from nuclear magnetic resonance (NMR) data has been greatly facilitated by improvements in software for the automatic assignment of NOESY spectra.",
         "Canine aggressive behaviour is one of the most common problems being reported by dog owners.",
         "1.0"
        ],
        [
         "11",
         "10495097-4_17550722-2",
         "By reducing uncertainties in clinical decisions, informatics tools can support the appropriate implementation of knowledge and free clinicians to use their creativity where patients require new or unique interventions.",
         "To observe the effect and safety of one-stage single balloon multiple expansions percutaneous kyphoplasty (PKP) in treatment of osteoporotic vertebral compressive fracture (OVCF) and spinal tumor.",
         "1.0"
        ],
        [
         "12",
         "10072623-2_15945300-2",
         "We wanted to evaluate the urodynamic changes of radical retropubic prostatectomy in patients with localized prostate cancer and identify specific factors that could influence the postoperative continence status.",
         "The aim of this study was to evaluate retrospectively the tolerability, safety and efficacy of antialdosterone therapy in patients with heart failure admitted to our ambulatory from June 1995 to September 2003.",
         "1.0"
        ],
        [
         "13",
         "16034862-4_7023659-5",
         "Despite improved asepsis and surgical techniques, postoperative complications, such as wound infection and intraabdominal abscess, still account for a significant morbidity.",
         "Some progress has been made in separating the epidemiologies of various kinds of ovarian and uterine cancer.",
         "1.0"
        ],
        [
         "14",
         "16185161-3_2092556-3",
         "However, several recent developments have potentially opened new windows of opportunity in the use of nicotinic agents for analgesia.",
         "On Nov 8th 1987 the battery exhausted gradually whereas the patient increased the output up to maximum.",
         "1.0"
        ],
        [
         "15",
         "11792611-3_11713035-3",
         "The main objective is the development of clinical practice guidelines to improve the quality of health care and outcome of cancer patients.",
         "The main objective is the development of clinical practice guidelines to improve the quality of health care and outcome for cancer patients.",
         "5.0"
        ],
        [
         "16",
         "10084436-3_12531372-7",
         "In these SCI subjects, the descending supraspinal sympathetic neurons and afferent pathways from the contracting muscles to peripheral vessels via the medullary cardiovascular center are damaged.",
         "Specific problems that concern the traumatised patients are helplessness, humiliation, threat to body image and mental symptoms.",
         "1.0"
        ],
        [
         "17",
         "10164045-2_14499516-4",
         "This paper examines this trade-off empirically by estimating both the demand for health insurance and the demand for health services.",
         "DDM goals were to: (a) strengthen the capacity of decision makers to identify data needs for solving problems and to interpret and use data appropriately for public health decisions; (b) enhance the capacity of technical advisors to provide valid, essenti",
         "1.2"
        ],
        [
         "18",
         "10232536-3_17030685-2",
         "Whereas the primary injury is fated by the circumstances of the trauma, the outcome of the secondary injury may be amenable to therapeutic modulation.",
         "Atrial fibrosis is an important substrate in atrial fibrillation (AF), particularly in the setting of structural heart disease.",
         "1.0"
        ],
        [
         "19",
         "7596504-2_16389204-2",
         "Several factors might account for its apparent poor success rate, including inadequate patient selection, inaccurate surgical anatomy, and technical errors.",
         "Effective alternatives to long waiting lists for entry into methadone hydrochloride maintenance treatment are needed to reduce the complications of continuing heroin dependence and to increase methadone treatment entry.",
         "1.0"
        ],
        [
         "20",
         "10084436-3_11750932-1",
         "In these SCI subjects, the descending supraspinal sympathetic neurons and afferent pathways from the contracting muscles to peripheral vessels via the medullary cardiovascular center are damaged.",
         "Dysfunction of surviving axons which traverse the site of spinal cord injury (SCI) appears to contribute to posttraumatic neurological deficits, though the underlying mechanisms remain unclear.",
         "2.0"
        ],
        [
         "21",
         "17253537-3_15338064-3",
         "A variety of treatments are available, ranging from pharmacotherapy or stereotactic neurosurgery to neurorehabilitation.",
         "However, there is little experience with the interpretation of QoL results.",
         "1.0"
        ],
        [
         "22",
         "16970638-2_8452782-4",
         "To determine whether nursing home residents with urinary incontinence (UI) have worse quality of life (QoL) than continent residents, whether the relationship between UI and QoL differs across strata of cognitive and functional impairment, and whether cha",
         "Preoperative radiation treatment has several advantages over postoperative radiotherapy.",
         "1.0"
        ],
        [
         "23",
         "9935109-2_1714897-1",
         "To compare the efficacy of two clinically accepted methods of progesterone supplementation during IVF.",
         "The JAR human placental choriocarcinoma cell line transports serotonin, accumulating the monoamine inside the cell against a concentration gradient.",
         "1.0"
        ],
        [
         "24",
         "1588072-6_16227129-3",
         "Methods of preventing or correcting iatrogenic deformity have improved outcome.",
         "To examine how self-reported well-being, weight-related concerns, self-image, peer relationships and psychiatric disorders are associated with obesity at ages 11 and 15 years.",
         "1.0"
        ],
        [
         "25",
         "18253995-5_3534508-1",
         "Previous systematic reviews or meta-analyses summarising the evidence are methodologically problematic or limited in the scope of their analysis.",
         "Individuals with traumatic spinal cord injury (SCI) represent a population with extreme inactivity.",
         "1.0"
        ],
        [
         "26",
         "10084436-2_12514454-2",
         "To compare the pressor response to static exercise in subjects with cervical spinal cord injury (SCI) at the C6 to C8 level with that in able-bodied control subjects.",
         "To develop and establish the psychometric properties of a pain treatment willingness scale and identify factors associated with willingness to try specific pain treatments for spinal cord injury (SCI)-related pain.",
         "1.8"
        ],
        [
         "27",
         "10084436-3_10422730-10",
         "In these SCI subjects, the descending supraspinal sympathetic neurons and afferent pathways from the contracting muscles to peripheral vessels via the medullary cardiovascular center are damaged.",
         "It may therefore be interesting to analyse to what extent drugs affecting galaninergic transmission also may be efficient in the treatment of, for example, depression.",
         "1.0"
        ],
        [
         "28",
         "12597233-2_16674806-2",
         "Risk factors include traumatic needle/catheter placement, sustained anticoagulation in an indwelling neuraxial catheter, and catheter removal during therapeutic levels of anticoagulation.",
         "The main aims of this paper are to describe the setting and design of a Minimal Intervention in general practice for Stress-related mental disorders in patients on Sick leave (MISS), as well as to ascertain the study complies with the requirements for a c",
         "1.0"
        ],
        [
         "29",
         "16531984-3_16227129-3",
         "Diets enriched with n-3 polyunsaturated fatty acids (PUFAs) (omega-3) have been associated to a lower incidence of coronary heart disease (CHD) and a reduction in atherosclerotic lesions.",
         "To examine how self-reported well-being, weight-related concerns, self-image, peer relationships and psychiatric disorders are associated with obesity at ages 11 and 15 years.",
         "1.0"
        ],
        [
         "30",
         "15252824-1_15373378-3",
         "The stimulant modafinil has proved to be an effective treatment modality for narcolepsy and related sleep disorders and is also being studied for use during sustained military operations to ameliorate the effects of fatigue due to sleep loss.",
         "While the existence of this disorder is generally accepted, debate continues in relation to aspects of assessment, as well as the effectiveness and choice of treatment options and their continuation into adult life.",
         "1.0"
        ],
        [
         "31",
         "10796847-3_18034814-6",
         "Surgical opinions appear to be equally divided when considering the relative risks and benefits of these two procedures.",
         "Although the underlying neurological damage is not amenable to correction, many health services are dedicated to providing therapeutic and adaptive support to help people with the condition reach their potential.",
         "1.0"
        ],
        [
         "32",
         "12071542-2_9454313-11",
         "As a result, for many years, epidemiologic studies of the general population examining the prevalence of OSAS included only males and investigators examined almost exclusively males in their pathophysiologic studies.",
         "Regard should be had for the various psychosocial factors which interfere with the healing process, and a method should be adopted which is no longer based on the classic biomedical model but on a bio-psycho-social approach as proposed by Waddell.",
         "1.0"
        ],
        [
         "33",
         "10084436-3_11575593-3",
         "In these SCI subjects, the descending supraspinal sympathetic neurons and afferent pathways from the contracting muscles to peripheral vessels via the medullary cardiovascular center are damaged.",
         "Unlike accuracy-based analyses, the model-based analyses allow one to quantify and separate the effects of categorization rule learning from variability in the trial-by-trial application of the participant's rule.",
         "1.0"
        ],
        [
         "34",
         "12719182-6_7580006-4",
         "The place/space dilemma of health services provision is examined through several interrelated subjects: long-term care at the end of life, gendered characteristics of care giving, the limitations of Medicare and Medicaid, historical changes in hospital le",
         "It has a high specific activity and can be administered subcutaneously.",
         "1.0"
        ],
        [
         "35",
         "10235074-2_17253573-3",
         "Unfortunately, resection for cure is feasible in a limited number of patients, thus confirming the need for an early diagnosis and accurate preoperative staging to select patients potentially resectable from those candidates to palliative treatment.",
         "The prevalence of wandering by people with dementia is difficult to assess; wandering is not a simple or static behaviour and the reasons why people wander remain unclear.",
         "1.0"
        ],
        [
         "36",
         "16456449-2_14529539-7",
         "Using a model of traumatic brain injury (TBI) in the rat, this study was undertaken to characterize the short-term biochemical changes of IL-1beta, IL-10, and tumor necrosis factor TNF-alpha to determine whether injury in the brain elicits a systemic cyto",
         "Calcitonin has been demonstrated to be clinically useful in improving pain, not only from the acute vertebral fractures of osteoporosis, but also in Paget's disease, bone malignancies, and other sources of musculoskeletal pain.",
         "1.0"
        ],
        [
         "37",
         "12294592-2_15065383-2",
         "While only 2% of federal dollars are currently earmarked for reproductive health services for young men, a survey revealed that only 32% of sexually active men and 17% of sexually inexperienced men reported receiving contraceptive information from health ",
         "A new National Health Insurance Law came into effect, mandating compulsory health insurance for all Israeli citizens.",
         "1.0"
        ],
        [
         "38",
         "11945138-4_12077636-1",
         "Glutamate, aspartate and their receptors can be detected in particularly high concentrations in the dorsal root ganglia and the superficial laminae (I, II) of the spinal cord.",
         "Hemorrhoidal disease is a common pathology in patients with chronic spinal cord injury (SCI).",
         "1.4"
        ],
        [
         "39",
         "16770167-2_17126273-1",
         "Individualized and tailored nutritional management for patients with short bowel syndrome (SBS) helps to optimize intestinal absorption, leading to nutritional independence such that a patient can resume as normal a lifestyle as possible.",
         "Congenital muscular torticollis is due to fibrosis of one or both the heads of sternocleidomastoid muscle.",
         "1.0"
        ],
        [
         "40",
         "145506-2_3515292-2",
         "This does not occur after a suboccipital puncture.",
         "The hypothesis rests on two assumptions: that a high rate of firing in spinal wide-dynamic-range (WDR) or multireceptive neurons results in painful sensations; and that nociceptor responses associated with trauma can produce long-term sensitization of WDR",
         "1.0"
        ],
        [
         "41",
         "11535963-2_11748345-7",
         "Vertebral fractures are the earliest and most common osteoporotic fractures.",
         "Multiple vertebral fractures were diagnosed by X-ray.",
         "2.0"
        ],
        [
         "42",
         "11501604-1_18806535-2",
         "The use of spinal cord stimulation (SCS) for chronic intractable anginal pain was first described in 1987.",
         "The communication impairments that characterize severe dementia make pain assessment challenging.",
         "1.0"
        ],
        [
         "43",
         "10084436-3_14659506-1",
         "In these SCI subjects, the descending supraspinal sympathetic neurons and afferent pathways from the contracting muscles to peripheral vessels via the medullary cardiovascular center are damaged.",
         "Clinically, chronic pain and hyperalgesia induced by muscle injury are disabling and difficult to treat.",
         "1.0"
        ],
        [
         "44",
         "11313090-2_16338278-2",
         "Depression is the most prevalent psychiatric disorder in the elderly and several studies indicate that 10-15% of persons over 65 years suffer from significant depressive symptoms.",
         "The clinical outcome of acid-related disorders treated by proton pump inhibitors (PPIs) might be dependent on the polymorphically expressed cytochrome P450 (CYP) 2C19, which is involved in PPI metabolism.",
         "1.0"
        ],
        [
         "45",
         "15307975-6_12079865-2",
         "Most women receive treatment similar to other epithelial ovarian cancers.",
         "Both lean and obese subjects eventually reach energy balance and their body weight regulation implies that the adipose tissue mass is &quot;sensed&quot;, leading to appropriate responses of energy intake and energy expenditure.",
         "1.0"
        ],
        [
         "46",
         "11284550-2_12292288-6",
         "No systematic studies have determined the postinjury duration of this vulnerability.",
         "The author, US First Lady, visited one of the clinics during her trip to participate in the Sixth Conference of Wives of Heads of State and Government of the Americas.",
         "1.0"
        ],
        [
         "47",
         "16483576-4_12402129-2",
         "There is no alternative procedure serving as a control.",
         "To what extent does the scientific literature have an impact on current clinical practice guidelines (CPGs) in trauma surgery?",
         "1.0"
        ],
        [
         "48",
         "10084436-2_11034763-2",
         "To compare the pressor response to static exercise in subjects with cervical spinal cord injury (SCI) at the C6 to C8 level with that in able-bodied control subjects.",
         "To determine the effect of iNO, compared with inhaled placebo, on outcome in AHRF in children and/or adults.",
         "1.0"
        ],
        [
         "49",
         "10235074-10_12433890-2",
         "Endoscopic ultrasonography (EUS) is able to produce great detail of the pancreatic parenchyma and regional lymph nodes.",
         "To determine tolerability and symptom changes associated with the introduction of bisoprolol treatment in older patients with heart failure.",
         "1.0"
        ]
       ],
       "shape": {
        "columns": 4,
        "rows": 1000
       }
      },
      "text/html": [
       "<div>\n",
       "<style scoped>\n",
       "    .dataframe tbody tr th:only-of-type {\n",
       "        vertical-align: middle;\n",
       "    }\n",
       "\n",
       "    .dataframe tbody tr th {\n",
       "        vertical-align: top;\n",
       "    }\n",
       "\n",
       "    .dataframe thead th {\n",
       "        text-align: right;\n",
       "    }\n",
       "</style>\n",
       "<table border=\"1\" class=\"dataframe\">\n",
       "  <thead>\n",
       "    <tr style=\"text-align: right;\">\n",
       "      <th></th>\n",
       "      <th>id</th>\n",
       "      <th>sentence1</th>\n",
       "      <th>sentence2</th>\n",
       "      <th>score</th>\n",
       "    </tr>\n",
       "  </thead>\n",
       "  <tbody>\n",
       "    <tr>\n",
       "      <th>0</th>\n",
       "      <td>10080570-2_11313090-3</td>\n",
       "      <td>This study tested the hypothesis that female s...</td>\n",
       "      <td>Despite the high prevalence, most cases of dep...</td>\n",
       "      <td>2.0</td>\n",
       "    </tr>\n",
       "    <tr>\n",
       "      <th>1</th>\n",
       "      <td>10084436-2_15672627-1</td>\n",
       "      <td>To compare the pressor response to static exer...</td>\n",
       "      <td>Spinal cord injury (SCI) is a devastating cond...</td>\n",
       "      <td>1.8</td>\n",
       "    </tr>\n",
       "    <tr>\n",
       "      <th>2</th>\n",
       "      <td>10422730-8_11728416-2</td>\n",
       "      <td>Finally, galanin is co-localized with classic ...</td>\n",
       "      <td>Pharmacogenetics is the science of the influen...</td>\n",
       "      <td>1.0</td>\n",
       "    </tr>\n",
       "    <tr>\n",
       "      <th>3</th>\n",
       "      <td>8735663-2_16009872-2</td>\n",
       "      <td>However, studies utilizing established psychia...</td>\n",
       "      <td>Acute urinary retention (AUR) is characterized...</td>\n",
       "      <td>1.0</td>\n",
       "    </tr>\n",
       "    <tr>\n",
       "      <th>4</th>\n",
       "      <td>10084436-3_14505102-4</td>\n",
       "      <td>In these SCI subjects, the descending supraspi...</td>\n",
       "      <td>The objectives of this paper are to summarize ...</td>\n",
       "      <td>1.0</td>\n",
       "    </tr>\n",
       "    <tr>\n",
       "      <th>...</th>\n",
       "      <td>...</td>\n",
       "      <td>...</td>\n",
       "      <td>...</td>\n",
       "      <td>...</td>\n",
       "    </tr>\n",
       "    <tr>\n",
       "      <th>995</th>\n",
       "      <td>8562664-4_8864710-3</td>\n",
       "      <td>The first part of the study included placebo a...</td>\n",
       "      <td>Electrodiagnostic examination of the nerves an...</td>\n",
       "      <td>1.2</td>\n",
       "    </tr>\n",
       "    <tr>\n",
       "      <th>996</th>\n",
       "      <td>11319657-8_18458990-5</td>\n",
       "      <td>Fibrinogen, factor VII coagulant activity, von...</td>\n",
       "      <td>Magnetic resonance imaging (MRI) revealed a fr...</td>\n",
       "      <td>1.0</td>\n",
       "    </tr>\n",
       "    <tr>\n",
       "      <th>997</th>\n",
       "      <td>17175479-8_17335974-4</td>\n",
       "      <td>A staging operation with total abdominal hyste...</td>\n",
       "      <td>In study 1, patients undertook three condition...</td>\n",
       "      <td>1.0</td>\n",
       "    </tr>\n",
       "    <tr>\n",
       "      <th>998</th>\n",
       "      <td>10641499-3_8342345-4</td>\n",
       "      <td>Endoscopic mucosal resection (band-assisted co...</td>\n",
       "      <td>Ninety-three patients underwent anterior cord ...</td>\n",
       "      <td>1.0</td>\n",
       "    </tr>\n",
       "    <tr>\n",
       "      <th>999</th>\n",
       "      <td>15655637-2_17297315-7</td>\n",
       "      <td>The basic issue of the timing of radiotherapy ...</td>\n",
       "      <td>A total of 14 mannitol boli (20%, 0.5g/kg, 20 ...</td>\n",
       "      <td>1.0</td>\n",
       "    </tr>\n",
       "  </tbody>\n",
       "</table>\n",
       "<p>1000 rows × 4 columns</p>\n",
       "</div>"
      ],
      "text/plain": [
       "                        id                                          sentence1  \\\n",
       "0    10080570-2_11313090-3  This study tested the hypothesis that female s...   \n",
       "1    10084436-2_15672627-1  To compare the pressor response to static exer...   \n",
       "2    10422730-8_11728416-2  Finally, galanin is co-localized with classic ...   \n",
       "3     8735663-2_16009872-2  However, studies utilizing established psychia...   \n",
       "4    10084436-3_14505102-4  In these SCI subjects, the descending supraspi...   \n",
       "..                     ...                                                ...   \n",
       "995    8562664-4_8864710-3  The first part of the study included placebo a...   \n",
       "996  11319657-8_18458990-5  Fibrinogen, factor VII coagulant activity, von...   \n",
       "997  17175479-8_17335974-4  A staging operation with total abdominal hyste...   \n",
       "998   10641499-3_8342345-4  Endoscopic mucosal resection (band-assisted co...   \n",
       "999  15655637-2_17297315-7  The basic issue of the timing of radiotherapy ...   \n",
       "\n",
       "                                             sentence2  score  \n",
       "0    Despite the high prevalence, most cases of dep...    2.0  \n",
       "1    Spinal cord injury (SCI) is a devastating cond...    1.8  \n",
       "2    Pharmacogenetics is the science of the influen...    1.0  \n",
       "3    Acute urinary retention (AUR) is characterized...    1.0  \n",
       "4    The objectives of this paper are to summarize ...    1.0  \n",
       "..                                                 ...    ...  \n",
       "995  Electrodiagnostic examination of the nerves an...    1.2  \n",
       "996  Magnetic resonance imaging (MRI) revealed a fr...    1.0  \n",
       "997  In study 1, patients undertook three condition...    1.0  \n",
       "998  Ninety-three patients underwent anterior cord ...    1.0  \n",
       "999  A total of 14 mannitol boli (20%, 0.5g/kg, 20 ...    1.0  \n",
       "\n",
       "[1000 rows x 4 columns]"
      ]
     },
     "execution_count": 6,
     "metadata": {},
     "output_type": "execute_result"
    }
   ],
   "source": [
    "ebmsass_df"
   ]
  },
  {
   "cell_type": "code",
   "execution_count": 7,
   "id": "a9dacc7a",
   "metadata": {},
   "outputs": [],
   "source": [
    "overall_df = pd.concat([ebmsass_df, biossess_df], ignore_index=True)"
   ]
  },
  {
   "cell_type": "code",
   "execution_count": 8,
   "id": "472beea5",
   "metadata": {},
   "outputs": [
    {
     "data": {
      "application/vnd.microsoft.datawrangler.viewer.v0+json": {
       "columns": [
        {
         "name": "index",
         "rawType": "int64",
         "type": "integer"
        },
        {
         "name": "id",
         "rawType": "object",
         "type": "unknown"
        },
        {
         "name": "sentence1",
         "rawType": "object",
         "type": "string"
        },
        {
         "name": "sentence2",
         "rawType": "object",
         "type": "string"
        },
        {
         "name": "score",
         "rawType": "float64",
         "type": "float"
        }
       ],
       "ref": "dc750ba3-182c-4b0c-af93-f2950c719cce",
       "rows": [
        [
         "0",
         "10080570-2_11313090-3",
         "This study tested the hypothesis that female subjects may exhibit a higher prevalence than male subjects of depression associated with somatic symptoms but not a higher prevalence of depression not associated with these other symptoms.",
         "Despite the high prevalence, most cases of depression in the elderly remain unrecognized and untreated, maybe because of a different pattern of symptoms across age groups.",
         "2.0"
        ],
        [
         "1",
         "10084436-2_15672627-1",
         "To compare the pressor response to static exercise in subjects with cervical spinal cord injury (SCI) at the C6 to C8 level with that in able-bodied control subjects.",
         "Spinal cord injury (SCI) is a devastating condition often affecting young and healthy individuals around the world.",
         "1.8"
        ],
        [
         "2",
         "10422730-8_11728416-2",
         "Finally, galanin is co-localized with classic monoamine transmitters in two central systems, the dorsal raphe serotonin neurons and the locus coeruleus noradrenergic neurons.",
         "Pharmacogenetics is the science of the influence of heredity on pharmacological response.",
         "1.0"
        ],
        [
         "3",
         "8735663-2_16009872-2",
         "However, studies utilizing established psychiatric diagnostic schemes to study these outcomes after TBI are scarce, and no studies have included an assessment of personality disorders in addition to the major psychiatric disorders.",
         "Acute urinary retention (AUR) is characterized by the sudden inability to urinate, which is usually extremely painful and requires catheterization.",
         "1.0"
        ],
        [
         "4",
         "10084436-3_14505102-4",
         "In these SCI subjects, the descending supraspinal sympathetic neurons and afferent pathways from the contracting muscles to peripheral vessels via the medullary cardiovascular center are damaged.",
         "The objectives of this paper are to summarize the frequency and the modalities of intracranial pressure (ICP) monitoring in different centers in Italy; to describe its use in traumatic brain injury (TBI) and in subarachnoid hemorrhage (SAH); and to identi",
         "1.0"
        ],
        [
         "5",
         "12505533-3_9696457-3",
         "However, responsiveness to thermal and mechanical hyperalgesia may be distinct, and have thus far not been directly compared in chronic inflammatory pain models.",
         "The aim of the study was to evaluate the long-term effect of the treatment program as well as the effect of a work supervisor-training program on the patients' return to work.",
         "1.0"
        ],
        [
         "6",
         "17335974-1_17968166-4",
         "Neuropathic pain after spinal cord injury is not well understood and is difficult to treat.",
         "Although TME results in lower rate of locoregional recurrence compared with conventional surgery, these 2 treatment modalities following TME have not adequately been appraised until the present trend of preoperative chemoradiotherapy.",
         "1.0"
        ],
        [
         "7",
         "10084436-3_11145005-1",
         "In these SCI subjects, the descending supraspinal sympathetic neurons and afferent pathways from the contracting muscles to peripheral vessels via the medullary cardiovascular center are damaged.",
         "Efficiency and safety of amantadine sulfate (AMS) infusions were investigated in late stage complications of Parkinson's disease (PD).",
         "1.0"
        ],
        [
         "8",
         "10084436-3_11758872-5",
         "In these SCI subjects, the descending supraspinal sympathetic neurons and afferent pathways from the contracting muscles to peripheral vessels via the medullary cardiovascular center are damaged.",
         "To manage neuropathic pain in this population, nonopioid adjuvant drugs that are neuroactive or neuromodulatory are often needed to complement opioid therapy.",
         "1.0"
        ],
        [
         "9",
         "10084436-2_8148099-1",
         "To compare the pressor response to static exercise in subjects with cervical spinal cord injury (SCI) at the C6 to C8 level with that in able-bodied control subjects.",
         "The community integration questionnaire (CIQ) was designed to assess home integration, social integration and productive activity in persons with acquired brain injury.",
         "1.0"
        ],
        [
         "10",
         "15949752-1_17891468-1",
         "The calculation of protein structures from nuclear magnetic resonance (NMR) data has been greatly facilitated by improvements in software for the automatic assignment of NOESY spectra.",
         "Canine aggressive behaviour is one of the most common problems being reported by dog owners.",
         "1.0"
        ],
        [
         "11",
         "10495097-4_17550722-2",
         "By reducing uncertainties in clinical decisions, informatics tools can support the appropriate implementation of knowledge and free clinicians to use their creativity where patients require new or unique interventions.",
         "To observe the effect and safety of one-stage single balloon multiple expansions percutaneous kyphoplasty (PKP) in treatment of osteoporotic vertebral compressive fracture (OVCF) and spinal tumor.",
         "1.0"
        ],
        [
         "12",
         "10072623-2_15945300-2",
         "We wanted to evaluate the urodynamic changes of radical retropubic prostatectomy in patients with localized prostate cancer and identify specific factors that could influence the postoperative continence status.",
         "The aim of this study was to evaluate retrospectively the tolerability, safety and efficacy of antialdosterone therapy in patients with heart failure admitted to our ambulatory from June 1995 to September 2003.",
         "1.0"
        ],
        [
         "13",
         "16034862-4_7023659-5",
         "Despite improved asepsis and surgical techniques, postoperative complications, such as wound infection and intraabdominal abscess, still account for a significant morbidity.",
         "Some progress has been made in separating the epidemiologies of various kinds of ovarian and uterine cancer.",
         "1.0"
        ],
        [
         "14",
         "16185161-3_2092556-3",
         "However, several recent developments have potentially opened new windows of opportunity in the use of nicotinic agents for analgesia.",
         "On Nov 8th 1987 the battery exhausted gradually whereas the patient increased the output up to maximum.",
         "1.0"
        ],
        [
         "15",
         "11792611-3_11713035-3",
         "The main objective is the development of clinical practice guidelines to improve the quality of health care and outcome of cancer patients.",
         "The main objective is the development of clinical practice guidelines to improve the quality of health care and outcome for cancer patients.",
         "5.0"
        ],
        [
         "16",
         "10084436-3_12531372-7",
         "In these SCI subjects, the descending supraspinal sympathetic neurons and afferent pathways from the contracting muscles to peripheral vessels via the medullary cardiovascular center are damaged.",
         "Specific problems that concern the traumatised patients are helplessness, humiliation, threat to body image and mental symptoms.",
         "1.0"
        ],
        [
         "17",
         "10164045-2_14499516-4",
         "This paper examines this trade-off empirically by estimating both the demand for health insurance and the demand for health services.",
         "DDM goals were to: (a) strengthen the capacity of decision makers to identify data needs for solving problems and to interpret and use data appropriately for public health decisions; (b) enhance the capacity of technical advisors to provide valid, essenti",
         "1.2"
        ],
        [
         "18",
         "10232536-3_17030685-2",
         "Whereas the primary injury is fated by the circumstances of the trauma, the outcome of the secondary injury may be amenable to therapeutic modulation.",
         "Atrial fibrosis is an important substrate in atrial fibrillation (AF), particularly in the setting of structural heart disease.",
         "1.0"
        ],
        [
         "19",
         "7596504-2_16389204-2",
         "Several factors might account for its apparent poor success rate, including inadequate patient selection, inaccurate surgical anatomy, and technical errors.",
         "Effective alternatives to long waiting lists for entry into methadone hydrochloride maintenance treatment are needed to reduce the complications of continuing heroin dependence and to increase methadone treatment entry.",
         "1.0"
        ],
        [
         "20",
         "10084436-3_11750932-1",
         "In these SCI subjects, the descending supraspinal sympathetic neurons and afferent pathways from the contracting muscles to peripheral vessels via the medullary cardiovascular center are damaged.",
         "Dysfunction of surviving axons which traverse the site of spinal cord injury (SCI) appears to contribute to posttraumatic neurological deficits, though the underlying mechanisms remain unclear.",
         "2.0"
        ],
        [
         "21",
         "17253537-3_15338064-3",
         "A variety of treatments are available, ranging from pharmacotherapy or stereotactic neurosurgery to neurorehabilitation.",
         "However, there is little experience with the interpretation of QoL results.",
         "1.0"
        ],
        [
         "22",
         "16970638-2_8452782-4",
         "To determine whether nursing home residents with urinary incontinence (UI) have worse quality of life (QoL) than continent residents, whether the relationship between UI and QoL differs across strata of cognitive and functional impairment, and whether cha",
         "Preoperative radiation treatment has several advantages over postoperative radiotherapy.",
         "1.0"
        ],
        [
         "23",
         "9935109-2_1714897-1",
         "To compare the efficacy of two clinically accepted methods of progesterone supplementation during IVF.",
         "The JAR human placental choriocarcinoma cell line transports serotonin, accumulating the monoamine inside the cell against a concentration gradient.",
         "1.0"
        ],
        [
         "24",
         "1588072-6_16227129-3",
         "Methods of preventing or correcting iatrogenic deformity have improved outcome.",
         "To examine how self-reported well-being, weight-related concerns, self-image, peer relationships and psychiatric disorders are associated with obesity at ages 11 and 15 years.",
         "1.0"
        ],
        [
         "25",
         "18253995-5_3534508-1",
         "Previous systematic reviews or meta-analyses summarising the evidence are methodologically problematic or limited in the scope of their analysis.",
         "Individuals with traumatic spinal cord injury (SCI) represent a population with extreme inactivity.",
         "1.0"
        ],
        [
         "26",
         "10084436-2_12514454-2",
         "To compare the pressor response to static exercise in subjects with cervical spinal cord injury (SCI) at the C6 to C8 level with that in able-bodied control subjects.",
         "To develop and establish the psychometric properties of a pain treatment willingness scale and identify factors associated with willingness to try specific pain treatments for spinal cord injury (SCI)-related pain.",
         "1.8"
        ],
        [
         "27",
         "10084436-3_10422730-10",
         "In these SCI subjects, the descending supraspinal sympathetic neurons and afferent pathways from the contracting muscles to peripheral vessels via the medullary cardiovascular center are damaged.",
         "It may therefore be interesting to analyse to what extent drugs affecting galaninergic transmission also may be efficient in the treatment of, for example, depression.",
         "1.0"
        ],
        [
         "28",
         "12597233-2_16674806-2",
         "Risk factors include traumatic needle/catheter placement, sustained anticoagulation in an indwelling neuraxial catheter, and catheter removal during therapeutic levels of anticoagulation.",
         "The main aims of this paper are to describe the setting and design of a Minimal Intervention in general practice for Stress-related mental disorders in patients on Sick leave (MISS), as well as to ascertain the study complies with the requirements for a c",
         "1.0"
        ],
        [
         "29",
         "16531984-3_16227129-3",
         "Diets enriched with n-3 polyunsaturated fatty acids (PUFAs) (omega-3) have been associated to a lower incidence of coronary heart disease (CHD) and a reduction in atherosclerotic lesions.",
         "To examine how self-reported well-being, weight-related concerns, self-image, peer relationships and psychiatric disorders are associated with obesity at ages 11 and 15 years.",
         "1.0"
        ],
        [
         "30",
         "15252824-1_15373378-3",
         "The stimulant modafinil has proved to be an effective treatment modality for narcolepsy and related sleep disorders and is also being studied for use during sustained military operations to ameliorate the effects of fatigue due to sleep loss.",
         "While the existence of this disorder is generally accepted, debate continues in relation to aspects of assessment, as well as the effectiveness and choice of treatment options and their continuation into adult life.",
         "1.0"
        ],
        [
         "31",
         "10796847-3_18034814-6",
         "Surgical opinions appear to be equally divided when considering the relative risks and benefits of these two procedures.",
         "Although the underlying neurological damage is not amenable to correction, many health services are dedicated to providing therapeutic and adaptive support to help people with the condition reach their potential.",
         "1.0"
        ],
        [
         "32",
         "12071542-2_9454313-11",
         "As a result, for many years, epidemiologic studies of the general population examining the prevalence of OSAS included only males and investigators examined almost exclusively males in their pathophysiologic studies.",
         "Regard should be had for the various psychosocial factors which interfere with the healing process, and a method should be adopted which is no longer based on the classic biomedical model but on a bio-psycho-social approach as proposed by Waddell.",
         "1.0"
        ],
        [
         "33",
         "10084436-3_11575593-3",
         "In these SCI subjects, the descending supraspinal sympathetic neurons and afferent pathways from the contracting muscles to peripheral vessels via the medullary cardiovascular center are damaged.",
         "Unlike accuracy-based analyses, the model-based analyses allow one to quantify and separate the effects of categorization rule learning from variability in the trial-by-trial application of the participant's rule.",
         "1.0"
        ],
        [
         "34",
         "12719182-6_7580006-4",
         "The place/space dilemma of health services provision is examined through several interrelated subjects: long-term care at the end of life, gendered characteristics of care giving, the limitations of Medicare and Medicaid, historical changes in hospital le",
         "It has a high specific activity and can be administered subcutaneously.",
         "1.0"
        ],
        [
         "35",
         "10235074-2_17253573-3",
         "Unfortunately, resection for cure is feasible in a limited number of patients, thus confirming the need for an early diagnosis and accurate preoperative staging to select patients potentially resectable from those candidates to palliative treatment.",
         "The prevalence of wandering by people with dementia is difficult to assess; wandering is not a simple or static behaviour and the reasons why people wander remain unclear.",
         "1.0"
        ],
        [
         "36",
         "16456449-2_14529539-7",
         "Using a model of traumatic brain injury (TBI) in the rat, this study was undertaken to characterize the short-term biochemical changes of IL-1beta, IL-10, and tumor necrosis factor TNF-alpha to determine whether injury in the brain elicits a systemic cyto",
         "Calcitonin has been demonstrated to be clinically useful in improving pain, not only from the acute vertebral fractures of osteoporosis, but also in Paget's disease, bone malignancies, and other sources of musculoskeletal pain.",
         "1.0"
        ],
        [
         "37",
         "12294592-2_15065383-2",
         "While only 2% of federal dollars are currently earmarked for reproductive health services for young men, a survey revealed that only 32% of sexually active men and 17% of sexually inexperienced men reported receiving contraceptive information from health ",
         "A new National Health Insurance Law came into effect, mandating compulsory health insurance for all Israeli citizens.",
         "1.0"
        ],
        [
         "38",
         "11945138-4_12077636-1",
         "Glutamate, aspartate and their receptors can be detected in particularly high concentrations in the dorsal root ganglia and the superficial laminae (I, II) of the spinal cord.",
         "Hemorrhoidal disease is a common pathology in patients with chronic spinal cord injury (SCI).",
         "1.4"
        ],
        [
         "39",
         "16770167-2_17126273-1",
         "Individualized and tailored nutritional management for patients with short bowel syndrome (SBS) helps to optimize intestinal absorption, leading to nutritional independence such that a patient can resume as normal a lifestyle as possible.",
         "Congenital muscular torticollis is due to fibrosis of one or both the heads of sternocleidomastoid muscle.",
         "1.0"
        ],
        [
         "40",
         "145506-2_3515292-2",
         "This does not occur after a suboccipital puncture.",
         "The hypothesis rests on two assumptions: that a high rate of firing in spinal wide-dynamic-range (WDR) or multireceptive neurons results in painful sensations; and that nociceptor responses associated with trauma can produce long-term sensitization of WDR",
         "1.0"
        ],
        [
         "41",
         "11535963-2_11748345-7",
         "Vertebral fractures are the earliest and most common osteoporotic fractures.",
         "Multiple vertebral fractures were diagnosed by X-ray.",
         "2.0"
        ],
        [
         "42",
         "11501604-1_18806535-2",
         "The use of spinal cord stimulation (SCS) for chronic intractable anginal pain was first described in 1987.",
         "The communication impairments that characterize severe dementia make pain assessment challenging.",
         "1.0"
        ],
        [
         "43",
         "10084436-3_14659506-1",
         "In these SCI subjects, the descending supraspinal sympathetic neurons and afferent pathways from the contracting muscles to peripheral vessels via the medullary cardiovascular center are damaged.",
         "Clinically, chronic pain and hyperalgesia induced by muscle injury are disabling and difficult to treat.",
         "1.0"
        ],
        [
         "44",
         "11313090-2_16338278-2",
         "Depression is the most prevalent psychiatric disorder in the elderly and several studies indicate that 10-15% of persons over 65 years suffer from significant depressive symptoms.",
         "The clinical outcome of acid-related disorders treated by proton pump inhibitors (PPIs) might be dependent on the polymorphically expressed cytochrome P450 (CYP) 2C19, which is involved in PPI metabolism.",
         "1.0"
        ],
        [
         "45",
         "15307975-6_12079865-2",
         "Most women receive treatment similar to other epithelial ovarian cancers.",
         "Both lean and obese subjects eventually reach energy balance and their body weight regulation implies that the adipose tissue mass is &quot;sensed&quot;, leading to appropriate responses of energy intake and energy expenditure.",
         "1.0"
        ],
        [
         "46",
         "11284550-2_12292288-6",
         "No systematic studies have determined the postinjury duration of this vulnerability.",
         "The author, US First Lady, visited one of the clinics during her trip to participate in the Sixth Conference of Wives of Heads of State and Government of the Americas.",
         "1.0"
        ],
        [
         "47",
         "16483576-4_12402129-2",
         "There is no alternative procedure serving as a control.",
         "To what extent does the scientific literature have an impact on current clinical practice guidelines (CPGs) in trauma surgery?",
         "1.0"
        ],
        [
         "48",
         "10084436-2_11034763-2",
         "To compare the pressor response to static exercise in subjects with cervical spinal cord injury (SCI) at the C6 to C8 level with that in able-bodied control subjects.",
         "To determine the effect of iNO, compared with inhaled placebo, on outcome in AHRF in children and/or adults.",
         "1.0"
        ],
        [
         "49",
         "10235074-10_12433890-2",
         "Endoscopic ultrasonography (EUS) is able to produce great detail of the pancreatic parenchyma and regional lymph nodes.",
         "To determine tolerability and symptom changes associated with the introduction of bisoprolol treatment in older patients with heart failure.",
         "1.0"
        ]
       ],
       "shape": {
        "columns": 4,
        "rows": 1100
       }
      },
      "text/html": [
       "<div>\n",
       "<style scoped>\n",
       "    .dataframe tbody tr th:only-of-type {\n",
       "        vertical-align: middle;\n",
       "    }\n",
       "\n",
       "    .dataframe tbody tr th {\n",
       "        vertical-align: top;\n",
       "    }\n",
       "\n",
       "    .dataframe thead th {\n",
       "        text-align: right;\n",
       "    }\n",
       "</style>\n",
       "<table border=\"1\" class=\"dataframe\">\n",
       "  <thead>\n",
       "    <tr style=\"text-align: right;\">\n",
       "      <th></th>\n",
       "      <th>id</th>\n",
       "      <th>sentence1</th>\n",
       "      <th>sentence2</th>\n",
       "      <th>score</th>\n",
       "    </tr>\n",
       "  </thead>\n",
       "  <tbody>\n",
       "    <tr>\n",
       "      <th>0</th>\n",
       "      <td>10080570-2_11313090-3</td>\n",
       "      <td>This study tested the hypothesis that female s...</td>\n",
       "      <td>Despite the high prevalence, most cases of dep...</td>\n",
       "      <td>2.0</td>\n",
       "    </tr>\n",
       "    <tr>\n",
       "      <th>1</th>\n",
       "      <td>10084436-2_15672627-1</td>\n",
       "      <td>To compare the pressor response to static exer...</td>\n",
       "      <td>Spinal cord injury (SCI) is a devastating cond...</td>\n",
       "      <td>1.8</td>\n",
       "    </tr>\n",
       "    <tr>\n",
       "      <th>2</th>\n",
       "      <td>10422730-8_11728416-2</td>\n",
       "      <td>Finally, galanin is co-localized with classic ...</td>\n",
       "      <td>Pharmacogenetics is the science of the influen...</td>\n",
       "      <td>1.0</td>\n",
       "    </tr>\n",
       "    <tr>\n",
       "      <th>3</th>\n",
       "      <td>8735663-2_16009872-2</td>\n",
       "      <td>However, studies utilizing established psychia...</td>\n",
       "      <td>Acute urinary retention (AUR) is characterized...</td>\n",
       "      <td>1.0</td>\n",
       "    </tr>\n",
       "    <tr>\n",
       "      <th>4</th>\n",
       "      <td>10084436-3_14505102-4</td>\n",
       "      <td>In these SCI subjects, the descending supraspi...</td>\n",
       "      <td>The objectives of this paper are to summarize ...</td>\n",
       "      <td>1.0</td>\n",
       "    </tr>\n",
       "    <tr>\n",
       "      <th>...</th>\n",
       "      <td>...</td>\n",
       "      <td>...</td>\n",
       "      <td>...</td>\n",
       "      <td>...</td>\n",
       "    </tr>\n",
       "    <tr>\n",
       "      <th>1095</th>\n",
       "      <td>NaN</td>\n",
       "      <td>Necroptosis is also part of host defense again...</td>\n",
       "      <td>Necrotic death was augmented when caspase acti...</td>\n",
       "      <td>2.0</td>\n",
       "    </tr>\n",
       "    <tr>\n",
       "      <th>1096</th>\n",
       "      <td>NaN</td>\n",
       "      <td>GATA2 is also of considerable interest; geneti...</td>\n",
       "      <td>The GATA2 transcription factor, which is essen...</td>\n",
       "      <td>1.8</td>\n",
       "    </tr>\n",
       "    <tr>\n",
       "      <th>1097</th>\n",
       "      <td>NaN</td>\n",
       "      <td>A high percentage of tumor cells that take on ...</td>\n",
       "      <td>As a serine/threonine protein kinase, AKT func...</td>\n",
       "      <td>1.4</td>\n",
       "    </tr>\n",
       "    <tr>\n",
       "      <th>1098</th>\n",
       "      <td>NaN</td>\n",
       "      <td>The researchers screened human NSCLC cell line...</td>\n",
       "      <td>Recently, it was shown that Gata2 fulfills suc...</td>\n",
       "      <td>1.8</td>\n",
       "    </tr>\n",
       "    <tr>\n",
       "      <th>1099</th>\n",
       "      <td>NaN</td>\n",
       "      <td>The Bcl-2 inhibitor ABT-737 induces regression...</td>\n",
       "      <td>Recently, it has been reported that ABT-737 is...</td>\n",
       "      <td>3.0</td>\n",
       "    </tr>\n",
       "  </tbody>\n",
       "</table>\n",
       "<p>1100 rows × 4 columns</p>\n",
       "</div>"
      ],
      "text/plain": [
       "                         id  \\\n",
       "0     10080570-2_11313090-3   \n",
       "1     10084436-2_15672627-1   \n",
       "2     10422730-8_11728416-2   \n",
       "3      8735663-2_16009872-2   \n",
       "4     10084436-3_14505102-4   \n",
       "...                     ...   \n",
       "1095                    NaN   \n",
       "1096                    NaN   \n",
       "1097                    NaN   \n",
       "1098                    NaN   \n",
       "1099                    NaN   \n",
       "\n",
       "                                              sentence1  \\\n",
       "0     This study tested the hypothesis that female s...   \n",
       "1     To compare the pressor response to static exer...   \n",
       "2     Finally, galanin is co-localized with classic ...   \n",
       "3     However, studies utilizing established psychia...   \n",
       "4     In these SCI subjects, the descending supraspi...   \n",
       "...                                                 ...   \n",
       "1095  Necroptosis is also part of host defense again...   \n",
       "1096  GATA2 is also of considerable interest; geneti...   \n",
       "1097  A high percentage of tumor cells that take on ...   \n",
       "1098  The researchers screened human NSCLC cell line...   \n",
       "1099  The Bcl-2 inhibitor ABT-737 induces regression...   \n",
       "\n",
       "                                              sentence2  score  \n",
       "0     Despite the high prevalence, most cases of dep...    2.0  \n",
       "1     Spinal cord injury (SCI) is a devastating cond...    1.8  \n",
       "2     Pharmacogenetics is the science of the influen...    1.0  \n",
       "3     Acute urinary retention (AUR) is characterized...    1.0  \n",
       "4     The objectives of this paper are to summarize ...    1.0  \n",
       "...                                                 ...    ...  \n",
       "1095  Necrotic death was augmented when caspase acti...    2.0  \n",
       "1096  The GATA2 transcription factor, which is essen...    1.8  \n",
       "1097  As a serine/threonine protein kinase, AKT func...    1.4  \n",
       "1098  Recently, it was shown that Gata2 fulfills suc...    1.8  \n",
       "1099  Recently, it has been reported that ABT-737 is...    3.0  \n",
       "\n",
       "[1100 rows x 4 columns]"
      ]
     },
     "execution_count": 8,
     "metadata": {},
     "output_type": "execute_result"
    }
   ],
   "source": [
    "overall_df"
   ]
  },
  {
   "cell_type": "code",
   "execution_count": 9,
   "id": "aa549623",
   "metadata": {},
   "outputs": [
    {
     "name": "stderr",
     "output_type": "stream",
     "text": [
      "/Users/jk1/opt/anaconda3/envs/evident/lib/python3.10/site-packages/bitsandbytes/cextension.py:34: UserWarning: The installed version of bitsandbytes was compiled without GPU support. 8-bit optimizers, 8-bit multiplication, and GPU quantization are unavailable.\n",
      "  warn(\"The installed version of bitsandbytes was compiled without GPU support. \"\n"
     ]
    },
    {
     "name": "stdout",
     "output_type": "stream",
     "text": [
      "'NoneType' object has no attribute 'cadam32bit_grad_fp32'\n"
     ]
    },
    {
     "name": "stderr",
     "output_type": "stream",
     "text": [
      "INFO:sentence_transformers.SentenceTransformer:Use pytorch device_name: mps\n",
      "INFO:sentence_transformers.SentenceTransformer:Load pretrained SentenceTransformer: cross-encoder/stsb-distilroberta-base\n",
      "WARNING:sentence_transformers.SentenceTransformer:No sentence-transformers model found with name cross-encoder/stsb-distilroberta-base. Creating a new one with mean pooling.\n",
      "Some weights of RobertaModel were not initialized from the model checkpoint at cross-encoder/stsb-distilroberta-base and are newly initialized: ['pooler.dense.bias', 'pooler.dense.weight']\n",
      "You should probably TRAIN this model on a down-stream task to be able to use it for predictions and inference.\n",
      "INFO:sentence_transformers.SentenceTransformer:Use pytorch device_name: mps\n",
      "INFO:sentence_transformers.SentenceTransformer:Load pretrained SentenceTransformer: distilbert-base-nli-mean-tokens\n",
      "Some weights of BertForSequenceClassification were not initialized from the model checkpoint at sentence-transformers/all-MiniLM-L12-v2 and are newly initialized: ['classifier.bias', 'classifier.weight']\n",
      "You should probably TRAIN this model on a down-stream task to be able to use it for predictions and inference.\n",
      "INFO:sentence_transformers.cross_encoder.CrossEncoder:Use pytorch device: mps\n",
      "INFO:sentence_transformers.cross_encoder.CrossEncoder:Use pytorch device: mps\n",
      "Some weights of BertForSequenceClassification were not initialized from the model checkpoint at neuml/pubmedbert-base-embeddings and are newly initialized: ['classifier.bias', 'classifier.weight']\n",
      "You should probably TRAIN this model on a down-stream task to be able to use it for predictions and inference.\n",
      "INFO:sentence_transformers.cross_encoder.CrossEncoder:Use pytorch device: mps\n"
     ]
    }
   ],
   "source": [
    "from similarity_evaluation.similarity_models import SpacySimilarityModel, transformer_models, SentenceTransformerSimilarityModel, CrossEncoderSimilarityModel, encoder_models\n",
    "\n",
    "\n",
    "models = [\n",
    "    SpacySimilarityModel(),\n",
    "    # AngLEModel()\n",
    "]\n",
    "\n",
    "sentence_transformer_models = [\n",
    "    SentenceTransformerSimilarityModel(model_name=model_name)\n",
    "    for model_name in transformer_models\n",
    "]\n",
    "cross_encoder_models = [\n",
    "    CrossEncoderSimilarityModel(model_name=model_name)\n",
    "    for model_name in encoder_models\n",
    "]\n",
    "\n",
    "models = models + sentence_transformer_models + cross_encoder_models\n"
   ]
  },
  {
   "cell_type": "code",
   "execution_count": 16,
   "id": "c990a3c4",
   "metadata": {},
   "outputs": [
    {
     "data": {
      "application/vnd.jupyter.widget-view+json": {
       "model_id": "07d492c6b8144b0aa7f1dede1319c9b5",
       "version_major": 2,
       "version_minor": 0
      },
      "text/plain": [
       "config.json:   0%|          | 0.00/649 [00:00<?, ?B/s]"
      ]
     },
     "metadata": {},
     "output_type": "display_data"
    },
    {
     "data": {
      "application/vnd.jupyter.widget-view+json": {
       "model_id": "d40edc78a03b45fd9bc055eaa126c585",
       "version_major": 2,
       "version_minor": 0
      },
      "text/plain": [
       "model.safetensors:   0%|          | 0.00/438M [00:00<?, ?B/s]"
      ]
     },
     "metadata": {},
     "output_type": "display_data"
    },
    {
     "name": "stderr",
     "output_type": "stream",
     "text": [
      "Some weights of MPNetForSequenceClassification were not initialized from the model checkpoint at FremyCompany/BioLORD-2023 and are newly initialized: ['classifier.dense.bias', 'classifier.dense.weight', 'classifier.out_proj.bias', 'classifier.out_proj.weight']\n",
      "You should probably TRAIN this model on a down-stream task to be able to use it for predictions and inference.\n"
     ]
    },
    {
     "data": {
      "application/vnd.jupyter.widget-view+json": {
       "model_id": "0adef242c571433f99e6bea00574efa2",
       "version_major": 2,
       "version_minor": 0
      },
      "text/plain": [
       "tokenizer_config.json: 0.00B [00:00, ?B/s]"
      ]
     },
     "metadata": {},
     "output_type": "display_data"
    },
    {
     "data": {
      "application/vnd.jupyter.widget-view+json": {
       "model_id": "71b0ad5b48884f19bb75388750638754",
       "version_major": 2,
       "version_minor": 0
      },
      "text/plain": [
       "vocab.txt: 0.00B [00:00, ?B/s]"
      ]
     },
     "metadata": {},
     "output_type": "display_data"
    },
    {
     "data": {
      "application/vnd.jupyter.widget-view+json": {
       "model_id": "1dcf8bd487344d608e6385b44efdedd0",
       "version_major": 2,
       "version_minor": 0
      },
      "text/plain": [
       "tokenizer.json: 0.00B [00:00, ?B/s]"
      ]
     },
     "metadata": {},
     "output_type": "display_data"
    },
    {
     "data": {
      "application/vnd.jupyter.widget-view+json": {
       "model_id": "af22415445fd4a18816087cbd7bc465f",
       "version_major": 2,
       "version_minor": 0
      },
      "text/plain": [
       "special_tokens_map.json:   0%|          | 0.00/280 [00:00<?, ?B/s]"
      ]
     },
     "metadata": {},
     "output_type": "display_data"
    },
    {
     "data": {
      "application/vnd.jupyter.widget-view+json": {
       "model_id": "c2237b77aa8b47839a3c6dc79f55acaa",
       "version_major": 2,
       "version_minor": 0
      },
      "text/plain": [
       "README.md: 0.00B [00:00, ?B/s]"
      ]
     },
     "metadata": {},
     "output_type": "display_data"
    },
    {
     "name": "stderr",
     "output_type": "stream",
     "text": [
      "INFO:sentence_transformers.cross_encoder.CrossEncoder:Use pytorch device: mps\n"
     ]
    },
    {
     "data": {
      "text/plain": [
       "<similarity_evaluation.similarity_models.CrossEncoderSimilarityModel at 0x1be55e260>"
      ]
     },
     "execution_count": 16,
     "metadata": {},
     "output_type": "execute_result"
    }
   ],
   "source": [
    "CrossEncoderSimilarityModel('FremyCompany/BioLORD-2023')"
   ]
  },
  {
   "cell_type": "code",
   "execution_count": 11,
   "id": "2e2ea2ad",
   "metadata": {},
   "outputs": [],
   "source": [
    "overall_df = overall_df.sample(frac=0.01).reset_index(drop=True)"
   ]
  },
  {
   "cell_type": "code",
   "execution_count": 12,
   "id": "bec38b8f",
   "metadata": {},
   "outputs": [
    {
     "data": {
      "text/plain": [
       "(11, 4)"
      ]
     },
     "execution_count": 12,
     "metadata": {},
     "output_type": "execute_result"
    }
   ],
   "source": [
    "overall_df.shape"
   ]
  },
  {
   "cell_type": "code",
   "execution_count": 13,
   "id": "7b5da452",
   "metadata": {},
   "outputs": [],
   "source": [
    "from sklearn.metrics import roc_curve\n",
    "\n",
    "\n",
    "def cutoff_youdens_j(fpr,tpr,thresholds):\n",
    "    j_scores = tpr-fpr\n",
    "    j_ordered = sorted(zip(j_scores,thresholds))\n",
    "    return j_ordered[-1][1]"
   ]
  },
  {
   "cell_type": "code",
   "execution_count": 14,
   "id": "835a7660",
   "metadata": {},
   "outputs": [
    {
     "name": "stdout",
     "output_type": "stream",
     "text": [
      "Evaluating spacy...\n",
      "Evaluating sentence_transformer_cross-encoder/stsb-distilroberta-base...\n"
     ]
    },
    {
     "data": {
      "application/vnd.jupyter.widget-view+json": {
       "model_id": "f983a9dde891433287d25124c7e23bac",
       "version_major": 2,
       "version_minor": 0
      },
      "text/plain": [
       "Batches:   0%|          | 0/1 [00:00<?, ?it/s]"
      ]
     },
     "metadata": {},
     "output_type": "display_data"
    },
    {
     "data": {
      "application/vnd.jupyter.widget-view+json": {
       "model_id": "4162c77370e84e42bddd0b9645323251",
       "version_major": 2,
       "version_minor": 0
      },
      "text/plain": [
       "Batches:   0%|          | 0/1 [00:00<?, ?it/s]"
      ]
     },
     "metadata": {},
     "output_type": "display_data"
    },
    {
     "data": {
      "application/vnd.jupyter.widget-view+json": {
       "model_id": "32880e9de7e14ba4994b25382c5626fd",
       "version_major": 2,
       "version_minor": 0
      },
      "text/plain": [
       "Batches:   0%|          | 0/1 [00:00<?, ?it/s]"
      ]
     },
     "metadata": {},
     "output_type": "display_data"
    },
    {
     "data": {
      "application/vnd.jupyter.widget-view+json": {
       "model_id": "2eeb6429f25e431ab13ec175e5b39093",
       "version_major": 2,
       "version_minor": 0
      },
      "text/plain": [
       "Batches:   0%|          | 0/1 [00:00<?, ?it/s]"
      ]
     },
     "metadata": {},
     "output_type": "display_data"
    },
    {
     "data": {
      "application/vnd.jupyter.widget-view+json": {
       "model_id": "fcfcdb5d0ba9483ca6dc928829ee7656",
       "version_major": 2,
       "version_minor": 0
      },
      "text/plain": [
       "Batches:   0%|          | 0/1 [00:00<?, ?it/s]"
      ]
     },
     "metadata": {},
     "output_type": "display_data"
    },
    {
     "data": {
      "application/vnd.jupyter.widget-view+json": {
       "model_id": "04608007e56b4546917c300396695da5",
       "version_major": 2,
       "version_minor": 0
      },
      "text/plain": [
       "Batches:   0%|          | 0/1 [00:00<?, ?it/s]"
      ]
     },
     "metadata": {},
     "output_type": "display_data"
    },
    {
     "data": {
      "application/vnd.jupyter.widget-view+json": {
       "model_id": "d7cd3a6f18ce4978b9f01a665905483b",
       "version_major": 2,
       "version_minor": 0
      },
      "text/plain": [
       "Batches:   0%|          | 0/1 [00:00<?, ?it/s]"
      ]
     },
     "metadata": {},
     "output_type": "display_data"
    },
    {
     "data": {
      "application/vnd.jupyter.widget-view+json": {
       "model_id": "f2ff6a33fb7942e487dc794ea08596de",
       "version_major": 2,
       "version_minor": 0
      },
      "text/plain": [
       "Batches:   0%|          | 0/1 [00:00<?, ?it/s]"
      ]
     },
     "metadata": {},
     "output_type": "display_data"
    },
    {
     "data": {
      "application/vnd.jupyter.widget-view+json": {
       "model_id": "39aa7ef49e5d4b13a3464b5a4584c7bc",
       "version_major": 2,
       "version_minor": 0
      },
      "text/plain": [
       "Batches:   0%|          | 0/1 [00:00<?, ?it/s]"
      ]
     },
     "metadata": {},
     "output_type": "display_data"
    },
    {
     "data": {
      "application/vnd.jupyter.widget-view+json": {
       "model_id": "a69423ccbea649599f77f5e02c9bf790",
       "version_major": 2,
       "version_minor": 0
      },
      "text/plain": [
       "Batches:   0%|          | 0/1 [00:00<?, ?it/s]"
      ]
     },
     "metadata": {},
     "output_type": "display_data"
    },
    {
     "data": {
      "application/vnd.jupyter.widget-view+json": {
       "model_id": "dafd903f29dc45bb8e8075bca3683613",
       "version_major": 2,
       "version_minor": 0
      },
      "text/plain": [
       "Batches:   0%|          | 0/1 [00:00<?, ?it/s]"
      ]
     },
     "metadata": {},
     "output_type": "display_data"
    },
    {
     "name": "stdout",
     "output_type": "stream",
     "text": [
      "Evaluating sentence_transformer_distilbert-base-nli-mean-tokens...\n"
     ]
    },
    {
     "data": {
      "application/vnd.jupyter.widget-view+json": {
       "model_id": "99e17a4197a840e6b021be3ae46b8e3f",
       "version_major": 2,
       "version_minor": 0
      },
      "text/plain": [
       "Batches:   0%|          | 0/1 [00:00<?, ?it/s]"
      ]
     },
     "metadata": {},
     "output_type": "display_data"
    },
    {
     "data": {
      "application/vnd.jupyter.widget-view+json": {
       "model_id": "db5bf973b3284ffd8ac266d36ef1d3ca",
       "version_major": 2,
       "version_minor": 0
      },
      "text/plain": [
       "Batches:   0%|          | 0/1 [00:00<?, ?it/s]"
      ]
     },
     "metadata": {},
     "output_type": "display_data"
    },
    {
     "data": {
      "application/vnd.jupyter.widget-view+json": {
       "model_id": "62992dfc01f74b1ba7975a173ed4a72c",
       "version_major": 2,
       "version_minor": 0
      },
      "text/plain": [
       "Batches:   0%|          | 0/1 [00:00<?, ?it/s]"
      ]
     },
     "metadata": {},
     "output_type": "display_data"
    },
    {
     "data": {
      "application/vnd.jupyter.widget-view+json": {
       "model_id": "feb5cfb42b104c97ad9f750b139815e0",
       "version_major": 2,
       "version_minor": 0
      },
      "text/plain": [
       "Batches:   0%|          | 0/1 [00:00<?, ?it/s]"
      ]
     },
     "metadata": {},
     "output_type": "display_data"
    },
    {
     "data": {
      "application/vnd.jupyter.widget-view+json": {
       "model_id": "bb679aa5067c4aca94a1b07a1cd4133b",
       "version_major": 2,
       "version_minor": 0
      },
      "text/plain": [
       "Batches:   0%|          | 0/1 [00:00<?, ?it/s]"
      ]
     },
     "metadata": {},
     "output_type": "display_data"
    },
    {
     "data": {
      "application/vnd.jupyter.widget-view+json": {
       "model_id": "8d768a153b70490d9de4fc92ea30fd1b",
       "version_major": 2,
       "version_minor": 0
      },
      "text/plain": [
       "Batches:   0%|          | 0/1 [00:00<?, ?it/s]"
      ]
     },
     "metadata": {},
     "output_type": "display_data"
    },
    {
     "data": {
      "application/vnd.jupyter.widget-view+json": {
       "model_id": "3624efeb3d7b4cd6bcc509dbbf18ea5b",
       "version_major": 2,
       "version_minor": 0
      },
      "text/plain": [
       "Batches:   0%|          | 0/1 [00:00<?, ?it/s]"
      ]
     },
     "metadata": {},
     "output_type": "display_data"
    },
    {
     "data": {
      "application/vnd.jupyter.widget-view+json": {
       "model_id": "36c049f0503d419d8588f674f80b2246",
       "version_major": 2,
       "version_minor": 0
      },
      "text/plain": [
       "Batches:   0%|          | 0/1 [00:00<?, ?it/s]"
      ]
     },
     "metadata": {},
     "output_type": "display_data"
    },
    {
     "data": {
      "application/vnd.jupyter.widget-view+json": {
       "model_id": "f11d2024c6b94f3ab6bfc93dbeae5d3f",
       "version_major": 2,
       "version_minor": 0
      },
      "text/plain": [
       "Batches:   0%|          | 0/1 [00:00<?, ?it/s]"
      ]
     },
     "metadata": {},
     "output_type": "display_data"
    },
    {
     "data": {
      "application/vnd.jupyter.widget-view+json": {
       "model_id": "cfdf5f39becd46b69ec79881ea4b7ec9",
       "version_major": 2,
       "version_minor": 0
      },
      "text/plain": [
       "Batches:   0%|          | 0/1 [00:00<?, ?it/s]"
      ]
     },
     "metadata": {},
     "output_type": "display_data"
    },
    {
     "data": {
      "application/vnd.jupyter.widget-view+json": {
       "model_id": "2ca27d43e5fe44bcb1e8a2fed936c78f",
       "version_major": 2,
       "version_minor": 0
      },
      "text/plain": [
       "Batches:   0%|          | 0/1 [00:00<?, ?it/s]"
      ]
     },
     "metadata": {},
     "output_type": "display_data"
    },
    {
     "name": "stdout",
     "output_type": "stream",
     "text": [
      "Evaluating cross_encoder_sentence-transformers/all-MiniLM-L12-v2...\n"
     ]
    },
    {
     "data": {
      "application/vnd.jupyter.widget-view+json": {
       "model_id": "3c80cfde64f949688c930ee22a01a9be",
       "version_major": 2,
       "version_minor": 0
      },
      "text/plain": [
       "Batches:   0%|          | 0/1 [00:00<?, ?it/s]"
      ]
     },
     "metadata": {},
     "output_type": "display_data"
    },
    {
     "data": {
      "application/vnd.jupyter.widget-view+json": {
       "model_id": "65130c5e82f14716a851f7a43371cf69",
       "version_major": 2,
       "version_minor": 0
      },
      "text/plain": [
       "Batches:   0%|          | 0/1 [00:00<?, ?it/s]"
      ]
     },
     "metadata": {},
     "output_type": "display_data"
    },
    {
     "data": {
      "application/vnd.jupyter.widget-view+json": {
       "model_id": "e233188ca5064885869404e62e574169",
       "version_major": 2,
       "version_minor": 0
      },
      "text/plain": [
       "Batches:   0%|          | 0/1 [00:00<?, ?it/s]"
      ]
     },
     "metadata": {},
     "output_type": "display_data"
    },
    {
     "data": {
      "application/vnd.jupyter.widget-view+json": {
       "model_id": "7215f7f2175844429797579fb0d35a50",
       "version_major": 2,
       "version_minor": 0
      },
      "text/plain": [
       "Batches:   0%|          | 0/1 [00:00<?, ?it/s]"
      ]
     },
     "metadata": {},
     "output_type": "display_data"
    },
    {
     "data": {
      "application/vnd.jupyter.widget-view+json": {
       "model_id": "faea679585024f0cafa65f8e7b0351aa",
       "version_major": 2,
       "version_minor": 0
      },
      "text/plain": [
       "Batches:   0%|          | 0/1 [00:00<?, ?it/s]"
      ]
     },
     "metadata": {},
     "output_type": "display_data"
    },
    {
     "data": {
      "application/vnd.jupyter.widget-view+json": {
       "model_id": "93419a81c6ed4c90b5695b092a2f22d0",
       "version_major": 2,
       "version_minor": 0
      },
      "text/plain": [
       "Batches:   0%|          | 0/1 [00:00<?, ?it/s]"
      ]
     },
     "metadata": {},
     "output_type": "display_data"
    },
    {
     "data": {
      "application/vnd.jupyter.widget-view+json": {
       "model_id": "51ae1edb50924c1da1a5148f63d62f35",
       "version_major": 2,
       "version_minor": 0
      },
      "text/plain": [
       "Batches:   0%|          | 0/1 [00:00<?, ?it/s]"
      ]
     },
     "metadata": {},
     "output_type": "display_data"
    },
    {
     "data": {
      "application/vnd.jupyter.widget-view+json": {
       "model_id": "18c75981fce144ccbab5030899e4de50",
       "version_major": 2,
       "version_minor": 0
      },
      "text/plain": [
       "Batches:   0%|          | 0/1 [00:00<?, ?it/s]"
      ]
     },
     "metadata": {},
     "output_type": "display_data"
    },
    {
     "data": {
      "application/vnd.jupyter.widget-view+json": {
       "model_id": "e69bf873bc08419a936a3564bbee9e66",
       "version_major": 2,
       "version_minor": 0
      },
      "text/plain": [
       "Batches:   0%|          | 0/1 [00:00<?, ?it/s]"
      ]
     },
     "metadata": {},
     "output_type": "display_data"
    },
    {
     "data": {
      "application/vnd.jupyter.widget-view+json": {
       "model_id": "b65e76726f70453598accb54865e6aed",
       "version_major": 2,
       "version_minor": 0
      },
      "text/plain": [
       "Batches:   0%|          | 0/1 [00:00<?, ?it/s]"
      ]
     },
     "metadata": {},
     "output_type": "display_data"
    },
    {
     "data": {
      "application/vnd.jupyter.widget-view+json": {
       "model_id": "e0344676f4f842d19f5bb195605948ba",
       "version_major": 2,
       "version_minor": 0
      },
      "text/plain": [
       "Batches:   0%|          | 0/1 [00:00<?, ?it/s]"
      ]
     },
     "metadata": {},
     "output_type": "display_data"
    },
    {
     "name": "stdout",
     "output_type": "stream",
     "text": [
      "Evaluating cross_encoder_cross-encoder/stsb-distilroberta-base...\n"
     ]
    },
    {
     "data": {
      "application/vnd.jupyter.widget-view+json": {
       "model_id": "f63df7220e234388aa4249d2dd1e0f6b",
       "version_major": 2,
       "version_minor": 0
      },
      "text/plain": [
       "Batches:   0%|          | 0/1 [00:00<?, ?it/s]"
      ]
     },
     "metadata": {},
     "output_type": "display_data"
    },
    {
     "data": {
      "application/vnd.jupyter.widget-view+json": {
       "model_id": "c217ce6a7ace42a7b9f5a1f36ff746a7",
       "version_major": 2,
       "version_minor": 0
      },
      "text/plain": [
       "Batches:   0%|          | 0/1 [00:00<?, ?it/s]"
      ]
     },
     "metadata": {},
     "output_type": "display_data"
    },
    {
     "data": {
      "application/vnd.jupyter.widget-view+json": {
       "model_id": "1795f4fd5ff74d748bd22a603f7a6fc0",
       "version_major": 2,
       "version_minor": 0
      },
      "text/plain": [
       "Batches:   0%|          | 0/1 [00:00<?, ?it/s]"
      ]
     },
     "metadata": {},
     "output_type": "display_data"
    },
    {
     "data": {
      "application/vnd.jupyter.widget-view+json": {
       "model_id": "13cbfe4b034e4dee920b4e37a5504bce",
       "version_major": 2,
       "version_minor": 0
      },
      "text/plain": [
       "Batches:   0%|          | 0/1 [00:00<?, ?it/s]"
      ]
     },
     "metadata": {},
     "output_type": "display_data"
    },
    {
     "data": {
      "application/vnd.jupyter.widget-view+json": {
       "model_id": "25983cbf457d43ef80bda5cb8960c7c1",
       "version_major": 2,
       "version_minor": 0
      },
      "text/plain": [
       "Batches:   0%|          | 0/1 [00:00<?, ?it/s]"
      ]
     },
     "metadata": {},
     "output_type": "display_data"
    },
    {
     "data": {
      "application/vnd.jupyter.widget-view+json": {
       "model_id": "577afaa0205141eaa76f60ee7c101120",
       "version_major": 2,
       "version_minor": 0
      },
      "text/plain": [
       "Batches:   0%|          | 0/1 [00:00<?, ?it/s]"
      ]
     },
     "metadata": {},
     "output_type": "display_data"
    },
    {
     "data": {
      "application/vnd.jupyter.widget-view+json": {
       "model_id": "485181bc74034322b5b2f5991259f951",
       "version_major": 2,
       "version_minor": 0
      },
      "text/plain": [
       "Batches:   0%|          | 0/1 [00:00<?, ?it/s]"
      ]
     },
     "metadata": {},
     "output_type": "display_data"
    },
    {
     "data": {
      "application/vnd.jupyter.widget-view+json": {
       "model_id": "b95e918990e343089803e94e4b9279ee",
       "version_major": 2,
       "version_minor": 0
      },
      "text/plain": [
       "Batches:   0%|          | 0/1 [00:00<?, ?it/s]"
      ]
     },
     "metadata": {},
     "output_type": "display_data"
    },
    {
     "data": {
      "application/vnd.jupyter.widget-view+json": {
       "model_id": "6f3b5a27f4e64ed6a21ca3b39faa6efe",
       "version_major": 2,
       "version_minor": 0
      },
      "text/plain": [
       "Batches:   0%|          | 0/1 [00:00<?, ?it/s]"
      ]
     },
     "metadata": {},
     "output_type": "display_data"
    },
    {
     "data": {
      "application/vnd.jupyter.widget-view+json": {
       "model_id": "c2c3729ef97647debe22a80b0905250d",
       "version_major": 2,
       "version_minor": 0
      },
      "text/plain": [
       "Batches:   0%|          | 0/1 [00:00<?, ?it/s]"
      ]
     },
     "metadata": {},
     "output_type": "display_data"
    },
    {
     "data": {
      "application/vnd.jupyter.widget-view+json": {
       "model_id": "4705a25c38534e82a4f35edbf11bc607",
       "version_major": 2,
       "version_minor": 0
      },
      "text/plain": [
       "Batches:   0%|          | 0/1 [00:00<?, ?it/s]"
      ]
     },
     "metadata": {},
     "output_type": "display_data"
    },
    {
     "name": "stdout",
     "output_type": "stream",
     "text": [
      "Evaluating cross_encoder_neuml/pubmedbert-base-embeddings...\n"
     ]
    },
    {
     "data": {
      "application/vnd.jupyter.widget-view+json": {
       "model_id": "8ba6deb3b1834fe2ba8cd7573ba456cb",
       "version_major": 2,
       "version_minor": 0
      },
      "text/plain": [
       "Batches:   0%|          | 0/1 [00:00<?, ?it/s]"
      ]
     },
     "metadata": {},
     "output_type": "display_data"
    },
    {
     "data": {
      "application/vnd.jupyter.widget-view+json": {
       "model_id": "68508b86d4674fe29a48cb296b51ba9d",
       "version_major": 2,
       "version_minor": 0
      },
      "text/plain": [
       "Batches:   0%|          | 0/1 [00:00<?, ?it/s]"
      ]
     },
     "metadata": {},
     "output_type": "display_data"
    },
    {
     "data": {
      "application/vnd.jupyter.widget-view+json": {
       "model_id": "fd4b77e4c7284a02a1ec16b6d030cec8",
       "version_major": 2,
       "version_minor": 0
      },
      "text/plain": [
       "Batches:   0%|          | 0/1 [00:00<?, ?it/s]"
      ]
     },
     "metadata": {},
     "output_type": "display_data"
    },
    {
     "data": {
      "application/vnd.jupyter.widget-view+json": {
       "model_id": "b1965c69292d41cbb18cd408c44dc11d",
       "version_major": 2,
       "version_minor": 0
      },
      "text/plain": [
       "Batches:   0%|          | 0/1 [00:00<?, ?it/s]"
      ]
     },
     "metadata": {},
     "output_type": "display_data"
    },
    {
     "data": {
      "application/vnd.jupyter.widget-view+json": {
       "model_id": "57d9229c90174024a53cb5f944a39f1c",
       "version_major": 2,
       "version_minor": 0
      },
      "text/plain": [
       "Batches:   0%|          | 0/1 [00:00<?, ?it/s]"
      ]
     },
     "metadata": {},
     "output_type": "display_data"
    },
    {
     "data": {
      "application/vnd.jupyter.widget-view+json": {
       "model_id": "9fa381e796ef483694fc561ff56e1682",
       "version_major": 2,
       "version_minor": 0
      },
      "text/plain": [
       "Batches:   0%|          | 0/1 [00:00<?, ?it/s]"
      ]
     },
     "metadata": {},
     "output_type": "display_data"
    },
    {
     "data": {
      "application/vnd.jupyter.widget-view+json": {
       "model_id": "bfe28cff7d6242db88f67eebc30c7ee9",
       "version_major": 2,
       "version_minor": 0
      },
      "text/plain": [
       "Batches:   0%|          | 0/1 [00:00<?, ?it/s]"
      ]
     },
     "metadata": {},
     "output_type": "display_data"
    },
    {
     "data": {
      "application/vnd.jupyter.widget-view+json": {
       "model_id": "2968590e22fe4cb79076b4c6ccf9ac06",
       "version_major": 2,
       "version_minor": 0
      },
      "text/plain": [
       "Batches:   0%|          | 0/1 [00:00<?, ?it/s]"
      ]
     },
     "metadata": {},
     "output_type": "display_data"
    },
    {
     "data": {
      "application/vnd.jupyter.widget-view+json": {
       "model_id": "95e204f7d72049ce9e4fe84d6a76cc47",
       "version_major": 2,
       "version_minor": 0
      },
      "text/plain": [
       "Batches:   0%|          | 0/1 [00:00<?, ?it/s]"
      ]
     },
     "metadata": {},
     "output_type": "display_data"
    },
    {
     "data": {
      "application/vnd.jupyter.widget-view+json": {
       "model_id": "0ab4dcc70521446d8df7a317f161a8e9",
       "version_major": 2,
       "version_minor": 0
      },
      "text/plain": [
       "Batches:   0%|          | 0/1 [00:00<?, ?it/s]"
      ]
     },
     "metadata": {},
     "output_type": "display_data"
    },
    {
     "data": {
      "application/vnd.jupyter.widget-view+json": {
       "model_id": "0d3fed4c69b6497d9311831c4c087798",
       "version_major": 2,
       "version_minor": 0
      },
      "text/plain": [
       "Batches:   0%|          | 0/1 [00:00<?, ?it/s]"
      ]
     },
     "metadata": {},
     "output_type": "display_data"
    },
    {
     "data": {
      "application/vnd.microsoft.datawrangler.viewer.v0+json": {
       "columns": [
        {
         "name": "index",
         "rawType": "int64",
         "type": "integer"
        },
        {
         "name": "model",
         "rawType": "object",
         "type": "string"
        },
        {
         "name": "pearson_correlation",
         "rawType": "float64",
         "type": "float"
        },
        {
         "name": "auc",
         "rawType": "float64",
         "type": "float"
        },
        {
         "name": "youden_index",
         "rawType": "float64",
         "type": "float"
        }
       ],
       "ref": "b0c20ddf-1973-400d-b1b2-6a805cfa1a5f",
       "rows": [
        [
         "0",
         "spacy",
         "0.709644453933703",
         "1.0",
         "0.9266083978581399"
        ],
        [
         "1",
         "sentence_transformer_cross-encoder/stsb-distilroberta-base",
         "0.8608572868592206",
         "1.0",
         "0.9900152683258057"
        ],
        [
         "2",
         "sentence_transformer_distilbert-base-nli-mean-tokens",
         "0.8441063232980773",
         "1.0",
         "0.7942472696304321"
        ],
        [
         "3",
         "cross_encoder_sentence-transformers/all-MiniLM-L12-v2",
         "-0.32012930184493754",
         "0.33333333333333337",
         "0.4952821731567383"
        ],
        [
         "4",
         "cross_encoder_cross-encoder/stsb-distilroberta-base",
         "0.8926496248207428",
         "0.9444444444444444",
         "0.5744816660881042"
        ],
        [
         "5",
         "cross_encoder_neuml/pubmedbert-base-embeddings",
         "0.8928833438622672",
         "1.0",
         "0.5524721741676331"
        ]
       ],
       "shape": {
        "columns": 4,
        "rows": 6
       }
      },
      "text/html": [
       "<div>\n",
       "<style scoped>\n",
       "    .dataframe tbody tr th:only-of-type {\n",
       "        vertical-align: middle;\n",
       "    }\n",
       "\n",
       "    .dataframe tbody tr th {\n",
       "        vertical-align: top;\n",
       "    }\n",
       "\n",
       "    .dataframe thead th {\n",
       "        text-align: right;\n",
       "    }\n",
       "</style>\n",
       "<table border=\"1\" class=\"dataframe\">\n",
       "  <thead>\n",
       "    <tr style=\"text-align: right;\">\n",
       "      <th></th>\n",
       "      <th>model</th>\n",
       "      <th>pearson_correlation</th>\n",
       "      <th>auc</th>\n",
       "      <th>youden_index</th>\n",
       "    </tr>\n",
       "  </thead>\n",
       "  <tbody>\n",
       "    <tr>\n",
       "      <th>0</th>\n",
       "      <td>spacy</td>\n",
       "      <td>0.709644</td>\n",
       "      <td>1.000000</td>\n",
       "      <td>0.926608</td>\n",
       "    </tr>\n",
       "    <tr>\n",
       "      <th>1</th>\n",
       "      <td>sentence_transformer_cross-encoder/stsb-distil...</td>\n",
       "      <td>0.860857</td>\n",
       "      <td>1.000000</td>\n",
       "      <td>0.990015</td>\n",
       "    </tr>\n",
       "    <tr>\n",
       "      <th>2</th>\n",
       "      <td>sentence_transformer_distilbert-base-nli-mean-...</td>\n",
       "      <td>0.844106</td>\n",
       "      <td>1.000000</td>\n",
       "      <td>0.794247</td>\n",
       "    </tr>\n",
       "    <tr>\n",
       "      <th>3</th>\n",
       "      <td>cross_encoder_sentence-transformers/all-MiniLM...</td>\n",
       "      <td>-0.320129</td>\n",
       "      <td>0.333333</td>\n",
       "      <td>0.495282</td>\n",
       "    </tr>\n",
       "    <tr>\n",
       "      <th>4</th>\n",
       "      <td>cross_encoder_cross-encoder/stsb-distilroberta...</td>\n",
       "      <td>0.892650</td>\n",
       "      <td>0.944444</td>\n",
       "      <td>0.574482</td>\n",
       "    </tr>\n",
       "    <tr>\n",
       "      <th>5</th>\n",
       "      <td>cross_encoder_neuml/pubmedbert-base-embeddings</td>\n",
       "      <td>0.892883</td>\n",
       "      <td>1.000000</td>\n",
       "      <td>0.552472</td>\n",
       "    </tr>\n",
       "  </tbody>\n",
       "</table>\n",
       "</div>"
      ],
      "text/plain": [
       "                                               model  pearson_correlation  \\\n",
       "0                                              spacy             0.709644   \n",
       "1  sentence_transformer_cross-encoder/stsb-distil...             0.860857   \n",
       "2  sentence_transformer_distilbert-base-nli-mean-...             0.844106   \n",
       "3  cross_encoder_sentence-transformers/all-MiniLM...            -0.320129   \n",
       "4  cross_encoder_cross-encoder/stsb-distilroberta...             0.892650   \n",
       "5     cross_encoder_neuml/pubmedbert-base-embeddings             0.892883   \n",
       "\n",
       "        auc  youden_index  \n",
       "0  1.000000      0.926608  \n",
       "1  1.000000      0.990015  \n",
       "2  1.000000      0.794247  \n",
       "3  0.333333      0.495282  \n",
       "4  0.944444      0.574482  \n",
       "5  1.000000      0.552472  "
      ]
     },
     "execution_count": 14,
     "metadata": {},
     "output_type": "execute_result"
    }
   ],
   "source": [
    "\n",
    "# evaluate every model on the overall_df and save pearson correlation between model scores and overall_df['score'] in a results DataFrame\n",
    "import numpy as np\n",
    "from scipy.stats import pearsonr\n",
    "\n",
    "results = []\n",
    "\n",
    "for model in models:\n",
    "    model_name = model.name\n",
    "    print(f\"Evaluating {model_name}...\")\n",
    "    \n",
    "    scores = []\n",
    "    scores = overall_df.apply(lambda row: model.compute_similarity(row['sentence1'], row['sentence2']), axis=1)\n",
    "    scores = scores.to_numpy()\n",
    "    \n",
    "    overall_df[model_name] = scores\n",
    "    \n",
    "    # Calculate Pearson correlation\n",
    "    corr, _ = pearsonr(overall_df[model_name], overall_df['score'])\n",
    "\n",
    "    # compute auc for detecting a simiarity of at least 3\n",
    "    from sklearn.metrics import roc_auc_score\n",
    "    y_true = (overall_df['score'] >= 3).astype(int)\n",
    "    y_scores = overall_df[model_name]\n",
    "    auc = roc_auc_score(y_true, y_scores)\n",
    "    j_index = cutoff_youdens_j(*roc_curve(y_true, y_scores)[:3])\n",
    "\n",
    "    results.append({'model': model_name, 'pearson_correlation': corr, 'auc': auc, 'youden_index': j_index})\n",
    "\n",
    "\n",
    "results_df = pd.DataFrame(results)\n",
    "\n",
    "results_df"
   ]
  },
  {
   "cell_type": "code",
   "execution_count": 15,
   "id": "38a2b777",
   "metadata": {},
   "outputs": [
    {
     "data": {
      "application/vnd.microsoft.datawrangler.viewer.v0+json": {
       "columns": [
        {
         "name": "index",
         "rawType": "int64",
         "type": "integer"
        },
        {
         "name": "id",
         "rawType": "object",
         "type": "unknown"
        },
        {
         "name": "sentence1",
         "rawType": "object",
         "type": "string"
        },
        {
         "name": "sentence2",
         "rawType": "object",
         "type": "string"
        },
        {
         "name": "score",
         "rawType": "float64",
         "type": "float"
        },
        {
         "name": "spacy",
         "rawType": "float64",
         "type": "float"
        },
        {
         "name": "sentence_transformer_cross-encoder/stsb-distilroberta-base",
         "rawType": "float64",
         "type": "float"
        },
        {
         "name": "sentence_transformer_distilbert-base-nli-mean-tokens",
         "rawType": "float64",
         "type": "float"
        },
        {
         "name": "cross_encoder_sentence-transformers/all-MiniLM-L12-v2",
         "rawType": "float64",
         "type": "float"
        },
        {
         "name": "cross_encoder_cross-encoder/stsb-distilroberta-base",
         "rawType": "float64",
         "type": "float"
        },
        {
         "name": "cross_encoder_neuml/pubmedbert-base-embeddings",
         "rawType": "float64",
         "type": "float"
        }
       ],
       "ref": "45c3921e-f3ee-412f-af11-07dcce5b10f2",
       "rows": [
        [
         "0",
         "8664717-5_9708839-4",
         "Intervention--Visits by specialist outreach nurses over 12 months to provide information, advice, and support; minimum of six visits during the first six months.",
         "In phase 2, rewards depended upon highly variable sequences of left and right responses.",
         "1.0",
         "0.8144364178255977",
         "0.915666401386261",
         "0.25236836075782776",
         "0.5015305280685425",
         "0.11304091662168503",
         "0.3332487940788269"
        ],
        [
         "1",
         "11792611-2_11713035-2",
         "The &quot;Standards, Options and Recommendations&quot; (SOR) project, started in 1993, is a collaboration between the French National Federation of Comprehensive Cancer Centers (FNCLCC), the 20 French Cancer Centers and specialists from French Public Univ",
         "The &quot;Standards, Options and Recommendations&quot; (SOR) project, started in 1993, is a collaboration between the National Federation of Comprehensive Cancer Centres (FNCLCC), the 20 French Cancer Centers and specialists from French Public Universitie",
         "4.8",
         "0.9954454107283696",
         "0.9962311387062073",
         "0.9966188073158264",
         "0.4952821731567383",
         "0.9111441373825073",
         "0.5615601539611816"
        ],
        [
         "2",
         "14664471-3_18071934-16",
         "Patients (251) were equally randomized to daily subcutaneous GA, 20 mg, or to placebo.",
         "Subcutaneous and skin suture.",
         "1.6",
         "0.6065388002131056",
         "0.9285383224487305",
         "0.3585239052772522",
         "0.504040002822876",
         "0.17769798636436462",
         "0.43529775738716125"
        ],
        [
         "3",
         "10962609-2_9429259-1",
         "Prospective monocentric follow-up study.",
         "A cross-sectional multicenter study was conducted to estimate the direct costs for each cause of spinal cord injury in the United States.",
         "1.0",
         "0.7163300045538148",
         "0.8981621861457825",
         "0.37291982769966125",
         "0.501228392124176",
         "0.16823694109916687",
         "0.3165135085582733"
        ],
        [
         "4",
         "10617256-4_9935109-4",
         "A prospective, double-blind, randomized, placebo-controlled, clinical trial.",
         "Prospective randomized trial.",
         "2.8",
         "0.7801577300284446",
         "0.9584864377975464",
         "0.7921533584594727",
         "0.5027398467063904",
         "0.7790177464485168",
         "0.49819350242614746"
        ],
        [
         "5",
         "10819426-3_12853899-6",
         "This study used a prospective, cross-sectional design to compare the language abilities of young children following their head injury.",
         "Experimental design: comparative study.",
         "1.4",
         "0.7311788057210873",
         "0.9402183294296265",
         "0.4572105407714844",
         "0.5050345063209534",
         "0.5601622462272644",
         "0.3994578421115875"
        ],
        [
         "6",
         "11441927-26_17211783-20",
         "Chemotherapy has a well-documented role in the curative and palliative treatment of patients with several types of cancer.",
         "A large RCT in infants with CDH and severe respiratory failure is warranted.",
         "1.0",
         "0.8192076876731911",
         "0.9274770617485046",
         "0.4750877320766449",
         "0.49427464604377747",
         "0.06718647480010986",
         "0.43518272042274475"
        ],
        [
         "7",
         null,
         "Recent in vitro studies using shRNA-based approaches have suggested a role for TET2 in regulating myeloid differentiation and in regulating stem/progenitor cell proliferation.",
         "Two recent studies used RNAi-mediated Tet2 knock-down in vitro to suggest that TET2 depletion led to impaired hematopoietic differentiation and to preferential myeloid commitment.",
         "3.200000047683716",
         "0.9266083978581399",
         "0.9900152683258057",
         "0.7942472696304321",
         "0.5019643902778625",
         "0.5744816660881042",
         "0.5524721741676331"
        ],
        [
         "8",
         "12025959-6_8678767-10",
         "The peptide B1 receptor antagonist B9858 was administered i.v. and caused dose-dependent and complete inhibition of the nociceptive spinal reflex (ID50 = 1 mg x kg(-1)).",
         "Conventional radiological methods of cancer staging included abdominal computed tomography (CT) (n = 34), chest x-rays (n = 15), and chest CT (n = 19) to evaluate extrahepatic disease.",
         "1.0",
         "0.7582820427454179",
         "0.9208182096481323",
         "0.5309673547744751",
         "0.5008591413497925",
         "0.19987520575523376",
         "0.35850971937179565"
        ],
        [
         "9",
         "10617256-6_10847225-4",
         "Forty patients (8 men and 32 postmenopausal women), who had recently (within the last 5 days) suffered a nontraumatic osteoporotic vertebral fracture.",
         "Population-based study of 835 ectopic pregnancies registered between 1992 and 1996.",
         "1.0",
         "0.7679010988163315",
         "0.9492172002792358",
         "0.6176571846008301",
         "0.5039989948272705",
         "0.15937256813049316",
         "0.3385881781578064"
        ],
        [
         "10",
         "15352592-8_8945728-4",
         "The survey was mailed to 126 experienced peripheral nerve physicians and 49 (39%) participated in the study.",
         "We examined the plasma concentrations of IL-1, IL-2, IL-6 and blood levels of ACTH, cortisol and prolactin of 21 patients with PD without any previous treatment.",
         "1.0",
         "0.7777972117893193",
         "0.8892354965209961",
         "0.5900334119796753",
         "0.5010401010513306",
         "0.12227743864059448",
         "0.3191676139831543"
        ]
       ],
       "shape": {
        "columns": 10,
        "rows": 11
       }
      },
      "text/html": [
       "<div>\n",
       "<style scoped>\n",
       "    .dataframe tbody tr th:only-of-type {\n",
       "        vertical-align: middle;\n",
       "    }\n",
       "\n",
       "    .dataframe tbody tr th {\n",
       "        vertical-align: top;\n",
       "    }\n",
       "\n",
       "    .dataframe thead th {\n",
       "        text-align: right;\n",
       "    }\n",
       "</style>\n",
       "<table border=\"1\" class=\"dataframe\">\n",
       "  <thead>\n",
       "    <tr style=\"text-align: right;\">\n",
       "      <th></th>\n",
       "      <th>id</th>\n",
       "      <th>sentence1</th>\n",
       "      <th>sentence2</th>\n",
       "      <th>score</th>\n",
       "      <th>spacy</th>\n",
       "      <th>sentence_transformer_cross-encoder/stsb-distilroberta-base</th>\n",
       "      <th>sentence_transformer_distilbert-base-nli-mean-tokens</th>\n",
       "      <th>cross_encoder_sentence-transformers/all-MiniLM-L12-v2</th>\n",
       "      <th>cross_encoder_cross-encoder/stsb-distilroberta-base</th>\n",
       "      <th>cross_encoder_neuml/pubmedbert-base-embeddings</th>\n",
       "    </tr>\n",
       "  </thead>\n",
       "  <tbody>\n",
       "    <tr>\n",
       "      <th>0</th>\n",
       "      <td>8664717-5_9708839-4</td>\n",
       "      <td>Intervention--Visits by specialist outreach nu...</td>\n",
       "      <td>In phase 2, rewards depended upon highly varia...</td>\n",
       "      <td>1.0</td>\n",
       "      <td>0.814436</td>\n",
       "      <td>0.915666</td>\n",
       "      <td>0.252368</td>\n",
       "      <td>0.501531</td>\n",
       "      <td>0.113041</td>\n",
       "      <td>0.333249</td>\n",
       "    </tr>\n",
       "    <tr>\n",
       "      <th>1</th>\n",
       "      <td>11792611-2_11713035-2</td>\n",
       "      <td>The &amp;quot;Standards, Options and Recommendatio...</td>\n",
       "      <td>The &amp;quot;Standards, Options and Recommendatio...</td>\n",
       "      <td>4.8</td>\n",
       "      <td>0.995445</td>\n",
       "      <td>0.996231</td>\n",
       "      <td>0.996619</td>\n",
       "      <td>0.495282</td>\n",
       "      <td>0.911144</td>\n",
       "      <td>0.561560</td>\n",
       "    </tr>\n",
       "    <tr>\n",
       "      <th>2</th>\n",
       "      <td>14664471-3_18071934-16</td>\n",
       "      <td>Patients (251) were equally randomized to dail...</td>\n",
       "      <td>Subcutaneous and skin suture.</td>\n",
       "      <td>1.6</td>\n",
       "      <td>0.606539</td>\n",
       "      <td>0.928538</td>\n",
       "      <td>0.358524</td>\n",
       "      <td>0.504040</td>\n",
       "      <td>0.177698</td>\n",
       "      <td>0.435298</td>\n",
       "    </tr>\n",
       "    <tr>\n",
       "      <th>3</th>\n",
       "      <td>10962609-2_9429259-1</td>\n",
       "      <td>Prospective monocentric follow-up study.</td>\n",
       "      <td>A cross-sectional multicenter study was conduc...</td>\n",
       "      <td>1.0</td>\n",
       "      <td>0.716330</td>\n",
       "      <td>0.898162</td>\n",
       "      <td>0.372920</td>\n",
       "      <td>0.501228</td>\n",
       "      <td>0.168237</td>\n",
       "      <td>0.316514</td>\n",
       "    </tr>\n",
       "    <tr>\n",
       "      <th>4</th>\n",
       "      <td>10617256-4_9935109-4</td>\n",
       "      <td>A prospective, double-blind, randomized, place...</td>\n",
       "      <td>Prospective randomized trial.</td>\n",
       "      <td>2.8</td>\n",
       "      <td>0.780158</td>\n",
       "      <td>0.958486</td>\n",
       "      <td>0.792153</td>\n",
       "      <td>0.502740</td>\n",
       "      <td>0.779018</td>\n",
       "      <td>0.498194</td>\n",
       "    </tr>\n",
       "    <tr>\n",
       "      <th>5</th>\n",
       "      <td>10819426-3_12853899-6</td>\n",
       "      <td>This study used a prospective, cross-sectional...</td>\n",
       "      <td>Experimental design: comparative study.</td>\n",
       "      <td>1.4</td>\n",
       "      <td>0.731179</td>\n",
       "      <td>0.940218</td>\n",
       "      <td>0.457211</td>\n",
       "      <td>0.505035</td>\n",
       "      <td>0.560162</td>\n",
       "      <td>0.399458</td>\n",
       "    </tr>\n",
       "    <tr>\n",
       "      <th>6</th>\n",
       "      <td>11441927-26_17211783-20</td>\n",
       "      <td>Chemotherapy has a well-documented role in the...</td>\n",
       "      <td>A large RCT in infants with CDH and severe res...</td>\n",
       "      <td>1.0</td>\n",
       "      <td>0.819208</td>\n",
       "      <td>0.927477</td>\n",
       "      <td>0.475088</td>\n",
       "      <td>0.494275</td>\n",
       "      <td>0.067186</td>\n",
       "      <td>0.435183</td>\n",
       "    </tr>\n",
       "    <tr>\n",
       "      <th>7</th>\n",
       "      <td>NaN</td>\n",
       "      <td>Recent in vitro studies using shRNA-based appr...</td>\n",
       "      <td>Two recent studies used RNAi-mediated Tet2 kno...</td>\n",
       "      <td>3.2</td>\n",
       "      <td>0.926608</td>\n",
       "      <td>0.990015</td>\n",
       "      <td>0.794247</td>\n",
       "      <td>0.501964</td>\n",
       "      <td>0.574482</td>\n",
       "      <td>0.552472</td>\n",
       "    </tr>\n",
       "    <tr>\n",
       "      <th>8</th>\n",
       "      <td>12025959-6_8678767-10</td>\n",
       "      <td>The peptide B1 receptor antagonist B9858 was a...</td>\n",
       "      <td>Conventional radiological methods of cancer st...</td>\n",
       "      <td>1.0</td>\n",
       "      <td>0.758282</td>\n",
       "      <td>0.920818</td>\n",
       "      <td>0.530967</td>\n",
       "      <td>0.500859</td>\n",
       "      <td>0.199875</td>\n",
       "      <td>0.358510</td>\n",
       "    </tr>\n",
       "    <tr>\n",
       "      <th>9</th>\n",
       "      <td>10617256-6_10847225-4</td>\n",
       "      <td>Forty patients (8 men and 32 postmenopausal wo...</td>\n",
       "      <td>Population-based study of 835 ectopic pregnanc...</td>\n",
       "      <td>1.0</td>\n",
       "      <td>0.767901</td>\n",
       "      <td>0.949217</td>\n",
       "      <td>0.617657</td>\n",
       "      <td>0.503999</td>\n",
       "      <td>0.159373</td>\n",
       "      <td>0.338588</td>\n",
       "    </tr>\n",
       "    <tr>\n",
       "      <th>10</th>\n",
       "      <td>15352592-8_8945728-4</td>\n",
       "      <td>The survey was mailed to 126 experienced perip...</td>\n",
       "      <td>We examined the plasma concentrations of IL-1,...</td>\n",
       "      <td>1.0</td>\n",
       "      <td>0.777797</td>\n",
       "      <td>0.889235</td>\n",
       "      <td>0.590033</td>\n",
       "      <td>0.501040</td>\n",
       "      <td>0.122277</td>\n",
       "      <td>0.319168</td>\n",
       "    </tr>\n",
       "  </tbody>\n",
       "</table>\n",
       "</div>"
      ],
      "text/plain": [
       "                         id  \\\n",
       "0       8664717-5_9708839-4   \n",
       "1     11792611-2_11713035-2   \n",
       "2    14664471-3_18071934-16   \n",
       "3      10962609-2_9429259-1   \n",
       "4      10617256-4_9935109-4   \n",
       "5     10819426-3_12853899-6   \n",
       "6   11441927-26_17211783-20   \n",
       "7                       NaN   \n",
       "8     12025959-6_8678767-10   \n",
       "9     10617256-6_10847225-4   \n",
       "10     15352592-8_8945728-4   \n",
       "\n",
       "                                            sentence1  \\\n",
       "0   Intervention--Visits by specialist outreach nu...   \n",
       "1   The &quot;Standards, Options and Recommendatio...   \n",
       "2   Patients (251) were equally randomized to dail...   \n",
       "3            Prospective monocentric follow-up study.   \n",
       "4   A prospective, double-blind, randomized, place...   \n",
       "5   This study used a prospective, cross-sectional...   \n",
       "6   Chemotherapy has a well-documented role in the...   \n",
       "7   Recent in vitro studies using shRNA-based appr...   \n",
       "8   The peptide B1 receptor antagonist B9858 was a...   \n",
       "9   Forty patients (8 men and 32 postmenopausal wo...   \n",
       "10  The survey was mailed to 126 experienced perip...   \n",
       "\n",
       "                                            sentence2  score     spacy  \\\n",
       "0   In phase 2, rewards depended upon highly varia...    1.0  0.814436   \n",
       "1   The &quot;Standards, Options and Recommendatio...    4.8  0.995445   \n",
       "2                       Subcutaneous and skin suture.    1.6  0.606539   \n",
       "3   A cross-sectional multicenter study was conduc...    1.0  0.716330   \n",
       "4                       Prospective randomized trial.    2.8  0.780158   \n",
       "5             Experimental design: comparative study.    1.4  0.731179   \n",
       "6   A large RCT in infants with CDH and severe res...    1.0  0.819208   \n",
       "7   Two recent studies used RNAi-mediated Tet2 kno...    3.2  0.926608   \n",
       "8   Conventional radiological methods of cancer st...    1.0  0.758282   \n",
       "9   Population-based study of 835 ectopic pregnanc...    1.0  0.767901   \n",
       "10  We examined the plasma concentrations of IL-1,...    1.0  0.777797   \n",
       "\n",
       "    sentence_transformer_cross-encoder/stsb-distilroberta-base  \\\n",
       "0                                            0.915666            \n",
       "1                                            0.996231            \n",
       "2                                            0.928538            \n",
       "3                                            0.898162            \n",
       "4                                            0.958486            \n",
       "5                                            0.940218            \n",
       "6                                            0.927477            \n",
       "7                                            0.990015            \n",
       "8                                            0.920818            \n",
       "9                                            0.949217            \n",
       "10                                           0.889235            \n",
       "\n",
       "    sentence_transformer_distilbert-base-nli-mean-tokens  \\\n",
       "0                                            0.252368      \n",
       "1                                            0.996619      \n",
       "2                                            0.358524      \n",
       "3                                            0.372920      \n",
       "4                                            0.792153      \n",
       "5                                            0.457211      \n",
       "6                                            0.475088      \n",
       "7                                            0.794247      \n",
       "8                                            0.530967      \n",
       "9                                            0.617657      \n",
       "10                                           0.590033      \n",
       "\n",
       "    cross_encoder_sentence-transformers/all-MiniLM-L12-v2  \\\n",
       "0                                            0.501531       \n",
       "1                                            0.495282       \n",
       "2                                            0.504040       \n",
       "3                                            0.501228       \n",
       "4                                            0.502740       \n",
       "5                                            0.505035       \n",
       "6                                            0.494275       \n",
       "7                                            0.501964       \n",
       "8                                            0.500859       \n",
       "9                                            0.503999       \n",
       "10                                           0.501040       \n",
       "\n",
       "    cross_encoder_cross-encoder/stsb-distilroberta-base  \\\n",
       "0                                            0.113041     \n",
       "1                                            0.911144     \n",
       "2                                            0.177698     \n",
       "3                                            0.168237     \n",
       "4                                            0.779018     \n",
       "5                                            0.560162     \n",
       "6                                            0.067186     \n",
       "7                                            0.574482     \n",
       "8                                            0.199875     \n",
       "9                                            0.159373     \n",
       "10                                           0.122277     \n",
       "\n",
       "    cross_encoder_neuml/pubmedbert-base-embeddings  \n",
       "0                                         0.333249  \n",
       "1                                         0.561560  \n",
       "2                                         0.435298  \n",
       "3                                         0.316514  \n",
       "4                                         0.498194  \n",
       "5                                         0.399458  \n",
       "6                                         0.435183  \n",
       "7                                         0.552472  \n",
       "8                                         0.358510  \n",
       "9                                         0.338588  \n",
       "10                                        0.319168  "
      ]
     },
     "execution_count": 15,
     "metadata": {},
     "output_type": "execute_result"
    }
   ],
   "source": [
    "overall_df"
   ]
  },
  {
   "cell_type": "code",
   "execution_count": null,
   "id": "66dc7974",
   "metadata": {},
   "outputs": [],
   "source": []
  }
 ],
 "metadata": {
  "kernelspec": {
   "display_name": "evident",
   "language": "python",
   "name": "python3"
  },
  "language_info": {
   "codemirror_mode": {
    "name": "ipython",
    "version": 3
   },
   "file_extension": ".py",
   "mimetype": "text/x-python",
   "name": "python",
   "nbconvert_exporter": "python",
   "pygments_lexer": "ipython3",
   "version": "3.10.16"
  }
 },
 "nbformat": 4,
 "nbformat_minor": 5
}
