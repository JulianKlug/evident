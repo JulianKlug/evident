{
 "cells": [
  {
   "cell_type": "code",
   "execution_count": 117,
   "id": "b57fa17cfd727ece",
   "metadata": {
    "ExecuteTime": {
     "end_time": "2025-04-03T20:03:47.502279Z",
     "start_time": "2025-04-03T20:03:47.494144Z"
    }
   },
   "outputs": [],
   "source": [
    "from ipywidgets import interactive\n",
    "from ollama import Client\n",
    "from torch.distributed.autograd import context"
   ]
  },
  {
   "cell_type": "code",
   "execution_count": 118,
   "id": "357f3e6669a5440d",
   "metadata": {
    "ExecuteTime": {
     "end_time": "2025-04-03T20:03:48.181157Z",
     "start_time": "2025-04-03T20:03:48.038928Z"
    }
   },
   "outputs": [],
   "source": [
    "client = Client(\n",
    "  host='http://localhost:11434',\n",
    "  headers={'x-some-header': 'some-value'}\n",
    ")"
   ]
  },
  {
   "cell_type": "code",
   "execution_count": 57,
   "id": "7081ec89ab6c5785",
   "metadata": {
    "ExecuteTime": {
     "end_time": "2025-04-03T14:35:11.391473Z",
     "start_time": "2025-04-03T14:35:11.362019Z"
    }
   },
   "outputs": [
    {
     "data": {
      "application/vnd.jupyter.widget-view+json": {
       "model_id": "1e137e1f2cb1490086036aedf9c38263",
       "version_major": 2,
       "version_minor": 0
      },
      "text/plain": [
       "VBox(children=(HTML(value='<center> <img\\nsrc=https://huggingface.co/front/assets/huggingface_logo-noborder.sv…"
      ]
     },
     "metadata": {},
     "output_type": "display_data"
    }
   ],
   "source": [
    "from huggingface_hub import notebook_login\n",
    "notebook_login()"
   ]
  },
  {
   "cell_type": "code",
   "execution_count": 58,
   "id": "5c6b89c174c1c455",
   "metadata": {
    "ExecuteTime": {
     "end_time": "2025-04-03T14:36:41.187139Z",
     "start_time": "2025-04-03T14:36:38.997359Z"
    }
   },
   "outputs": [
    {
     "data": {
      "application/vnd.jupyter.widget-view+json": {
       "model_id": "e5e17a33294d45f2a3b418a7fb3483e9",
       "version_major": 2,
       "version_minor": 0
      },
      "text/plain": [
       "tokenizer.json:   0%|          | 0.00/9.09M [00:00<?, ?B/s]"
      ]
     },
     "metadata": {},
     "output_type": "display_data"
    }
   ],
   "source": [
    "from tokenizers import Tokenizer\n",
    "tokenizer = Tokenizer.from_pretrained(\"meta-llama/Llama-3.2-3B\")"
   ]
  },
  {
   "cell_type": "code",
   "execution_count": null,
   "id": "533b0f8ecd5d6cb2",
   "metadata": {
    "ExecuteTime": {
     "end_time": "2025-04-03T20:03:58.984597Z",
     "start_time": "2025-04-03T20:03:57.622999Z"
    }
   },
   "outputs": [
    {
     "name": "stdout",
     "output_type": "stream",
     "text": [
      "17\n"
     ]
    }
   ],
   "source": [
    "from langchain_community.document_loaders import PyPDFLoader\n",
    "\n",
    "pdf_path = '/Users/jk1/Zotero/storage/NQS7GUXK/Raghu et al. - 2015 - An Official ATSERSJRSALAT Clinical Practice Gui.pdf'\n",
    "\n",
    "loader = PyPDFLoader(\n",
    "    pdf_path,\n",
    "    mode=\"page\",\n",
    ")\n",
    "docs = loader.load()\n",
    "print(len(docs))"
   ]
  },
  {
   "cell_type": "code",
   "execution_count": 120,
   "id": "e7088b02c442ecab",
   "metadata": {
    "ExecuteTime": {
     "end_time": "2025-04-03T20:04:46.312985Z",
     "start_time": "2025-04-03T20:04:46.298721Z"
    }
   },
   "outputs": [
    {
     "data": {
      "text/plain": [
       "6750"
      ]
     },
     "execution_count": 120,
     "metadata": {},
     "output_type": "execute_result"
    }
   ],
   "source": [
    "len(docs[4].page_content)"
   ]
  },
  {
   "cell_type": "code",
   "execution_count": 121,
   "id": "8294c9797a62d204",
   "metadata": {
    "ExecuteTime": {
     "end_time": "2025-04-03T20:04:50.248286Z",
     "start_time": "2025-04-03T20:04:50.242935Z"
    }
   },
   "outputs": [
    {
     "data": {
      "text/plain": [
       "'guideline were not readdressed in this\\nupdate unless the literature search revealed\\nnew and pertinent evidence.\\nThe committee selected outcomes of\\ninterest for each question, using the 2011\\ndocument as a guide in addition to\\nfollowing the approach suggested by the\\nGRADE working group (5, 7). All\\noutcomes were identiﬁed ap r i o r i,a n dt h e\\ncommittee explicitly rated their relative\\nimportance (from the perspective of\\na patient with IPF) from not important to\\ncritical (7). Ranking outcomes by their\\nrelative importance helps focus attention\\non those that are most relevant to patients\\nand helps resolve or clarify potential\\ndisagreements in decision making.\\nExamples of critical outcomes include\\nmortality or disease progression. Disease\\nprogression, deﬁned in the 2011 document\\nas increasing respiratory symptoms,\\nworsening pulmonary function test (PFT)\\nresults, progressive ﬁbrosis on high-\\nresolution computed tomography scan,\\nacute respiratory decline, or death, can\\nbe measured using multiple outcome\\nmeasures (3). Changes over time in FVC\\nor diffusing capacity of the lung for carbon\\nmonoxide (DLCO) were considered indirect\\nmeasures of disease progression for the\\npurpose of this guideline. Rankings of\\nall outcomes were agreed on through\\nconsensus of the committee.\\nLiterature Search\\nIn collaboration with the MG, an\\ninformation scientist (S.L.P.) designed\\na search strategy using medical subject\\nheading keywords and text words (see\\nonline supplement) limited to human\\nstudies or nonindexed citations and articles\\nin English or in any language with English\\nabstracts. The Ovid platform was used to\\nsearch MEDLINE, EMBASE, Cochrane\\nRegistry of Controlled Trials, Health\\nTechnology Assessment, and the Database\\nof Abstracts of Reviews of Affects for May\\n2010 through May 2014. An update was\\nperformed in June 2014, immediately\\nbefore the meeting at McMaster University.\\nReviewers contacted experts and reviewed\\nprevious meta-analyses for additional\\narticles. The search retrieved 9,663\\ncitations, minus duplicates. On the basis of\\npredeﬁned eligibility criteria, 54 citations\\nwere included for full text review, of which\\n34 were excluded with reasons and 20 were\\nincluded in the evidence update (see online\\nsupplement).\\nEvidence Review and Development of\\nClinical Recommendations\\nEvidence summaries for each question were\\nprepared by the McMaster methodology\\nteam, following the GRADE approach\\n(4), using the GRADEpro Guideline\\nDevelopment Tool online software (8).\\nAll committee members reviewed the\\nsummaries of evidence, and corrections\\nwere made when appropriate. We based the\\nevidence on the 2011 evidence summaries\\nthat had been produced for that document.\\nThese summaries were updated, if\\nnecessary, with additional recent\\nrandomized controlled trials (RCTs).\\nCommittee members were also queried\\nfor any additional studies not identiﬁed by\\nthe search. If adequate outcome data were\\nnot available from RCTs, observational\\nstudies were also used to support\\nrecommendations.\\nTwo reviewers from the MG screened\\ntitles and abstracts to identify articles for full\\nreview and evaluated the full text of articles\\ndeemed potentially relevant by either\\nreviewer. Disagreement was resolved by\\nconsensus among the MG group. Data\\nabstraction occurred in duplicate, using\\npredesigned data abstraction forms that had\\nbeen piloted before being used. In addition\\nto clinical data, individual study risk of\\nbias was assessed independently by both\\nreviewers, using the Cochrane Risk of Bias\\ntool (9) for RCTs and the Ottawa-\\nNewcastle tool (10) for observational\\nstudies.\\nResults from identiﬁed studies with the\\nsame treatment agent were pooled, and\\nmeta-analyses, using the Cochrane\\nCollaboration Review Manager, version 5.2\\n(11), were reviewed. Pooling and meta-\\nanalyses of study data were independently\\nperformed by the MG speciﬁcally for this\\nguideline document. All data fulﬁlling the\\na priori inclusion criteria were included,\\nand pooled analysis presented in this\\ndocument may at times differ from other\\npublished meta-analyses, depending\\non inclusion or exclusion criteria.\\nSubsequently, the overall certainty in effect\\nestimates (also known as conﬁdence in\\neffect estimate) for each outcome of interest\\nwas assessed following the GRADE\\napproach (12), based on the following\\ncriteria: risk of bias, precision, consistency,\\ndirectness of the evidence, risk for\\npublication bias, presence of dose-effect\\nrelationship, magnitude of effect, and\\nassessment of the effect of plausible residual\\nconfounding or bias. The conﬁdence in\\neffect estimates for each outcome was\\ncategorized into one of four levels: high,\\nmoderate, low, or very low.\\nThe committee developed\\nrecommendations based on the GRADE\\nevidence proﬁles for each recommendation.\\nWe employed the GRADE evidence to\\ndecision frameworks in the guideline\\ndevelopment tool to help organize\\ndiscussion around each recommendation\\nand ensure each of the following factors\\nwas considered in recommendation\\ndevelopment: the quality of the evidence, the\\nbalance of desirable and undesirable\\nconsequences of compared management\\noptions, the assumptions about the values\\nand preferences associated with the\\ndecision, the implications for resource use\\nand health equity, the acceptability of\\nintervention to stakeholders, and the\\nfeasibility of implementation (see online\\nsupplement). Recommendations and their\\nstrength were decided by consensus, and\\nonly one recommendation required voting\\nbecause of inability to achieve consensus.\\nThe committee agreed on theﬁnal\\nwording of recommendations and\\nremarks with further qualiﬁcations for\\neach recommendation (e.g., subgroup\\nconsiderations, justiﬁcation, implementation\\nconsiderations).\\nThe recommendations were either\\n“strong” or “conditional,” according to the\\nGRADE approach (13). Conditional\\nrecommendations are synonymous with\\nweak recommendations. The 2011\\nguideline had used the nomenclature\\n“weak,” but to improve clarity (which\\nconditions are relevant to implement the\\nrecommendation) and facilitate translation\\nof guidelines to other languages, GRADE\\nuses the term“conditional” as an\\nalternative. Factors inﬂuencing the strength\\nof the recommendation include the\\nstrength of evidence, the outcomes studies\\nand associated importance to patients, the\\ndesirable and undesirable consequences of\\ntreatment, the cost of treatment, the\\nimplications of treatment on health equity,\\nthe feasibility of treatment, the acceptability\\nof treatment to important stakeholders, and\\npotential treatment monitoring and\\nimplementation issues.\\nAs suggested by GRADE, we used the\\nphrasing “we recommend” for strong\\nrecommendations and “we suggest” for\\nconditional recommendations. Table 1\\nAMERICAN THORACIC SOCIETY DOCUMENTS\\nAmerican Thoracic Society Documents e7'"
      ]
     },
     "execution_count": 121,
     "metadata": {},
     "output_type": "execute_result"
    }
   ],
   "source": [
    "docs[4].page_content"
   ]
  },
  {
   "cell_type": "code",
   "execution_count": 75,
   "id": "5b3878cc823d4a7",
   "metadata": {
    "ExecuteTime": {
     "end_time": "2025-04-03T14:49:08.293902Z",
     "start_time": "2025-04-03T14:49:08.278189Z"
    }
   },
   "outputs": [],
   "source": [
    "def formulate_prompt(guideline_text):\n",
    "    main_task_formulation = (\"Given the following guideline text, give ma a list of all recommendations along with their strength of recommendation and level of confidence in estimates of effect.The exact wording of the recommendations should be respected.\\n\")\n",
    "    grade_options_formulation = (\"Options for strength of recommendation are:\\n- strong recommendation against\\n- strong recommendation\\n- conditional recommendation\\n -conditional recommendation against\\n\\n\")\n",
    "    level_options_formulation = (\"Options for level of confidence in estimates of effect are:\\n- high\\n- moderate\\n- low\\n- very low\\n\\n\")\n",
    "    expected_structure_formulation = (\"The output should be in csv formant as such:\\n0, recommendation, strength of recommendation, level of confidence in estimates of effect\\n1, recommendation, strength of recommendation, level of confidence in estimates of effect\\n\\n\")\n",
    "    null_handling = \"If no recommendation is found in the whole text the output should be 'No recommendation found'.\\n\\n\"\n",
    "    example_text = (\"Example 1:\\n Guideline text: 'Guideline on management of ACS. Patients with acute coronary syndrome should be treated with aspirin (strong recommendation, high confidence in estimates of effect). No recommendation can be made regarding the use of ticagrelor.'\\n\\nExtracted recommendation list:\\n0, 'Patients with acute coronary syndrome should be treated with aspirin', 'strong recommendation', 'high'\\n'\\n\\n\"\n",
    "                    \"Example 2:\\n Guideline text: 'Serum cholesterol and its lipoprotein carriers (LDL, very low-density lipoprotein [VLDL], and HDL) are known to be related to ASCVD. LDL-C is the dominant form of atherogenic cholesterol. VLDL is the chief carrier of triglycerides, and VLDL cholesterol (VLDL-C) is also atherogenic. HDL-C is seemingly not atherogenic. Chylomicrons transport dietary fat; chylomicron atherogenicity is uncertain. The combination of LDL-C and VLDL-C is called non–HDL-C and is more atherogenic than either lipoprotein alone. The main protein embedded in LDL and VLDL is apolipoprotein B (apoB), and like non–HDL-C, apoB is a stronger indicator of atherogenicity than LDL-C alone.'\\n\\nExtracted recommendation list:\\nNo recommendation found.\\n\\n\")\n",
    "    no_other_text_warning = \"No other text should be present in the output.\\n\\n\"\n",
    "    task = f\"{main_task_formulation}{grade_options_formulation}{level_options_formulation}{expected_structure_formulation}{null_handling}{example_text}{no_other_text_warning}\"\n",
    "    prompt = f\"{task}Now extract the recommendations from the following text. Guideline text:\\n\\n{guideline_text}\\n\\nExtracted recommendation list:\\n\"\n",
    "    return prompt"
   ]
  },
  {
   "cell_type": "code",
   "execution_count": 76,
   "id": "846d5e2d93ca12a5",
   "metadata": {
    "ExecuteTime": {
     "end_time": "2025-04-03T14:49:08.847536Z",
     "start_time": "2025-04-03T14:49:08.812216Z"
    }
   },
   "outputs": [
    {
     "data": {
      "text/plain": [
       "Encoding(num_tokens=2094, attributes=[ids, type_ids, tokens, offsets, attention_mask, special_tokens_mask, overflowing])"
      ]
     },
     "execution_count": 76,
     "metadata": {},
     "output_type": "execute_result"
    }
   ],
   "source": [
    "# todo check number of tokens\n",
    "tokenizer.encode(formulate_prompt(docs[3].page_content))"
   ]
  },
  {
   "cell_type": "code",
   "execution_count": 128,
   "id": "2f7353835691f7ac",
   "metadata": {
    "ExecuteTime": {
     "end_time": "2025-04-03T20:22:32.192666Z",
     "start_time": "2025-04-03T20:16:53.278308Z"
    }
   },
   "outputs": [
    {
     "data": {
      "text/plain": [
       "'<think>\\nAlright, I need to extract recommendations from the given guideline text. Let me read through it carefully.\\n\\nThe text starts by talking about providing suggested interpretations for stakeholders but doesn\\'t mention any specific recommendations yet. It then mentions that two questions didn\\'t get a recommendation because more evidence was needed. So, those are \"no recommendation\" cases.\\n\\nNext, there\\'s a section on manuscript preparation and the process of creating the guideline. This part is more about how the guidelines were developed rather than actual recommendations.\\n\\nThen, under \"Recommendations for Specific Treatment Questions,\" it refers to an online supplement with supporting evidence but doesn\\'t list any recommendations here either.\\n\\nMoving further down, I see Question 1: Should Patients with IPF Be Treated with Anticoagulation? The background and summary of the evidence discuss studies on warfarin use. Then there\\'s a clear recommendation: \"We recommend that clinicians not use warfarin anticoagulation in patients with IPF who do not have a known alternative indication for its use (strong recommendation against, low confidence in estimates of effect).\"\\n\\nSo, this is one recommendation. It\\'s a strong recommendation against using warfarin, and the confidence level is low.\\n\\nI don\\'t see any other recommendations in the text. The rest either discusses processes or provides background without making specific recommendations.\\n</think>\\n\\n0, \\'We recommend that clinicians not use warfarin anticoagulation in patients with IPF who do not have a known alternative indication for its use\\', \\'strong recommendation against\\', \\'low\\''"
      ]
     },
     "execution_count": 128,
     "metadata": {},
     "output_type": "execute_result"
    }
   ],
   "source": [
    "from ollama import Options\n",
    "\n",
    "response = client.generate(model='deepseek-r1:32b', prompt=formulate_prompt(docs[5].page_content),\n",
    "                           options=Options(\n",
    "                temperature=0.0,\n",
    "                num_ctx=4096,\n",
    "            ),)\n",
    "response.response"
   ]
  },
  {
   "cell_type": "code",
   "execution_count": 129,
   "id": "dd0d40bffceb48d6",
   "metadata": {
    "ExecuteTime": {
     "end_time": "2025-04-03T20:22:32.656899Z",
     "start_time": "2025-04-03T20:22:32.651691Z"
    }
   },
   "outputs": [
    {
     "name": "stdout",
     "output_type": "stream",
     "text": [
      "<think>\n",
      "Alright, I need to extract recommendations from the given guideline text. Let me read through it carefully.\n",
      "\n",
      "The text starts by talking about providing suggested interpretations for stakeholders but doesn't mention any specific recommendations yet. It then mentions that two questions didn't get a recommendation because more evidence was needed. So, those are \"no recommendation\" cases.\n",
      "\n",
      "Next, there's a section on manuscript preparation and the process of creating the guideline. This part is more about how the guidelines were developed rather than actual recommendations.\n",
      "\n",
      "Then, under \"Recommendations for Specific Treatment Questions,\" it refers to an online supplement with supporting evidence but doesn't list any recommendations here either.\n",
      "\n",
      "Moving further down, I see Question 1: Should Patients with IPF Be Treated with Anticoagulation? The background and summary of the evidence discuss studies on warfarin use. Then there's a clear recommendation: \"We recommend that clinicians not use warfarin anticoagulation in patients with IPF who do not have a known alternative indication for its use (strong recommendation against, low confidence in estimates of effect).\"\n",
      "\n",
      "So, this is one recommendation. It's a strong recommendation against using warfarin, and the confidence level is low.\n",
      "\n",
      "I don't see any other recommendations in the text. The rest either discusses processes or provides background without making specific recommendations.\n",
      "</think>\n",
      "\n",
      "0, 'We recommend that clinicians not use warfarin anticoagulation in patients with IPF who do not have a known alternative indication for its use', 'strong recommendation against', 'low'\n"
     ]
    }
   ],
   "source": [
    "print(response.response)"
   ]
  },
  {
   "cell_type": "code",
   "execution_count": 130,
   "id": "5853172e39265adf",
   "metadata": {
    "ExecuteTime": {
     "end_time": "2025-04-03T20:30:55.960661Z",
     "start_time": "2025-04-03T20:30:55.855346Z"
    }
   },
   "outputs": [
    {
     "data": {
      "text/plain": [
       "[('we recommend that clinicians not use warfarin anticoagulation in patients with ipf who do not have a known alternative indication for its use (strong recommendation against, low confidence in estimates of effect).',\n",
       "  90),\n",
       " ('we recommend that clinicians not use ambrisentan, a selective er-a endothelin receptor antagonist, in patients with ipf, regardless of the presence or absence of ph (strong recommendation against, low confidence in estimates of effect).',\n",
       "  86),\n",
       " ('we suggest that clinicians not use bosentan or macitentan, both dual er-a and er-b endothelin receptor antagonists, for the treatment of ipf (conditional recommendation against, low confidence in estimates of effect).',\n",
       "  86),\n",
       " ('we recommend that clinicians not use imatinib in patients with ipf (strong recommendation, moderate confidence in estimates of effect).',\n",
       "  57),\n",
       " ('we recommend that clinicians not use the combination therapy of n-acetylcysteine, azathioprine, and prednisone in patients with ipf (strong recommendation, low confidence in estimates of effect).',\n",
       "  57),\n",
       " ('we suggest that clinicians use nintedanib in patients with ipf (conditional recommendation, moderate confidence in estimates of effect).',\n",
       "  57),\n",
       " ('we suggest that clinicians use pirfenidone in patients with ipf (conditional recommendation, moderate confidence in estimates of effect).',\n",
       "  57),\n",
       " ('we suggest that clinicians use regular antiacid treatment for patients with ipf (conditional recommendation, very low confidence in estimates of effect).',\n",
       "  57),\n",
       " ('we suggest that clinicians not use sildenafil, a phosphodiesterase-5 inhibitor, for treatment of ipf (conditional recommendation against, moderate confidence in estimates of effect).',\n",
       "  57),\n",
       " ('we suggest that clinicians not use n-acetylcysteine monotherapy in patients with ipf (conditional recommendation, low confidence in estimates of effect).',\n",
       "  57)]"
      ]
     },
     "execution_count": 130,
     "metadata": {},
     "output_type": "execute_result"
    }
   ],
   "source": [
    "from thefuzz import process\n",
    "import pandas as pd\n",
    "\n",
    "path = '/Users/jk1/Downloads/CMCZFLU4_extraction - Sheet1.csv'\n",
    "recommendation_gt_df = pd.read_csv(path)\n",
    "\n",
    "process.extractBests(response.response.lower(), recommendation_gt_df.recommendation.str.lower().values,\n",
    "                                   limit=10)"
   ]
  },
  {
   "cell_type": "code",
   "execution_count": 79,
   "id": "f8707d0fe93af12a",
   "metadata": {
    "ExecuteTime": {
     "end_time": "2025-04-03T14:49:43.626591Z",
     "start_time": "2025-04-03T14:49:43.441398Z"
    }
   },
   "outputs": [
    {
     "ename": "ParserError",
     "evalue": "Error tokenizing data. C error: Expected 4 fields in line 2, saw 6\n",
     "output_type": "error",
     "traceback": [
      "\u001b[0;31m---------------------------------------------------------------------------\u001b[0m",
      "\u001b[0;31mParserError\u001b[0m                               Traceback (most recent call last)",
      "Cell \u001b[0;32mIn[79], line 6\u001b[0m\n\u001b[1;32m      3\u001b[0m \u001b[38;5;28;01mfrom\u001b[39;00m\u001b[38;5;250m \u001b[39m\u001b[38;5;21;01mio\u001b[39;00m\u001b[38;5;250m \u001b[39m\u001b[38;5;28;01mimport\u001b[39;00m StringIO\n\u001b[1;32m      5\u001b[0m \u001b[38;5;66;03m# convert to csv\u001b[39;00m\n\u001b[0;32m----> 6\u001b[0m df \u001b[38;5;241m=\u001b[39m \u001b[43mpd\u001b[49m\u001b[38;5;241;43m.\u001b[39;49m\u001b[43mread_csv\u001b[49m\u001b[43m(\u001b[49m\u001b[43mStringIO\u001b[49m\u001b[43m(\u001b[49m\u001b[43mresponse\u001b[49m\u001b[38;5;241;43m.\u001b[39;49m\u001b[43mresponse\u001b[49m\u001b[43m)\u001b[49m\u001b[43m,\u001b[49m\u001b[43m \u001b[49m\u001b[43mheader\u001b[49m\u001b[38;5;241;43m=\u001b[39;49m\u001b[38;5;28;43;01mNone\u001b[39;49;00m\u001b[43m)\u001b[49m\n",
      "File \u001b[0;32m~/opt/anaconda3/envs/evident/lib/python3.10/site-packages/pandas/io/parsers/readers.py:1026\u001b[0m, in \u001b[0;36mread_csv\u001b[0;34m(filepath_or_buffer, sep, delimiter, header, names, index_col, usecols, dtype, engine, converters, true_values, false_values, skipinitialspace, skiprows, skipfooter, nrows, na_values, keep_default_na, na_filter, verbose, skip_blank_lines, parse_dates, infer_datetime_format, keep_date_col, date_parser, date_format, dayfirst, cache_dates, iterator, chunksize, compression, thousands, decimal, lineterminator, quotechar, quoting, doublequote, escapechar, comment, encoding, encoding_errors, dialect, on_bad_lines, delim_whitespace, low_memory, memory_map, float_precision, storage_options, dtype_backend)\u001b[0m\n\u001b[1;32m   1013\u001b[0m kwds_defaults \u001b[38;5;241m=\u001b[39m _refine_defaults_read(\n\u001b[1;32m   1014\u001b[0m     dialect,\n\u001b[1;32m   1015\u001b[0m     delimiter,\n\u001b[0;32m   (...)\u001b[0m\n\u001b[1;32m   1022\u001b[0m     dtype_backend\u001b[38;5;241m=\u001b[39mdtype_backend,\n\u001b[1;32m   1023\u001b[0m )\n\u001b[1;32m   1024\u001b[0m kwds\u001b[38;5;241m.\u001b[39mupdate(kwds_defaults)\n\u001b[0;32m-> 1026\u001b[0m \u001b[38;5;28;01mreturn\u001b[39;00m \u001b[43m_read\u001b[49m\u001b[43m(\u001b[49m\u001b[43mfilepath_or_buffer\u001b[49m\u001b[43m,\u001b[49m\u001b[43m \u001b[49m\u001b[43mkwds\u001b[49m\u001b[43m)\u001b[49m\n",
      "File \u001b[0;32m~/opt/anaconda3/envs/evident/lib/python3.10/site-packages/pandas/io/parsers/readers.py:626\u001b[0m, in \u001b[0;36m_read\u001b[0;34m(filepath_or_buffer, kwds)\u001b[0m\n\u001b[1;32m    623\u001b[0m     \u001b[38;5;28;01mreturn\u001b[39;00m parser\n\u001b[1;32m    625\u001b[0m \u001b[38;5;28;01mwith\u001b[39;00m parser:\n\u001b[0;32m--> 626\u001b[0m     \u001b[38;5;28;01mreturn\u001b[39;00m \u001b[43mparser\u001b[49m\u001b[38;5;241;43m.\u001b[39;49m\u001b[43mread\u001b[49m\u001b[43m(\u001b[49m\u001b[43mnrows\u001b[49m\u001b[43m)\u001b[49m\n",
      "File \u001b[0;32m~/opt/anaconda3/envs/evident/lib/python3.10/site-packages/pandas/io/parsers/readers.py:1923\u001b[0m, in \u001b[0;36mTextFileReader.read\u001b[0;34m(self, nrows)\u001b[0m\n\u001b[1;32m   1916\u001b[0m nrows \u001b[38;5;241m=\u001b[39m validate_integer(\u001b[38;5;124m\"\u001b[39m\u001b[38;5;124mnrows\u001b[39m\u001b[38;5;124m\"\u001b[39m, nrows)\n\u001b[1;32m   1917\u001b[0m \u001b[38;5;28;01mtry\u001b[39;00m:\n\u001b[1;32m   1918\u001b[0m     \u001b[38;5;66;03m# error: \"ParserBase\" has no attribute \"read\"\u001b[39;00m\n\u001b[1;32m   1919\u001b[0m     (\n\u001b[1;32m   1920\u001b[0m         index,\n\u001b[1;32m   1921\u001b[0m         columns,\n\u001b[1;32m   1922\u001b[0m         col_dict,\n\u001b[0;32m-> 1923\u001b[0m     ) \u001b[38;5;241m=\u001b[39m \u001b[38;5;28;43mself\u001b[39;49m\u001b[38;5;241;43m.\u001b[39;49m\u001b[43m_engine\u001b[49m\u001b[38;5;241;43m.\u001b[39;49m\u001b[43mread\u001b[49m\u001b[43m(\u001b[49m\u001b[43m  \u001b[49m\u001b[38;5;66;43;03m# type: ignore[attr-defined]\u001b[39;49;00m\n\u001b[1;32m   1924\u001b[0m \u001b[43m        \u001b[49m\u001b[43mnrows\u001b[49m\n\u001b[1;32m   1925\u001b[0m \u001b[43m    \u001b[49m\u001b[43m)\u001b[49m\n\u001b[1;32m   1926\u001b[0m \u001b[38;5;28;01mexcept\u001b[39;00m \u001b[38;5;167;01mException\u001b[39;00m:\n\u001b[1;32m   1927\u001b[0m     \u001b[38;5;28mself\u001b[39m\u001b[38;5;241m.\u001b[39mclose()\n",
      "File \u001b[0;32m~/opt/anaconda3/envs/evident/lib/python3.10/site-packages/pandas/io/parsers/c_parser_wrapper.py:234\u001b[0m, in \u001b[0;36mCParserWrapper.read\u001b[0;34m(self, nrows)\u001b[0m\n\u001b[1;32m    232\u001b[0m \u001b[38;5;28;01mtry\u001b[39;00m:\n\u001b[1;32m    233\u001b[0m     \u001b[38;5;28;01mif\u001b[39;00m \u001b[38;5;28mself\u001b[39m\u001b[38;5;241m.\u001b[39mlow_memory:\n\u001b[0;32m--> 234\u001b[0m         chunks \u001b[38;5;241m=\u001b[39m \u001b[38;5;28;43mself\u001b[39;49m\u001b[38;5;241;43m.\u001b[39;49m\u001b[43m_reader\u001b[49m\u001b[38;5;241;43m.\u001b[39;49m\u001b[43mread_low_memory\u001b[49m\u001b[43m(\u001b[49m\u001b[43mnrows\u001b[49m\u001b[43m)\u001b[49m\n\u001b[1;32m    235\u001b[0m         \u001b[38;5;66;03m# destructive to chunks\u001b[39;00m\n\u001b[1;32m    236\u001b[0m         data \u001b[38;5;241m=\u001b[39m _concatenate_chunks(chunks)\n",
      "File \u001b[0;32mparsers.pyx:838\u001b[0m, in \u001b[0;36mpandas._libs.parsers.TextReader.read_low_memory\u001b[0;34m()\u001b[0m\n",
      "File \u001b[0;32mparsers.pyx:905\u001b[0m, in \u001b[0;36mpandas._libs.parsers.TextReader._read_rows\u001b[0;34m()\u001b[0m\n",
      "File \u001b[0;32mparsers.pyx:874\u001b[0m, in \u001b[0;36mpandas._libs.parsers.TextReader._tokenize_rows\u001b[0;34m()\u001b[0m\n",
      "File \u001b[0;32mparsers.pyx:891\u001b[0m, in \u001b[0;36mpandas._libs.parsers.TextReader._check_tokenize_status\u001b[0;34m()\u001b[0m\n",
      "File \u001b[0;32mparsers.pyx:2061\u001b[0m, in \u001b[0;36mpandas._libs.parsers.raise_parser_error\u001b[0;34m()\u001b[0m\n",
      "\u001b[0;31mParserError\u001b[0m: Error tokenizing data. C error: Expected 4 fields in line 2, saw 6\n"
     ]
    }
   ],
   "source": [
    "# response to csv\n",
    "import pandas as pd\n",
    "from io import StringIO\n",
    "\n",
    "# convert to csv\n",
    "df = pd.read_csv(StringIO(response.response), header=None)\n"
   ]
  },
  {
   "cell_type": "code",
   "execution_count": 115,
   "id": "89e7700916f360ba",
   "metadata": {
    "ExecuteTime": {
     "end_time": "2025-04-03T15:38:26.993422Z",
     "start_time": "2025-04-03T15:38:26.976646Z"
    }
   },
   "outputs": [],
   "source": [
    "from tqdm import tqdm\n",
    "\n",
    "\n",
    "def scan_pdf(pdf_path):\n",
    "    \"\"\"\n",
    "    Scan a PDF file for guideline recommendations using a language model.\n",
    "\n",
    "    Parameters\n",
    "    ----------\n",
    "    pdf_path : str\n",
    "        Path to the PDF file.\n",
    "\n",
    "    Returns\n",
    "    -------\n",
    "    list of all_recommendations per page\n",
    "    \"\"\"\n",
    "    loader = PyPDFLoader(\n",
    "        pdf_path,\n",
    "        mode=\"page\",\n",
    "    )\n",
    "    docs = loader.load()\n",
    "\n",
    "    all_recommendations = []\n",
    "\n",
    "    for page, doc in tqdm(enumerate(docs), total=len(docs)):\n",
    "        response = client.generate(model='deepseek-r1:32b', prompt=formulate_prompt(doc.page_content),\n",
    "                                   options=Options(\n",
    "                    temperature=0.0,\n",
    "                    num_ctx=4096,\n",
    "                ),)\n",
    "        if \"no recommendation found\" in response.response.lower():\n",
    "            print(f\"No recommendation found in page: {page}\")\n",
    "        else:\n",
    "            all_recommendations.append(response.response)\n",
    "\n",
    "    return all_recommendations"
   ]
  },
  {
   "cell_type": "code",
   "execution_count": 116,
   "id": "399f8386c726ebce",
   "metadata": {
    "ExecuteTime": {
     "end_time": "2025-04-03T20:03:43.112239Z",
     "start_time": "2025-04-03T15:38:30.794234Z"
    }
   },
   "outputs": [
    {
     "name": "stderr",
     "output_type": "stream",
     "text": [
      " 24%|██▎       | 4/17 [21:40<1:09:27, 320.61s/it]"
     ]
    },
    {
     "name": "stdout",
     "output_type": "stream",
     "text": [
      "No recommendation found in page: 3\n"
     ]
    },
    {
     "name": "stderr",
     "output_type": "stream",
     "text": [
      " 29%|██▉       | 5/17 [25:50<59:04, 295.40s/it]  "
     ]
    },
    {
     "name": "stdout",
     "output_type": "stream",
     "text": [
      "No recommendation found in page: 4\n"
     ]
    },
    {
     "name": "stderr",
     "output_type": "stream",
     "text": [
      " 53%|█████▎    | 9/17 [4:25:10<3:55:42, 1767.83s/it]\n"
     ]
    },
    {
     "ename": "KeyboardInterrupt",
     "evalue": "",
     "output_type": "error",
     "traceback": [
      "\u001b[0;31m---------------------------------------------------------------------------\u001b[0m",
      "\u001b[0;31mKeyboardInterrupt\u001b[0m                         Traceback (most recent call last)",
      "Cell \u001b[0;32mIn[116], line 1\u001b[0m\n\u001b[0;32m----> 1\u001b[0m all_recommendations \u001b[38;5;241m=\u001b[39m \u001b[43mscan_pdf\u001b[49m\u001b[43m(\u001b[49m\u001b[43mpdf_path\u001b[49m\u001b[43m)\u001b[49m\n",
      "Cell \u001b[0;32mIn[115], line 26\u001b[0m, in \u001b[0;36mscan_pdf\u001b[0;34m(pdf_path)\u001b[0m\n\u001b[1;32m     23\u001b[0m all_recommendations \u001b[38;5;241m=\u001b[39m []\n\u001b[1;32m     25\u001b[0m \u001b[38;5;28;01mfor\u001b[39;00m page, doc \u001b[38;5;129;01min\u001b[39;00m tqdm(\u001b[38;5;28menumerate\u001b[39m(docs), total\u001b[38;5;241m=\u001b[39m\u001b[38;5;28mlen\u001b[39m(docs)):\n\u001b[0;32m---> 26\u001b[0m     response \u001b[38;5;241m=\u001b[39m \u001b[43mclient\u001b[49m\u001b[38;5;241;43m.\u001b[39;49m\u001b[43mgenerate\u001b[49m\u001b[43m(\u001b[49m\u001b[43mmodel\u001b[49m\u001b[38;5;241;43m=\u001b[39;49m\u001b[38;5;124;43m'\u001b[39;49m\u001b[38;5;124;43mdeepseek-r1:32b\u001b[39;49m\u001b[38;5;124;43m'\u001b[39;49m\u001b[43m,\u001b[49m\u001b[43m \u001b[49m\u001b[43mprompt\u001b[49m\u001b[38;5;241;43m=\u001b[39;49m\u001b[43mformulate_prompt\u001b[49m\u001b[43m(\u001b[49m\u001b[43mdoc\u001b[49m\u001b[38;5;241;43m.\u001b[39;49m\u001b[43mpage_content\u001b[49m\u001b[43m)\u001b[49m\u001b[43m,\u001b[49m\n\u001b[1;32m     27\u001b[0m \u001b[43m                               \u001b[49m\u001b[43moptions\u001b[49m\u001b[38;5;241;43m=\u001b[39;49m\u001b[43mOptions\u001b[49m\u001b[43m(\u001b[49m\n\u001b[1;32m     28\u001b[0m \u001b[43m                \u001b[49m\u001b[43mtemperature\u001b[49m\u001b[38;5;241;43m=\u001b[39;49m\u001b[38;5;241;43m0.0\u001b[39;49m\u001b[43m,\u001b[49m\n\u001b[1;32m     29\u001b[0m \u001b[43m                \u001b[49m\u001b[43mnum_ctx\u001b[49m\u001b[38;5;241;43m=\u001b[39;49m\u001b[38;5;241;43m4096\u001b[39;49m\u001b[43m,\u001b[49m\n\u001b[1;32m     30\u001b[0m \u001b[43m            \u001b[49m\u001b[43m)\u001b[49m\u001b[43m,\u001b[49m\u001b[43m)\u001b[49m\n\u001b[1;32m     31\u001b[0m     \u001b[38;5;28;01mif\u001b[39;00m \u001b[38;5;124m\"\u001b[39m\u001b[38;5;124mno recommendation found\u001b[39m\u001b[38;5;124m\"\u001b[39m \u001b[38;5;129;01min\u001b[39;00m response\u001b[38;5;241m.\u001b[39mresponse\u001b[38;5;241m.\u001b[39mlower():\n\u001b[1;32m     32\u001b[0m         \u001b[38;5;28mprint\u001b[39m(\u001b[38;5;124mf\u001b[39m\u001b[38;5;124m\"\u001b[39m\u001b[38;5;124mNo recommendation found in page: \u001b[39m\u001b[38;5;132;01m{\u001b[39;00mpage\u001b[38;5;132;01m}\u001b[39;00m\u001b[38;5;124m\"\u001b[39m)\n",
      "File \u001b[0;32m~/opt/anaconda3/envs/evident/lib/python3.10/site-packages/ollama/_client.py:242\u001b[0m, in \u001b[0;36mClient.generate\u001b[0;34m(self, model, prompt, suffix, system, template, context, stream, raw, format, images, options, keep_alive)\u001b[0m\n\u001b[1;32m    216\u001b[0m \u001b[38;5;28;01mdef\u001b[39;00m\u001b[38;5;250m \u001b[39m\u001b[38;5;21mgenerate\u001b[39m(\n\u001b[1;32m    217\u001b[0m   \u001b[38;5;28mself\u001b[39m,\n\u001b[1;32m    218\u001b[0m   model: \u001b[38;5;28mstr\u001b[39m \u001b[38;5;241m=\u001b[39m \u001b[38;5;124m'\u001b[39m\u001b[38;5;124m'\u001b[39m,\n\u001b[0;32m   (...)\u001b[0m\n\u001b[1;32m    230\u001b[0m   keep_alive: Optional[Union[\u001b[38;5;28mfloat\u001b[39m, \u001b[38;5;28mstr\u001b[39m]] \u001b[38;5;241m=\u001b[39m \u001b[38;5;28;01mNone\u001b[39;00m,\n\u001b[1;32m    231\u001b[0m ) \u001b[38;5;241m-\u001b[39m\u001b[38;5;241m>\u001b[39m Union[GenerateResponse, Iterator[GenerateResponse]]:\n\u001b[1;32m    232\u001b[0m \u001b[38;5;250m  \u001b[39m\u001b[38;5;124;03m\"\"\"\u001b[39;00m\n\u001b[1;32m    233\u001b[0m \u001b[38;5;124;03m  Create a response using the requested model.\u001b[39;00m\n\u001b[1;32m    234\u001b[0m \n\u001b[0;32m   (...)\u001b[0m\n\u001b[1;32m    239\u001b[0m \u001b[38;5;124;03m  Returns `GenerateResponse` if `stream` is `False`, otherwise returns a `GenerateResponse` generator.\u001b[39;00m\n\u001b[1;32m    240\u001b[0m \u001b[38;5;124;03m  \"\"\"\u001b[39;00m\n\u001b[0;32m--> 242\u001b[0m   \u001b[38;5;28;01mreturn\u001b[39;00m \u001b[38;5;28;43mself\u001b[39;49m\u001b[38;5;241;43m.\u001b[39;49m\u001b[43m_request\u001b[49m\u001b[43m(\u001b[49m\n\u001b[1;32m    243\u001b[0m \u001b[43m    \u001b[49m\u001b[43mGenerateResponse\u001b[49m\u001b[43m,\u001b[49m\n\u001b[1;32m    244\u001b[0m \u001b[43m    \u001b[49m\u001b[38;5;124;43m'\u001b[39;49m\u001b[38;5;124;43mPOST\u001b[39;49m\u001b[38;5;124;43m'\u001b[39;49m\u001b[43m,\u001b[49m\n\u001b[1;32m    245\u001b[0m \u001b[43m    \u001b[49m\u001b[38;5;124;43m'\u001b[39;49m\u001b[38;5;124;43m/api/generate\u001b[39;49m\u001b[38;5;124;43m'\u001b[39;49m\u001b[43m,\u001b[49m\n\u001b[1;32m    246\u001b[0m \u001b[43m    \u001b[49m\u001b[43mjson\u001b[49m\u001b[38;5;241;43m=\u001b[39;49m\u001b[43mGenerateRequest\u001b[49m\u001b[43m(\u001b[49m\n\u001b[1;32m    247\u001b[0m \u001b[43m      \u001b[49m\u001b[43mmodel\u001b[49m\u001b[38;5;241;43m=\u001b[39;49m\u001b[43mmodel\u001b[49m\u001b[43m,\u001b[49m\n\u001b[1;32m    248\u001b[0m \u001b[43m      \u001b[49m\u001b[43mprompt\u001b[49m\u001b[38;5;241;43m=\u001b[39;49m\u001b[43mprompt\u001b[49m\u001b[43m,\u001b[49m\n\u001b[1;32m    249\u001b[0m \u001b[43m      \u001b[49m\u001b[43msuffix\u001b[49m\u001b[38;5;241;43m=\u001b[39;49m\u001b[43msuffix\u001b[49m\u001b[43m,\u001b[49m\n\u001b[1;32m    250\u001b[0m \u001b[43m      \u001b[49m\u001b[43msystem\u001b[49m\u001b[38;5;241;43m=\u001b[39;49m\u001b[43msystem\u001b[49m\u001b[43m,\u001b[49m\n\u001b[1;32m    251\u001b[0m \u001b[43m      \u001b[49m\u001b[43mtemplate\u001b[49m\u001b[38;5;241;43m=\u001b[39;49m\u001b[43mtemplate\u001b[49m\u001b[43m,\u001b[49m\n\u001b[1;32m    252\u001b[0m \u001b[43m      \u001b[49m\u001b[43mcontext\u001b[49m\u001b[38;5;241;43m=\u001b[39;49m\u001b[43mcontext\u001b[49m\u001b[43m,\u001b[49m\n\u001b[1;32m    253\u001b[0m \u001b[43m      \u001b[49m\u001b[43mstream\u001b[49m\u001b[38;5;241;43m=\u001b[39;49m\u001b[43mstream\u001b[49m\u001b[43m,\u001b[49m\n\u001b[1;32m    254\u001b[0m \u001b[43m      \u001b[49m\u001b[43mraw\u001b[49m\u001b[38;5;241;43m=\u001b[39;49m\u001b[43mraw\u001b[49m\u001b[43m,\u001b[49m\n\u001b[1;32m    255\u001b[0m \u001b[43m      \u001b[49m\u001b[38;5;28;43mformat\u001b[39;49m\u001b[38;5;241;43m=\u001b[39;49m\u001b[38;5;28;43mformat\u001b[39;49m\u001b[43m,\u001b[49m\n\u001b[1;32m    256\u001b[0m \u001b[43m      \u001b[49m\u001b[43mimages\u001b[49m\u001b[38;5;241;43m=\u001b[39;49m\u001b[43m[\u001b[49m\u001b[43mimage\u001b[49m\u001b[43m \u001b[49m\u001b[38;5;28;43;01mfor\u001b[39;49;00m\u001b[43m \u001b[49m\u001b[43mimage\u001b[49m\u001b[43m \u001b[49m\u001b[38;5;129;43;01min\u001b[39;49;00m\u001b[43m \u001b[49m\u001b[43m_copy_images\u001b[49m\u001b[43m(\u001b[49m\u001b[43mimages\u001b[49m\u001b[43m)\u001b[49m\u001b[43m]\u001b[49m\u001b[43m \u001b[49m\u001b[38;5;28;43;01mif\u001b[39;49;00m\u001b[43m \u001b[49m\u001b[43mimages\u001b[49m\u001b[43m \u001b[49m\u001b[38;5;28;43;01melse\u001b[39;49;00m\u001b[43m \u001b[49m\u001b[38;5;28;43;01mNone\u001b[39;49;00m\u001b[43m,\u001b[49m\n\u001b[1;32m    257\u001b[0m \u001b[43m      \u001b[49m\u001b[43moptions\u001b[49m\u001b[38;5;241;43m=\u001b[39;49m\u001b[43moptions\u001b[49m\u001b[43m,\u001b[49m\n\u001b[1;32m    258\u001b[0m \u001b[43m      \u001b[49m\u001b[43mkeep_alive\u001b[49m\u001b[38;5;241;43m=\u001b[39;49m\u001b[43mkeep_alive\u001b[49m\u001b[43m,\u001b[49m\n\u001b[1;32m    259\u001b[0m \u001b[43m    \u001b[49m\u001b[43m)\u001b[49m\u001b[38;5;241;43m.\u001b[39;49m\u001b[43mmodel_dump\u001b[49m\u001b[43m(\u001b[49m\u001b[43mexclude_none\u001b[49m\u001b[38;5;241;43m=\u001b[39;49m\u001b[38;5;28;43;01mTrue\u001b[39;49;00m\u001b[43m)\u001b[49m\u001b[43m,\u001b[49m\n\u001b[1;32m    260\u001b[0m \u001b[43m    \u001b[49m\u001b[43mstream\u001b[49m\u001b[38;5;241;43m=\u001b[39;49m\u001b[43mstream\u001b[49m\u001b[43m,\u001b[49m\n\u001b[1;32m    261\u001b[0m \u001b[43m  \u001b[49m\u001b[43m)\u001b[49m\n",
      "File \u001b[0;32m~/opt/anaconda3/envs/evident/lib/python3.10/site-packages/ollama/_client.py:178\u001b[0m, in \u001b[0;36mClient._request\u001b[0;34m(self, cls, stream, *args, **kwargs)\u001b[0m\n\u001b[1;32m    174\u001b[0m         \u001b[38;5;28;01myield\u001b[39;00m \u001b[38;5;28mcls\u001b[39m(\u001b[38;5;241m*\u001b[39m\u001b[38;5;241m*\u001b[39mpart)\n\u001b[1;32m    176\u001b[0m   \u001b[38;5;28;01mreturn\u001b[39;00m inner()\n\u001b[0;32m--> 178\u001b[0m \u001b[38;5;28;01mreturn\u001b[39;00m \u001b[38;5;28mcls\u001b[39m(\u001b[38;5;241m*\u001b[39m\u001b[38;5;241m*\u001b[39m\u001b[38;5;28;43mself\u001b[39;49m\u001b[38;5;241;43m.\u001b[39;49m\u001b[43m_request_raw\u001b[49m\u001b[43m(\u001b[49m\u001b[38;5;241;43m*\u001b[39;49m\u001b[43margs\u001b[49m\u001b[43m,\u001b[49m\u001b[43m \u001b[49m\u001b[38;5;241;43m*\u001b[39;49m\u001b[38;5;241;43m*\u001b[39;49m\u001b[43mkwargs\u001b[49m\u001b[43m)\u001b[49m\u001b[38;5;241m.\u001b[39mjson())\n",
      "File \u001b[0;32m~/opt/anaconda3/envs/evident/lib/python3.10/site-packages/ollama/_client.py:118\u001b[0m, in \u001b[0;36mClient._request_raw\u001b[0;34m(self, *args, **kwargs)\u001b[0m\n\u001b[1;32m    116\u001b[0m \u001b[38;5;28;01mdef\u001b[39;00m\u001b[38;5;250m \u001b[39m\u001b[38;5;21m_request_raw\u001b[39m(\u001b[38;5;28mself\u001b[39m, \u001b[38;5;241m*\u001b[39margs, \u001b[38;5;241m*\u001b[39m\u001b[38;5;241m*\u001b[39mkwargs):\n\u001b[1;32m    117\u001b[0m   \u001b[38;5;28;01mtry\u001b[39;00m:\n\u001b[0;32m--> 118\u001b[0m     r \u001b[38;5;241m=\u001b[39m \u001b[38;5;28;43mself\u001b[39;49m\u001b[38;5;241;43m.\u001b[39;49m\u001b[43m_client\u001b[49m\u001b[38;5;241;43m.\u001b[39;49m\u001b[43mrequest\u001b[49m\u001b[43m(\u001b[49m\u001b[38;5;241;43m*\u001b[39;49m\u001b[43margs\u001b[49m\u001b[43m,\u001b[49m\u001b[43m \u001b[49m\u001b[38;5;241;43m*\u001b[39;49m\u001b[38;5;241;43m*\u001b[39;49m\u001b[43mkwargs\u001b[49m\u001b[43m)\u001b[49m\n\u001b[1;32m    119\u001b[0m     r\u001b[38;5;241m.\u001b[39mraise_for_status()\n\u001b[1;32m    120\u001b[0m     \u001b[38;5;28;01mreturn\u001b[39;00m r\n",
      "File \u001b[0;32m~/opt/anaconda3/envs/evident/lib/python3.10/site-packages/httpx/_client.py:825\u001b[0m, in \u001b[0;36mClient.request\u001b[0;34m(self, method, url, content, data, files, json, params, headers, cookies, auth, follow_redirects, timeout, extensions)\u001b[0m\n\u001b[1;32m    810\u001b[0m     warnings\u001b[38;5;241m.\u001b[39mwarn(message, \u001b[38;5;167;01mDeprecationWarning\u001b[39;00m, stacklevel\u001b[38;5;241m=\u001b[39m\u001b[38;5;241m2\u001b[39m)\n\u001b[1;32m    812\u001b[0m request \u001b[38;5;241m=\u001b[39m \u001b[38;5;28mself\u001b[39m\u001b[38;5;241m.\u001b[39mbuild_request(\n\u001b[1;32m    813\u001b[0m     method\u001b[38;5;241m=\u001b[39mmethod,\n\u001b[1;32m    814\u001b[0m     url\u001b[38;5;241m=\u001b[39murl,\n\u001b[0;32m   (...)\u001b[0m\n\u001b[1;32m    823\u001b[0m     extensions\u001b[38;5;241m=\u001b[39mextensions,\n\u001b[1;32m    824\u001b[0m )\n\u001b[0;32m--> 825\u001b[0m \u001b[38;5;28;01mreturn\u001b[39;00m \u001b[38;5;28;43mself\u001b[39;49m\u001b[38;5;241;43m.\u001b[39;49m\u001b[43msend\u001b[49m\u001b[43m(\u001b[49m\u001b[43mrequest\u001b[49m\u001b[43m,\u001b[49m\u001b[43m \u001b[49m\u001b[43mauth\u001b[49m\u001b[38;5;241;43m=\u001b[39;49m\u001b[43mauth\u001b[49m\u001b[43m,\u001b[49m\u001b[43m \u001b[49m\u001b[43mfollow_redirects\u001b[49m\u001b[38;5;241;43m=\u001b[39;49m\u001b[43mfollow_redirects\u001b[49m\u001b[43m)\u001b[49m\n",
      "File \u001b[0;32m~/opt/anaconda3/envs/evident/lib/python3.10/site-packages/httpx/_client.py:914\u001b[0m, in \u001b[0;36mClient.send\u001b[0;34m(self, request, stream, auth, follow_redirects)\u001b[0m\n\u001b[1;32m    910\u001b[0m \u001b[38;5;28mself\u001b[39m\u001b[38;5;241m.\u001b[39m_set_timeout(request)\n\u001b[1;32m    912\u001b[0m auth \u001b[38;5;241m=\u001b[39m \u001b[38;5;28mself\u001b[39m\u001b[38;5;241m.\u001b[39m_build_request_auth(request, auth)\n\u001b[0;32m--> 914\u001b[0m response \u001b[38;5;241m=\u001b[39m \u001b[38;5;28;43mself\u001b[39;49m\u001b[38;5;241;43m.\u001b[39;49m\u001b[43m_send_handling_auth\u001b[49m\u001b[43m(\u001b[49m\n\u001b[1;32m    915\u001b[0m \u001b[43m    \u001b[49m\u001b[43mrequest\u001b[49m\u001b[43m,\u001b[49m\n\u001b[1;32m    916\u001b[0m \u001b[43m    \u001b[49m\u001b[43mauth\u001b[49m\u001b[38;5;241;43m=\u001b[39;49m\u001b[43mauth\u001b[49m\u001b[43m,\u001b[49m\n\u001b[1;32m    917\u001b[0m \u001b[43m    \u001b[49m\u001b[43mfollow_redirects\u001b[49m\u001b[38;5;241;43m=\u001b[39;49m\u001b[43mfollow_redirects\u001b[49m\u001b[43m,\u001b[49m\n\u001b[1;32m    918\u001b[0m \u001b[43m    \u001b[49m\u001b[43mhistory\u001b[49m\u001b[38;5;241;43m=\u001b[39;49m\u001b[43m[\u001b[49m\u001b[43m]\u001b[49m\u001b[43m,\u001b[49m\n\u001b[1;32m    919\u001b[0m \u001b[43m\u001b[49m\u001b[43m)\u001b[49m\n\u001b[1;32m    920\u001b[0m \u001b[38;5;28;01mtry\u001b[39;00m:\n\u001b[1;32m    921\u001b[0m     \u001b[38;5;28;01mif\u001b[39;00m \u001b[38;5;129;01mnot\u001b[39;00m stream:\n",
      "File \u001b[0;32m~/opt/anaconda3/envs/evident/lib/python3.10/site-packages/httpx/_client.py:942\u001b[0m, in \u001b[0;36mClient._send_handling_auth\u001b[0;34m(self, request, auth, follow_redirects, history)\u001b[0m\n\u001b[1;32m    939\u001b[0m request \u001b[38;5;241m=\u001b[39m \u001b[38;5;28mnext\u001b[39m(auth_flow)\n\u001b[1;32m    941\u001b[0m \u001b[38;5;28;01mwhile\u001b[39;00m \u001b[38;5;28;01mTrue\u001b[39;00m:\n\u001b[0;32m--> 942\u001b[0m     response \u001b[38;5;241m=\u001b[39m \u001b[38;5;28;43mself\u001b[39;49m\u001b[38;5;241;43m.\u001b[39;49m\u001b[43m_send_handling_redirects\u001b[49m\u001b[43m(\u001b[49m\n\u001b[1;32m    943\u001b[0m \u001b[43m        \u001b[49m\u001b[43mrequest\u001b[49m\u001b[43m,\u001b[49m\n\u001b[1;32m    944\u001b[0m \u001b[43m        \u001b[49m\u001b[43mfollow_redirects\u001b[49m\u001b[38;5;241;43m=\u001b[39;49m\u001b[43mfollow_redirects\u001b[49m\u001b[43m,\u001b[49m\n\u001b[1;32m    945\u001b[0m \u001b[43m        \u001b[49m\u001b[43mhistory\u001b[49m\u001b[38;5;241;43m=\u001b[39;49m\u001b[43mhistory\u001b[49m\u001b[43m,\u001b[49m\n\u001b[1;32m    946\u001b[0m \u001b[43m    \u001b[49m\u001b[43m)\u001b[49m\n\u001b[1;32m    947\u001b[0m     \u001b[38;5;28;01mtry\u001b[39;00m:\n\u001b[1;32m    948\u001b[0m         \u001b[38;5;28;01mtry\u001b[39;00m:\n",
      "File \u001b[0;32m~/opt/anaconda3/envs/evident/lib/python3.10/site-packages/httpx/_client.py:979\u001b[0m, in \u001b[0;36mClient._send_handling_redirects\u001b[0;34m(self, request, follow_redirects, history)\u001b[0m\n\u001b[1;32m    976\u001b[0m \u001b[38;5;28;01mfor\u001b[39;00m hook \u001b[38;5;129;01min\u001b[39;00m \u001b[38;5;28mself\u001b[39m\u001b[38;5;241m.\u001b[39m_event_hooks[\u001b[38;5;124m\"\u001b[39m\u001b[38;5;124mrequest\u001b[39m\u001b[38;5;124m\"\u001b[39m]:\n\u001b[1;32m    977\u001b[0m     hook(request)\n\u001b[0;32m--> 979\u001b[0m response \u001b[38;5;241m=\u001b[39m \u001b[38;5;28;43mself\u001b[39;49m\u001b[38;5;241;43m.\u001b[39;49m\u001b[43m_send_single_request\u001b[49m\u001b[43m(\u001b[49m\u001b[43mrequest\u001b[49m\u001b[43m)\u001b[49m\n\u001b[1;32m    980\u001b[0m \u001b[38;5;28;01mtry\u001b[39;00m:\n\u001b[1;32m    981\u001b[0m     \u001b[38;5;28;01mfor\u001b[39;00m hook \u001b[38;5;129;01min\u001b[39;00m \u001b[38;5;28mself\u001b[39m\u001b[38;5;241m.\u001b[39m_event_hooks[\u001b[38;5;124m\"\u001b[39m\u001b[38;5;124mresponse\u001b[39m\u001b[38;5;124m\"\u001b[39m]:\n",
      "File \u001b[0;32m~/opt/anaconda3/envs/evident/lib/python3.10/site-packages/httpx/_client.py:1014\u001b[0m, in \u001b[0;36mClient._send_single_request\u001b[0;34m(self, request)\u001b[0m\n\u001b[1;32m   1009\u001b[0m     \u001b[38;5;28;01mraise\u001b[39;00m \u001b[38;5;167;01mRuntimeError\u001b[39;00m(\n\u001b[1;32m   1010\u001b[0m         \u001b[38;5;124m\"\u001b[39m\u001b[38;5;124mAttempted to send an async request with a sync Client instance.\u001b[39m\u001b[38;5;124m\"\u001b[39m\n\u001b[1;32m   1011\u001b[0m     )\n\u001b[1;32m   1013\u001b[0m \u001b[38;5;28;01mwith\u001b[39;00m request_context(request\u001b[38;5;241m=\u001b[39mrequest):\n\u001b[0;32m-> 1014\u001b[0m     response \u001b[38;5;241m=\u001b[39m \u001b[43mtransport\u001b[49m\u001b[38;5;241;43m.\u001b[39;49m\u001b[43mhandle_request\u001b[49m\u001b[43m(\u001b[49m\u001b[43mrequest\u001b[49m\u001b[43m)\u001b[49m\n\u001b[1;32m   1016\u001b[0m \u001b[38;5;28;01massert\u001b[39;00m \u001b[38;5;28misinstance\u001b[39m(response\u001b[38;5;241m.\u001b[39mstream, SyncByteStream)\n\u001b[1;32m   1018\u001b[0m response\u001b[38;5;241m.\u001b[39mrequest \u001b[38;5;241m=\u001b[39m request\n",
      "File \u001b[0;32m~/opt/anaconda3/envs/evident/lib/python3.10/site-packages/httpx/_transports/default.py:250\u001b[0m, in \u001b[0;36mHTTPTransport.handle_request\u001b[0;34m(self, request)\u001b[0m\n\u001b[1;32m    237\u001b[0m req \u001b[38;5;241m=\u001b[39m httpcore\u001b[38;5;241m.\u001b[39mRequest(\n\u001b[1;32m    238\u001b[0m     method\u001b[38;5;241m=\u001b[39mrequest\u001b[38;5;241m.\u001b[39mmethod,\n\u001b[1;32m    239\u001b[0m     url\u001b[38;5;241m=\u001b[39mhttpcore\u001b[38;5;241m.\u001b[39mURL(\n\u001b[0;32m   (...)\u001b[0m\n\u001b[1;32m    247\u001b[0m     extensions\u001b[38;5;241m=\u001b[39mrequest\u001b[38;5;241m.\u001b[39mextensions,\n\u001b[1;32m    248\u001b[0m )\n\u001b[1;32m    249\u001b[0m \u001b[38;5;28;01mwith\u001b[39;00m map_httpcore_exceptions():\n\u001b[0;32m--> 250\u001b[0m     resp \u001b[38;5;241m=\u001b[39m \u001b[38;5;28;43mself\u001b[39;49m\u001b[38;5;241;43m.\u001b[39;49m\u001b[43m_pool\u001b[49m\u001b[38;5;241;43m.\u001b[39;49m\u001b[43mhandle_request\u001b[49m\u001b[43m(\u001b[49m\u001b[43mreq\u001b[49m\u001b[43m)\u001b[49m\n\u001b[1;32m    252\u001b[0m \u001b[38;5;28;01massert\u001b[39;00m \u001b[38;5;28misinstance\u001b[39m(resp\u001b[38;5;241m.\u001b[39mstream, typing\u001b[38;5;241m.\u001b[39mIterable)\n\u001b[1;32m    254\u001b[0m \u001b[38;5;28;01mreturn\u001b[39;00m Response(\n\u001b[1;32m    255\u001b[0m     status_code\u001b[38;5;241m=\u001b[39mresp\u001b[38;5;241m.\u001b[39mstatus,\n\u001b[1;32m    256\u001b[0m     headers\u001b[38;5;241m=\u001b[39mresp\u001b[38;5;241m.\u001b[39mheaders,\n\u001b[1;32m    257\u001b[0m     stream\u001b[38;5;241m=\u001b[39mResponseStream(resp\u001b[38;5;241m.\u001b[39mstream),\n\u001b[1;32m    258\u001b[0m     extensions\u001b[38;5;241m=\u001b[39mresp\u001b[38;5;241m.\u001b[39mextensions,\n\u001b[1;32m    259\u001b[0m )\n",
      "File \u001b[0;32m~/opt/anaconda3/envs/evident/lib/python3.10/site-packages/httpcore/_sync/connection_pool.py:256\u001b[0m, in \u001b[0;36mConnectionPool.handle_request\u001b[0;34m(self, request)\u001b[0m\n\u001b[1;32m    253\u001b[0m         closing \u001b[38;5;241m=\u001b[39m \u001b[38;5;28mself\u001b[39m\u001b[38;5;241m.\u001b[39m_assign_requests_to_connections()\n\u001b[1;32m    255\u001b[0m     \u001b[38;5;28mself\u001b[39m\u001b[38;5;241m.\u001b[39m_close_connections(closing)\n\u001b[0;32m--> 256\u001b[0m     \u001b[38;5;28;01mraise\u001b[39;00m exc \u001b[38;5;28;01mfrom\u001b[39;00m\u001b[38;5;250m \u001b[39m\u001b[38;5;28;01mNone\u001b[39;00m\n\u001b[1;32m    258\u001b[0m \u001b[38;5;66;03m# Return the response. Note that in this case we still have to manage\u001b[39;00m\n\u001b[1;32m    259\u001b[0m \u001b[38;5;66;03m# the point at which the response is closed.\u001b[39;00m\n\u001b[1;32m    260\u001b[0m \u001b[38;5;28;01massert\u001b[39;00m \u001b[38;5;28misinstance\u001b[39m(response\u001b[38;5;241m.\u001b[39mstream, typing\u001b[38;5;241m.\u001b[39mIterable)\n",
      "File \u001b[0;32m~/opt/anaconda3/envs/evident/lib/python3.10/site-packages/httpcore/_sync/connection_pool.py:236\u001b[0m, in \u001b[0;36mConnectionPool.handle_request\u001b[0;34m(self, request)\u001b[0m\n\u001b[1;32m    232\u001b[0m connection \u001b[38;5;241m=\u001b[39m pool_request\u001b[38;5;241m.\u001b[39mwait_for_connection(timeout\u001b[38;5;241m=\u001b[39mtimeout)\n\u001b[1;32m    234\u001b[0m \u001b[38;5;28;01mtry\u001b[39;00m:\n\u001b[1;32m    235\u001b[0m     \u001b[38;5;66;03m# Send the request on the assigned connection.\u001b[39;00m\n\u001b[0;32m--> 236\u001b[0m     response \u001b[38;5;241m=\u001b[39m \u001b[43mconnection\u001b[49m\u001b[38;5;241;43m.\u001b[39;49m\u001b[43mhandle_request\u001b[49m\u001b[43m(\u001b[49m\n\u001b[1;32m    237\u001b[0m \u001b[43m        \u001b[49m\u001b[43mpool_request\u001b[49m\u001b[38;5;241;43m.\u001b[39;49m\u001b[43mrequest\u001b[49m\n\u001b[1;32m    238\u001b[0m \u001b[43m    \u001b[49m\u001b[43m)\u001b[49m\n\u001b[1;32m    239\u001b[0m \u001b[38;5;28;01mexcept\u001b[39;00m ConnectionNotAvailable:\n\u001b[1;32m    240\u001b[0m     \u001b[38;5;66;03m# In some cases a connection may initially be available to\u001b[39;00m\n\u001b[1;32m    241\u001b[0m     \u001b[38;5;66;03m# handle a request, but then become unavailable.\u001b[39;00m\n\u001b[1;32m    242\u001b[0m     \u001b[38;5;66;03m#\u001b[39;00m\n\u001b[1;32m    243\u001b[0m     \u001b[38;5;66;03m# In this case we clear the connection and try again.\u001b[39;00m\n\u001b[1;32m    244\u001b[0m     pool_request\u001b[38;5;241m.\u001b[39mclear_connection()\n",
      "File \u001b[0;32m~/opt/anaconda3/envs/evident/lib/python3.10/site-packages/httpcore/_sync/connection.py:103\u001b[0m, in \u001b[0;36mHTTPConnection.handle_request\u001b[0;34m(self, request)\u001b[0m\n\u001b[1;32m    100\u001b[0m     \u001b[38;5;28mself\u001b[39m\u001b[38;5;241m.\u001b[39m_connect_failed \u001b[38;5;241m=\u001b[39m \u001b[38;5;28;01mTrue\u001b[39;00m\n\u001b[1;32m    101\u001b[0m     \u001b[38;5;28;01mraise\u001b[39;00m exc\n\u001b[0;32m--> 103\u001b[0m \u001b[38;5;28;01mreturn\u001b[39;00m \u001b[38;5;28;43mself\u001b[39;49m\u001b[38;5;241;43m.\u001b[39;49m\u001b[43m_connection\u001b[49m\u001b[38;5;241;43m.\u001b[39;49m\u001b[43mhandle_request\u001b[49m\u001b[43m(\u001b[49m\u001b[43mrequest\u001b[49m\u001b[43m)\u001b[49m\n",
      "File \u001b[0;32m~/opt/anaconda3/envs/evident/lib/python3.10/site-packages/httpcore/_sync/http11.py:136\u001b[0m, in \u001b[0;36mHTTP11Connection.handle_request\u001b[0;34m(self, request)\u001b[0m\n\u001b[1;32m    134\u001b[0m     \u001b[38;5;28;01mwith\u001b[39;00m Trace(\u001b[38;5;124m\"\u001b[39m\u001b[38;5;124mresponse_closed\u001b[39m\u001b[38;5;124m\"\u001b[39m, logger, request) \u001b[38;5;28;01mas\u001b[39;00m trace:\n\u001b[1;32m    135\u001b[0m         \u001b[38;5;28mself\u001b[39m\u001b[38;5;241m.\u001b[39m_response_closed()\n\u001b[0;32m--> 136\u001b[0m \u001b[38;5;28;01mraise\u001b[39;00m exc\n",
      "File \u001b[0;32m~/opt/anaconda3/envs/evident/lib/python3.10/site-packages/httpcore/_sync/http11.py:106\u001b[0m, in \u001b[0;36mHTTP11Connection.handle_request\u001b[0;34m(self, request)\u001b[0m\n\u001b[1;32m     95\u001b[0m     \u001b[38;5;28;01mpass\u001b[39;00m\n\u001b[1;32m     97\u001b[0m \u001b[38;5;28;01mwith\u001b[39;00m Trace(\n\u001b[1;32m     98\u001b[0m     \u001b[38;5;124m\"\u001b[39m\u001b[38;5;124mreceive_response_headers\u001b[39m\u001b[38;5;124m\"\u001b[39m, logger, request, kwargs\n\u001b[1;32m     99\u001b[0m ) \u001b[38;5;28;01mas\u001b[39;00m trace:\n\u001b[1;32m    100\u001b[0m     (\n\u001b[1;32m    101\u001b[0m         http_version,\n\u001b[1;32m    102\u001b[0m         status,\n\u001b[1;32m    103\u001b[0m         reason_phrase,\n\u001b[1;32m    104\u001b[0m         headers,\n\u001b[1;32m    105\u001b[0m         trailing_data,\n\u001b[0;32m--> 106\u001b[0m     ) \u001b[38;5;241m=\u001b[39m \u001b[38;5;28;43mself\u001b[39;49m\u001b[38;5;241;43m.\u001b[39;49m\u001b[43m_receive_response_headers\u001b[49m\u001b[43m(\u001b[49m\u001b[38;5;241;43m*\u001b[39;49m\u001b[38;5;241;43m*\u001b[39;49m\u001b[43mkwargs\u001b[49m\u001b[43m)\u001b[49m\n\u001b[1;32m    107\u001b[0m     trace\u001b[38;5;241m.\u001b[39mreturn_value \u001b[38;5;241m=\u001b[39m (\n\u001b[1;32m    108\u001b[0m         http_version,\n\u001b[1;32m    109\u001b[0m         status,\n\u001b[1;32m    110\u001b[0m         reason_phrase,\n\u001b[1;32m    111\u001b[0m         headers,\n\u001b[1;32m    112\u001b[0m     )\n\u001b[1;32m    114\u001b[0m network_stream \u001b[38;5;241m=\u001b[39m \u001b[38;5;28mself\u001b[39m\u001b[38;5;241m.\u001b[39m_network_stream\n",
      "File \u001b[0;32m~/opt/anaconda3/envs/evident/lib/python3.10/site-packages/httpcore/_sync/http11.py:177\u001b[0m, in \u001b[0;36mHTTP11Connection._receive_response_headers\u001b[0;34m(self, request)\u001b[0m\n\u001b[1;32m    174\u001b[0m timeout \u001b[38;5;241m=\u001b[39m timeouts\u001b[38;5;241m.\u001b[39mget(\u001b[38;5;124m\"\u001b[39m\u001b[38;5;124mread\u001b[39m\u001b[38;5;124m\"\u001b[39m, \u001b[38;5;28;01mNone\u001b[39;00m)\n\u001b[1;32m    176\u001b[0m \u001b[38;5;28;01mwhile\u001b[39;00m \u001b[38;5;28;01mTrue\u001b[39;00m:\n\u001b[0;32m--> 177\u001b[0m     event \u001b[38;5;241m=\u001b[39m \u001b[38;5;28;43mself\u001b[39;49m\u001b[38;5;241;43m.\u001b[39;49m\u001b[43m_receive_event\u001b[49m\u001b[43m(\u001b[49m\u001b[43mtimeout\u001b[49m\u001b[38;5;241;43m=\u001b[39;49m\u001b[43mtimeout\u001b[49m\u001b[43m)\u001b[49m\n\u001b[1;32m    178\u001b[0m     \u001b[38;5;28;01mif\u001b[39;00m \u001b[38;5;28misinstance\u001b[39m(event, h11\u001b[38;5;241m.\u001b[39mResponse):\n\u001b[1;32m    179\u001b[0m         \u001b[38;5;28;01mbreak\u001b[39;00m\n",
      "File \u001b[0;32m~/opt/anaconda3/envs/evident/lib/python3.10/site-packages/httpcore/_sync/http11.py:217\u001b[0m, in \u001b[0;36mHTTP11Connection._receive_event\u001b[0;34m(self, timeout)\u001b[0m\n\u001b[1;32m    214\u001b[0m     event \u001b[38;5;241m=\u001b[39m \u001b[38;5;28mself\u001b[39m\u001b[38;5;241m.\u001b[39m_h11_state\u001b[38;5;241m.\u001b[39mnext_event()\n\u001b[1;32m    216\u001b[0m \u001b[38;5;28;01mif\u001b[39;00m event \u001b[38;5;129;01mis\u001b[39;00m h11\u001b[38;5;241m.\u001b[39mNEED_DATA:\n\u001b[0;32m--> 217\u001b[0m     data \u001b[38;5;241m=\u001b[39m \u001b[38;5;28;43mself\u001b[39;49m\u001b[38;5;241;43m.\u001b[39;49m\u001b[43m_network_stream\u001b[49m\u001b[38;5;241;43m.\u001b[39;49m\u001b[43mread\u001b[49m\u001b[43m(\u001b[49m\n\u001b[1;32m    218\u001b[0m \u001b[43m        \u001b[49m\u001b[38;5;28;43mself\u001b[39;49m\u001b[38;5;241;43m.\u001b[39;49m\u001b[43mREAD_NUM_BYTES\u001b[49m\u001b[43m,\u001b[49m\u001b[43m \u001b[49m\u001b[43mtimeout\u001b[49m\u001b[38;5;241;43m=\u001b[39;49m\u001b[43mtimeout\u001b[49m\n\u001b[1;32m    219\u001b[0m \u001b[43m    \u001b[49m\u001b[43m)\u001b[49m\n\u001b[1;32m    221\u001b[0m     \u001b[38;5;66;03m# If we feed this case through h11 we'll raise an exception like:\u001b[39;00m\n\u001b[1;32m    222\u001b[0m     \u001b[38;5;66;03m#\u001b[39;00m\n\u001b[1;32m    223\u001b[0m     \u001b[38;5;66;03m#     httpcore.RemoteProtocolError: can't handle event type\u001b[39;00m\n\u001b[0;32m   (...)\u001b[0m\n\u001b[1;32m    227\u001b[0m     \u001b[38;5;66;03m# perspective. Instead we handle this case distinctly and treat\u001b[39;00m\n\u001b[1;32m    228\u001b[0m     \u001b[38;5;66;03m# it as a ConnectError.\u001b[39;00m\n\u001b[1;32m    229\u001b[0m     \u001b[38;5;28;01mif\u001b[39;00m data \u001b[38;5;241m==\u001b[39m \u001b[38;5;124mb\u001b[39m\u001b[38;5;124m\"\u001b[39m\u001b[38;5;124m\"\u001b[39m \u001b[38;5;129;01mand\u001b[39;00m \u001b[38;5;28mself\u001b[39m\u001b[38;5;241m.\u001b[39m_h11_state\u001b[38;5;241m.\u001b[39mtheir_state \u001b[38;5;241m==\u001b[39m h11\u001b[38;5;241m.\u001b[39mSEND_RESPONSE:\n",
      "File \u001b[0;32m~/opt/anaconda3/envs/evident/lib/python3.10/site-packages/httpcore/_backends/sync.py:128\u001b[0m, in \u001b[0;36mSyncStream.read\u001b[0;34m(self, max_bytes, timeout)\u001b[0m\n\u001b[1;32m    126\u001b[0m \u001b[38;5;28;01mwith\u001b[39;00m map_exceptions(exc_map):\n\u001b[1;32m    127\u001b[0m     \u001b[38;5;28mself\u001b[39m\u001b[38;5;241m.\u001b[39m_sock\u001b[38;5;241m.\u001b[39msettimeout(timeout)\n\u001b[0;32m--> 128\u001b[0m     \u001b[38;5;28;01mreturn\u001b[39;00m \u001b[38;5;28;43mself\u001b[39;49m\u001b[38;5;241;43m.\u001b[39;49m\u001b[43m_sock\u001b[49m\u001b[38;5;241;43m.\u001b[39;49m\u001b[43mrecv\u001b[49m\u001b[43m(\u001b[49m\u001b[43mmax_bytes\u001b[49m\u001b[43m)\u001b[49m\n",
      "\u001b[0;31mKeyboardInterrupt\u001b[0m: "
     ]
    }
   ],
   "source": [
    "all_recommendations = scan_pdf(pdf_path)"
   ]
  },
  {
   "cell_type": "code",
   "execution_count": 106,
   "id": "1b05e5140ecfbcc0",
   "metadata": {
    "ExecuteTime": {
     "end_time": "2025-04-03T20:03:43.176579Z",
     "start_time": "2025-04-03T15:33:44.032792Z"
    }
   },
   "outputs": [],
   "source": [
    "# remove the following\n",
    "to_remove = [\"Here is the extracted recommendation list in CSV format:\\n\\n\", \"\\nNote: The strength of recommendations and level of confidence in estimates of effect may vary depending on the specific guideline document and the context in which they are used. These recommendations are based on the provided text and may not reflect the full range of recommendations or evidence available for each condition.\", \"\\nNote that some recommendations are conditional or have a low level of confidence in estimates of effect.\", \"\\nNote: The recommendations are based on the provided guideline text.\"]\n",
    "\n",
    "recommendations_df = pd.DataFrame()\n",
    "for i, rec in enumerate(all_recommendations):\n",
    "    for item in to_remove:\n",
    "        rec = rec.replace(item, \"\")\n",
    "    # convert to csv\n",
    "    try:\n",
    "        df = pd.read_csv(StringIO(rec), header=None, quotechar=\"'\", skipinitialspace=True)\n",
    "    #  print error if notcsv\n",
    "    except pd.errors.ParserError:\n",
    "        print(f\"Error parsing CSV on page {i}:\\n {rec}\")\n",
    "        continue\n",
    "\n",
    "    df.columns = ['id', 'recommendation', 'class', 'LOE']\n",
    "\n",
    "    # append\n",
    "    recommendations_df = pd.concat([recommendations_df, df], ignore_index=True)\n",
    "\n"
   ]
  },
  {
   "cell_type": "code",
   "execution_count": 107,
   "id": "950f955398b02284",
   "metadata": {
    "ExecuteTime": {
     "end_time": "2025-04-03T20:03:43.179019Z",
     "start_time": "2025-04-03T15:33:44.735496Z"
    }
   },
   "outputs": [
    {
     "data": {
      "text/html": [
       "<div>\n",
       "<style scoped>\n",
       "    .dataframe tbody tr th:only-of-type {\n",
       "        vertical-align: middle;\n",
       "    }\n",
       "\n",
       "    .dataframe tbody tr th {\n",
       "        vertical-align: top;\n",
       "    }\n",
       "\n",
       "    .dataframe thead th {\n",
       "        text-align: right;\n",
       "    }\n",
       "</style>\n",
       "<table border=\"1\" class=\"dataframe\">\n",
       "  <thead>\n",
       "    <tr style=\"text-align: right;\">\n",
       "      <th></th>\n",
       "      <th>id</th>\n",
       "      <th>recommendation</th>\n",
       "      <th>class</th>\n",
       "      <th>LOE</th>\n",
       "    </tr>\n",
       "  </thead>\n",
       "  <tbody>\n",
       "    <tr>\n",
       "      <th>0</th>\n",
       "      <td>0</td>\n",
       "      <td>Should Patients with IPF Be Treated with Antic...</td>\n",
       "      <td>conditional recommendation</td>\n",
       "      <td>low</td>\n",
       "    </tr>\n",
       "    <tr>\n",
       "      <th>1</th>\n",
       "      <td>1</td>\n",
       "      <td>Should Patients with IPF Be Treated with Imati...</td>\n",
       "      <td>conditional recommendation against</td>\n",
       "      <td>moderate</td>\n",
       "    </tr>\n",
       "    <tr>\n",
       "      <th>2</th>\n",
       "      <td>2</td>\n",
       "      <td>Should Patients with IPF Be Treated with Combi...</td>\n",
       "      <td>conditional recommendation</td>\n",
       "      <td>low</td>\n",
       "    </tr>\n",
       "    <tr>\n",
       "      <th>3</th>\n",
       "      <td>3</td>\n",
       "      <td>Should Patients with IPF Be Treated with Ambri...</td>\n",
       "      <td>conditional recommendation against</td>\n",
       "      <td>moderate</td>\n",
       "    </tr>\n",
       "    <tr>\n",
       "      <th>4</th>\n",
       "      <td>4</td>\n",
       "      <td>Should Patients with IPF Be Treated with Ninte...</td>\n",
       "      <td>strong recommendation</td>\n",
       "      <td>high</td>\n",
       "    </tr>\n",
       "    <tr>\n",
       "      <th>...</th>\n",
       "      <td>...</td>\n",
       "      <td>...</td>\n",
       "      <td>...</td>\n",
       "      <td>...</td>\n",
       "    </tr>\n",
       "    <tr>\n",
       "      <th>77</th>\n",
       "      <td>5</td>\n",
       "      <td>Lung transplantation for patients with idiopat...</td>\n",
       "      <td>conditional recommendation</td>\n",
       "      <td>moderate</td>\n",
       "    </tr>\n",
       "    <tr>\n",
       "      <th>78</th>\n",
       "      <td>6</td>\n",
       "      <td>Bilateral lung transplantation is preferred ov...</td>\n",
       "      <td>strong recommendation</td>\n",
       "      <td>high</td>\n",
       "    </tr>\n",
       "    <tr>\n",
       "      <th>79</th>\n",
       "      <td>7</td>\n",
       "      <td>Sildenafil therapy improves walk distance in p...</td>\n",
       "      <td>strong recommendation</td>\n",
       "      <td>high</td>\n",
       "    </tr>\n",
       "    <tr>\n",
       "      <th>80</th>\n",
       "      <td>8</td>\n",
       "      <td>Inhaled prostacyclin and iloprost are recommen...</td>\n",
       "      <td>conditional recommendation</td>\n",
       "      <td>moderate</td>\n",
       "    </tr>\n",
       "    <tr>\n",
       "      <th>81</th>\n",
       "      <td>9</td>\n",
       "      <td>Riociguat is recommended for treatment of inte...</td>\n",
       "      <td>conditional recommendation</td>\n",
       "      <td>low</td>\n",
       "    </tr>\n",
       "  </tbody>\n",
       "</table>\n",
       "<p>82 rows × 4 columns</p>\n",
       "</div>"
      ],
      "text/plain": [
       "    id                                     recommendation  \\\n",
       "0    0  Should Patients with IPF Be Treated with Antic...   \n",
       "1    1  Should Patients with IPF Be Treated with Imati...   \n",
       "2    2  Should Patients with IPF Be Treated with Combi...   \n",
       "3    3  Should Patients with IPF Be Treated with Ambri...   \n",
       "4    4  Should Patients with IPF Be Treated with Ninte...   \n",
       "..  ..                                                ...   \n",
       "77   5  Lung transplantation for patients with idiopat...   \n",
       "78   6  Bilateral lung transplantation is preferred ov...   \n",
       "79   7  Sildenafil therapy improves walk distance in p...   \n",
       "80   8  Inhaled prostacyclin and iloprost are recommen...   \n",
       "81   9  Riociguat is recommended for treatment of inte...   \n",
       "\n",
       "                                 class       LOE  \n",
       "0           conditional recommendation       low  \n",
       "1   conditional recommendation against  moderate  \n",
       "2           conditional recommendation       low  \n",
       "3   conditional recommendation against  moderate  \n",
       "4                strong recommendation      high  \n",
       "..                                 ...       ...  \n",
       "77          conditional recommendation  moderate  \n",
       "78               strong recommendation      high  \n",
       "79               strong recommendation      high  \n",
       "80          conditional recommendation  moderate  \n",
       "81          conditional recommendation       low  \n",
       "\n",
       "[82 rows x 4 columns]"
      ]
     },
     "execution_count": 107,
     "metadata": {},
     "output_type": "execute_result"
    }
   ],
   "source": [
    "recommendations_df"
   ]
  },
  {
   "cell_type": "code",
   "execution_count": 108,
   "id": "5a463544c9734339",
   "metadata": {
    "ExecuteTime": {
     "end_time": "2025-04-03T20:03:43.185796Z",
     "start_time": "2025-04-03T15:33:45.571224Z"
    }
   },
   "outputs": [],
   "source": [
    "gt_path = '/Users/jk1/Downloads/CMCZFLU4_extraction - Sheet1.csv'"
   ]
  },
  {
   "cell_type": "code",
   "execution_count": 126,
   "id": "2f897de1be2128d5",
   "metadata": {
    "ExecuteTime": {
     "end_time": "2025-04-03T20:13:35.234545Z",
     "start_time": "2025-04-03T20:13:35.219189Z"
    }
   },
   "outputs": [],
   "source": [
    "interactive = False\n",
    "verbose = True"
   ]
  },
  {
   "cell_type": "code",
   "execution_count": 127,
   "id": "e60ee558e368b0de",
   "metadata": {
    "ExecuteTime": {
     "end_time": "2025-04-03T20:13:37.829314Z",
     "start_time": "2025-04-03T20:13:37.635883Z"
    }
   },
   "outputs": [
    {
     "name": "stdout",
     "output_type": "stream",
     "text": [
      "No match found for \"Patients with acute coronary syndrome should be treated with aspirin\"\n",
      "No match found for \"Patients with idiopathic pulmonary fibrosis should be treated with bosentan\"\n",
      "No match found for \"Patients with idiopathic pulmonary fibrosis should be treated with macitentan\"\n",
      "No match found for \"Patients with idiopathic pulmonary fibrosis should receive sildenafil therapy\"\n",
      "No match found for \"Patients with idiopathic pulmonary fibrosis should receive acetylcysteine therapy\"\n",
      "No match found for \"Lung transplantation for patients with idiopathic pulmonary fibrosis is recommended\"\n",
      "No match found for \"Bilateral lung transplantation is preferred over single-lung transplantation for patients with idiopathic pulmonary fibrosis\"\n",
      "No match found for \"Sildenafil therapy improves walk distance in patients with idiopathic pulmonary fibrosis\"\n",
      "No match found for \"Inhaled prostacyclin and iloprost are recommended for treatment of pulmonary hypertension secondary to lung fibrosis\"\n",
      "No match found for \"Riociguat is recommended for treatment of interstitial lung disease and pulmonary hypertension\"\n"
     ]
    },
    {
     "ename": "ZeroDivisionError",
     "evalue": "division by zero",
     "output_type": "error",
     "traceback": [
      "\u001b[0;31m---------------------------------------------------------------------------\u001b[0m",
      "\u001b[0;31mZeroDivisionError\u001b[0m                         Traceback (most recent call last)",
      "Cell \u001b[0;32mIn[127], line 4\u001b[0m\n\u001b[1;32m      1\u001b[0m \u001b[38;5;28;01mfrom\u001b[39;00m\u001b[38;5;250m \u001b[39m\u001b[38;5;21;01mevaluation_utils\u001b[39;00m\u001b[38;5;250m \u001b[39m\u001b[38;5;28;01mimport\u001b[39;00m evaluate_guideline_extraction\n\u001b[1;32m      3\u001b[0m gt_df \u001b[38;5;241m=\u001b[39m pd\u001b[38;5;241m.\u001b[39mread_csv(gt_path)\n\u001b[0;32m----> 4\u001b[0m accuracy_recommendation, accuracy_grade, accuracy_level, n_missing_recommendations, all_matches_df, missing_recommendations_df \u001b[38;5;241m=\u001b[39m \u001b[43mevaluate_guideline_extraction\u001b[49m\u001b[43m(\u001b[49m\u001b[43mdf\u001b[49m\u001b[43m,\u001b[49m\u001b[43m \u001b[49m\u001b[43mgt_df\u001b[49m\u001b[43m,\u001b[49m\u001b[43m \u001b[49m\u001b[43minteractive\u001b[49m\u001b[38;5;241;43m=\u001b[39;49m\u001b[43minteractive\u001b[49m\u001b[43m,\u001b[49m\u001b[43m \u001b[49m\u001b[43mverbose\u001b[49m\u001b[38;5;241;43m=\u001b[39;49m\u001b[43mverbose\u001b[49m\u001b[43m)\u001b[49m\n\u001b[1;32m      5\u001b[0m \u001b[38;5;28mprint\u001b[39m(\u001b[38;5;124mf\u001b[39m\u001b[38;5;124m'\u001b[39m\u001b[38;5;124mAccuracy of recommendations: \u001b[39m\u001b[38;5;132;01m{\u001b[39;00maccuracy_recommendation\u001b[38;5;132;01m:\u001b[39;00m\u001b[38;5;124m.2f\u001b[39m\u001b[38;5;132;01m}\u001b[39;00m\u001b[38;5;124m%\u001b[39m\u001b[38;5;124m'\u001b[39m)\n\u001b[1;32m      6\u001b[0m \u001b[38;5;28mprint\u001b[39m(\u001b[38;5;124mf\u001b[39m\u001b[38;5;124m'\u001b[39m\u001b[38;5;124mAccuracy of grades: \u001b[39m\u001b[38;5;132;01m{\u001b[39;00maccuracy_grade\u001b[38;5;132;01m:\u001b[39;00m\u001b[38;5;124m.2f\u001b[39m\u001b[38;5;132;01m}\u001b[39;00m\u001b[38;5;124m%\u001b[39m\u001b[38;5;124m'\u001b[39m)\n",
      "File \u001b[0;32m~/temp/evident/evaluation_utils.py:148\u001b[0m, in \u001b[0;36mevaluate_guideline_extraction\u001b[0;34m(df, gt_df, interactive, verbose)\u001b[0m\n\u001b[1;32m    146\u001b[0m \u001b[38;5;66;03m# Calculate accuracies\u001b[39;00m\n\u001b[1;32m    147\u001b[0m accuracy_recommendation \u001b[38;5;241m=\u001b[39m n_correct_recommendations \u001b[38;5;241m/\u001b[39m n_recommendations \u001b[38;5;241m*\u001b[39m \u001b[38;5;241m100\u001b[39m\n\u001b[0;32m--> 148\u001b[0m accuracy_grade \u001b[38;5;241m=\u001b[39m \u001b[43mn_correct_grades\u001b[49m\u001b[43m \u001b[49m\u001b[38;5;241;43m/\u001b[39;49m\u001b[43m \u001b[49m\u001b[43mn_correct_recommendations\u001b[49m \u001b[38;5;241m*\u001b[39m \u001b[38;5;241m100\u001b[39m\n\u001b[1;32m    149\u001b[0m accuracy_level \u001b[38;5;241m=\u001b[39m n_correct_levels \u001b[38;5;241m/\u001b[39m n_correct_recommendations \u001b[38;5;241m*\u001b[39m \u001b[38;5;241m100\u001b[39m\n\u001b[1;32m    151\u001b[0m all_matches_df \u001b[38;5;241m=\u001b[39m pd\u001b[38;5;241m.\u001b[39mDataFrame(all_matches, columns\u001b[38;5;241m=\u001b[39m[\u001b[38;5;124m'\u001b[39m\u001b[38;5;124mrecommendation_text\u001b[39m\u001b[38;5;124m'\u001b[39m, \u001b[38;5;124m'\u001b[39m\u001b[38;5;124mrecommendation_grade\u001b[39m\u001b[38;5;124m'\u001b[39m, \u001b[38;5;124m'\u001b[39m\u001b[38;5;124mrecommendation_level\u001b[39m\u001b[38;5;124m'\u001b[39m, \u001b[38;5;124m'\u001b[39m\u001b[38;5;124mmatched_text\u001b[39m\u001b[38;5;124m'\u001b[39m, \u001b[38;5;124m'\u001b[39m\u001b[38;5;124mgrade_eval\u001b[39m\u001b[38;5;124m'\u001b[39m, \u001b[38;5;124m'\u001b[39m\u001b[38;5;124mlevel_eval\u001b[39m\u001b[38;5;124m'\u001b[39m, \u001b[38;5;124m'\u001b[39m\u001b[38;5;124mmatch_score\u001b[39m\u001b[38;5;124m'\u001b[39m, \u001b[38;5;124m'\u001b[39m\u001b[38;5;124mmanual_validation\u001b[39m\u001b[38;5;124m'\u001b[39m])\n",
      "\u001b[0;31mZeroDivisionError\u001b[0m: division by zero"
     ]
    }
   ],
   "source": [
    "from evaluation_utils import evaluate_guideline_extraction\n",
    "\n",
    "gt_df = pd.read_csv(gt_path)\n",
    "accuracy_recommendation, accuracy_grade, accuracy_level, n_missing_recommendations, all_matches_df, missing_recommendations_df = evaluate_guideline_extraction(df, gt_df, interactive=interactive, verbose=verbose)\n",
    "print(f'Accuracy of recommendations: {accuracy_recommendation:.2f}%')\n",
    "print(f'Accuracy of grades: {accuracy_grade:.2f}%')\n",
    "print(f'Accuracy of levels: {accuracy_level:.2f}%')\n",
    "print(f'Number of missing recommendations: {n_missing_recommendations}')"
   ]
  },
  {
   "cell_type": "code",
   "execution_count": null,
   "id": "cfbf4eee4b5060a8",
   "metadata": {},
   "outputs": [],
   "source": []
  }
 ],
 "metadata": {
  "kernelspec": {
   "display_name": "Python 3 (ipykernel)",
   "language": "python",
   "name": "python3"
  },
  "language_info": {
   "codemirror_mode": {
    "name": "ipython",
    "version": 3
   },
   "file_extension": ".py",
   "mimetype": "text/x-python",
   "name": "python",
   "nbconvert_exporter": "python",
   "pygments_lexer": "ipython3",
   "version": "3.10.16"
  }
 },
 "nbformat": 4,
 "nbformat_minor": 5
}
