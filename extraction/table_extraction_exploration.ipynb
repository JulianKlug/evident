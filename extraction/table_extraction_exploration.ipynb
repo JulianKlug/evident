{
 "cells": [
  {
   "cell_type": "code",
   "id": "initial_id",
   "metadata": {
    "collapsed": true,
    "ExecuteTime": {
     "end_time": "2025-03-31T13:33:31.282703Z",
     "start_time": "2025-03-31T13:33:30.126362Z"
    }
   },
   "source": "import camelot",
   "outputs": [
    {
     "name": "stderr",
     "output_type": "stream",
     "text": [
      "/Users/jk1/opt/anaconda3/envs/evident/lib/python3.10/site-packages/pypdf/_crypt_providers/_cryptography.py:32: CryptographyDeprecationWarning: ARC4 has been moved to cryptography.hazmat.decrepit.ciphers.algorithms.ARC4 and will be removed from cryptography.hazmat.primitives.ciphers.algorithms in 48.0.0.\n",
      "  from cryptography.hazmat.primitives.ciphers.algorithms import AES, ARC4\n"
     ]
    }
   ],
   "execution_count": 1
  },
  {
   "metadata": {
    "ExecuteTime": {
     "end_time": "2025-03-31T14:23:26.716010Z",
     "start_time": "2025-03-31T14:23:26.712643Z"
    }
   },
   "cell_type": "code",
   "source": "pdf_path = '/Users/jk1/Downloads/Eur Respir J-2024-Bos-2301727.pdf'",
   "id": "f909af0ab1d7eb6d",
   "outputs": [],
   "execution_count": 31
  },
  {
   "metadata": {
    "ExecuteTime": {
     "end_time": "2025-03-31T14:23:27.837439Z",
     "start_time": "2025-03-31T14:23:27.337556Z"
    }
   },
   "cell_type": "code",
   "source": [
    "from gmft.pdf_bindings import PyPDFium2Document\n",
    "from gmft.auto import CroppedTable, AutoTableDetector\n",
    "\n",
    "detector = AutoTableDetector()\n",
    "\n",
    "def ingest_pdf(pdf_path) -> list[CroppedTable]:\n",
    "    doc = PyPDFium2Document(pdf_path)\n",
    "\n",
    "    tables = []\n",
    "    for page in doc:\n",
    "        tables += detector.extract(page)\n",
    "    return tables, doc"
   ],
   "id": "15493a9f82adeb25",
   "outputs": [],
   "execution_count": 32
  },
  {
   "metadata": {
    "ExecuteTime": {
     "end_time": "2025-03-31T14:23:39.906746Z",
     "start_time": "2025-03-31T14:23:28.312664Z"
    }
   },
   "cell_type": "code",
   "source": "tables, doc = ingest_pdf(pdf_path)",
   "id": "232b9a6d5e9dc052",
   "outputs": [],
   "execution_count": 33
  },
  {
   "metadata": {
    "ExecuteTime": {
     "end_time": "2025-03-31T14:23:39.921594Z",
     "start_time": "2025-03-31T14:23:39.916042Z"
    }
   },
   "cell_type": "code",
   "source": "tables",
   "id": "2420df65e57bcac6",
   "outputs": [
    {
     "data": {
      "text/plain": [
       "[<gmft.detectors.base.CroppedTable at 0x12dc3e350>,\n",
       " <gmft.detectors.base.CroppedTable at 0x12dc3dc60>,\n",
       " <gmft.detectors.base.CroppedTable at 0x12d808c40>,\n",
       " <gmft.detectors.base.CroppedTable at 0x12d809d20>,\n",
       " <gmft.detectors.base.CroppedTable at 0x12d80b280>]"
      ]
     },
     "execution_count": 34,
     "metadata": {},
     "output_type": "execute_result"
    }
   ],
   "execution_count": 34
  },
  {
   "metadata": {
    "ExecuteTime": {
     "end_time": "2025-03-31T14:23:40.301098Z",
     "start_time": "2025-03-31T14:23:39.938160Z"
    }
   },
   "cell_type": "code",
   "source": [
    "from matplotlib import pyplot as plt\n",
    "for table in tables:\n",
    "    table.visualize(figsize=None)\n",
    "    plt.show()"
   ],
   "id": "ced0f4d346da04d6",
   "outputs": [],
   "execution_count": 35
  },
  {
   "metadata": {
    "ExecuteTime": {
     "end_time": "2025-03-31T14:23:41.596305Z",
     "start_time": "2025-03-31T14:23:40.310226Z"
    }
   },
   "cell_type": "code",
   "source": [
    "from gmft.auto import AutoTableFormatter\n",
    "\n",
    "formatter = AutoTableFormatter()"
   ],
   "id": "16349215a12fd408",
   "outputs": [],
   "execution_count": 36
  },
  {
   "metadata": {
    "ExecuteTime": {
     "end_time": "2025-03-31T14:23:43.855877Z",
     "start_time": "2025-03-31T14:23:41.606293Z"
    }
   },
   "cell_type": "code",
   "source": [
    "for table in tables:\n",
    "    ft = formatter.extract(table)\n",
    "    print(ft.df().shape)"
   ],
   "id": "f58d97e2e804b725",
   "outputs": [
    {
     "name": "stdout",
     "output_type": "stream",
     "text": [
      "(3, 3)\n",
      "(6, 4)\n",
      "(2, 4)\n",
      "(2, 4)\n",
      "(3, 2)\n"
     ]
    }
   ],
   "execution_count": 37
  },
  {
   "metadata": {
    "ExecuteTime": {
     "end_time": "2025-03-31T14:23:43.894396Z",
     "start_time": "2025-03-31T14:23:43.883569Z"
    }
   },
   "cell_type": "code",
   "source": "ft.df()",
   "id": "c24b61f6f6b2a2ad",
   "outputs": [
    {
     "data": {
      "text/plain": [
       "                                  \\\n",
       "0   General future research aims   \n",
       "1                           None   \n",
       "2  Specific future research aims   \n",
       "\n",
       "                                                      \n",
       "0  • More lung cGvHD-BOS-specific studies are nee...  \n",
       "1  • Treatment effects at different disease stage...  \n",
       "2  • Combination therapy of ICS, LABA and long-ac...  "
      ],
      "text/html": [
       "<div>\n",
       "<style scoped>\n",
       "    .dataframe tbody tr th:only-of-type {\n",
       "        vertical-align: middle;\n",
       "    }\n",
       "\n",
       "    .dataframe tbody tr th {\n",
       "        vertical-align: top;\n",
       "    }\n",
       "\n",
       "    .dataframe thead th {\n",
       "        text-align: right;\n",
       "    }\n",
       "</style>\n",
       "<table border=\"1\" class=\"dataframe\">\n",
       "  <thead>\n",
       "    <tr style=\"text-align: right;\">\n",
       "      <th></th>\n",
       "      <th></th>\n",
       "      <th></th>\n",
       "    </tr>\n",
       "  </thead>\n",
       "  <tbody>\n",
       "    <tr>\n",
       "      <th>0</th>\n",
       "      <td>General future research aims</td>\n",
       "      <td>• More lung cGvHD-BOS-specific studies are nee...</td>\n",
       "    </tr>\n",
       "    <tr>\n",
       "      <th>1</th>\n",
       "      <td>None</td>\n",
       "      <td>• Treatment effects at different disease stage...</td>\n",
       "    </tr>\n",
       "    <tr>\n",
       "      <th>2</th>\n",
       "      <td>Specific future research aims</td>\n",
       "      <td>• Combination therapy of ICS, LABA and long-ac...</td>\n",
       "    </tr>\n",
       "  </tbody>\n",
       "</table>\n",
       "</div>"
      ]
     },
     "execution_count": 38,
     "metadata": {},
     "output_type": "execute_result"
    }
   ],
   "execution_count": 38
  },
  {
   "metadata": {},
   "cell_type": "code",
   "outputs": [],
   "execution_count": null,
   "source": "",
   "id": "21a06b535df94dfd"
  }
 ],
 "metadata": {
  "kernelspec": {
   "display_name": "Python 3",
   "language": "python",
   "name": "python3"
  },
  "language_info": {
   "codemirror_mode": {
    "name": "ipython",
    "version": 2
   },
   "file_extension": ".py",
   "mimetype": "text/x-python",
   "name": "python",
   "nbconvert_exporter": "python",
   "pygments_lexer": "ipython2",
   "version": "2.7.6"
  }
 },
 "nbformat": 4,
 "nbformat_minor": 5
}
