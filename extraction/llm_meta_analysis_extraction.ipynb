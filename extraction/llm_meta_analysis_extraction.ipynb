{
 "cells": [
  {
   "cell_type": "markdown",
   "metadata": {},
   "source": [
    "# Extract data for meta-analysis"
   ]
  },
  {
   "cell_type": "code",
   "execution_count": 4,
   "metadata": {},
   "outputs": [],
   "source": [
    "from ollama import Client\n",
    "from langchain_community.document_loaders import PyPDFLoader\n",
    "from ollama import Options"
   ]
  },
  {
   "cell_type": "code",
   "execution_count": 6,
   "metadata": {},
   "outputs": [],
   "source": [
    "pdf_path = '/Users/jk1/Downloads/120-neurological-intracranial_pressure-Aletreby-2021.pdf' "
   ]
  },
  {
   "cell_type": "code",
   "execution_count": 19,
   "metadata": {},
   "outputs": [],
   "source": [
    "client = Client(\n",
    "  host='http://localhost:11434',\n",
    "  headers={'x-some-header': 'some-value'}\n",
    ")"
   ]
  },
  {
   "cell_type": "code",
   "execution_count": 10,
   "metadata": {},
   "outputs": [],
   "source": [
    "MAIN_TASK = \"\"\"\n",
    "A) Est-ce que l'étude mise en pièce jointe indique (merci de répondre dans cet ordre, par des mots clés, en anglais) :\n",
    "- le type de population dont il s'agit \n",
    "- le nombre total de patients inclus\n",
    "- le setting dans lequel ont eu lieu la majorité des études (urgences, soins intensifs) \n",
    "- le nombre total d'études \n",
    "- le symptôme qui est investigué (motif de consultation), \n",
    "- quel est le diagnostic recherché\n",
    "- quel outil diagnostique est utilisé (quel type ou technique d'ultrasonographie)\n",
    "- avec quel modalité diagnostique (imagerie ou autre gold standart utilisé) il est comparé.\n",
    "Pour cette dernière partie de la réponse, merci de me ranger ces résultats dans un tableau excel avec une colonne par \"tiret\" sus-mentionné. Tu dois remplir les cases en vert si tu es confident et en jaune si tu ne l'es pas, et en rouge si tu ne sais pas\n",
    "\n",
    "B) Concernant l'étude mise en pièce jointe, Indique moi pour le diagnostic étudié\n",
    "- le nombre de fp\t\n",
    "-  le nombre de fn\n",
    "-  le nombre de tp \n",
    "-  le nombre de tn\n",
    "- la prevalence \n",
    "- la limite basse de l'intervalle de confiance de la prevalence (en pourcentage)\n",
    "- la limite haute de l'intervalle de confiance de la prevalence (en pourcentage)\n",
    "- La sensibilité moyenne (combinée, en nombre absolue de pourcentage avec 2 chiffre avant la figure) \n",
    "- la limite basse de l'intervalle de la sensibilité moyenne (combinée, en nombre absolue de pourcentage avec 2 chiffre avant la figure) \n",
    "- la limite haute de l'intervalle de la sensibilité moyenne (combinée, en nombre absolue de pourcentage avec 2 chiffre avant la figure) \n",
    "- La valeur I2 de l'hétérogenéité de la sensibilité\n",
    "- la valeur p de l'hétérogenéité de la sensibilité\n",
    "- La spécificité moyenne (combinée, en nombre absolue de pourcentage avec 2 chiffre avant la figure) \n",
    "- la limite basse de l'intervalle de la spécificité moyenne (combinée, en nombre absolue de pourcentage avec 2 chiffre avant la figure) \n",
    "- la limite haute de l'intervalle de la spécificité moyenne (combinée, en nombre absolue de pourcentage avec 2 chiffre avant la figure) \n",
    "- La valeur I2 de l'hétérogenéité de la spécificité \n",
    "- la valeur p de l'hétérogenéité de la spécificité \n",
    "- la valeur de l'AUC\n",
    "- l'intervalle de confiance de l'AUC\n",
    "Pour cette dernière partie de la réponse, merci de me ranger ces résultats dans un tableau excel avec une colonne par \"tiret\" sus-mentionné (les item ci-dessus doivent représenter l'axe des ordonnées). Tu dois remplir les cases en vert si tu es confident et en jaune si tu ne l'es pas, et en rouge si tu ne sais pas\n",
    "\n",
    "C) Est-ce que l'étude s’intéresse à plusieurs diagnostics ? Si oui, merci de recréer les deux tableaux demandés ci-dessus pour chaque diagnostic précis (en abcisses). Tu dois remplir les cases en vert si tu es confident et en jaune si tu ne l'es pas, et en rouge si tu ne sais pas.\n",
    "\"\"\""
   ]
  },
  {
   "cell_type": "code",
   "execution_count": 9,
   "metadata": {},
   "outputs": [],
   "source": [
    "loader = PyPDFLoader(\n",
    "    pdf_path,\n",
    "    mode=\"single\",\n",
    ")\n",
    "docs = loader.load()"
   ]
  },
  {
   "cell_type": "code",
   "execution_count": 25,
   "metadata": {},
   "outputs": [
    {
     "data": {
      "text/plain": [
       "131850"
      ]
     },
     "execution_count": 25,
     "metadata": {},
     "output_type": "execute_result"
    }
   ],
   "source": [
    "len(docs[0].page_content) * 3"
   ]
  },
  {
   "cell_type": "code",
   "execution_count": 36,
   "metadata": {},
   "outputs": [],
   "source": [
    "def formulate_prompt(guideline_text, task):\n",
    "    main_task = \"Answer if the provided study indicates the following (only answer with keywords in English):\\n\"\n",
    "    prompt = f\"Task: {main_task}\\n{task}\\n\\n Text:\\n\\n{guideline_text}\\n\\nProvide a short answer. Extracted data:\\n\"\n",
    "    return prompt"
   ]
  },
  {
   "cell_type": "code",
   "execution_count": 37,
   "metadata": {},
   "outputs": [
    {
     "data": {
      "text/plain": [
       "\"<think>\\nOkay, so I need to figure out how to extract data from this list of references provided. The user has given me a bunch of citations, each with details like authors, journal names, years, and DOIs. They want a short answer based on the extracted data.\\n\\nFirst, I should understand what exactly they're asking for. It seems like they want key information pulled out from these references, maybe something specific like the main findings or important details about optic nerve sheath diameter (ONSD) measurements in relation to intracranial pressure (ICP). \\n\\nLooking at the references, many of them are studies that correlate ONSD with ICP. For example, reference 37 mentions a comparison between ultrasonographic measurement of ONSD and direct ICP measurement in TBI patients. That's probably important because it shows how accurate ONSD is as a non-invasive method.\\n\\nI should also note the methods used in these studies. Some are observational, like reference 34 which uses optic nerve sonography in evaluating brain injury. Others might be prospective or retrospective. The sample sizes vary too; some have larger groups, others smaller, which affects the study's reliability.\\n\\nAnother point is the diagnostic odds ratio mentioned in reference 38. This metric helps assess how well ONSD can distinguish between patients with and without increased ICP. A higher diagnostic odds ratio would indicate better performance.\\n\\nI should also consider any quality criteria or guidelines for performing these ultrasounds, like those discussed in reference 35 where new quality criteria were introduced to improve the accuracy of ONSD measurements.\\n\\nAdditionally, some studies look at different patient populations—traumatic vs. non-traumatic brain injuries—which might affect how reliable ONSD is across various conditions. For instance, references 27 and 31 compare ONSD in traumatic versus other neurosurgical patients.\\n\\nI need to make sure I'm extracting the most relevant data points: study type (prospective, observational), sample size, key findings (correlation between ONSD and ICP), diagnostic accuracy metrics like sensitivity, specificity, or diagnostic odds ratio, and any methodological considerations that could impact results.\\n\\nPutting this together, the extracted data should highlight how ONSD measured via ultrasound correlates with ICP, its diagnostic performance across different patient groups, and any important methodological aspects from these studies.\\n</think>\\n\\nThe extracted data highlights several key points regarding the use of optic nerve sheath diameter (ONSD) measurements in assessing intracranial pressure (ICP):\\n\\n1. **Correlation with ICP**: Studies such as reference 37 demonstrate a strong correlation between ultrasonographic ONSD and direct ICP measurements, indicating that ONSD is a reliable non-invasive method for estimating ICP.\\n\\n2. **Study Types and Populations**: The studies include both prospective and observational designs, examining diverse patient populations, including those with traumatic brain injury (TBI) and other neurosurgical conditions. This variability helps assess the applicability of ONSD across different clinical scenarios.\\n\\n3. **Diagnostic Accuracy**: Reference 38 introduces the diagnostic odds ratio as a metric to evaluate how well ONSD distinguishes between patients with and without increased ICP, emphasizing its diagnostic performance.\\n\\n4. **Methodological Considerations**: Reference 35 highlights the importance of quality criteria in performing accurate ultrasounds, which can enhance the reliability of ONSD measurements.\\n\\nIn summary, ONSD via ultrasound is a valuable tool for estimating ICP, with studies showing consistent correlation across various patient groups and methodologies, though methodological rigor remains crucial for accuracy.\""
      ]
     },
     "execution_count": 37,
     "metadata": {},
     "output_type": "execute_result"
    }
   ],
   "source": [
    "task = \"\\nle type de population dont il s'agit\"\n",
    "\n",
    "response = client.generate(model='deepseek-r1:32b', prompt=formulate_prompt(docs[0].page_content, task),\n",
    "                           options=Options(\n",
    "                temperature=0.0,\n",
    "                num_ctx=4096,\n",
    "            ),)\n",
    "response.response"
   ]
  },
  {
   "cell_type": "code",
   "execution_count": 38,
   "metadata": {},
   "outputs": [
    {
     "name": "stdout",
     "output_type": "stream",
     "text": [
      "<think>\n",
      "Okay, so I need to figure out how to extract data from this list of references provided. The user has given me a bunch of citations, each with details like authors, journal names, years, and DOIs. They want a short answer based on the extracted data.\n",
      "\n",
      "First, I should understand what exactly they're asking for. It seems like they want key information pulled out from these references, maybe something specific like the main findings or important details about optic nerve sheath diameter (ONSD) measurements in relation to intracranial pressure (ICP). \n",
      "\n",
      "Looking at the references, many of them are studies that correlate ONSD with ICP. For example, reference 37 mentions a comparison between ultrasonographic measurement of ONSD and direct ICP measurement in TBI patients. That's probably important because it shows how accurate ONSD is as a non-invasive method.\n",
      "\n",
      "I should also note the methods used in these studies. Some are observational, like reference 34 which uses optic nerve sonography in evaluating brain injury. Others might be prospective or retrospective. The sample sizes vary too; some have larger groups, others smaller, which affects the study's reliability.\n",
      "\n",
      "Another point is the diagnostic odds ratio mentioned in reference 38. This metric helps assess how well ONSD can distinguish between patients with and without increased ICP. A higher diagnostic odds ratio would indicate better performance.\n",
      "\n",
      "I should also consider any quality criteria or guidelines for performing these ultrasounds, like those discussed in reference 35 where new quality criteria were introduced to improve the accuracy of ONSD measurements.\n",
      "\n",
      "Additionally, some studies look at different patient populations—traumatic vs. non-traumatic brain injuries—which might affect how reliable ONSD is across various conditions. For instance, references 27 and 31 compare ONSD in traumatic versus other neurosurgical patients.\n",
      "\n",
      "I need to make sure I'm extracting the most relevant data points: study type (prospective, observational), sample size, key findings (correlation between ONSD and ICP), diagnostic accuracy metrics like sensitivity, specificity, or diagnostic odds ratio, and any methodological considerations that could impact results.\n",
      "\n",
      "Putting this together, the extracted data should highlight how ONSD measured via ultrasound correlates with ICP, its diagnostic performance across different patient groups, and any important methodological aspects from these studies.\n",
      "</think>\n",
      "\n",
      "The extracted data highlights several key points regarding the use of optic nerve sheath diameter (ONSD) measurements in assessing intracranial pressure (ICP):\n",
      "\n",
      "1. **Correlation with ICP**: Studies such as reference 37 demonstrate a strong correlation between ultrasonographic ONSD and direct ICP measurements, indicating that ONSD is a reliable non-invasive method for estimating ICP.\n",
      "\n",
      "2. **Study Types and Populations**: The studies include both prospective and observational designs, examining diverse patient populations, including those with traumatic brain injury (TBI) and other neurosurgical conditions. This variability helps assess the applicability of ONSD across different clinical scenarios.\n",
      "\n",
      "3. **Diagnostic Accuracy**: Reference 38 introduces the diagnostic odds ratio as a metric to evaluate how well ONSD distinguishes between patients with and without increased ICP, emphasizing its diagnostic performance.\n",
      "\n",
      "4. **Methodological Considerations**: Reference 35 highlights the importance of quality criteria in performing accurate ultrasounds, which can enhance the reliability of ONSD measurements.\n",
      "\n",
      "In summary, ONSD via ultrasound is a valuable tool for estimating ICP, with studies showing consistent correlation across various patient groups and methodologies, though methodological rigor remains crucial for accuracy.\n"
     ]
    }
   ],
   "source": [
    "print(response.response)"
   ]
  },
  {
   "cell_type": "code",
   "execution_count": null,
   "metadata": {},
   "outputs": [],
   "source": []
  }
 ],
 "metadata": {
  "kernelspec": {
   "display_name": "evident",
   "language": "python",
   "name": "python3"
  },
  "language_info": {
   "codemirror_mode": {
    "name": "ipython",
    "version": 3
   },
   "file_extension": ".py",
   "mimetype": "text/x-python",
   "name": "python",
   "nbconvert_exporter": "python",
   "pygments_lexer": "ipython3",
   "version": "3.10.16"
  }
 },
 "nbformat": 4,
 "nbformat_minor": 2
}
