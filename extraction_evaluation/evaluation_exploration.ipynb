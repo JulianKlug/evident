{
 "cells": [
  {
   "cell_type": "code",
   "execution_count": 1,
   "id": "initial_id",
   "metadata": {
    "ExecuteTime": {
     "end_time": "2025-04-04T12:29:21.080141Z",
     "start_time": "2025-04-04T12:29:20.355608Z"
    },
    "collapsed": true
   },
   "outputs": [],
   "source": [
    "import pandas as pd\n",
    "from thefuzz import process"
   ]
  },
  {
   "cell_type": "code",
   "execution_count": 2,
   "id": "96a3b927b0acd902",
   "metadata": {
    "ExecuteTime": {
     "end_time": "2025-04-04T12:29:21.125376Z",
     "start_time": "2025-04-04T12:29:21.121775Z"
    }
   },
   "outputs": [],
   "source": [
    "data_path = '/Users/jk1/Downloads/NI9RV3E7_extraction.xlsx - Sheet1.csv'"
   ]
  },
  {
   "cell_type": "code",
   "execution_count": 3,
   "id": "228feadb9cd90f89",
   "metadata": {
    "ExecuteTime": {
     "end_time": "2025-04-04T12:29:21.484115Z",
     "start_time": "2025-04-04T12:29:21.471543Z"
    }
   },
   "outputs": [],
   "source": [
    "df = pd.read_csv(data_path)"
   ]
  },
  {
   "cell_type": "code",
   "execution_count": 4,
   "id": "f83ca4ae3d6a79ab",
   "metadata": {
    "ExecuteTime": {
     "end_time": "2025-04-04T12:29:21.540738Z",
     "start_time": "2025-04-04T12:29:21.523609Z"
    }
   },
   "outputs": [
    {
     "data": {
      "application/vnd.microsoft.datawrangler.viewer.v0+json": {
       "columns": [
        {
         "name": "index",
         "rawType": "int64",
         "type": "integer"
        },
        {
         "name": "Key",
         "rawType": "object",
         "type": "unknown"
        },
        {
         "name": "Title",
         "rawType": "object",
         "type": "unknown"
        },
        {
         "name": "DOI",
         "rawType": "object",
         "type": "unknown"
        },
        {
         "name": "recommendation",
         "rawType": "object",
         "type": "string"
        },
        {
         "name": "class",
         "rawType": "object",
         "type": "string"
        },
        {
         "name": "LOE",
         "rawType": "object",
         "type": "string"
        }
       ],
       "ref": "11637d62-a0df-42cd-81c9-d4a13db21f9f",
       "rows": [
        [
         "0",
         "NI9RV3E7",
         "2015 ESC/ERS Guidelines for the diagnosis and treatment of pulmonary hypertension: The Joint Task Force for the Diagnosis and Treatment of Pulmonary Hypertension of the European Society of Cardiology (ESC) and the European Respiratory Society (ERS)",
         "10.1183/13993003.01032-2015",
         "In patients with low echocardiographic probability of PH without risk factors for PAH or CTEPH, alternative diagnosis should be considered.",
         "IIa",
         "C"
        ],
        [
         "1",
         null,
         null,
         null,
         "In patients with low echocardiographic probability of PH with risk factors for PAH or CTEPH, echo follow-up should be considered.",
         "IIa",
         "C"
        ],
        [
         "2",
         null,
         null,
         null,
         "In patients with intermediate echocardiographic probability of PH without risk factors for PAH or CTEPH, alternative diagnosis and echo follow-up should be considered.",
         "IIa",
         "C"
        ],
        [
         "3",
         null,
         null,
         null,
         "In patients with intermediate echocardiographic probability of PH without risk factors for PAH or CTEPH, further investigation of PH may be considered.",
         "IIb",
         "C"
        ],
        [
         "4",
         null,
         null,
         null,
         "In patients with intermediate echocardiographic probability of PH with risk factors for PAH or CTEPH, further assessment of PH including RHC should be considered.",
         "IIa",
         "B"
        ],
        [
         "5",
         null,
         null,
         null,
         "In patients with high echocardiographic probability of PH without risk factors for PAH or CTEPH, further investigation of PH (including RHC) is recommended.",
         "I",
         "C"
        ],
        [
         "6",
         null,
         null,
         null,
         "In patients with high echocardiographic probability of PH with risk factors for PAH or CTEPH, further investigation of PH including RHC is recommended.",
         "I",
         "C"
        ],
        [
         "7",
         null,
         null,
         null,
         "RHC is recommended to confirm the diagnosis of pulmonary arterial hypertension (group 1) and to support treatment decisions",
         "I",
         "C"
        ],
        [
         "8",
         null,
         null,
         null,
         "In patients with PH, it is recommended to perform RHC in expert centres (see section 12) as it is technically demanding and may be associated with serious complications",
         "I",
         "B"
        ],
        [
         "9",
         null,
         null,
         null,
         "RHC should be considered in pulmonary arterial hypertension (group 1) to assess the treatment effect of drugs (Table 16)",
         "lla",
         "C"
        ],
        [
         "10",
         null,
         null,
         null,
         "RHC is recommended in patients with congenital cardiac shunts to support decisions on correction (Table 24)",
         "I",
         "C"
        ],
        [
         "11",
         null,
         null,
         null,
         "RHC is recommended in patients with PH due to left heart disease (group 2) or lung disease (group 3) if organ transplantation is considered",
         "I",
         "C"
        ],
        [
         "12",
         null,
         null,
         null,
         "When measurement of PAWP is unreliable, left heart catheterization should be considered to measure LVEDP",
         "Ila",
         "C"
        ],
        [
         "13",
         null,
         null,
         null,
         "RHC may be considered in patients with suspected PH and left heart disease or lung disease to assist in the differential diagnosis and support treatment decisions",
         "lIb",
         "C"
        ],
        [
         "14",
         null,
         null,
         null,
         "RHC is indicated in patients with ТЕРН (group 4) to confirm the diagnosis and support treatment decisions",
         "I",
         "C"
        ],
        [
         "15",
         null,
         null,
         null,
         "Vasoreactivity testing is indicated only in expert centres",
         "I",
         "C"
        ],
        [
         "16",
         null,
         null,
         null,
         "Vasoreactivity testing is recommended in patients with IPAH, HPAH and PAH associated with drugs use to detect patients who can be treated with high doses of a CCB",
         "I",
         "C"
        ],
        [
         "17",
         null,
         null,
         null,
         "A positive response to vasoreactivity testing is defined as a reduction of mean PAP ≥ 10 mmHg to reach an absolute value of mean PAP ≤40 mmHg with an increased or unchanged cardiac output",
         "I",
         "C"
        ],
        [
         "18",
         null,
         null,
         null,
         "Nitric oxide is recommended for performing vasoreactivity testing",
         "I",
         "C"
        ],
        [
         "19",
         null,
         null,
         null,
         "Intravenous epoprostenol is recommended for performing vasoreactivity testing as an alternative",
         "I",
         "C"
        ],
        [
         "20",
         null,
         null,
         null,
         "Adenosine should be considered for performing vasoreactivity testing as an alternative",
         "lla",
         "C"
        ],
        [
         "21",
         null,
         null,
         null,
         "Inhaled iloprost may be considered for performing vasoreactivity testing as an alternative",
         "Ilb",
         "C"
        ],
        [
         "22",
         null,
         null,
         null,
         "The use of oral or intravenous CCBs in acute vasoreactivity testing is not recommended",
         "III",
         "C"
        ],
        [
         "23",
         null,
         null,
         null,
         "Vasoreactivity testing to detect patients who can be safely treated with high doses of a CCB is not recommended in patients with PAH other than IPAH, HPAH and PAH associated with drugs use and is not recommended in PH groups 2, 3, 4 and 5",
         "III",
         "C"
        ],
        [
         "24",
         null,
         null,
         null,
         "Echocardiography is recommended as a first-line non-invasive diagnostic investigation in case of suspicion of PH",
         "I",
         "C"
        ],
        [
         "25",
         null,
         null,
         null,
         "Ventilation/perfusion or perfusion lung scan is recommended in patients with unexplained PH to exclude CTEPH",
         "I",
         "C"
        ],
        [
         "26",
         null,
         null,
         null,
         "Contrast CT angiography of the PA is recommended in the workup of patients with СТЕРН",
         "I",
         "C"
        ],
        [
         "27",
         null,
         null,
         null,
         "Routine biochemistry, haematology, immunology, HIV testing and thyroid function tests are recommended in all patients with PAH to identify the specific associated condition",
         "I",
         "C"
        ],
        [
         "28",
         null,
         null,
         null,
         "Abdominal ultrasound is recommended for the screening of portal hypertension",
         "I",
         "C"
        ],
        [
         "29",
         null,
         null,
         null,
         "Lung function test with DLCO is recommended in the initial evaluation of patients with PH",
         "I",
         "C"
        ],
        [
         "30",
         null,
         null,
         null,
         "High-resolution CT should be considered in all patients with PH",
         "lla",
         "C"
        ],
        [
         "31",
         null,
         null,
         null,
         "Pulmonary angiography should be considered in the workup of patients with СТЕРН",
         "lla",
         "C"
        ],
        [
         "32",
         null,
         null,
         null,
         "Open or thoracoscopic lung biopsy is not recommended in patients with PAH",
         "IlI",
         "C"
        ],
        [
         "33",
         null,
         null,
         null,
         "It is recommended to evaluate the severity of PAH patients with a panel of data derived from clinical assessment, exercise tests, biochemical markers and echocardiographic and haemodynamic evaluations (Tables 13 and 14)",
         "i",
         "C"
        ],
        [
         "34",
         null,
         null,
         null,
         "It is recommended to perform regular follow-up assessments every 3-6 months in stable patients (Table 14)",
         "i",
         "C"
        ],
        [
         "35",
         null,
         null,
         null,
         "Achievement/maintenance of a low-risk profile (Table 13) is recommended as an adequate treatment response for patients with PAH",
         "i",
         "C"
        ],
        [
         "36",
         null,
         null,
         null,
         "Achievement/maintenance of an intermediate-risk profile (Table 13) should be considered an inadequate treatment response for most patients with PAH",
         "lla",
         "C"
        ],
        [
         "37",
         null,
         null,
         null,
         "It is recommended that PAH patients avoid pregnancy",
         "i",
         "c"
        ],
        [
         "38",
         null,
         null,
         null,
         "Immunization of PAH patients against influenza and pneumococcal infection is recommended",
         "i",
         "c"
        ],
        [
         "39",
         null,
         null,
         null,
         "Psychosocial support is recommended in PAH patients",
         "i",
         "C"
        ],
        [
         "40",
         null,
         null,
         null,
         "Supervised exercise training should be considered in physically deconditioned PAH patients under medical therapy",
         "lla",
         "B"
        ],
        [
         "41",
         null,
         null,
         null,
         "In-flight O2 administration should be considered for patients in WHO-FC III and IV and those with arterial blood 02 pressure consistently < 8 kPa (60 mmHg)",
         "lla",
         "c"
        ],
        [
         "42",
         null,
         null,
         null,
         "In elective surgery, epidural rather than general anaesthesia should be preferred whenever possible",
         "lla",
         "c"
        ],
        [
         "43",
         null,
         null,
         null,
         "Excessive physical activity that leads to distressing symptoms is not recommended in PAH patients",
         "III",
         "C"
        ],
        [
         "44",
         null,
         null,
         null,
         "Diuretic treatment is recommended in PAH patients with signs of RV failure and fluid retention",
         "i",
         "C"
        ],
        [
         "45",
         null,
         null,
         null,
         "Continuous long-term O2 therapy is recommended in PAH patients when arterial blood O2 pressure is consistently <8 kPa (60 mmHg)*",
         "i",
         "C"
        ],
        [
         "46",
         null,
         null,
         null,
         "Oral anticoagulant treatment may be considered in patients with РАН, HPAH and PAH due to use of anorexigens",
         "lIb",
         "C"
        ],
        [
         "47",
         null,
         null,
         null,
         "Correction of anaemia and/or iron status may be considered in PAH patients",
         "Ilb",
         "C"
        ],
        [
         "48",
         null,
         null,
         null,
         "The use of angiotensin-converting enzyme inhibitors, angiotensin-2 receptor antagonists, beta-blockers and ivabradine is not recommended in patients with PAH unless required by co-morbidities (i.e. high blood pressure, coronary artery disease or left heart failure)",
         "III",
         "C"
        ],
        [
         "49",
         null,
         null,
         null,
         "High doses of CCBs are recommended in patients with IPAH, HPAH and DPAH who are responders to acute vasoreactivity testing",
         "i",
         "c"
        ]
       ],
       "shape": {
        "columns": 6,
        "rows": 217
       }
      },
      "text/html": [
       "<div>\n",
       "<style scoped>\n",
       "    .dataframe tbody tr th:only-of-type {\n",
       "        vertical-align: middle;\n",
       "    }\n",
       "\n",
       "    .dataframe tbody tr th {\n",
       "        vertical-align: top;\n",
       "    }\n",
       "\n",
       "    .dataframe thead th {\n",
       "        text-align: right;\n",
       "    }\n",
       "</style>\n",
       "<table border=\"1\" class=\"dataframe\">\n",
       "  <thead>\n",
       "    <tr style=\"text-align: right;\">\n",
       "      <th></th>\n",
       "      <th>Key</th>\n",
       "      <th>Title</th>\n",
       "      <th>DOI</th>\n",
       "      <th>recommendation</th>\n",
       "      <th>class</th>\n",
       "      <th>LOE</th>\n",
       "    </tr>\n",
       "  </thead>\n",
       "  <tbody>\n",
       "    <tr>\n",
       "      <th>0</th>\n",
       "      <td>NI9RV3E7</td>\n",
       "      <td>2015 ESC/ERS Guidelines for the diagnosis and ...</td>\n",
       "      <td>10.1183/13993003.01032-2015</td>\n",
       "      <td>In patients with low echocardiographic probabi...</td>\n",
       "      <td>IIa</td>\n",
       "      <td>C</td>\n",
       "    </tr>\n",
       "    <tr>\n",
       "      <th>1</th>\n",
       "      <td>NaN</td>\n",
       "      <td>NaN</td>\n",
       "      <td>NaN</td>\n",
       "      <td>In patients with low echocardiographic probabi...</td>\n",
       "      <td>IIa</td>\n",
       "      <td>C</td>\n",
       "    </tr>\n",
       "    <tr>\n",
       "      <th>2</th>\n",
       "      <td>NaN</td>\n",
       "      <td>NaN</td>\n",
       "      <td>NaN</td>\n",
       "      <td>In patients with intermediate echocardiographi...</td>\n",
       "      <td>IIa</td>\n",
       "      <td>C</td>\n",
       "    </tr>\n",
       "    <tr>\n",
       "      <th>3</th>\n",
       "      <td>NaN</td>\n",
       "      <td>NaN</td>\n",
       "      <td>NaN</td>\n",
       "      <td>In patients with intermediate echocardiographi...</td>\n",
       "      <td>IIb</td>\n",
       "      <td>C</td>\n",
       "    </tr>\n",
       "    <tr>\n",
       "      <th>4</th>\n",
       "      <td>NaN</td>\n",
       "      <td>NaN</td>\n",
       "      <td>NaN</td>\n",
       "      <td>In patients with intermediate echocardiographi...</td>\n",
       "      <td>IIa</td>\n",
       "      <td>B</td>\n",
       "    </tr>\n",
       "    <tr>\n",
       "      <th>...</th>\n",
       "      <td>...</td>\n",
       "      <td>...</td>\n",
       "      <td>...</td>\n",
       "      <td>...</td>\n",
       "      <td>...</td>\n",
       "      <td>...</td>\n",
       "    </tr>\n",
       "    <tr>\n",
       "      <th>212</th>\n",
       "      <td>NaN</td>\n",
       "      <td>NaN</td>\n",
       "      <td>NaN</td>\n",
       "      <td>Patients with PAH should be referred to expert...</td>\n",
       "      <td>I</td>\n",
       "      <td>C</td>\n",
       "    </tr>\n",
       "    <tr>\n",
       "      <th>213</th>\n",
       "      <td>NaN</td>\n",
       "      <td>NaN</td>\n",
       "      <td>NaN</td>\n",
       "      <td>In patients with PAH with inadequate clinical ...</td>\n",
       "      <td>I</td>\n",
       "      <td>A</td>\n",
       "    </tr>\n",
       "    <tr>\n",
       "      <th>214</th>\n",
       "      <td>NaN</td>\n",
       "      <td>NaN</td>\n",
       "      <td>NaN</td>\n",
       "      <td>Initial combination therapy, including intrave...</td>\n",
       "      <td>I</td>\n",
       "      <td>B</td>\n",
       "    </tr>\n",
       "    <tr>\n",
       "      <th>215</th>\n",
       "      <td>NaN</td>\n",
       "      <td>NaN</td>\n",
       "      <td>NaN</td>\n",
       "      <td>PAH-approved therapies are not recommended in ...</td>\n",
       "      <td>III</td>\n",
       "      <td>C</td>\n",
       "    </tr>\n",
       "    <tr>\n",
       "      <th>216</th>\n",
       "      <td>NaN</td>\n",
       "      <td>NaN</td>\n",
       "      <td>NaN</td>\n",
       "      <td>In patients with CTEPH, assessment of operabil...</td>\n",
       "      <td>I</td>\n",
       "      <td>C</td>\n",
       "    </tr>\n",
       "  </tbody>\n",
       "</table>\n",
       "<p>217 rows × 6 columns</p>\n",
       "</div>"
      ],
      "text/plain": [
       "          Key                                              Title  \\\n",
       "0    NI9RV3E7  2015 ESC/ERS Guidelines for the diagnosis and ...   \n",
       "1         NaN                                                NaN   \n",
       "2         NaN                                                NaN   \n",
       "3         NaN                                                NaN   \n",
       "4         NaN                                                NaN   \n",
       "..        ...                                                ...   \n",
       "212       NaN                                                NaN   \n",
       "213       NaN                                                NaN   \n",
       "214       NaN                                                NaN   \n",
       "215       NaN                                                NaN   \n",
       "216       NaN                                                NaN   \n",
       "\n",
       "                             DOI  \\\n",
       "0    10.1183/13993003.01032-2015   \n",
       "1                            NaN   \n",
       "2                            NaN   \n",
       "3                            NaN   \n",
       "4                            NaN   \n",
       "..                           ...   \n",
       "212                          NaN   \n",
       "213                          NaN   \n",
       "214                          NaN   \n",
       "215                          NaN   \n",
       "216                          NaN   \n",
       "\n",
       "                                        recommendation class LOE  \n",
       "0    In patients with low echocardiographic probabi...   IIa   C  \n",
       "1    In patients with low echocardiographic probabi...   IIa   C  \n",
       "2    In patients with intermediate echocardiographi...   IIa   C  \n",
       "3    In patients with intermediate echocardiographi...   IIb   C  \n",
       "4    In patients with intermediate echocardiographi...   IIa   B  \n",
       "..                                                 ...   ...  ..  \n",
       "212  Patients with PAH should be referred to expert...     I   C  \n",
       "213  In patients with PAH with inadequate clinical ...     I   A  \n",
       "214  Initial combination therapy, including intrave...     I   B  \n",
       "215  PAH-approved therapies are not recommended in ...   III   C  \n",
       "216  In patients with CTEPH, assessment of operabil...     I   C  \n",
       "\n",
       "[217 rows x 6 columns]"
      ]
     },
     "execution_count": 4,
     "metadata": {},
     "output_type": "execute_result"
    }
   ],
   "source": [
    "df"
   ]
  },
  {
   "cell_type": "code",
   "execution_count": 5,
   "id": "16dc8f89adcaf4d5",
   "metadata": {
    "ExecuteTime": {
     "end_time": "2025-04-02T13:53:40.048225Z",
     "start_time": "2025-04-02T13:53:40.038032Z"
    }
   },
   "outputs": [
    {
     "data": {
      "text/plain": [
       "[('In patients with low echocardiographic probability of PH without risk factors for PAH or CTEPH, alternative diagnosis should be considered.',\n",
       "  100,\n",
       "  0),\n",
       " ('In patients with intermediate echocardiographic probability of PH without risk factors for PAH or CTEPH, alternative diagnosis and echo follow-up should be considered.',\n",
       "  94,\n",
       "  2),\n",
       " ('In patients with low echocardiographic probability of PH with risk factors for PAH or CTEPH, echo follow-up should be considered.',\n",
       "  89,\n",
       "  1),\n",
       " ('Vasoreactivity testing is indicated only in expert centres', 86, 15),\n",
       " ('Nitric oxide is recommended for performing vasoreactivity testing', 86, 18)]"
      ]
     },
     "execution_count": 5,
     "metadata": {},
     "output_type": "execute_result"
    }
   ],
   "source": [
    "process.extractBests('In patients with low echocardiographic probability of PH without risk factors for PAH or CTEPH, alternative diagnosis should be considered.', df.recommendation)"
   ]
  },
  {
   "cell_type": "code",
   "execution_count": 6,
   "id": "67838984801498be",
   "metadata": {
    "ExecuteTime": {
     "end_time": "2025-04-04T12:49:53.509463Z",
     "start_time": "2025-04-04T12:49:46.821040Z"
    }
   },
   "outputs": [],
   "source": [
    "import spacy\n",
    "nlp = spacy.load(\"en_core_web_lg\")\n",
    "\n",
    "def get_similarity_score(text1, text2):\n",
    "    \"\"\"\n",
    "    Calculate the similarity score between two texts using Spacy's language model.\n",
    "\n",
    "    Parameters\n",
    "    ----------\n",
    "    text1 : str\n",
    "        The first text to compare.\n",
    "    text2 : str\n",
    "        The second text to compare.\n",
    "\n",
    "    Returns\n",
    "    -------\n",
    "    float\n",
    "        The similarity score between the two texts.\n",
    "    \"\"\"\n",
    "    doc1 = nlp(text1)\n",
    "    doc2 = nlp(text2)\n",
    "    return doc1.similarity(doc2)"
   ]
  },
  {
   "cell_type": "code",
   "execution_count": 13,
   "id": "d05f0f676ddfa9aa",
   "metadata": {
    "ExecuteTime": {
     "end_time": "2025-04-02T14:57:58.478133Z",
     "start_time": "2025-04-02T14:57:58.465548Z"
    }
   },
   "outputs": [
    {
     "name": "stdout",
     "output_type": "stream",
     "text": [
      "'NoneType' object has no attribute 'cadam32bit_grad_fp32'\n"
     ]
    },
    {
     "name": "stderr",
     "output_type": "stream",
     "text": [
      "/Users/jk1/opt/anaconda3/envs/evident/lib/python3.10/site-packages/bitsandbytes/cextension.py:34: UserWarning: The installed version of bitsandbytes was compiled without GPU support. 8-bit optimizers, 8-bit multiplication, and GPU quantization are unavailable.\n",
      "  warn(\"The installed version of bitsandbytes was compiled without GPU support. \"\n"
     ]
    }
   ],
   "source": [
    "from similarity_evaluation.similarity_models import SimilarityModel\n",
    "\n",
    "\n",
    "def score_recommendation(recommendation_text:str, recommendation_grade:str, recommendation_level:str, recommendation_gt_df:pd.DataFrame,\n",
    "                         semantic_model:SimilarityModel, semantic_threshold:float=0.6,\n",
    "                         interactive:bool=True, verbose:bool=True) -> tuple:\n",
    "    \"\"\"\n",
    "    This function takes a recommendation text, grade, and level, and returns the scores of the recommendation based on the ground truth dataframe.\n",
    "\n",
    "    if recommendation text is not in the ground truth dataframe, it returns (-1, -1, -1, -1)\n",
    "    if recommendation text is in the ground truth dataframe, TRUE/FALSE for grade and level based on if the recommendation grade and level are the same as the ground truth dataframe, as well as the matched recommendation text and the score of the match.\n",
    "\n",
    "    Parameters\n",
    "    ----------\n",
    "    recommendation_text : str\n",
    "        The recommendation text to be scored.\n",
    "    recommendation_grade : str\n",
    "        The recommendation grade to be scored.\n",
    "    recommendation_level : str\n",
    "        The recommendation level to be scored.\n",
    "    recommendation_gt_df : pd.DataFrame\n",
    "        The ground truth dataframe containing the recommendation text, grade, and level.\n",
    "    verbose : bool\n",
    "        If True, print the fuzzy match found for the recommendation text.\n",
    "\n",
    "\n",
    "    Returns\n",
    "    -------\n",
    "    tuple\n",
    "        A tuple containing the grade evaluation, level evaluation, matched recommendation text, score of the match, as well as manual validation\n",
    "        (grade_eval, level_eval, recommendation_text, score, manual_validation)\n",
    "\n",
    "    \"\"\"\n",
    "\n",
    "    # Check if exact match for recommendation text in the ground truth dataframe\n",
    "    if recommendation_text in recommendation_gt_df.recommendation.values:\n",
    "        match_row = recommendation_gt_df[recommendation_gt_df.recommendation.str.lower() == recommendation_text.lower()]\n",
    "        grade_eval = recommendation_grade.lower() == match_row['class'].values[0].lower()\n",
    "        level_eval = recommendation_level.lower() == match_row.LOE.values[0].lower()\n",
    "        return (grade_eval, level_eval, recommendation_text, 100, False)\n",
    "\n",
    "    # Check if fuzzy match for recommendation text in the ground truth dataframe\n",
    "    matches = process.extractBests(recommendation_text.lower(), recommendation_gt_df.recommendation.str.lower().values,\n",
    "                                   limit=10)\n",
    "\n",
    "    best_match = matches[0]\n",
    "    if best_match[1] >= 95:\n",
    "        match_row = recommendation_gt_df[recommendation_gt_df.recommendation.str.lower() == best_match[0].lower()]\n",
    "        grade_eval = recommendation_grade.lower() == match_row['class'].values[0].lower()\n",
    "        level_eval = recommendation_level.lower() == match_row.LOE.values[0].lower()\n",
    "\n",
    "        if verbose:\n",
    "            print(f'Fuzzy match found for \"{recommendation_text}\" with score {best_match[1]}: \"{best_match[0]}\"')\n",
    "\n",
    "        return (grade_eval, level_eval, best_match[0], best_match[1], False)\n",
    "\n",
    "    else:\n",
    "        # if not complete match is found, use get_similarity_score to find the best match\n",
    "        similarities = []\n",
    "        for i, row in recommendation_gt_df.iterrows():\n",
    "            score = semantic_model.compute_similarity(recommendation_text, row['recommendation'])\n",
    "            similarities.append((row['recommendation'], score))\n",
    "\n",
    "        # Find the best semantic match\n",
    "        best_semantic_match = max(similarities, key=lambda x: x[1])\n",
    "        if best_semantic_match[1] >= semantic_threshold:\n",
    "            match_row = recommendation_gt_df[recommendation_gt_df.recommendation == best_semantic_match[0]]\n",
    "            grade_eval = recommendation_grade.lower() == match_row['class'].values[0].lower()\n",
    "            level_eval = recommendation_level.lower() == match_row.LOE.values[0].lower()\n",
    "            \n",
    "            if verbose:\n",
    "                print(f'Semantic match found for \"{recommendation_text}\" with score {best_semantic_match[1]:.3f}: \"{best_semantic_match[0]}\"')\n",
    "            \n",
    "            return (grade_eval, level_eval, best_semantic_match[0], best_semantic_match[1] * 100, False)\n",
    "\n",
    "        if not interactive:\n",
    "            if verbose:\n",
    "                print(f'No match found for \"{recommendation_text}\"')\n",
    "            return (-1, -1, -1, -1, False)\n",
    "        else:\n",
    "            # give choice of best matches to the user\n",
    "            print(f'No exact match found, please choose from the following options:')\n",
    "            print(f'- \"{recommendation_text} -\"')\n",
    "            for i, match in enumerate(matches):\n",
    "                print(f'{i}: {match[0]} - {match[1]}')\n",
    "            # add none option\n",
    "            print(f'{len(matches)}: None')\n",
    "\n",
    "            # get user input\n",
    "            nl = '\\n'\n",
    "            user_choice = input(f'No exact match found, please choose from the following options:'\n",
    "                                f'\\n- \"{recommendation_text} -\"'\n",
    "                                f'\\n{nl.join([f\"{i}: {match[0]} - {match[1]}\" for i, match in enumerate(matches)])}'\n",
    "                                f'\\n{len(matches)}: None'\n",
    "                                f'\\nPlease enter the number of your choice: ')\n",
    "\n",
    "            # check if user input is valid\n",
    "            if user_choice.isdigit() and int(user_choice) < len(matches):\n",
    "                match_row = recommendation_gt_df[recommendation_gt_df.recommendation.str.lower() == matches[int(user_choice)][0].lower()]\n",
    "                grade_eval = recommendation_grade.lower() == match_row['class'].values[0].lower()\n",
    "                level_eval = recommendation_level.lower() == match_row.LOE.values[0].lower()\n",
    "                return (grade_eval, level_eval, matches[int(user_choice)][0], matches[int(user_choice)][1], True)\n",
    "\n",
    "            # no match found\n",
    "            elif user_choice.isdigit() and int(user_choice) == len(matches):\n",
    "                return (-1, -1, -1, -1, True)\n",
    "            else:\n",
    "                print('Invalid choice, no match retained')\n",
    "                return (-1, -1, -1, -1, False)\n",
    "\n"
   ]
  },
  {
   "cell_type": "code",
   "execution_count": 8,
   "id": "37338d7e121c48d7",
   "metadata": {
    "ExecuteTime": {
     "end_time": "2025-04-02T14:57:59.989381Z",
     "start_time": "2025-04-02T14:57:59.979940Z"
    }
   },
   "outputs": [
    {
     "data": {
      "application/vnd.microsoft.datawrangler.viewer.v0+json": {
       "columns": [
        {
         "name": "index",
         "rawType": "int64",
         "type": "integer"
        },
        {
         "name": "Key",
         "rawType": "object",
         "type": "unknown"
        },
        {
         "name": "Title",
         "rawType": "object",
         "type": "unknown"
        },
        {
         "name": "DOI",
         "rawType": "object",
         "type": "unknown"
        },
        {
         "name": "recommendation",
         "rawType": "object",
         "type": "string"
        },
        {
         "name": "class",
         "rawType": "object",
         "type": "string"
        },
        {
         "name": "LOE",
         "rawType": "object",
         "type": "string"
        }
       ],
       "ref": "8b107339-86fb-4fb0-9731-f1f81adb94bb",
       "rows": [
        [
         "18",
         null,
         null,
         null,
         "Nitric oxide is recommended for performing vasoreactivity testing",
         "I",
         "C"
        ]
       ],
       "shape": {
        "columns": 6,
        "rows": 1
       }
      },
      "text/html": [
       "<div>\n",
       "<style scoped>\n",
       "    .dataframe tbody tr th:only-of-type {\n",
       "        vertical-align: middle;\n",
       "    }\n",
       "\n",
       "    .dataframe tbody tr th {\n",
       "        vertical-align: top;\n",
       "    }\n",
       "\n",
       "    .dataframe thead th {\n",
       "        text-align: right;\n",
       "    }\n",
       "</style>\n",
       "<table border=\"1\" class=\"dataframe\">\n",
       "  <thead>\n",
       "    <tr style=\"text-align: right;\">\n",
       "      <th></th>\n",
       "      <th>Key</th>\n",
       "      <th>Title</th>\n",
       "      <th>DOI</th>\n",
       "      <th>recommendation</th>\n",
       "      <th>class</th>\n",
       "      <th>LOE</th>\n",
       "    </tr>\n",
       "  </thead>\n",
       "  <tbody>\n",
       "    <tr>\n",
       "      <th>18</th>\n",
       "      <td>NaN</td>\n",
       "      <td>NaN</td>\n",
       "      <td>NaN</td>\n",
       "      <td>Nitric oxide is recommended for performing vas...</td>\n",
       "      <td>I</td>\n",
       "      <td>C</td>\n",
       "    </tr>\n",
       "  </tbody>\n",
       "</table>\n",
       "</div>"
      ],
      "text/plain": [
       "    Key Title  DOI                                     recommendation class  \\\n",
       "18  NaN   NaN  NaN  Nitric oxide is recommended for performing vas...     I   \n",
       "\n",
       "   LOE  \n",
       "18   C  "
      ]
     },
     "execution_count": 8,
     "metadata": {},
     "output_type": "execute_result"
    }
   ],
   "source": [
    "df[df.recommendation.str.lower() == ('Nitric oxide is recommended for performing vasoreactivity testing').lower()]"
   ]
  },
  {
   "cell_type": "code",
   "execution_count": 14,
   "id": "4716de42d668d399",
   "metadata": {
    "ExecuteTime": {
     "end_time": "2025-04-02T14:59:25.191196Z",
     "start_time": "2025-04-02T14:59:25.181059Z"
    }
   },
   "outputs": [
    {
     "name": "stderr",
     "output_type": "stream",
     "text": [
      "INFO:sentence_transformers.SentenceTransformer:Use pytorch device_name: mps\n",
      "INFO:sentence_transformers.SentenceTransformer:Load pretrained SentenceTransformer: neuml/pubmedbert-base-embeddings\n"
     ]
    },
    {
     "data": {
      "application/vnd.jupyter.widget-view+json": {
       "model_id": "195b63c75a8b44f5b67386070775e03b",
       "version_major": 2,
       "version_minor": 0
      },
      "text/plain": [
       "Batches:   0%|          | 0/1 [00:00<?, ?it/s]"
      ]
     },
     "metadata": {},
     "output_type": "display_data"
    },
    {
     "data": {
      "application/vnd.jupyter.widget-view+json": {
       "model_id": "d9423fe50a8c4fd781805b8b77239376",
       "version_major": 2,
       "version_minor": 0
      },
      "text/plain": [
       "Batches:   0%|          | 0/1 [00:00<?, ?it/s]"
      ]
     },
     "metadata": {},
     "output_type": "display_data"
    },
    {
     "data": {
      "application/vnd.jupyter.widget-view+json": {
       "model_id": "18922ce72a4e495795a436a4495107b9",
       "version_major": 2,
       "version_minor": 0
      },
      "text/plain": [
       "Batches:   0%|          | 0/1 [00:00<?, ?it/s]"
      ]
     },
     "metadata": {},
     "output_type": "display_data"
    },
    {
     "data": {
      "application/vnd.jupyter.widget-view+json": {
       "model_id": "5c3268ece778495d90a49fb82530a901",
       "version_major": 2,
       "version_minor": 0
      },
      "text/plain": [
       "Batches:   0%|          | 0/1 [00:00<?, ?it/s]"
      ]
     },
     "metadata": {},
     "output_type": "display_data"
    },
    {
     "data": {
      "application/vnd.jupyter.widget-view+json": {
       "model_id": "05f266a60bfa4a37a3d38c47e78bb559",
       "version_major": 2,
       "version_minor": 0
      },
      "text/plain": [
       "Batches:   0%|          | 0/1 [00:00<?, ?it/s]"
      ]
     },
     "metadata": {},
     "output_type": "display_data"
    },
    {
     "data": {
      "application/vnd.jupyter.widget-view+json": {
       "model_id": "d39f179d48644ab6893141705e926bad",
       "version_major": 2,
       "version_minor": 0
      },
      "text/plain": [
       "Batches:   0%|          | 0/1 [00:00<?, ?it/s]"
      ]
     },
     "metadata": {},
     "output_type": "display_data"
    },
    {
     "data": {
      "application/vnd.jupyter.widget-view+json": {
       "model_id": "2a7f2418ef7f4d66844529b3b0eba5f8",
       "version_major": 2,
       "version_minor": 0
      },
      "text/plain": [
       "Batches:   0%|          | 0/1 [00:00<?, ?it/s]"
      ]
     },
     "metadata": {},
     "output_type": "display_data"
    },
    {
     "data": {
      "application/vnd.jupyter.widget-view+json": {
       "model_id": "5555fad883d84a9e9e7680712ed7e1de",
       "version_major": 2,
       "version_minor": 0
      },
      "text/plain": [
       "Batches:   0%|          | 0/1 [00:00<?, ?it/s]"
      ]
     },
     "metadata": {},
     "output_type": "display_data"
    },
    {
     "data": {
      "application/vnd.jupyter.widget-view+json": {
       "model_id": "e18c028398f448f9a6dde1f601d6dcb4",
       "version_major": 2,
       "version_minor": 0
      },
      "text/plain": [
       "Batches:   0%|          | 0/1 [00:00<?, ?it/s]"
      ]
     },
     "metadata": {},
     "output_type": "display_data"
    },
    {
     "data": {
      "application/vnd.jupyter.widget-view+json": {
       "model_id": "a74806175bc04e37931ee06e1f952985",
       "version_major": 2,
       "version_minor": 0
      },
      "text/plain": [
       "Batches:   0%|          | 0/1 [00:00<?, ?it/s]"
      ]
     },
     "metadata": {},
     "output_type": "display_data"
    },
    {
     "data": {
      "application/vnd.jupyter.widget-view+json": {
       "model_id": "e100f967bce6466a88761fe8ac5cf0f0",
       "version_major": 2,
       "version_minor": 0
      },
      "text/plain": [
       "Batches:   0%|          | 0/1 [00:00<?, ?it/s]"
      ]
     },
     "metadata": {},
     "output_type": "display_data"
    },
    {
     "data": {
      "application/vnd.jupyter.widget-view+json": {
       "model_id": "f347b8e32ff74ff9b584ed999ce9f8b4",
       "version_major": 2,
       "version_minor": 0
      },
      "text/plain": [
       "Batches:   0%|          | 0/1 [00:00<?, ?it/s]"
      ]
     },
     "metadata": {},
     "output_type": "display_data"
    },
    {
     "data": {
      "application/vnd.jupyter.widget-view+json": {
       "model_id": "45c116939bdc44abb04b8f477b69ddb6",
       "version_major": 2,
       "version_minor": 0
      },
      "text/plain": [
       "Batches:   0%|          | 0/1 [00:00<?, ?it/s]"
      ]
     },
     "metadata": {},
     "output_type": "display_data"
    },
    {
     "data": {
      "application/vnd.jupyter.widget-view+json": {
       "model_id": "b1718cf21b7246f1935c89c5f7661fbb",
       "version_major": 2,
       "version_minor": 0
      },
      "text/plain": [
       "Batches:   0%|          | 0/1 [00:00<?, ?it/s]"
      ]
     },
     "metadata": {},
     "output_type": "display_data"
    },
    {
     "data": {
      "application/vnd.jupyter.widget-view+json": {
       "model_id": "b0419c80a525416b9ffd1c457b545531",
       "version_major": 2,
       "version_minor": 0
      },
      "text/plain": [
       "Batches:   0%|          | 0/1 [00:00<?, ?it/s]"
      ]
     },
     "metadata": {},
     "output_type": "display_data"
    },
    {
     "data": {
      "application/vnd.jupyter.widget-view+json": {
       "model_id": "94964d23a48c40578c28db0c72e91c2f",
       "version_major": 2,
       "version_minor": 0
      },
      "text/plain": [
       "Batches:   0%|          | 0/1 [00:00<?, ?it/s]"
      ]
     },
     "metadata": {},
     "output_type": "display_data"
    },
    {
     "data": {
      "application/vnd.jupyter.widget-view+json": {
       "model_id": "2249b1243b7946159fb2e86b1308630e",
       "version_major": 2,
       "version_minor": 0
      },
      "text/plain": [
       "Batches:   0%|          | 0/1 [00:00<?, ?it/s]"
      ]
     },
     "metadata": {},
     "output_type": "display_data"
    },
    {
     "data": {
      "application/vnd.jupyter.widget-view+json": {
       "model_id": "b7d2eabe7b0e46c3bbc2de3e221c725d",
       "version_major": 2,
       "version_minor": 0
      },
      "text/plain": [
       "Batches:   0%|          | 0/1 [00:00<?, ?it/s]"
      ]
     },
     "metadata": {},
     "output_type": "display_data"
    },
    {
     "data": {
      "application/vnd.jupyter.widget-view+json": {
       "model_id": "d038ff32e86f4d9eae421b93ca370db5",
       "version_major": 2,
       "version_minor": 0
      },
      "text/plain": [
       "Batches:   0%|          | 0/1 [00:00<?, ?it/s]"
      ]
     },
     "metadata": {},
     "output_type": "display_data"
    },
    {
     "data": {
      "application/vnd.jupyter.widget-view+json": {
       "model_id": "93834f925b1a4d48b806722d49e95bba",
       "version_major": 2,
       "version_minor": 0
      },
      "text/plain": [
       "Batches:   0%|          | 0/1 [00:00<?, ?it/s]"
      ]
     },
     "metadata": {},
     "output_type": "display_data"
    },
    {
     "data": {
      "application/vnd.jupyter.widget-view+json": {
       "model_id": "f38b670a280243b99d2f1e6c0861ed5c",
       "version_major": 2,
       "version_minor": 0
      },
      "text/plain": [
       "Batches:   0%|          | 0/1 [00:00<?, ?it/s]"
      ]
     },
     "metadata": {},
     "output_type": "display_data"
    },
    {
     "data": {
      "application/vnd.jupyter.widget-view+json": {
       "model_id": "f7347fb5577f46f288cf756473c1b47e",
       "version_major": 2,
       "version_minor": 0
      },
      "text/plain": [
       "Batches:   0%|          | 0/1 [00:00<?, ?it/s]"
      ]
     },
     "metadata": {},
     "output_type": "display_data"
    },
    {
     "data": {
      "application/vnd.jupyter.widget-view+json": {
       "model_id": "542b4295084548389d58ed08562b68f2",
       "version_major": 2,
       "version_minor": 0
      },
      "text/plain": [
       "Batches:   0%|          | 0/1 [00:00<?, ?it/s]"
      ]
     },
     "metadata": {},
     "output_type": "display_data"
    },
    {
     "data": {
      "application/vnd.jupyter.widget-view+json": {
       "model_id": "e6e774d2509047c3aefd57ea7a499b29",
       "version_major": 2,
       "version_minor": 0
      },
      "text/plain": [
       "Batches:   0%|          | 0/1 [00:00<?, ?it/s]"
      ]
     },
     "metadata": {},
     "output_type": "display_data"
    },
    {
     "data": {
      "application/vnd.jupyter.widget-view+json": {
       "model_id": "3271d75fdb284b86832674f2debbe431",
       "version_major": 2,
       "version_minor": 0
      },
      "text/plain": [
       "Batches:   0%|          | 0/1 [00:00<?, ?it/s]"
      ]
     },
     "metadata": {},
     "output_type": "display_data"
    },
    {
     "data": {
      "application/vnd.jupyter.widget-view+json": {
       "model_id": "6318bd7fe06543cf9b1951917fe36ad1",
       "version_major": 2,
       "version_minor": 0
      },
      "text/plain": [
       "Batches:   0%|          | 0/1 [00:00<?, ?it/s]"
      ]
     },
     "metadata": {},
     "output_type": "display_data"
    },
    {
     "data": {
      "application/vnd.jupyter.widget-view+json": {
       "model_id": "d6efbe14186246d2badcc4b49e395ed3",
       "version_major": 2,
       "version_minor": 0
      },
      "text/plain": [
       "Batches:   0%|          | 0/1 [00:00<?, ?it/s]"
      ]
     },
     "metadata": {},
     "output_type": "display_data"
    },
    {
     "data": {
      "application/vnd.jupyter.widget-view+json": {
       "model_id": "2c68567fc24e461cb9562e60e55091df",
       "version_major": 2,
       "version_minor": 0
      },
      "text/plain": [
       "Batches:   0%|          | 0/1 [00:00<?, ?it/s]"
      ]
     },
     "metadata": {},
     "output_type": "display_data"
    },
    {
     "data": {
      "application/vnd.jupyter.widget-view+json": {
       "model_id": "3d385450604742b59a31956328c97c9e",
       "version_major": 2,
       "version_minor": 0
      },
      "text/plain": [
       "Batches:   0%|          | 0/1 [00:00<?, ?it/s]"
      ]
     },
     "metadata": {},
     "output_type": "display_data"
    },
    {
     "data": {
      "application/vnd.jupyter.widget-view+json": {
       "model_id": "7533917eaaf0481cbdef116bd5f4039a",
       "version_major": 2,
       "version_minor": 0
      },
      "text/plain": [
       "Batches:   0%|          | 0/1 [00:00<?, ?it/s]"
      ]
     },
     "metadata": {},
     "output_type": "display_data"
    },
    {
     "data": {
      "application/vnd.jupyter.widget-view+json": {
       "model_id": "7d51915b26f74a68b330f941182c6229",
       "version_major": 2,
       "version_minor": 0
      },
      "text/plain": [
       "Batches:   0%|          | 0/1 [00:00<?, ?it/s]"
      ]
     },
     "metadata": {},
     "output_type": "display_data"
    },
    {
     "data": {
      "application/vnd.jupyter.widget-view+json": {
       "model_id": "ead5e6454ad94220836e4d14073873ad",
       "version_major": 2,
       "version_minor": 0
      },
      "text/plain": [
       "Batches:   0%|          | 0/1 [00:00<?, ?it/s]"
      ]
     },
     "metadata": {},
     "output_type": "display_data"
    },
    {
     "data": {
      "application/vnd.jupyter.widget-view+json": {
       "model_id": "656d9d802e534f818824983f4fef6bd7",
       "version_major": 2,
       "version_minor": 0
      },
      "text/plain": [
       "Batches:   0%|          | 0/1 [00:00<?, ?it/s]"
      ]
     },
     "metadata": {},
     "output_type": "display_data"
    },
    {
     "data": {
      "application/vnd.jupyter.widget-view+json": {
       "model_id": "684ed13ec8674236872442b91e630510",
       "version_major": 2,
       "version_minor": 0
      },
      "text/plain": [
       "Batches:   0%|          | 0/1 [00:00<?, ?it/s]"
      ]
     },
     "metadata": {},
     "output_type": "display_data"
    },
    {
     "data": {
      "application/vnd.jupyter.widget-view+json": {
       "model_id": "2b13ea03f5b74d19bd0299ab4726d483",
       "version_major": 2,
       "version_minor": 0
      },
      "text/plain": [
       "Batches:   0%|          | 0/1 [00:00<?, ?it/s]"
      ]
     },
     "metadata": {},
     "output_type": "display_data"
    },
    {
     "data": {
      "application/vnd.jupyter.widget-view+json": {
       "model_id": "d64dc3583e5d49469635802bb72de099",
       "version_major": 2,
       "version_minor": 0
      },
      "text/plain": [
       "Batches:   0%|          | 0/1 [00:00<?, ?it/s]"
      ]
     },
     "metadata": {},
     "output_type": "display_data"
    },
    {
     "data": {
      "application/vnd.jupyter.widget-view+json": {
       "model_id": "32c3b915a4b841e1bcc775f4b23831b7",
       "version_major": 2,
       "version_minor": 0
      },
      "text/plain": [
       "Batches:   0%|          | 0/1 [00:00<?, ?it/s]"
      ]
     },
     "metadata": {},
     "output_type": "display_data"
    },
    {
     "data": {
      "application/vnd.jupyter.widget-view+json": {
       "model_id": "afd960b1b99a482585a5d03a3504f098",
       "version_major": 2,
       "version_minor": 0
      },
      "text/plain": [
       "Batches:   0%|          | 0/1 [00:00<?, ?it/s]"
      ]
     },
     "metadata": {},
     "output_type": "display_data"
    },
    {
     "data": {
      "application/vnd.jupyter.widget-view+json": {
       "model_id": "77b1ad0662084cdba628b98d68fff1c8",
       "version_major": 2,
       "version_minor": 0
      },
      "text/plain": [
       "Batches:   0%|          | 0/1 [00:00<?, ?it/s]"
      ]
     },
     "metadata": {},
     "output_type": "display_data"
    },
    {
     "data": {
      "application/vnd.jupyter.widget-view+json": {
       "model_id": "e9d24b59966449d49d6cccc3d470f223",
       "version_major": 2,
       "version_minor": 0
      },
      "text/plain": [
       "Batches:   0%|          | 0/1 [00:00<?, ?it/s]"
      ]
     },
     "metadata": {},
     "output_type": "display_data"
    },
    {
     "data": {
      "application/vnd.jupyter.widget-view+json": {
       "model_id": "23e3b5074ee2471d83cd1d8708e2a4c2",
       "version_major": 2,
       "version_minor": 0
      },
      "text/plain": [
       "Batches:   0%|          | 0/1 [00:00<?, ?it/s]"
      ]
     },
     "metadata": {},
     "output_type": "display_data"
    },
    {
     "data": {
      "application/vnd.jupyter.widget-view+json": {
       "model_id": "3912631302094bd580e005dff3a2ed95",
       "version_major": 2,
       "version_minor": 0
      },
      "text/plain": [
       "Batches:   0%|          | 0/1 [00:00<?, ?it/s]"
      ]
     },
     "metadata": {},
     "output_type": "display_data"
    },
    {
     "data": {
      "application/vnd.jupyter.widget-view+json": {
       "model_id": "eb001b16e96e423a8ce98f42c4200255",
       "version_major": 2,
       "version_minor": 0
      },
      "text/plain": [
       "Batches:   0%|          | 0/1 [00:00<?, ?it/s]"
      ]
     },
     "metadata": {},
     "output_type": "display_data"
    },
    {
     "data": {
      "application/vnd.jupyter.widget-view+json": {
       "model_id": "8b8ae6b369f84247b81aff3a166943d4",
       "version_major": 2,
       "version_minor": 0
      },
      "text/plain": [
       "Batches:   0%|          | 0/1 [00:00<?, ?it/s]"
      ]
     },
     "metadata": {},
     "output_type": "display_data"
    },
    {
     "data": {
      "application/vnd.jupyter.widget-view+json": {
       "model_id": "f43f6b6b1d544e60917ebdd9bbfa13bb",
       "version_major": 2,
       "version_minor": 0
      },
      "text/plain": [
       "Batches:   0%|          | 0/1 [00:00<?, ?it/s]"
      ]
     },
     "metadata": {},
     "output_type": "display_data"
    },
    {
     "data": {
      "application/vnd.jupyter.widget-view+json": {
       "model_id": "a34d33ef3335414e83d664e21e550ef4",
       "version_major": 2,
       "version_minor": 0
      },
      "text/plain": [
       "Batches:   0%|          | 0/1 [00:00<?, ?it/s]"
      ]
     },
     "metadata": {},
     "output_type": "display_data"
    },
    {
     "data": {
      "application/vnd.jupyter.widget-view+json": {
       "model_id": "f21c9dd5a85543759a092c992fce57ad",
       "version_major": 2,
       "version_minor": 0
      },
      "text/plain": [
       "Batches:   0%|          | 0/1 [00:00<?, ?it/s]"
      ]
     },
     "metadata": {},
     "output_type": "display_data"
    },
    {
     "data": {
      "application/vnd.jupyter.widget-view+json": {
       "model_id": "5798dc3a768f4176aaf49fc2a770329c",
       "version_major": 2,
       "version_minor": 0
      },
      "text/plain": [
       "Batches:   0%|          | 0/1 [00:00<?, ?it/s]"
      ]
     },
     "metadata": {},
     "output_type": "display_data"
    },
    {
     "data": {
      "application/vnd.jupyter.widget-view+json": {
       "model_id": "e7ddcf301d10445c91f6212c7e652d42",
       "version_major": 2,
       "version_minor": 0
      },
      "text/plain": [
       "Batches:   0%|          | 0/1 [00:00<?, ?it/s]"
      ]
     },
     "metadata": {},
     "output_type": "display_data"
    },
    {
     "data": {
      "application/vnd.jupyter.widget-view+json": {
       "model_id": "429b5c30c5f74d6d97178206712b73c0",
       "version_major": 2,
       "version_minor": 0
      },
      "text/plain": [
       "Batches:   0%|          | 0/1 [00:00<?, ?it/s]"
      ]
     },
     "metadata": {},
     "output_type": "display_data"
    },
    {
     "data": {
      "application/vnd.jupyter.widget-view+json": {
       "model_id": "8f5b08c6ee014eb29fc21c586e097a43",
       "version_major": 2,
       "version_minor": 0
      },
      "text/plain": [
       "Batches:   0%|          | 0/1 [00:00<?, ?it/s]"
      ]
     },
     "metadata": {},
     "output_type": "display_data"
    },
    {
     "data": {
      "application/vnd.jupyter.widget-view+json": {
       "model_id": "681f16b581814ee282da4f78de6b153b",
       "version_major": 2,
       "version_minor": 0
      },
      "text/plain": [
       "Batches:   0%|          | 0/1 [00:00<?, ?it/s]"
      ]
     },
     "metadata": {},
     "output_type": "display_data"
    },
    {
     "data": {
      "application/vnd.jupyter.widget-view+json": {
       "model_id": "362545156ff5410284c8ac224272057d",
       "version_major": 2,
       "version_minor": 0
      },
      "text/plain": [
       "Batches:   0%|          | 0/1 [00:00<?, ?it/s]"
      ]
     },
     "metadata": {},
     "output_type": "display_data"
    },
    {
     "data": {
      "application/vnd.jupyter.widget-view+json": {
       "model_id": "5bef2b004d0249f1863153f61882879b",
       "version_major": 2,
       "version_minor": 0
      },
      "text/plain": [
       "Batches:   0%|          | 0/1 [00:00<?, ?it/s]"
      ]
     },
     "metadata": {},
     "output_type": "display_data"
    },
    {
     "data": {
      "application/vnd.jupyter.widget-view+json": {
       "model_id": "e0e0d8b1c0f74f0ba6dfa9f5fab45559",
       "version_major": 2,
       "version_minor": 0
      },
      "text/plain": [
       "Batches:   0%|          | 0/1 [00:00<?, ?it/s]"
      ]
     },
     "metadata": {},
     "output_type": "display_data"
    },
    {
     "data": {
      "application/vnd.jupyter.widget-view+json": {
       "model_id": "d9493e0bbe3045b4a678bf1429d31d34",
       "version_major": 2,
       "version_minor": 0
      },
      "text/plain": [
       "Batches:   0%|          | 0/1 [00:00<?, ?it/s]"
      ]
     },
     "metadata": {},
     "output_type": "display_data"
    },
    {
     "data": {
      "application/vnd.jupyter.widget-view+json": {
       "model_id": "0f4e7177084541d0a48055b91043eebd",
       "version_major": 2,
       "version_minor": 0
      },
      "text/plain": [
       "Batches:   0%|          | 0/1 [00:00<?, ?it/s]"
      ]
     },
     "metadata": {},
     "output_type": "display_data"
    },
    {
     "data": {
      "application/vnd.jupyter.widget-view+json": {
       "model_id": "c4eb59d9352d4ac6878b511b7dbcc1ec",
       "version_major": 2,
       "version_minor": 0
      },
      "text/plain": [
       "Batches:   0%|          | 0/1 [00:00<?, ?it/s]"
      ]
     },
     "metadata": {},
     "output_type": "display_data"
    },
    {
     "data": {
      "application/vnd.jupyter.widget-view+json": {
       "model_id": "26617684628f4fcbac4774b914e4708e",
       "version_major": 2,
       "version_minor": 0
      },
      "text/plain": [
       "Batches:   0%|          | 0/1 [00:00<?, ?it/s]"
      ]
     },
     "metadata": {},
     "output_type": "display_data"
    },
    {
     "data": {
      "application/vnd.jupyter.widget-view+json": {
       "model_id": "1decf85adf8a47b2b89ad7ab3bdf021d",
       "version_major": 2,
       "version_minor": 0
      },
      "text/plain": [
       "Batches:   0%|          | 0/1 [00:00<?, ?it/s]"
      ]
     },
     "metadata": {},
     "output_type": "display_data"
    },
    {
     "data": {
      "application/vnd.jupyter.widget-view+json": {
       "model_id": "9231385a246e4de28be4d47431b4721a",
       "version_major": 2,
       "version_minor": 0
      },
      "text/plain": [
       "Batches:   0%|          | 0/1 [00:00<?, ?it/s]"
      ]
     },
     "metadata": {},
     "output_type": "display_data"
    },
    {
     "data": {
      "application/vnd.jupyter.widget-view+json": {
       "model_id": "5f3d650649d849638a3790b2a7c5fdbe",
       "version_major": 2,
       "version_minor": 0
      },
      "text/plain": [
       "Batches:   0%|          | 0/1 [00:00<?, ?it/s]"
      ]
     },
     "metadata": {},
     "output_type": "display_data"
    },
    {
     "data": {
      "application/vnd.jupyter.widget-view+json": {
       "model_id": "12c97578170a4170a74ce19d8ac20941",
       "version_major": 2,
       "version_minor": 0
      },
      "text/plain": [
       "Batches:   0%|          | 0/1 [00:00<?, ?it/s]"
      ]
     },
     "metadata": {},
     "output_type": "display_data"
    },
    {
     "data": {
      "application/vnd.jupyter.widget-view+json": {
       "model_id": "b8ee174102184bbba38aea9103fc7f11",
       "version_major": 2,
       "version_minor": 0
      },
      "text/plain": [
       "Batches:   0%|          | 0/1 [00:00<?, ?it/s]"
      ]
     },
     "metadata": {},
     "output_type": "display_data"
    },
    {
     "data": {
      "application/vnd.jupyter.widget-view+json": {
       "model_id": "94e49dec7e74461ba65b22f2c53d000e",
       "version_major": 2,
       "version_minor": 0
      },
      "text/plain": [
       "Batches:   0%|          | 0/1 [00:00<?, ?it/s]"
      ]
     },
     "metadata": {},
     "output_type": "display_data"
    },
    {
     "data": {
      "application/vnd.jupyter.widget-view+json": {
       "model_id": "0ff4ee97e8d942ab964821a93c682de7",
       "version_major": 2,
       "version_minor": 0
      },
      "text/plain": [
       "Batches:   0%|          | 0/1 [00:00<?, ?it/s]"
      ]
     },
     "metadata": {},
     "output_type": "display_data"
    },
    {
     "data": {
      "application/vnd.jupyter.widget-view+json": {
       "model_id": "06e6d250dc3044ccab9d36a8dea54328",
       "version_major": 2,
       "version_minor": 0
      },
      "text/plain": [
       "Batches:   0%|          | 0/1 [00:00<?, ?it/s]"
      ]
     },
     "metadata": {},
     "output_type": "display_data"
    },
    {
     "data": {
      "application/vnd.jupyter.widget-view+json": {
       "model_id": "b95f7870e45c40cdb1c43089c8954bdd",
       "version_major": 2,
       "version_minor": 0
      },
      "text/plain": [
       "Batches:   0%|          | 0/1 [00:00<?, ?it/s]"
      ]
     },
     "metadata": {},
     "output_type": "display_data"
    },
    {
     "data": {
      "application/vnd.jupyter.widget-view+json": {
       "model_id": "206a77b56c0e42dda9f35a384aed898c",
       "version_major": 2,
       "version_minor": 0
      },
      "text/plain": [
       "Batches:   0%|          | 0/1 [00:00<?, ?it/s]"
      ]
     },
     "metadata": {},
     "output_type": "display_data"
    },
    {
     "data": {
      "application/vnd.jupyter.widget-view+json": {
       "model_id": "da0c78b0bb144ea2b0105e76b31d74af",
       "version_major": 2,
       "version_minor": 0
      },
      "text/plain": [
       "Batches:   0%|          | 0/1 [00:00<?, ?it/s]"
      ]
     },
     "metadata": {},
     "output_type": "display_data"
    },
    {
     "data": {
      "application/vnd.jupyter.widget-view+json": {
       "model_id": "86c8feebdd7745b9ab94d745ddec2b31",
       "version_major": 2,
       "version_minor": 0
      },
      "text/plain": [
       "Batches:   0%|          | 0/1 [00:00<?, ?it/s]"
      ]
     },
     "metadata": {},
     "output_type": "display_data"
    },
    {
     "data": {
      "application/vnd.jupyter.widget-view+json": {
       "model_id": "a8df7454c69341279c4162c78d5d87cb",
       "version_major": 2,
       "version_minor": 0
      },
      "text/plain": [
       "Batches:   0%|          | 0/1 [00:00<?, ?it/s]"
      ]
     },
     "metadata": {},
     "output_type": "display_data"
    },
    {
     "data": {
      "application/vnd.jupyter.widget-view+json": {
       "model_id": "4dbf92bcc03f4ab0b66156d857ce49f3",
       "version_major": 2,
       "version_minor": 0
      },
      "text/plain": [
       "Batches:   0%|          | 0/1 [00:00<?, ?it/s]"
      ]
     },
     "metadata": {},
     "output_type": "display_data"
    },
    {
     "data": {
      "application/vnd.jupyter.widget-view+json": {
       "model_id": "d32f856f50ca49018078d308ba1305ba",
       "version_major": 2,
       "version_minor": 0
      },
      "text/plain": [
       "Batches:   0%|          | 0/1 [00:00<?, ?it/s]"
      ]
     },
     "metadata": {},
     "output_type": "display_data"
    },
    {
     "data": {
      "application/vnd.jupyter.widget-view+json": {
       "model_id": "d4d4d9515bc341f9a17a2f270f915931",
       "version_major": 2,
       "version_minor": 0
      },
      "text/plain": [
       "Batches:   0%|          | 0/1 [00:00<?, ?it/s]"
      ]
     },
     "metadata": {},
     "output_type": "display_data"
    },
    {
     "data": {
      "application/vnd.jupyter.widget-view+json": {
       "model_id": "42be1fb2658640c8a4d118a227b47711",
       "version_major": 2,
       "version_minor": 0
      },
      "text/plain": [
       "Batches:   0%|          | 0/1 [00:00<?, ?it/s]"
      ]
     },
     "metadata": {},
     "output_type": "display_data"
    },
    {
     "data": {
      "application/vnd.jupyter.widget-view+json": {
       "model_id": "ebe736ab3760459d80fd1e2c6c41e54f",
       "version_major": 2,
       "version_minor": 0
      },
      "text/plain": [
       "Batches:   0%|          | 0/1 [00:00<?, ?it/s]"
      ]
     },
     "metadata": {},
     "output_type": "display_data"
    },
    {
     "data": {
      "application/vnd.jupyter.widget-view+json": {
       "model_id": "0c6da72305fd4ad488c62b0c50894b09",
       "version_major": 2,
       "version_minor": 0
      },
      "text/plain": [
       "Batches:   0%|          | 0/1 [00:00<?, ?it/s]"
      ]
     },
     "metadata": {},
     "output_type": "display_data"
    },
    {
     "data": {
      "application/vnd.jupyter.widget-view+json": {
       "model_id": "4181a180d25244ba86b4c2db25805539",
       "version_major": 2,
       "version_minor": 0
      },
      "text/plain": [
       "Batches:   0%|          | 0/1 [00:00<?, ?it/s]"
      ]
     },
     "metadata": {},
     "output_type": "display_data"
    },
    {
     "data": {
      "application/vnd.jupyter.widget-view+json": {
       "model_id": "7117fb83c12a49358366cf8dd26bc45c",
       "version_major": 2,
       "version_minor": 0
      },
      "text/plain": [
       "Batches:   0%|          | 0/1 [00:00<?, ?it/s]"
      ]
     },
     "metadata": {},
     "output_type": "display_data"
    },
    {
     "data": {
      "application/vnd.jupyter.widget-view+json": {
       "model_id": "cf10eb05bb4e48ca8b0e9c7b503708c5",
       "version_major": 2,
       "version_minor": 0
      },
      "text/plain": [
       "Batches:   0%|          | 0/1 [00:00<?, ?it/s]"
      ]
     },
     "metadata": {},
     "output_type": "display_data"
    },
    {
     "data": {
      "application/vnd.jupyter.widget-view+json": {
       "model_id": "4ff2a8bb58af4926830200c5fbc97819",
       "version_major": 2,
       "version_minor": 0
      },
      "text/plain": [
       "Batches:   0%|          | 0/1 [00:00<?, ?it/s]"
      ]
     },
     "metadata": {},
     "output_type": "display_data"
    },
    {
     "data": {
      "application/vnd.jupyter.widget-view+json": {
       "model_id": "4711d4338b504ff891dc72695f094876",
       "version_major": 2,
       "version_minor": 0
      },
      "text/plain": [
       "Batches:   0%|          | 0/1 [00:00<?, ?it/s]"
      ]
     },
     "metadata": {},
     "output_type": "display_data"
    },
    {
     "data": {
      "application/vnd.jupyter.widget-view+json": {
       "model_id": "b77733e36c5f48d9a88c3a47d3b462a0",
       "version_major": 2,
       "version_minor": 0
      },
      "text/plain": [
       "Batches:   0%|          | 0/1 [00:00<?, ?it/s]"
      ]
     },
     "metadata": {},
     "output_type": "display_data"
    },
    {
     "data": {
      "application/vnd.jupyter.widget-view+json": {
       "model_id": "96e620487c114675bc533efddecae72a",
       "version_major": 2,
       "version_minor": 0
      },
      "text/plain": [
       "Batches:   0%|          | 0/1 [00:00<?, ?it/s]"
      ]
     },
     "metadata": {},
     "output_type": "display_data"
    },
    {
     "data": {
      "application/vnd.jupyter.widget-view+json": {
       "model_id": "24a084a5bb51403991ec2555196fa0b0",
       "version_major": 2,
       "version_minor": 0
      },
      "text/plain": [
       "Batches:   0%|          | 0/1 [00:00<?, ?it/s]"
      ]
     },
     "metadata": {},
     "output_type": "display_data"
    },
    {
     "data": {
      "application/vnd.jupyter.widget-view+json": {
       "model_id": "8ecb74ee078e4ff6b3ecc7cbf819a0a4",
       "version_major": 2,
       "version_minor": 0
      },
      "text/plain": [
       "Batches:   0%|          | 0/1 [00:00<?, ?it/s]"
      ]
     },
     "metadata": {},
     "output_type": "display_data"
    },
    {
     "data": {
      "application/vnd.jupyter.widget-view+json": {
       "model_id": "a023a97c69804d2e81133498ec0955d2",
       "version_major": 2,
       "version_minor": 0
      },
      "text/plain": [
       "Batches:   0%|          | 0/1 [00:00<?, ?it/s]"
      ]
     },
     "metadata": {},
     "output_type": "display_data"
    },
    {
     "data": {
      "application/vnd.jupyter.widget-view+json": {
       "model_id": "68e9f91f10074291bcde56cbfadabc66",
       "version_major": 2,
       "version_minor": 0
      },
      "text/plain": [
       "Batches:   0%|          | 0/1 [00:00<?, ?it/s]"
      ]
     },
     "metadata": {},
     "output_type": "display_data"
    },
    {
     "data": {
      "application/vnd.jupyter.widget-view+json": {
       "model_id": "87c884a32acf47bc8db40bbbebe22a8c",
       "version_major": 2,
       "version_minor": 0
      },
      "text/plain": [
       "Batches:   0%|          | 0/1 [00:00<?, ?it/s]"
      ]
     },
     "metadata": {},
     "output_type": "display_data"
    },
    {
     "data": {
      "application/vnd.jupyter.widget-view+json": {
       "model_id": "d70c4ed2acae4d3a8335381f4f0b931f",
       "version_major": 2,
       "version_minor": 0
      },
      "text/plain": [
       "Batches:   0%|          | 0/1 [00:00<?, ?it/s]"
      ]
     },
     "metadata": {},
     "output_type": "display_data"
    },
    {
     "data": {
      "application/vnd.jupyter.widget-view+json": {
       "model_id": "6725dbe67f1a43fca601b615ad729ad8",
       "version_major": 2,
       "version_minor": 0
      },
      "text/plain": [
       "Batches:   0%|          | 0/1 [00:00<?, ?it/s]"
      ]
     },
     "metadata": {},
     "output_type": "display_data"
    },
    {
     "data": {
      "application/vnd.jupyter.widget-view+json": {
       "model_id": "b9d12470772545108ce575f536e8817c",
       "version_major": 2,
       "version_minor": 0
      },
      "text/plain": [
       "Batches:   0%|          | 0/1 [00:00<?, ?it/s]"
      ]
     },
     "metadata": {},
     "output_type": "display_data"
    },
    {
     "data": {
      "application/vnd.jupyter.widget-view+json": {
       "model_id": "c5e5c21cfdea4d209f764d69eafb0b4b",
       "version_major": 2,
       "version_minor": 0
      },
      "text/plain": [
       "Batches:   0%|          | 0/1 [00:00<?, ?it/s]"
      ]
     },
     "metadata": {},
     "output_type": "display_data"
    },
    {
     "data": {
      "application/vnd.jupyter.widget-view+json": {
       "model_id": "6fe54ea9bcfa48cc827b49fcd63674e8",
       "version_major": 2,
       "version_minor": 0
      },
      "text/plain": [
       "Batches:   0%|          | 0/1 [00:00<?, ?it/s]"
      ]
     },
     "metadata": {},
     "output_type": "display_data"
    },
    {
     "data": {
      "application/vnd.jupyter.widget-view+json": {
       "model_id": "c6948734568a4a1cae39ecdd328ca153",
       "version_major": 2,
       "version_minor": 0
      },
      "text/plain": [
       "Batches:   0%|          | 0/1 [00:00<?, ?it/s]"
      ]
     },
     "metadata": {},
     "output_type": "display_data"
    },
    {
     "data": {
      "application/vnd.jupyter.widget-view+json": {
       "model_id": "14176e746fe04c5d8c03beae5c1f4d00",
       "version_major": 2,
       "version_minor": 0
      },
      "text/plain": [
       "Batches:   0%|          | 0/1 [00:00<?, ?it/s]"
      ]
     },
     "metadata": {},
     "output_type": "display_data"
    },
    {
     "data": {
      "application/vnd.jupyter.widget-view+json": {
       "model_id": "7f3476644a20463cbcfda692a53652c5",
       "version_major": 2,
       "version_minor": 0
      },
      "text/plain": [
       "Batches:   0%|          | 0/1 [00:00<?, ?it/s]"
      ]
     },
     "metadata": {},
     "output_type": "display_data"
    },
    {
     "data": {
      "application/vnd.jupyter.widget-view+json": {
       "model_id": "c3a78d40d8964fa3b11d47a07d9cd4b2",
       "version_major": 2,
       "version_minor": 0
      },
      "text/plain": [
       "Batches:   0%|          | 0/1 [00:00<?, ?it/s]"
      ]
     },
     "metadata": {},
     "output_type": "display_data"
    },
    {
     "data": {
      "application/vnd.jupyter.widget-view+json": {
       "model_id": "7bf7b0979b10423cb13eb734c1f4a3d8",
       "version_major": 2,
       "version_minor": 0
      },
      "text/plain": [
       "Batches:   0%|          | 0/1 [00:00<?, ?it/s]"
      ]
     },
     "metadata": {},
     "output_type": "display_data"
    },
    {
     "data": {
      "application/vnd.jupyter.widget-view+json": {
       "model_id": "e72e1588c44b4e52990d585d967e88f8",
       "version_major": 2,
       "version_minor": 0
      },
      "text/plain": [
       "Batches:   0%|          | 0/1 [00:00<?, ?it/s]"
      ]
     },
     "metadata": {},
     "output_type": "display_data"
    },
    {
     "data": {
      "application/vnd.jupyter.widget-view+json": {
       "model_id": "c262495705f045c8bb5770f3d533b8e9",
       "version_major": 2,
       "version_minor": 0
      },
      "text/plain": [
       "Batches:   0%|          | 0/1 [00:00<?, ?it/s]"
      ]
     },
     "metadata": {},
     "output_type": "display_data"
    },
    {
     "data": {
      "application/vnd.jupyter.widget-view+json": {
       "model_id": "0c5c70b6fcc34bd08333e16ec0643d7d",
       "version_major": 2,
       "version_minor": 0
      },
      "text/plain": [
       "Batches:   0%|          | 0/1 [00:00<?, ?it/s]"
      ]
     },
     "metadata": {},
     "output_type": "display_data"
    },
    {
     "data": {
      "application/vnd.jupyter.widget-view+json": {
       "model_id": "ef20be92043c476a83e505f7a2cb5c95",
       "version_major": 2,
       "version_minor": 0
      },
      "text/plain": [
       "Batches:   0%|          | 0/1 [00:00<?, ?it/s]"
      ]
     },
     "metadata": {},
     "output_type": "display_data"
    },
    {
     "data": {
      "application/vnd.jupyter.widget-view+json": {
       "model_id": "723368c57ea549b69e1cc481c4d4897d",
       "version_major": 2,
       "version_minor": 0
      },
      "text/plain": [
       "Batches:   0%|          | 0/1 [00:00<?, ?it/s]"
      ]
     },
     "metadata": {},
     "output_type": "display_data"
    },
    {
     "data": {
      "application/vnd.jupyter.widget-view+json": {
       "model_id": "c360eeeee25f4a19b8d1f3920412356a",
       "version_major": 2,
       "version_minor": 0
      },
      "text/plain": [
       "Batches:   0%|          | 0/1 [00:00<?, ?it/s]"
      ]
     },
     "metadata": {},
     "output_type": "display_data"
    },
    {
     "data": {
      "application/vnd.jupyter.widget-view+json": {
       "model_id": "c7272469e7484b4da12af19931caad37",
       "version_major": 2,
       "version_minor": 0
      },
      "text/plain": [
       "Batches:   0%|          | 0/1 [00:00<?, ?it/s]"
      ]
     },
     "metadata": {},
     "output_type": "display_data"
    },
    {
     "data": {
      "application/vnd.jupyter.widget-view+json": {
       "model_id": "1fd485c5c68144799fd24ab2679593ac",
       "version_major": 2,
       "version_minor": 0
      },
      "text/plain": [
       "Batches:   0%|          | 0/1 [00:00<?, ?it/s]"
      ]
     },
     "metadata": {},
     "output_type": "display_data"
    },
    {
     "data": {
      "application/vnd.jupyter.widget-view+json": {
       "model_id": "3799bf78c539492995e4cc96c59d97af",
       "version_major": 2,
       "version_minor": 0
      },
      "text/plain": [
       "Batches:   0%|          | 0/1 [00:00<?, ?it/s]"
      ]
     },
     "metadata": {},
     "output_type": "display_data"
    },
    {
     "data": {
      "application/vnd.jupyter.widget-view+json": {
       "model_id": "c3c53f71ff4a4ef5bc20da0819138f3c",
       "version_major": 2,
       "version_minor": 0
      },
      "text/plain": [
       "Batches:   0%|          | 0/1 [00:00<?, ?it/s]"
      ]
     },
     "metadata": {},
     "output_type": "display_data"
    },
    {
     "data": {
      "application/vnd.jupyter.widget-view+json": {
       "model_id": "0570d632b79747618840c0e5dd6783f5",
       "version_major": 2,
       "version_minor": 0
      },
      "text/plain": [
       "Batches:   0%|          | 0/1 [00:00<?, ?it/s]"
      ]
     },
     "metadata": {},
     "output_type": "display_data"
    },
    {
     "data": {
      "application/vnd.jupyter.widget-view+json": {
       "model_id": "1644591adfb64c1aafb0a27f14063d39",
       "version_major": 2,
       "version_minor": 0
      },
      "text/plain": [
       "Batches:   0%|          | 0/1 [00:00<?, ?it/s]"
      ]
     },
     "metadata": {},
     "output_type": "display_data"
    },
    {
     "data": {
      "application/vnd.jupyter.widget-view+json": {
       "model_id": "92c0b132061f4f5ba302c945f6a071e1",
       "version_major": 2,
       "version_minor": 0
      },
      "text/plain": [
       "Batches:   0%|          | 0/1 [00:00<?, ?it/s]"
      ]
     },
     "metadata": {},
     "output_type": "display_data"
    },
    {
     "data": {
      "application/vnd.jupyter.widget-view+json": {
       "model_id": "a3db0bd770404628a53eaddb0dde89bf",
       "version_major": 2,
       "version_minor": 0
      },
      "text/plain": [
       "Batches:   0%|          | 0/1 [00:00<?, ?it/s]"
      ]
     },
     "metadata": {},
     "output_type": "display_data"
    },
    {
     "data": {
      "application/vnd.jupyter.widget-view+json": {
       "model_id": "82b7c9bf272c476db251c7ef74f8b513",
       "version_major": 2,
       "version_minor": 0
      },
      "text/plain": [
       "Batches:   0%|          | 0/1 [00:00<?, ?it/s]"
      ]
     },
     "metadata": {},
     "output_type": "display_data"
    },
    {
     "data": {
      "application/vnd.jupyter.widget-view+json": {
       "model_id": "c771506438654710a1b63af886f0a69a",
       "version_major": 2,
       "version_minor": 0
      },
      "text/plain": [
       "Batches:   0%|          | 0/1 [00:00<?, ?it/s]"
      ]
     },
     "metadata": {},
     "output_type": "display_data"
    },
    {
     "data": {
      "application/vnd.jupyter.widget-view+json": {
       "model_id": "d60b9d1c6a0644508daf67da4aeba547",
       "version_major": 2,
       "version_minor": 0
      },
      "text/plain": [
       "Batches:   0%|          | 0/1 [00:00<?, ?it/s]"
      ]
     },
     "metadata": {},
     "output_type": "display_data"
    },
    {
     "data": {
      "application/vnd.jupyter.widget-view+json": {
       "model_id": "68caa17c8bf24a5295fab00ff62a2dc3",
       "version_major": 2,
       "version_minor": 0
      },
      "text/plain": [
       "Batches:   0%|          | 0/1 [00:00<?, ?it/s]"
      ]
     },
     "metadata": {},
     "output_type": "display_data"
    },
    {
     "data": {
      "application/vnd.jupyter.widget-view+json": {
       "model_id": "f01a8d1b8cde402db0b83c78c0ce62e0",
       "version_major": 2,
       "version_minor": 0
      },
      "text/plain": [
       "Batches:   0%|          | 0/1 [00:00<?, ?it/s]"
      ]
     },
     "metadata": {},
     "output_type": "display_data"
    },
    {
     "data": {
      "application/vnd.jupyter.widget-view+json": {
       "model_id": "80c9bbf6867d4f748ef024c8efec9e2a",
       "version_major": 2,
       "version_minor": 0
      },
      "text/plain": [
       "Batches:   0%|          | 0/1 [00:00<?, ?it/s]"
      ]
     },
     "metadata": {},
     "output_type": "display_data"
    },
    {
     "data": {
      "application/vnd.jupyter.widget-view+json": {
       "model_id": "bd3e3dd6e81542b684ad49f01593f55a",
       "version_major": 2,
       "version_minor": 0
      },
      "text/plain": [
       "Batches:   0%|          | 0/1 [00:00<?, ?it/s]"
      ]
     },
     "metadata": {},
     "output_type": "display_data"
    },
    {
     "data": {
      "application/vnd.jupyter.widget-view+json": {
       "model_id": "3b6b61a9e6b5400eb85230ced72c4dc8",
       "version_major": 2,
       "version_minor": 0
      },
      "text/plain": [
       "Batches:   0%|          | 0/1 [00:00<?, ?it/s]"
      ]
     },
     "metadata": {},
     "output_type": "display_data"
    },
    {
     "data": {
      "application/vnd.jupyter.widget-view+json": {
       "model_id": "d68a84920a81494d806671de8cb6ea17",
       "version_major": 2,
       "version_minor": 0
      },
      "text/plain": [
       "Batches:   0%|          | 0/1 [00:00<?, ?it/s]"
      ]
     },
     "metadata": {},
     "output_type": "display_data"
    },
    {
     "data": {
      "application/vnd.jupyter.widget-view+json": {
       "model_id": "2cf4b3769764463db9c79a62c6f5c546",
       "version_major": 2,
       "version_minor": 0
      },
      "text/plain": [
       "Batches:   0%|          | 0/1 [00:00<?, ?it/s]"
      ]
     },
     "metadata": {},
     "output_type": "display_data"
    },
    {
     "data": {
      "application/vnd.jupyter.widget-view+json": {
       "model_id": "07b3c06172c647d3b03d33f486a437b1",
       "version_major": 2,
       "version_minor": 0
      },
      "text/plain": [
       "Batches:   0%|          | 0/1 [00:00<?, ?it/s]"
      ]
     },
     "metadata": {},
     "output_type": "display_data"
    },
    {
     "data": {
      "application/vnd.jupyter.widget-view+json": {
       "model_id": "e4aacd13b64b4570ae13412733abb78b",
       "version_major": 2,
       "version_minor": 0
      },
      "text/plain": [
       "Batches:   0%|          | 0/1 [00:00<?, ?it/s]"
      ]
     },
     "metadata": {},
     "output_type": "display_data"
    },
    {
     "data": {
      "application/vnd.jupyter.widget-view+json": {
       "model_id": "63bcb1feca634f4dade61a4713ac74e7",
       "version_major": 2,
       "version_minor": 0
      },
      "text/plain": [
       "Batches:   0%|          | 0/1 [00:00<?, ?it/s]"
      ]
     },
     "metadata": {},
     "output_type": "display_data"
    },
    {
     "data": {
      "application/vnd.jupyter.widget-view+json": {
       "model_id": "07625ac8b3d44ed2b898fa1e3c791428",
       "version_major": 2,
       "version_minor": 0
      },
      "text/plain": [
       "Batches:   0%|          | 0/1 [00:00<?, ?it/s]"
      ]
     },
     "metadata": {},
     "output_type": "display_data"
    },
    {
     "data": {
      "application/vnd.jupyter.widget-view+json": {
       "model_id": "1b708cc579974e06950375efd46771b0",
       "version_major": 2,
       "version_minor": 0
      },
      "text/plain": [
       "Batches:   0%|          | 0/1 [00:00<?, ?it/s]"
      ]
     },
     "metadata": {},
     "output_type": "display_data"
    },
    {
     "data": {
      "application/vnd.jupyter.widget-view+json": {
       "model_id": "b4da93f2b4884e31ae47905dcd45ee96",
       "version_major": 2,
       "version_minor": 0
      },
      "text/plain": [
       "Batches:   0%|          | 0/1 [00:00<?, ?it/s]"
      ]
     },
     "metadata": {},
     "output_type": "display_data"
    },
    {
     "data": {
      "application/vnd.jupyter.widget-view+json": {
       "model_id": "e7daadb0fe5946208dc2bd864c88e1d5",
       "version_major": 2,
       "version_minor": 0
      },
      "text/plain": [
       "Batches:   0%|          | 0/1 [00:00<?, ?it/s]"
      ]
     },
     "metadata": {},
     "output_type": "display_data"
    },
    {
     "data": {
      "application/vnd.jupyter.widget-view+json": {
       "model_id": "4561c03440c04188b5782a8aef1aa69b",
       "version_major": 2,
       "version_minor": 0
      },
      "text/plain": [
       "Batches:   0%|          | 0/1 [00:00<?, ?it/s]"
      ]
     },
     "metadata": {},
     "output_type": "display_data"
    },
    {
     "data": {
      "application/vnd.jupyter.widget-view+json": {
       "model_id": "b076893a7c4147f78082bc81552fb26c",
       "version_major": 2,
       "version_minor": 0
      },
      "text/plain": [
       "Batches:   0%|          | 0/1 [00:00<?, ?it/s]"
      ]
     },
     "metadata": {},
     "output_type": "display_data"
    },
    {
     "data": {
      "application/vnd.jupyter.widget-view+json": {
       "model_id": "2f7d79f9ba0e4adc896fe043f40f698d",
       "version_major": 2,
       "version_minor": 0
      },
      "text/plain": [
       "Batches:   0%|          | 0/1 [00:00<?, ?it/s]"
      ]
     },
     "metadata": {},
     "output_type": "display_data"
    },
    {
     "data": {
      "application/vnd.jupyter.widget-view+json": {
       "model_id": "08c59445c67748018ba585f4b28d9808",
       "version_major": 2,
       "version_minor": 0
      },
      "text/plain": [
       "Batches:   0%|          | 0/1 [00:00<?, ?it/s]"
      ]
     },
     "metadata": {},
     "output_type": "display_data"
    },
    {
     "data": {
      "application/vnd.jupyter.widget-view+json": {
       "model_id": "5c8b573b85164ce0950238fd0dddcee8",
       "version_major": 2,
       "version_minor": 0
      },
      "text/plain": [
       "Batches:   0%|          | 0/1 [00:00<?, ?it/s]"
      ]
     },
     "metadata": {},
     "output_type": "display_data"
    },
    {
     "data": {
      "application/vnd.jupyter.widget-view+json": {
       "model_id": "f47d0ee726bf4ebe8d3d02bba421597f",
       "version_major": 2,
       "version_minor": 0
      },
      "text/plain": [
       "Batches:   0%|          | 0/1 [00:00<?, ?it/s]"
      ]
     },
     "metadata": {},
     "output_type": "display_data"
    },
    {
     "data": {
      "application/vnd.jupyter.widget-view+json": {
       "model_id": "27201e0cdda24d928f2cb320a7921fdf",
       "version_major": 2,
       "version_minor": 0
      },
      "text/plain": [
       "Batches:   0%|          | 0/1 [00:00<?, ?it/s]"
      ]
     },
     "metadata": {},
     "output_type": "display_data"
    },
    {
     "data": {
      "application/vnd.jupyter.widget-view+json": {
       "model_id": "991a9a95db8d4753bffc402f6e1a05ce",
       "version_major": 2,
       "version_minor": 0
      },
      "text/plain": [
       "Batches:   0%|          | 0/1 [00:00<?, ?it/s]"
      ]
     },
     "metadata": {},
     "output_type": "display_data"
    },
    {
     "data": {
      "application/vnd.jupyter.widget-view+json": {
       "model_id": "ede4a910e7eb4517aeeebe31702d15e5",
       "version_major": 2,
       "version_minor": 0
      },
      "text/plain": [
       "Batches:   0%|          | 0/1 [00:00<?, ?it/s]"
      ]
     },
     "metadata": {},
     "output_type": "display_data"
    },
    {
     "data": {
      "application/vnd.jupyter.widget-view+json": {
       "model_id": "cb0cbaf706ee49b99b51894b1778836d",
       "version_major": 2,
       "version_minor": 0
      },
      "text/plain": [
       "Batches:   0%|          | 0/1 [00:00<?, ?it/s]"
      ]
     },
     "metadata": {},
     "output_type": "display_data"
    },
    {
     "data": {
      "application/vnd.jupyter.widget-view+json": {
       "model_id": "fc582c356c164a75badd15de6b7950e9",
       "version_major": 2,
       "version_minor": 0
      },
      "text/plain": [
       "Batches:   0%|          | 0/1 [00:00<?, ?it/s]"
      ]
     },
     "metadata": {},
     "output_type": "display_data"
    },
    {
     "data": {
      "application/vnd.jupyter.widget-view+json": {
       "model_id": "ff4c985c669849b4ae9dabdfeda9b57d",
       "version_major": 2,
       "version_minor": 0
      },
      "text/plain": [
       "Batches:   0%|          | 0/1 [00:00<?, ?it/s]"
      ]
     },
     "metadata": {},
     "output_type": "display_data"
    },
    {
     "data": {
      "application/vnd.jupyter.widget-view+json": {
       "model_id": "d5e9f3fb280d4f959eb1cf6dac169b18",
       "version_major": 2,
       "version_minor": 0
      },
      "text/plain": [
       "Batches:   0%|          | 0/1 [00:00<?, ?it/s]"
      ]
     },
     "metadata": {},
     "output_type": "display_data"
    },
    {
     "data": {
      "application/vnd.jupyter.widget-view+json": {
       "model_id": "b4390cf40be340b7bc6a9a6b84649cab",
       "version_major": 2,
       "version_minor": 0
      },
      "text/plain": [
       "Batches:   0%|          | 0/1 [00:00<?, ?it/s]"
      ]
     },
     "metadata": {},
     "output_type": "display_data"
    },
    {
     "data": {
      "application/vnd.jupyter.widget-view+json": {
       "model_id": "41e91633683f4fdeab87c324b36264bb",
       "version_major": 2,
       "version_minor": 0
      },
      "text/plain": [
       "Batches:   0%|          | 0/1 [00:00<?, ?it/s]"
      ]
     },
     "metadata": {},
     "output_type": "display_data"
    },
    {
     "data": {
      "application/vnd.jupyter.widget-view+json": {
       "model_id": "0f05ee0bb2a64404b260c9eb64022090",
       "version_major": 2,
       "version_minor": 0
      },
      "text/plain": [
       "Batches:   0%|          | 0/1 [00:00<?, ?it/s]"
      ]
     },
     "metadata": {},
     "output_type": "display_data"
    },
    {
     "data": {
      "application/vnd.jupyter.widget-view+json": {
       "model_id": "c5c9737faf8c44b49f5adb704d2d7dd1",
       "version_major": 2,
       "version_minor": 0
      },
      "text/plain": [
       "Batches:   0%|          | 0/1 [00:00<?, ?it/s]"
      ]
     },
     "metadata": {},
     "output_type": "display_data"
    },
    {
     "data": {
      "application/vnd.jupyter.widget-view+json": {
       "model_id": "29bec84793a347b489b9dca48f16c95c",
       "version_major": 2,
       "version_minor": 0
      },
      "text/plain": [
       "Batches:   0%|          | 0/1 [00:00<?, ?it/s]"
      ]
     },
     "metadata": {},
     "output_type": "display_data"
    },
    {
     "data": {
      "application/vnd.jupyter.widget-view+json": {
       "model_id": "e680434a746a4b4eaeedc1e127d46e1e",
       "version_major": 2,
       "version_minor": 0
      },
      "text/plain": [
       "Batches:   0%|          | 0/1 [00:00<?, ?it/s]"
      ]
     },
     "metadata": {},
     "output_type": "display_data"
    },
    {
     "data": {
      "application/vnd.jupyter.widget-view+json": {
       "model_id": "ddf03220e8224503b797594147d9849f",
       "version_major": 2,
       "version_minor": 0
      },
      "text/plain": [
       "Batches:   0%|          | 0/1 [00:00<?, ?it/s]"
      ]
     },
     "metadata": {},
     "output_type": "display_data"
    },
    {
     "data": {
      "application/vnd.jupyter.widget-view+json": {
       "model_id": "6ef7d465af9e4be997879d55c7c5dc93",
       "version_major": 2,
       "version_minor": 0
      },
      "text/plain": [
       "Batches:   0%|          | 0/1 [00:00<?, ?it/s]"
      ]
     },
     "metadata": {},
     "output_type": "display_data"
    },
    {
     "data": {
      "application/vnd.jupyter.widget-view+json": {
       "model_id": "254bed45159c4186a65685f8f3c41de3",
       "version_major": 2,
       "version_minor": 0
      },
      "text/plain": [
       "Batches:   0%|          | 0/1 [00:00<?, ?it/s]"
      ]
     },
     "metadata": {},
     "output_type": "display_data"
    },
    {
     "data": {
      "application/vnd.jupyter.widget-view+json": {
       "model_id": "c0d0a2c7f2364c7fb50fb935308588ee",
       "version_major": 2,
       "version_minor": 0
      },
      "text/plain": [
       "Batches:   0%|          | 0/1 [00:00<?, ?it/s]"
      ]
     },
     "metadata": {},
     "output_type": "display_data"
    },
    {
     "data": {
      "application/vnd.jupyter.widget-view+json": {
       "model_id": "6974c1352d7d4406a32398d40b910055",
       "version_major": 2,
       "version_minor": 0
      },
      "text/plain": [
       "Batches:   0%|          | 0/1 [00:00<?, ?it/s]"
      ]
     },
     "metadata": {},
     "output_type": "display_data"
    },
    {
     "data": {
      "application/vnd.jupyter.widget-view+json": {
       "model_id": "6de3df3e28b54414b1f016c295fc0533",
       "version_major": 2,
       "version_minor": 0
      },
      "text/plain": [
       "Batches:   0%|          | 0/1 [00:00<?, ?it/s]"
      ]
     },
     "metadata": {},
     "output_type": "display_data"
    },
    {
     "data": {
      "application/vnd.jupyter.widget-view+json": {
       "model_id": "e929a5c57ad44151b60a2a63567f726a",
       "version_major": 2,
       "version_minor": 0
      },
      "text/plain": [
       "Batches:   0%|          | 0/1 [00:00<?, ?it/s]"
      ]
     },
     "metadata": {},
     "output_type": "display_data"
    },
    {
     "data": {
      "application/vnd.jupyter.widget-view+json": {
       "model_id": "00f288c9c28f4ce496d5fa2309fb535c",
       "version_major": 2,
       "version_minor": 0
      },
      "text/plain": [
       "Batches:   0%|          | 0/1 [00:00<?, ?it/s]"
      ]
     },
     "metadata": {},
     "output_type": "display_data"
    },
    {
     "data": {
      "application/vnd.jupyter.widget-view+json": {
       "model_id": "767bb27bc2084ac997148fa80c1b096f",
       "version_major": 2,
       "version_minor": 0
      },
      "text/plain": [
       "Batches:   0%|          | 0/1 [00:00<?, ?it/s]"
      ]
     },
     "metadata": {},
     "output_type": "display_data"
    },
    {
     "data": {
      "application/vnd.jupyter.widget-view+json": {
       "model_id": "1454989eb5ca4f28836267e4324c38b6",
       "version_major": 2,
       "version_minor": 0
      },
      "text/plain": [
       "Batches:   0%|          | 0/1 [00:00<?, ?it/s]"
      ]
     },
     "metadata": {},
     "output_type": "display_data"
    },
    {
     "data": {
      "application/vnd.jupyter.widget-view+json": {
       "model_id": "b64f7aac5ab143c8a66b23930ce568c0",
       "version_major": 2,
       "version_minor": 0
      },
      "text/plain": [
       "Batches:   0%|          | 0/1 [00:00<?, ?it/s]"
      ]
     },
     "metadata": {},
     "output_type": "display_data"
    },
    {
     "data": {
      "application/vnd.jupyter.widget-view+json": {
       "model_id": "6b394d13ec5944509afe275f1d0a99e9",
       "version_major": 2,
       "version_minor": 0
      },
      "text/plain": [
       "Batches:   0%|          | 0/1 [00:00<?, ?it/s]"
      ]
     },
     "metadata": {},
     "output_type": "display_data"
    },
    {
     "data": {
      "application/vnd.jupyter.widget-view+json": {
       "model_id": "07fc6b1d9dfe47708f4a02061bc98876",
       "version_major": 2,
       "version_minor": 0
      },
      "text/plain": [
       "Batches:   0%|          | 0/1 [00:00<?, ?it/s]"
      ]
     },
     "metadata": {},
     "output_type": "display_data"
    },
    {
     "data": {
      "application/vnd.jupyter.widget-view+json": {
       "model_id": "2f7e660acb6f4186b812a2aaeda3f0ca",
       "version_major": 2,
       "version_minor": 0
      },
      "text/plain": [
       "Batches:   0%|          | 0/1 [00:00<?, ?it/s]"
      ]
     },
     "metadata": {},
     "output_type": "display_data"
    },
    {
     "data": {
      "application/vnd.jupyter.widget-view+json": {
       "model_id": "990463231b634ecd8ea96a9d67d9f692",
       "version_major": 2,
       "version_minor": 0
      },
      "text/plain": [
       "Batches:   0%|          | 0/1 [00:00<?, ?it/s]"
      ]
     },
     "metadata": {},
     "output_type": "display_data"
    },
    {
     "data": {
      "application/vnd.jupyter.widget-view+json": {
       "model_id": "b8610f18ccbe46069721385e009841fc",
       "version_major": 2,
       "version_minor": 0
      },
      "text/plain": [
       "Batches:   0%|          | 0/1 [00:00<?, ?it/s]"
      ]
     },
     "metadata": {},
     "output_type": "display_data"
    },
    {
     "data": {
      "application/vnd.jupyter.widget-view+json": {
       "model_id": "03baec6752394e12aabe52c773475e87",
       "version_major": 2,
       "version_minor": 0
      },
      "text/plain": [
       "Batches:   0%|          | 0/1 [00:00<?, ?it/s]"
      ]
     },
     "metadata": {},
     "output_type": "display_data"
    },
    {
     "data": {
      "application/vnd.jupyter.widget-view+json": {
       "model_id": "ded57ed0a28a4ef78b9526f1c648d4b6",
       "version_major": 2,
       "version_minor": 0
      },
      "text/plain": [
       "Batches:   0%|          | 0/1 [00:00<?, ?it/s]"
      ]
     },
     "metadata": {},
     "output_type": "display_data"
    },
    {
     "data": {
      "application/vnd.jupyter.widget-view+json": {
       "model_id": "680cdef2bc7b4d5c8358675ae5391668",
       "version_major": 2,
       "version_minor": 0
      },
      "text/plain": [
       "Batches:   0%|          | 0/1 [00:00<?, ?it/s]"
      ]
     },
     "metadata": {},
     "output_type": "display_data"
    },
    {
     "data": {
      "application/vnd.jupyter.widget-view+json": {
       "model_id": "b0d3a0496ce3429f9c46c2d02bd0815f",
       "version_major": 2,
       "version_minor": 0
      },
      "text/plain": [
       "Batches:   0%|          | 0/1 [00:00<?, ?it/s]"
      ]
     },
     "metadata": {},
     "output_type": "display_data"
    },
    {
     "data": {
      "application/vnd.jupyter.widget-view+json": {
       "model_id": "930e55b0be334c33b767d959dc72f4af",
       "version_major": 2,
       "version_minor": 0
      },
      "text/plain": [
       "Batches:   0%|          | 0/1 [00:00<?, ?it/s]"
      ]
     },
     "metadata": {},
     "output_type": "display_data"
    },
    {
     "data": {
      "application/vnd.jupyter.widget-view+json": {
       "model_id": "0c619844e07d4c9a8b79eae493d707f0",
       "version_major": 2,
       "version_minor": 0
      },
      "text/plain": [
       "Batches:   0%|          | 0/1 [00:00<?, ?it/s]"
      ]
     },
     "metadata": {},
     "output_type": "display_data"
    },
    {
     "data": {
      "application/vnd.jupyter.widget-view+json": {
       "model_id": "38e1b9a21292450592d40f0b75f91982",
       "version_major": 2,
       "version_minor": 0
      },
      "text/plain": [
       "Batches:   0%|          | 0/1 [00:00<?, ?it/s]"
      ]
     },
     "metadata": {},
     "output_type": "display_data"
    },
    {
     "data": {
      "application/vnd.jupyter.widget-view+json": {
       "model_id": "b541c9f8f90a4f84bef99f6175d877c9",
       "version_major": 2,
       "version_minor": 0
      },
      "text/plain": [
       "Batches:   0%|          | 0/1 [00:00<?, ?it/s]"
      ]
     },
     "metadata": {},
     "output_type": "display_data"
    },
    {
     "data": {
      "application/vnd.jupyter.widget-view+json": {
       "model_id": "93085ef1273b4eb3a3d9bac780d55754",
       "version_major": 2,
       "version_minor": 0
      },
      "text/plain": [
       "Batches:   0%|          | 0/1 [00:00<?, ?it/s]"
      ]
     },
     "metadata": {},
     "output_type": "display_data"
    },
    {
     "data": {
      "application/vnd.jupyter.widget-view+json": {
       "model_id": "f4d765dcb1f44522a3232f2f42c774b7",
       "version_major": 2,
       "version_minor": 0
      },
      "text/plain": [
       "Batches:   0%|          | 0/1 [00:00<?, ?it/s]"
      ]
     },
     "metadata": {},
     "output_type": "display_data"
    },
    {
     "data": {
      "application/vnd.jupyter.widget-view+json": {
       "model_id": "712b9116f1a140309f55d7ccb0f42d89",
       "version_major": 2,
       "version_minor": 0
      },
      "text/plain": [
       "Batches:   0%|          | 0/1 [00:00<?, ?it/s]"
      ]
     },
     "metadata": {},
     "output_type": "display_data"
    },
    {
     "data": {
      "application/vnd.jupyter.widget-view+json": {
       "model_id": "059394b9ed9a4e61a81bcfd36c429954",
       "version_major": 2,
       "version_minor": 0
      },
      "text/plain": [
       "Batches:   0%|          | 0/1 [00:00<?, ?it/s]"
      ]
     },
     "metadata": {},
     "output_type": "display_data"
    },
    {
     "data": {
      "application/vnd.jupyter.widget-view+json": {
       "model_id": "a0eca8d4ddfb460ca3cc32472968c365",
       "version_major": 2,
       "version_minor": 0
      },
      "text/plain": [
       "Batches:   0%|          | 0/1 [00:00<?, ?it/s]"
      ]
     },
     "metadata": {},
     "output_type": "display_data"
    },
    {
     "data": {
      "application/vnd.jupyter.widget-view+json": {
       "model_id": "d97690535c3c40d29b6af51341df257d",
       "version_major": 2,
       "version_minor": 0
      },
      "text/plain": [
       "Batches:   0%|          | 0/1 [00:00<?, ?it/s]"
      ]
     },
     "metadata": {},
     "output_type": "display_data"
    },
    {
     "data": {
      "application/vnd.jupyter.widget-view+json": {
       "model_id": "7417ca37f7d547b899b8bbc30c78dac6",
       "version_major": 2,
       "version_minor": 0
      },
      "text/plain": [
       "Batches:   0%|          | 0/1 [00:00<?, ?it/s]"
      ]
     },
     "metadata": {},
     "output_type": "display_data"
    },
    {
     "data": {
      "application/vnd.jupyter.widget-view+json": {
       "model_id": "8066fd492a8e4b15820122710442253c",
       "version_major": 2,
       "version_minor": 0
      },
      "text/plain": [
       "Batches:   0%|          | 0/1 [00:00<?, ?it/s]"
      ]
     },
     "metadata": {},
     "output_type": "display_data"
    },
    {
     "data": {
      "application/vnd.jupyter.widget-view+json": {
       "model_id": "7e55baefd92e412780a72bd5536f65b1",
       "version_major": 2,
       "version_minor": 0
      },
      "text/plain": [
       "Batches:   0%|          | 0/1 [00:00<?, ?it/s]"
      ]
     },
     "metadata": {},
     "output_type": "display_data"
    },
    {
     "data": {
      "application/vnd.jupyter.widget-view+json": {
       "model_id": "a73c0537568f4f729d4cabd128d5917f",
       "version_major": 2,
       "version_minor": 0
      },
      "text/plain": [
       "Batches:   0%|          | 0/1 [00:00<?, ?it/s]"
      ]
     },
     "metadata": {},
     "output_type": "display_data"
    },
    {
     "data": {
      "application/vnd.jupyter.widget-view+json": {
       "model_id": "7e23ac42bd0845de9995818dd2efa8f7",
       "version_major": 2,
       "version_minor": 0
      },
      "text/plain": [
       "Batches:   0%|          | 0/1 [00:00<?, ?it/s]"
      ]
     },
     "metadata": {},
     "output_type": "display_data"
    },
    {
     "data": {
      "application/vnd.jupyter.widget-view+json": {
       "model_id": "c6dbf2751a954229ad68be34a97a8d83",
       "version_major": 2,
       "version_minor": 0
      },
      "text/plain": [
       "Batches:   0%|          | 0/1 [00:00<?, ?it/s]"
      ]
     },
     "metadata": {},
     "output_type": "display_data"
    },
    {
     "data": {
      "application/vnd.jupyter.widget-view+json": {
       "model_id": "305ddfe9b9374aaab3807d6858f2380f",
       "version_major": 2,
       "version_minor": 0
      },
      "text/plain": [
       "Batches:   0%|          | 0/1 [00:00<?, ?it/s]"
      ]
     },
     "metadata": {},
     "output_type": "display_data"
    },
    {
     "data": {
      "application/vnd.jupyter.widget-view+json": {
       "model_id": "9c3ef7b81a904477af1669433181c817",
       "version_major": 2,
       "version_minor": 0
      },
      "text/plain": [
       "Batches:   0%|          | 0/1 [00:00<?, ?it/s]"
      ]
     },
     "metadata": {},
     "output_type": "display_data"
    },
    {
     "data": {
      "application/vnd.jupyter.widget-view+json": {
       "model_id": "1b08df6f9a9848ac9c3b826ec6dae635",
       "version_major": 2,
       "version_minor": 0
      },
      "text/plain": [
       "Batches:   0%|          | 0/1 [00:00<?, ?it/s]"
      ]
     },
     "metadata": {},
     "output_type": "display_data"
    },
    {
     "data": {
      "application/vnd.jupyter.widget-view+json": {
       "model_id": "a0bd0c977d57445db40ebe89fab2077b",
       "version_major": 2,
       "version_minor": 0
      },
      "text/plain": [
       "Batches:   0%|          | 0/1 [00:00<?, ?it/s]"
      ]
     },
     "metadata": {},
     "output_type": "display_data"
    },
    {
     "data": {
      "application/vnd.jupyter.widget-view+json": {
       "model_id": "51bb69b5ec9847d6afa31bb3015544c1",
       "version_major": 2,
       "version_minor": 0
      },
      "text/plain": [
       "Batches:   0%|          | 0/1 [00:00<?, ?it/s]"
      ]
     },
     "metadata": {},
     "output_type": "display_data"
    },
    {
     "data": {
      "application/vnd.jupyter.widget-view+json": {
       "model_id": "924206e9ab7c4b07a01b33b1d1f3e6e0",
       "version_major": 2,
       "version_minor": 0
      },
      "text/plain": [
       "Batches:   0%|          | 0/1 [00:00<?, ?it/s]"
      ]
     },
     "metadata": {},
     "output_type": "display_data"
    },
    {
     "data": {
      "application/vnd.jupyter.widget-view+json": {
       "model_id": "01017dc2311d4a48b9203a4b16920d78",
       "version_major": 2,
       "version_minor": 0
      },
      "text/plain": [
       "Batches:   0%|          | 0/1 [00:00<?, ?it/s]"
      ]
     },
     "metadata": {},
     "output_type": "display_data"
    },
    {
     "data": {
      "application/vnd.jupyter.widget-view+json": {
       "model_id": "56f774afa3ea485fbf4962bf66ada262",
       "version_major": 2,
       "version_minor": 0
      },
      "text/plain": [
       "Batches:   0%|          | 0/1 [00:00<?, ?it/s]"
      ]
     },
     "metadata": {},
     "output_type": "display_data"
    },
    {
     "data": {
      "application/vnd.jupyter.widget-view+json": {
       "model_id": "264c6311628a4fe4acfc3456bc898e52",
       "version_major": 2,
       "version_minor": 0
      },
      "text/plain": [
       "Batches:   0%|          | 0/1 [00:00<?, ?it/s]"
      ]
     },
     "metadata": {},
     "output_type": "display_data"
    },
    {
     "data": {
      "application/vnd.jupyter.widget-view+json": {
       "model_id": "15c7744acadf4ffe9168cfdc60a9f4d7",
       "version_major": 2,
       "version_minor": 0
      },
      "text/plain": [
       "Batches:   0%|          | 0/1 [00:00<?, ?it/s]"
      ]
     },
     "metadata": {},
     "output_type": "display_data"
    },
    {
     "data": {
      "application/vnd.jupyter.widget-view+json": {
       "model_id": "21d7b8dac1d0412eb1041691f898b07b",
       "version_major": 2,
       "version_minor": 0
      },
      "text/plain": [
       "Batches:   0%|          | 0/1 [00:00<?, ?it/s]"
      ]
     },
     "metadata": {},
     "output_type": "display_data"
    },
    {
     "data": {
      "application/vnd.jupyter.widget-view+json": {
       "model_id": "25667e30341e440f9435836323f91de7",
       "version_major": 2,
       "version_minor": 0
      },
      "text/plain": [
       "Batches:   0%|          | 0/1 [00:00<?, ?it/s]"
      ]
     },
     "metadata": {},
     "output_type": "display_data"
    },
    {
     "data": {
      "application/vnd.jupyter.widget-view+json": {
       "model_id": "ef1be21d758349478c9d06ef0ee6b835",
       "version_major": 2,
       "version_minor": 0
      },
      "text/plain": [
       "Batches:   0%|          | 0/1 [00:00<?, ?it/s]"
      ]
     },
     "metadata": {},
     "output_type": "display_data"
    },
    {
     "data": {
      "application/vnd.jupyter.widget-view+json": {
       "model_id": "6172ac524cd047f28881a2bfb9de085c",
       "version_major": 2,
       "version_minor": 0
      },
      "text/plain": [
       "Batches:   0%|          | 0/1 [00:00<?, ?it/s]"
      ]
     },
     "metadata": {},
     "output_type": "display_data"
    },
    {
     "data": {
      "application/vnd.jupyter.widget-view+json": {
       "model_id": "b6370a8034b14f84b2de73bac19a6b9c",
       "version_major": 2,
       "version_minor": 0
      },
      "text/plain": [
       "Batches:   0%|          | 0/1 [00:00<?, ?it/s]"
      ]
     },
     "metadata": {},
     "output_type": "display_data"
    },
    {
     "data": {
      "application/vnd.jupyter.widget-view+json": {
       "model_id": "4a62e0e8f0764289b88e7051042d4d90",
       "version_major": 2,
       "version_minor": 0
      },
      "text/plain": [
       "Batches:   0%|          | 0/1 [00:00<?, ?it/s]"
      ]
     },
     "metadata": {},
     "output_type": "display_data"
    },
    {
     "data": {
      "application/vnd.jupyter.widget-view+json": {
       "model_id": "bb68b3e4d38549ea802c6e6d5bbaddcd",
       "version_major": 2,
       "version_minor": 0
      },
      "text/plain": [
       "Batches:   0%|          | 0/1 [00:00<?, ?it/s]"
      ]
     },
     "metadata": {},
     "output_type": "display_data"
    },
    {
     "data": {
      "application/vnd.jupyter.widget-view+json": {
       "model_id": "914b051e04e14a71aa6373aa5023d8f4",
       "version_major": 2,
       "version_minor": 0
      },
      "text/plain": [
       "Batches:   0%|          | 0/1 [00:00<?, ?it/s]"
      ]
     },
     "metadata": {},
     "output_type": "display_data"
    },
    {
     "data": {
      "application/vnd.jupyter.widget-view+json": {
       "model_id": "0ea181bd5c094181aff9bfb6e7d5f5fc",
       "version_major": 2,
       "version_minor": 0
      },
      "text/plain": [
       "Batches:   0%|          | 0/1 [00:00<?, ?it/s]"
      ]
     },
     "metadata": {},
     "output_type": "display_data"
    },
    {
     "data": {
      "application/vnd.jupyter.widget-view+json": {
       "model_id": "0bb6b45331ed4be282715ebe1c2dcd0e",
       "version_major": 2,
       "version_minor": 0
      },
      "text/plain": [
       "Batches:   0%|          | 0/1 [00:00<?, ?it/s]"
      ]
     },
     "metadata": {},
     "output_type": "display_data"
    },
    {
     "data": {
      "application/vnd.jupyter.widget-view+json": {
       "model_id": "ccc7752d93654d759162b5b17bdb5269",
       "version_major": 2,
       "version_minor": 0
      },
      "text/plain": [
       "Batches:   0%|          | 0/1 [00:00<?, ?it/s]"
      ]
     },
     "metadata": {},
     "output_type": "display_data"
    },
    {
     "data": {
      "application/vnd.jupyter.widget-view+json": {
       "model_id": "e066da669d984ef19a484042268fcdf9",
       "version_major": 2,
       "version_minor": 0
      },
      "text/plain": [
       "Batches:   0%|          | 0/1 [00:00<?, ?it/s]"
      ]
     },
     "metadata": {},
     "output_type": "display_data"
    },
    {
     "data": {
      "application/vnd.jupyter.widget-view+json": {
       "model_id": "8f0b6cb7b7fb42fc9d7fa03b1a867f52",
       "version_major": 2,
       "version_minor": 0
      },
      "text/plain": [
       "Batches:   0%|          | 0/1 [00:00<?, ?it/s]"
      ]
     },
     "metadata": {},
     "output_type": "display_data"
    },
    {
     "data": {
      "application/vnd.jupyter.widget-view+json": {
       "model_id": "61943c927f34489c93177255063dcb4c",
       "version_major": 2,
       "version_minor": 0
      },
      "text/plain": [
       "Batches:   0%|          | 0/1 [00:00<?, ?it/s]"
      ]
     },
     "metadata": {},
     "output_type": "display_data"
    },
    {
     "data": {
      "application/vnd.jupyter.widget-view+json": {
       "model_id": "431a4f450e744b339b9f56d880403d6b",
       "version_major": 2,
       "version_minor": 0
      },
      "text/plain": [
       "Batches:   0%|          | 0/1 [00:00<?, ?it/s]"
      ]
     },
     "metadata": {},
     "output_type": "display_data"
    },
    {
     "data": {
      "application/vnd.jupyter.widget-view+json": {
       "model_id": "8b22fecffb6341b1a9f25c054788290c",
       "version_major": 2,
       "version_minor": 0
      },
      "text/plain": [
       "Batches:   0%|          | 0/1 [00:00<?, ?it/s]"
      ]
     },
     "metadata": {},
     "output_type": "display_data"
    },
    {
     "data": {
      "application/vnd.jupyter.widget-view+json": {
       "model_id": "b45e31938e8a44b3bbbb3454e41dcc94",
       "version_major": 2,
       "version_minor": 0
      },
      "text/plain": [
       "Batches:   0%|          | 0/1 [00:00<?, ?it/s]"
      ]
     },
     "metadata": {},
     "output_type": "display_data"
    },
    {
     "data": {
      "application/vnd.jupyter.widget-view+json": {
       "model_id": "15a9e62a27814f868295b8db710abd32",
       "version_major": 2,
       "version_minor": 0
      },
      "text/plain": [
       "Batches:   0%|          | 0/1 [00:00<?, ?it/s]"
      ]
     },
     "metadata": {},
     "output_type": "display_data"
    },
    {
     "data": {
      "application/vnd.jupyter.widget-view+json": {
       "model_id": "b071702ccaab4986b844b0abadd9d45a",
       "version_major": 2,
       "version_minor": 0
      },
      "text/plain": [
       "Batches:   0%|          | 0/1 [00:00<?, ?it/s]"
      ]
     },
     "metadata": {},
     "output_type": "display_data"
    },
    {
     "data": {
      "application/vnd.jupyter.widget-view+json": {
       "model_id": "63f20c8a65274b7b9d318e61839a79c1",
       "version_major": 2,
       "version_minor": 0
      },
      "text/plain": [
       "Batches:   0%|          | 0/1 [00:00<?, ?it/s]"
      ]
     },
     "metadata": {},
     "output_type": "display_data"
    },
    {
     "data": {
      "application/vnd.jupyter.widget-view+json": {
       "model_id": "88e4c8de036d46478a01752da413e18d",
       "version_major": 2,
       "version_minor": 0
      },
      "text/plain": [
       "Batches:   0%|          | 0/1 [00:00<?, ?it/s]"
      ]
     },
     "metadata": {},
     "output_type": "display_data"
    },
    {
     "name": "stdout",
     "output_type": "stream",
     "text": [
      "Semantic match found for \"Nitric oxide is recommended for testing\" with score 0.873: \"Nitric oxide is recommended for performing vasoreactivity testing\"\n"
     ]
    },
    {
     "data": {
      "text/plain": [
       "(True,\n",
       " True,\n",
       " 'Nitric oxide is recommended for performing vasoreactivity testing',\n",
       " 87.34111189842224,\n",
       " False)"
      ]
     },
     "execution_count": 14,
     "metadata": {},
     "output_type": "execute_result"
    }
   ],
   "source": [
    "from similarity_evaluation.similarity_models import SentenceTransformerSimilarityModel\n",
    "\n",
    "model = SentenceTransformerSimilarityModel(\"neuml/pubmedbert-base-embeddings\")\n",
    "score_recommendation('Nitric oxide is recommended for testing', 'I', 'C', df, model)"
   ]
  },
  {
   "cell_type": "code",
   "execution_count": 15,
   "id": "2853f28ab21fe0ec",
   "metadata": {
    "ExecuteTime": {
     "end_time": "2025-04-02T15:35:01.808919Z",
     "start_time": "2025-04-02T15:35:01.771466Z"
    }
   },
   "outputs": [],
   "source": [
    "def evaluate_guideline_extraction(df:pd.DataFrame, gt_df:pd.DataFrame, interactive:bool=True, verbose:bool=True) -> tuple:\n",
    "    \"\"\"\n",
    "    Evaluate an extracted guideline recommendation dataframe against a ground truth dataframe.\n",
    "    The function iterates through the extracted dataframe, scoring each recommendation based on its text, grade, and level.\n",
    "    Accuracy for grade and level is calculated as the percentage of correct matches.\n",
    "\n",
    "    Parameters\n",
    "    ----------\n",
    "    :param df:\n",
    "    :param gt_df:\n",
    "    :param interactive:\n",
    "    :param verbose:\n",
    "\n",
    "    Returns\n",
    "    -------\n",
    "    :return: tuple\n",
    "        A tuple containing the accuracy of recommendations, accuracy of grades, accuracy of levels, number of missing recommendations,\n",
    "        a dataframe of all matches, and a dataframe of missing recommendations.\n",
    "        (accuracy_recommendation, accuracy_grade, accuracy_level, n_missing_recommendations, all_matches_df, missing_recommendations_df)\n",
    "    \"\"\"\n",
    "    # Initialize variables\n",
    "    n_recommendations = len(df)\n",
    "    n_correct_recommendations = 0\n",
    "    n_correct_grades = 0\n",
    "    n_correct_levels = 0\n",
    "    all_matches = []\n",
    "\n",
    "    semantic_model = SentenceTransformerSimilarityModel(\"neuml/pubmedbert-base-embeddings\")\n",
    "\n",
    "    # Iterate through the extracted dataframe\n",
    "    for i, row in df.iterrows():\n",
    "        recommendation_text = row['recommendation']\n",
    "        recommendation_grade = row['class']\n",
    "        recommendation_level = row['LOE']\n",
    "\n",
    "        # Score the recommendation\n",
    "        grade_eval, level_eval, matched_text, score, manual_validation = score_recommendation(recommendation_text,\n",
    "                                                                                             recommendation_grade,\n",
    "                                                                                             recommendation_level,\n",
    "                                                                                             gt_df,\n",
    "                                                                                             semantic_model=semantic_model,\n",
    "                                                                                             interactive=interactive,\n",
    "                                                                                             verbose=verbose)\n",
    "\n",
    "        # Update counts based on evaluation\n",
    "        if grade_eval == True:\n",
    "            n_correct_grades += 1\n",
    "        if level_eval == True:\n",
    "            n_correct_levels += 1\n",
    "        if matched_text != -1:\n",
    "            n_correct_recommendations += 1\n",
    "\n",
    "        # Append match to all matches list\n",
    "        all_matches.append((recommendation_text, recommendation_grade, recommendation_level, matched_text, grade_eval, level_eval, score, manual_validation))\n",
    "\n",
    "    # Calculate accuracies\n",
    "    accuracy_recommendation = n_correct_recommendations / n_recommendations * 100\n",
    "    accuracy_grade = n_correct_grades / n_correct_recommendations * 100\n",
    "    accuracy_level = n_correct_levels / n_correct_recommendations * 100\n",
    "\n",
    "    all_matches_df = pd.DataFrame(all_matches, columns=['recommendation_text', 'recommendation_grade', 'recommendation_level', 'matched_text', 'grade_eval', 'level_eval', 'match_score', 'manual_validation'])\n",
    "\n",
    "    # missing recommendations (ie in ground truth but not in extracted)\n",
    "    missing_recommendations_df = gt_df[~gt_df.recommendation.isin(df.recommendation.values)]\n",
    "    n_missing_recommendations = len(missing_recommendations_df)\n",
    "\n",
    "    return (accuracy_recommendation, accuracy_grade, accuracy_level, n_missing_recommendations, all_matches_df, missing_recommendations_df)\n"
   ]
  },
  {
   "cell_type": "code",
   "execution_count": 16,
   "id": "a40515720a568ff9",
   "metadata": {
    "ExecuteTime": {
     "end_time": "2025-04-02T15:35:49.037921Z",
     "start_time": "2025-04-02T15:35:48.900180Z"
    }
   },
   "outputs": [
    {
     "name": "stderr",
     "output_type": "stream",
     "text": [
      "INFO:sentence_transformers.SentenceTransformer:Use pytorch device_name: mps\n",
      "INFO:sentence_transformers.SentenceTransformer:Load pretrained SentenceTransformer: neuml/pubmedbert-base-embeddings\n"
     ]
    }
   ],
   "source": [
    "accuracy_recommendation, accuracy_grade, accuracy_level, n_missing_recommendations, all_matches_df, missing_recommendations_df = evaluate_guideline_extraction(df, df, interactive=False, verbose=True)"
   ]
  },
  {
   "cell_type": "code",
   "execution_count": 17,
   "id": "1a22823535e4b23e",
   "metadata": {
    "ExecuteTime": {
     "end_time": "2025-04-02T15:35:54.191120Z",
     "start_time": "2025-04-02T15:35:54.185875Z"
    }
   },
   "outputs": [
    {
     "data": {
      "text/plain": [
       "(100.0, 100.0, 100.0, 0)"
      ]
     },
     "execution_count": 17,
     "metadata": {},
     "output_type": "execute_result"
    }
   ],
   "source": [
    "accuracy_recommendation, accuracy_grade, accuracy_level, n_missing_recommendations"
   ]
  },
  {
   "cell_type": "code",
   "execution_count": null,
   "id": "f6a4ba3a",
   "metadata": {},
   "outputs": [],
   "source": []
  }
 ],
 "metadata": {
  "kernelspec": {
   "display_name": "evident",
   "language": "python",
   "name": "python3"
  },
  "language_info": {
   "codemirror_mode": {
    "name": "ipython",
    "version": 3
   },
   "file_extension": ".py",
   "mimetype": "text/x-python",
   "name": "python",
   "nbconvert_exporter": "python",
   "pygments_lexer": "ipython3",
   "version": "3.10.16"
  }
 },
 "nbformat": 4,
 "nbformat_minor": 5
}
