{
 "cells": [
  {
   "cell_type": "code",
   "execution_count": 1,
   "id": "initial_id",
   "metadata": {
    "ExecuteTime": {
     "end_time": "2025-04-04T12:29:21.080141Z",
     "start_time": "2025-04-04T12:29:20.355608Z"
    },
    "collapsed": true
   },
   "outputs": [],
   "source": [
    "import pandas as pd\n",
    "from thefuzz import process"
   ]
  },
  {
   "cell_type": "code",
   "execution_count": 2,
   "id": "96a3b927b0acd902",
   "metadata": {
    "ExecuteTime": {
     "end_time": "2025-04-04T12:29:21.125376Z",
     "start_time": "2025-04-04T12:29:21.121775Z"
    }
   },
   "outputs": [],
   "source": [
    "data_path = '/Users/jk1/Downloads/NI9RV3E7_extraction.xlsx - Sheet1.csv'"
   ]
  },
  {
   "cell_type": "code",
   "execution_count": 3,
   "id": "228feadb9cd90f89",
   "metadata": {
    "ExecuteTime": {
     "end_time": "2025-04-04T12:29:21.484115Z",
     "start_time": "2025-04-04T12:29:21.471543Z"
    }
   },
   "outputs": [],
   "source": [
    "df = pd.read_csv(data_path)"
   ]
  },
  {
   "cell_type": "code",
   "execution_count": 4,
   "id": "f83ca4ae3d6a79ab",
   "metadata": {
    "ExecuteTime": {
     "end_time": "2025-04-04T12:29:21.540738Z",
     "start_time": "2025-04-04T12:29:21.523609Z"
    }
   },
   "outputs": [
    {
     "data": {
      "application/vnd.microsoft.datawrangler.viewer.v0+json": {
       "columns": [
        {
         "name": "index",
         "rawType": "int64",
         "type": "integer"
        },
        {
         "name": "Key",
         "rawType": "object",
         "type": "unknown"
        },
        {
         "name": "Title",
         "rawType": "object",
         "type": "unknown"
        },
        {
         "name": "DOI",
         "rawType": "object",
         "type": "unknown"
        },
        {
         "name": "recommendation",
         "rawType": "object",
         "type": "string"
        },
        {
         "name": "class",
         "rawType": "object",
         "type": "string"
        },
        {
         "name": "LOE",
         "rawType": "object",
         "type": "string"
        }
       ],
       "ref": "4542b753-c7e2-4256-94a8-4ce9b748e39c",
       "rows": [
        [
         "0",
         "NI9RV3E7",
         "2015 ESC/ERS Guidelines for the diagnosis and treatment of pulmonary hypertension: The Joint Task Force for the Diagnosis and Treatment of Pulmonary Hypertension of the European Society of Cardiology (ESC) and the European Respiratory Society (ERS)",
         "10.1183/13993003.01032-2015",
         "In patients with low echocardiographic probability of PH without risk factors for PAH or CTEPH, alternative diagnosis should be considered.",
         "IIa",
         "C"
        ],
        [
         "1",
         null,
         null,
         null,
         "In patients with low echocardiographic probability of PH with risk factors for PAH or CTEPH, echo follow-up should be considered.",
         "IIa",
         "C"
        ],
        [
         "2",
         null,
         null,
         null,
         "In patients with intermediate echocardiographic probability of PH without risk factors for PAH or CTEPH, alternative diagnosis and echo follow-up should be considered.",
         "IIa",
         "C"
        ],
        [
         "3",
         null,
         null,
         null,
         "In patients with intermediate echocardiographic probability of PH without risk factors for PAH or CTEPH, further investigation of PH may be considered.",
         "IIb",
         "C"
        ],
        [
         "4",
         null,
         null,
         null,
         "In patients with intermediate echocardiographic probability of PH with risk factors for PAH or CTEPH, further assessment of PH including RHC should be considered.",
         "IIa",
         "B"
        ],
        [
         "5",
         null,
         null,
         null,
         "In patients with high echocardiographic probability of PH without risk factors for PAH or CTEPH, further investigation of PH (including RHC) is recommended.",
         "I",
         "C"
        ],
        [
         "6",
         null,
         null,
         null,
         "In patients with high echocardiographic probability of PH with risk factors for PAH or CTEPH, further investigation of PH including RHC is recommended.",
         "I",
         "C"
        ],
        [
         "7",
         null,
         null,
         null,
         "RHC is recommended to confirm the diagnosis of pulmonary arterial hypertension (group 1) and to support treatment decisions",
         "I",
         "C"
        ],
        [
         "8",
         null,
         null,
         null,
         "In patients with PH, it is recommended to perform RHC in expert centres (see section 12) as it is technically demanding and may be associated with serious complications",
         "I",
         "B"
        ],
        [
         "9",
         null,
         null,
         null,
         "RHC should be considered in pulmonary arterial hypertension (group 1) to assess the treatment effect of drugs (Table 16)",
         "lla",
         "C"
        ],
        [
         "10",
         null,
         null,
         null,
         "RHC is recommended in patients with congenital cardiac shunts to support decisions on correction (Table 24)",
         "I",
         "C"
        ],
        [
         "11",
         null,
         null,
         null,
         "RHC is recommended in patients with PH due to left heart disease (group 2) or lung disease (group 3) if organ transplantation is considered",
         "I",
         "C"
        ],
        [
         "12",
         null,
         null,
         null,
         "When measurement of PAWP is unreliable, left heart catheterization should be considered to measure LVEDP",
         "Ila",
         "C"
        ],
        [
         "13",
         null,
         null,
         null,
         "RHC may be considered in patients with suspected PH and left heart disease or lung disease to assist in the differential diagnosis and support treatment decisions",
         "lIb",
         "C"
        ],
        [
         "14",
         null,
         null,
         null,
         "RHC is indicated in patients with ТЕРН (group 4) to confirm the diagnosis and support treatment decisions",
         "I",
         "C"
        ],
        [
         "15",
         null,
         null,
         null,
         "Vasoreactivity testing is indicated only in expert centres",
         "I",
         "C"
        ],
        [
         "16",
         null,
         null,
         null,
         "Vasoreactivity testing is recommended in patients with IPAH, HPAH and PAH associated with drugs use to detect patients who can be treated with high doses of a CCB",
         "I",
         "C"
        ],
        [
         "17",
         null,
         null,
         null,
         "A positive response to vasoreactivity testing is defined as a reduction of mean PAP ≥ 10 mmHg to reach an absolute value of mean PAP ≤40 mmHg with an increased or unchanged cardiac output",
         "I",
         "C"
        ],
        [
         "18",
         null,
         null,
         null,
         "Nitric oxide is recommended for performing vasoreactivity testing",
         "I",
         "C"
        ],
        [
         "19",
         null,
         null,
         null,
         "Intravenous epoprostenol is recommended for performing vasoreactivity testing as an alternative",
         "I",
         "C"
        ],
        [
         "20",
         null,
         null,
         null,
         "Adenosine should be considered for performing vasoreactivity testing as an alternative",
         "lla",
         "C"
        ],
        [
         "21",
         null,
         null,
         null,
         "Inhaled iloprost may be considered for performing vasoreactivity testing as an alternative",
         "Ilb",
         "C"
        ],
        [
         "22",
         null,
         null,
         null,
         "The use of oral or intravenous CCBs in acute vasoreactivity testing is not recommended",
         "III",
         "C"
        ],
        [
         "23",
         null,
         null,
         null,
         "Vasoreactivity testing to detect patients who can be safely treated with high doses of a CCB is not recommended in patients with PAH other than IPAH, HPAH and PAH associated with drugs use and is not recommended in PH groups 2, 3, 4 and 5",
         "III",
         "C"
        ],
        [
         "24",
         null,
         null,
         null,
         "Echocardiography is recommended as a first-line non-invasive diagnostic investigation in case of suspicion of PH",
         "I",
         "C"
        ],
        [
         "25",
         null,
         null,
         null,
         "Ventilation/perfusion or perfusion lung scan is recommended in patients with unexplained PH to exclude CTEPH",
         "I",
         "C"
        ],
        [
         "26",
         null,
         null,
         null,
         "Contrast CT angiography of the PA is recommended in the workup of patients with СТЕРН",
         "I",
         "C"
        ],
        [
         "27",
         null,
         null,
         null,
         "Routine biochemistry, haematology, immunology, HIV testing and thyroid function tests are recommended in all patients with PAH to identify the specific associated condition",
         "I",
         "C"
        ],
        [
         "28",
         null,
         null,
         null,
         "Abdominal ultrasound is recommended for the screening of portal hypertension",
         "I",
         "C"
        ],
        [
         "29",
         null,
         null,
         null,
         "Lung function test with DLCO is recommended in the initial evaluation of patients with PH",
         "I",
         "C"
        ],
        [
         "30",
         null,
         null,
         null,
         "High-resolution CT should be considered in all patients with PH",
         "lla",
         "C"
        ],
        [
         "31",
         null,
         null,
         null,
         "Pulmonary angiography should be considered in the workup of patients with СТЕРН",
         "lla",
         "C"
        ],
        [
         "32",
         null,
         null,
         null,
         "Open or thoracoscopic lung biopsy is not recommended in patients with PAH",
         "IlI",
         "C"
        ],
        [
         "33",
         null,
         null,
         null,
         "It is recommended to evaluate the severity of PAH patients with a panel of data derived from clinical assessment, exercise tests, biochemical markers and echocardiographic and haemodynamic evaluations (Tables 13 and 14)",
         "i",
         "C"
        ],
        [
         "34",
         null,
         null,
         null,
         "It is recommended to perform regular follow-up assessments every 3-6 months in stable patients (Table 14)",
         "i",
         "C"
        ],
        [
         "35",
         null,
         null,
         null,
         "Achievement/maintenance of a low-risk profile (Table 13) is recommended as an adequate treatment response for patients with PAH",
         "i",
         "C"
        ],
        [
         "36",
         null,
         null,
         null,
         "Achievement/maintenance of an intermediate-risk profile (Table 13) should be considered an inadequate treatment response for most patients with PAH",
         "lla",
         "C"
        ],
        [
         "37",
         null,
         null,
         null,
         "It is recommended that PAH patients avoid pregnancy",
         "i",
         "c"
        ],
        [
         "38",
         null,
         null,
         null,
         "Immunization of PAH patients against influenza and pneumococcal infection is recommended",
         "i",
         "c"
        ],
        [
         "39",
         null,
         null,
         null,
         "Psychosocial support is recommended in PAH patients",
         "i",
         "C"
        ],
        [
         "40",
         null,
         null,
         null,
         "Supervised exercise training should be considered in physically deconditioned PAH patients under medical therapy",
         "lla",
         "B"
        ],
        [
         "41",
         null,
         null,
         null,
         "In-flight O2 administration should be considered for patients in WHO-FC III and IV and those with arterial blood 02 pressure consistently < 8 kPa (60 mmHg)",
         "lla",
         "c"
        ],
        [
         "42",
         null,
         null,
         null,
         "In elective surgery, epidural rather than general anaesthesia should be preferred whenever possible",
         "lla",
         "c"
        ],
        [
         "43",
         null,
         null,
         null,
         "Excessive physical activity that leads to distressing symptoms is not recommended in PAH patients",
         "III",
         "C"
        ],
        [
         "44",
         null,
         null,
         null,
         "Diuretic treatment is recommended in PAH patients with signs of RV failure and fluid retention",
         "i",
         "C"
        ],
        [
         "45",
         null,
         null,
         null,
         "Continuous long-term O2 therapy is recommended in PAH patients when arterial blood O2 pressure is consistently <8 kPa (60 mmHg)*",
         "i",
         "C"
        ],
        [
         "46",
         null,
         null,
         null,
         "Oral anticoagulant treatment may be considered in patients with РАН, HPAH and PAH due to use of anorexigens",
         "lIb",
         "C"
        ],
        [
         "47",
         null,
         null,
         null,
         "Correction of anaemia and/or iron status may be considered in PAH patients",
         "Ilb",
         "C"
        ],
        [
         "48",
         null,
         null,
         null,
         "The use of angiotensin-converting enzyme inhibitors, angiotensin-2 receptor antagonists, beta-blockers and ivabradine is not recommended in patients with PAH unless required by co-morbidities (i.e. high blood pressure, coronary artery disease or left heart failure)",
         "III",
         "C"
        ],
        [
         "49",
         null,
         null,
         null,
         "High doses of CCBs are recommended in patients with IPAH, HPAH and DPAH who are responders to acute vasoreactivity testing",
         "i",
         "c"
        ]
       ],
       "shape": {
        "columns": 6,
        "rows": 217
       }
      },
      "text/html": [
       "<div>\n",
       "<style scoped>\n",
       "    .dataframe tbody tr th:only-of-type {\n",
       "        vertical-align: middle;\n",
       "    }\n",
       "\n",
       "    .dataframe tbody tr th {\n",
       "        vertical-align: top;\n",
       "    }\n",
       "\n",
       "    .dataframe thead th {\n",
       "        text-align: right;\n",
       "    }\n",
       "</style>\n",
       "<table border=\"1\" class=\"dataframe\">\n",
       "  <thead>\n",
       "    <tr style=\"text-align: right;\">\n",
       "      <th></th>\n",
       "      <th>Key</th>\n",
       "      <th>Title</th>\n",
       "      <th>DOI</th>\n",
       "      <th>recommendation</th>\n",
       "      <th>class</th>\n",
       "      <th>LOE</th>\n",
       "    </tr>\n",
       "  </thead>\n",
       "  <tbody>\n",
       "    <tr>\n",
       "      <th>0</th>\n",
       "      <td>NI9RV3E7</td>\n",
       "      <td>2015 ESC/ERS Guidelines for the diagnosis and ...</td>\n",
       "      <td>10.1183/13993003.01032-2015</td>\n",
       "      <td>In patients with low echocardiographic probabi...</td>\n",
       "      <td>IIa</td>\n",
       "      <td>C</td>\n",
       "    </tr>\n",
       "    <tr>\n",
       "      <th>1</th>\n",
       "      <td>NaN</td>\n",
       "      <td>NaN</td>\n",
       "      <td>NaN</td>\n",
       "      <td>In patients with low echocardiographic probabi...</td>\n",
       "      <td>IIa</td>\n",
       "      <td>C</td>\n",
       "    </tr>\n",
       "    <tr>\n",
       "      <th>2</th>\n",
       "      <td>NaN</td>\n",
       "      <td>NaN</td>\n",
       "      <td>NaN</td>\n",
       "      <td>In patients with intermediate echocardiographi...</td>\n",
       "      <td>IIa</td>\n",
       "      <td>C</td>\n",
       "    </tr>\n",
       "    <tr>\n",
       "      <th>3</th>\n",
       "      <td>NaN</td>\n",
       "      <td>NaN</td>\n",
       "      <td>NaN</td>\n",
       "      <td>In patients with intermediate echocardiographi...</td>\n",
       "      <td>IIb</td>\n",
       "      <td>C</td>\n",
       "    </tr>\n",
       "    <tr>\n",
       "      <th>4</th>\n",
       "      <td>NaN</td>\n",
       "      <td>NaN</td>\n",
       "      <td>NaN</td>\n",
       "      <td>In patients with intermediate echocardiographi...</td>\n",
       "      <td>IIa</td>\n",
       "      <td>B</td>\n",
       "    </tr>\n",
       "    <tr>\n",
       "      <th>...</th>\n",
       "      <td>...</td>\n",
       "      <td>...</td>\n",
       "      <td>...</td>\n",
       "      <td>...</td>\n",
       "      <td>...</td>\n",
       "      <td>...</td>\n",
       "    </tr>\n",
       "    <tr>\n",
       "      <th>212</th>\n",
       "      <td>NaN</td>\n",
       "      <td>NaN</td>\n",
       "      <td>NaN</td>\n",
       "      <td>Patients with PAH should be referred to expert...</td>\n",
       "      <td>I</td>\n",
       "      <td>C</td>\n",
       "    </tr>\n",
       "    <tr>\n",
       "      <th>213</th>\n",
       "      <td>NaN</td>\n",
       "      <td>NaN</td>\n",
       "      <td>NaN</td>\n",
       "      <td>In patients with PAH with inadequate clinical ...</td>\n",
       "      <td>I</td>\n",
       "      <td>A</td>\n",
       "    </tr>\n",
       "    <tr>\n",
       "      <th>214</th>\n",
       "      <td>NaN</td>\n",
       "      <td>NaN</td>\n",
       "      <td>NaN</td>\n",
       "      <td>Initial combination therapy, including intrave...</td>\n",
       "      <td>I</td>\n",
       "      <td>B</td>\n",
       "    </tr>\n",
       "    <tr>\n",
       "      <th>215</th>\n",
       "      <td>NaN</td>\n",
       "      <td>NaN</td>\n",
       "      <td>NaN</td>\n",
       "      <td>PAH-approved therapies are not recommended in ...</td>\n",
       "      <td>III</td>\n",
       "      <td>C</td>\n",
       "    </tr>\n",
       "    <tr>\n",
       "      <th>216</th>\n",
       "      <td>NaN</td>\n",
       "      <td>NaN</td>\n",
       "      <td>NaN</td>\n",
       "      <td>In patients with CTEPH, assessment of operabil...</td>\n",
       "      <td>I</td>\n",
       "      <td>C</td>\n",
       "    </tr>\n",
       "  </tbody>\n",
       "</table>\n",
       "<p>217 rows × 6 columns</p>\n",
       "</div>"
      ],
      "text/plain": [
       "          Key                                              Title  \\\n",
       "0    NI9RV3E7  2015 ESC/ERS Guidelines for the diagnosis and ...   \n",
       "1         NaN                                                NaN   \n",
       "2         NaN                                                NaN   \n",
       "3         NaN                                                NaN   \n",
       "4         NaN                                                NaN   \n",
       "..        ...                                                ...   \n",
       "212       NaN                                                NaN   \n",
       "213       NaN                                                NaN   \n",
       "214       NaN                                                NaN   \n",
       "215       NaN                                                NaN   \n",
       "216       NaN                                                NaN   \n",
       "\n",
       "                             DOI  \\\n",
       "0    10.1183/13993003.01032-2015   \n",
       "1                            NaN   \n",
       "2                            NaN   \n",
       "3                            NaN   \n",
       "4                            NaN   \n",
       "..                           ...   \n",
       "212                          NaN   \n",
       "213                          NaN   \n",
       "214                          NaN   \n",
       "215                          NaN   \n",
       "216                          NaN   \n",
       "\n",
       "                                        recommendation class LOE  \n",
       "0    In patients with low echocardiographic probabi...   IIa   C  \n",
       "1    In patients with low echocardiographic probabi...   IIa   C  \n",
       "2    In patients with intermediate echocardiographi...   IIa   C  \n",
       "3    In patients with intermediate echocardiographi...   IIb   C  \n",
       "4    In patients with intermediate echocardiographi...   IIa   B  \n",
       "..                                                 ...   ...  ..  \n",
       "212  Patients with PAH should be referred to expert...     I   C  \n",
       "213  In patients with PAH with inadequate clinical ...     I   A  \n",
       "214  Initial combination therapy, including intrave...     I   B  \n",
       "215  PAH-approved therapies are not recommended in ...   III   C  \n",
       "216  In patients with CTEPH, assessment of operabil...     I   C  \n",
       "\n",
       "[217 rows x 6 columns]"
      ]
     },
     "execution_count": 4,
     "metadata": {},
     "output_type": "execute_result"
    }
   ],
   "source": [
    "df"
   ]
  },
  {
   "cell_type": "code",
   "execution_count": 5,
   "id": "16dc8f89adcaf4d5",
   "metadata": {
    "ExecuteTime": {
     "end_time": "2025-04-02T13:53:40.048225Z",
     "start_time": "2025-04-02T13:53:40.038032Z"
    }
   },
   "outputs": [
    {
     "data": {
      "text/plain": [
       "[('In patients with low echocardiographic probability of PH without risk factors for PAH or CTEPH, alternative diagnosis should be considered.',\n",
       "  100,\n",
       "  0),\n",
       " ('In patients with intermediate echocardiographic probability of PH without risk factors for PAH or CTEPH, alternative diagnosis and echo follow-up should be considered.',\n",
       "  94,\n",
       "  2),\n",
       " ('In patients with low echocardiographic probability of PH with risk factors for PAH or CTEPH, echo follow-up should be considered.',\n",
       "  89,\n",
       "  1),\n",
       " ('Vasoreactivity testing is indicated only in expert centres', 86, 15),\n",
       " ('Nitric oxide is recommended for performing vasoreactivity testing', 86, 18)]"
      ]
     },
     "execution_count": 5,
     "metadata": {},
     "output_type": "execute_result"
    }
   ],
   "source": [
    "process.extractBests('In patients with low echocardiographic probability of PH without risk factors for PAH or CTEPH, alternative diagnosis should be considered.', df.recommendation)"
   ]
  },
  {
   "cell_type": "code",
   "execution_count": 6,
   "id": "38a6a40b99b135f4",
   "metadata": {
    "ExecuteTime": {
     "end_time": "2025-04-04T12:49:27.608643Z",
     "start_time": "2025-04-04T12:49:27.580979Z"
    }
   },
   "outputs": [],
   "source": [
    "# TODO: try follwoing alternatives - https://stackoverflow.com/questions/65199011/is-there-a-way-to-check-similarity-between-two-full-sentences-in-python\n",
    "# - spacy similarity\n",
    "# - model = SentenceTransformer(\"neuml/pubmedbert-base-embeddings\")\n"
   ]
  },
  {
   "cell_type": "code",
   "execution_count": 7,
   "id": "67838984801498be",
   "metadata": {
    "ExecuteTime": {
     "end_time": "2025-04-04T12:49:53.509463Z",
     "start_time": "2025-04-04T12:49:46.821040Z"
    }
   },
   "outputs": [],
   "source": [
    "import spacy\n",
    "nlp = spacy.load(\"en_core_web_lg\")\n",
    "\n",
    "def get_similarity_score(text1, text2):\n",
    "    \"\"\"\n",
    "    Calculate the similarity score between two texts using Spacy's language model.\n",
    "\n",
    "    Parameters\n",
    "    ----------\n",
    "    text1 : str\n",
    "        The first text to compare.\n",
    "    text2 : str\n",
    "        The second text to compare.\n",
    "\n",
    "    Returns\n",
    "    -------\n",
    "    float\n",
    "        The similarity score between the two texts.\n",
    "    \"\"\"\n",
    "    doc1 = nlp(text1)\n",
    "    doc2 = nlp(text2)\n",
    "    return doc1.similarity(doc2)"
   ]
  },
  {
   "cell_type": "code",
   "execution_count": null,
   "id": "ef3097ed84af13e7",
   "metadata": {
    "ExecuteTime": {
     "start_time": "2025-04-04T18:17:37.638905Z"
    },
    "jupyter": {
     "is_executing": true
    }
   },
   "outputs": [
    {
     "name": "stderr",
     "output_type": "stream",
     "text": [
      "Xet Storage is enabled for this repo, but the 'hf_xet' package is not installed. Falling back to regular HTTP download. For better performance, install the package with: `pip install huggingface_hub[hf_xet]` or `pip install hf_xet`\n"
     ]
    },
    {
     "data": {
      "application/vnd.jupyter.widget-view+json": {
       "model_id": "9b95fedda7bb42528c233b5d0c1c4290",
       "version_major": 2,
       "version_minor": 0
      },
      "text/plain": [
       "model.safetensors:   0%|          | 0.00/438M [00:00<?, ?B/s]"
      ]
     },
     "metadata": {},
     "output_type": "display_data"
    },
    {
     "name": "stderr",
     "output_type": "stream",
     "text": [
      "Some weights of BertForSequenceClassification were not initialized from the model checkpoint at neuml/pubmedbert-base-embeddings and are newly initialized: ['classifier.bias', 'classifier.weight']\n",
      "You should probably TRAIN this model on a down-stream task to be able to use it for predictions and inference.\n"
     ]
    },
    {
     "data": {
      "application/vnd.jupyter.widget-view+json": {
       "model_id": "f38934634d994bdb8187d4fcd5576630",
       "version_major": 2,
       "version_minor": 0
      },
      "text/plain": [
       "README.md: 0.00B [00:00, ?B/s]"
      ]
     },
     "metadata": {},
     "output_type": "display_data"
    }
   ],
   "source": [
    "from sentence_transformers import SentenceTransformer, CrossEncoder, util\n",
    "\n",
    "# model_name = \"sentence-transformers/all-MiniLM-L12-v2\"\n",
    "# model_name = \"cross-encoder/stsb-distilroberta-base\"\n",
    "model_name = \"neuml/pubmedbert-base-embeddings\"\n",
    "# model_name = \"epfl-llm/meditron-7b\"\n",
    "# model_name = 'distilbert-base-nli-mean-tokens'\n",
    "\n",
    "# TODO try out: model = SentenceTransformer('FremyCompany/BioLORD-2023')\n",
    "\n",
    "\n",
    "ce_model = CrossEncoder(model_name)\n",
    "model = SentenceTransformer(model_name)"
   ]
  },
  {
   "cell_type": "code",
   "execution_count": null,
   "id": "6f604aa4",
   "metadata": {},
   "outputs": [
    {
     "name": "stderr",
     "output_type": "stream",
     "text": [
      "/Users/jk1/opt/anaconda3/envs/evident/lib/python3.10/site-packages/bitsandbytes/cextension.py:34: UserWarning: The installed version of bitsandbytes was compiled without GPU support. 8-bit optimizers, 8-bit multiplication, and GPU quantization are unavailable.\n",
      "  warn(\"The installed version of bitsandbytes was compiled without GPU support. \"\n"
     ]
    },
    {
     "name": "stdout",
     "output_type": "stream",
     "text": [
      "'NoneType' object has no attribute 'cadam32bit_grad_fp32'\n"
     ]
    },
    {
     "name": "stderr",
     "output_type": "stream",
     "text": [
      "INFO:AnglE:LLM detected, automatically set is_llm=True.If it is wrong, you can manually set `is_llm`.\n",
      "INFO:AnglE:🚨 LLM detected, but pooling strategy is specified to cls.Please check whether it is correct. It is recommended to use `last` pooling strategy for LLM.\n",
      "INFO:AnglE:LLM detected, automatically set apply_lora=True.If it is wrong, you can manually set `apply_lora`.\n"
     ]
    },
    {
     "data": {
      "application/vnd.jupyter.widget-view+json": {
       "model_id": "9abd1a6632c14b29805a139f2009803a",
       "version_major": 2,
       "version_minor": 0
      },
      "text/plain": [
       "tokenizer_config.json:   0%|          | 0.00/746 [00:00<?, ?B/s]"
      ]
     },
     "metadata": {},
     "output_type": "display_data"
    },
    {
     "data": {
      "application/vnd.jupyter.widget-view+json": {
       "model_id": "9bd7231eb4c14c50a7541d11d5abcedb",
       "version_major": 2,
       "version_minor": 0
      },
      "text/plain": [
       "tokenizer.model:   0%|          | 0.00/500k [00:00<?, ?B/s]"
      ]
     },
     "metadata": {},
     "output_type": "display_data"
    },
    {
     "data": {
      "application/vnd.jupyter.widget-view+json": {
       "model_id": "1173f99223f346feb43f7335576a70b9",
       "version_major": 2,
       "version_minor": 0
      },
      "text/plain": [
       "tokenizer.json:   0%|          | 0.00/1.84M [00:00<?, ?B/s]"
      ]
     },
     "metadata": {},
     "output_type": "display_data"
    },
    {
     "data": {
      "application/vnd.jupyter.widget-view+json": {
       "model_id": "790347a1ec974435af8e52b85c70cb97",
       "version_major": 2,
       "version_minor": 0
      },
      "text/plain": [
       "special_tokens_map.json:   0%|          | 0.00/435 [00:00<?, ?B/s]"
      ]
     },
     "metadata": {},
     "output_type": "display_data"
    },
    {
     "data": {
      "application/vnd.jupyter.widget-view+json": {
       "model_id": "c58cb4f9ec93422099f9427a5cd9d657",
       "version_major": 2,
       "version_minor": 0
      },
      "text/plain": [
       "config.json:   0%|          | 0.00/583 [00:00<?, ?B/s]"
      ]
     },
     "metadata": {},
     "output_type": "display_data"
    },
    {
     "data": {
      "application/vnd.jupyter.widget-view+json": {
       "model_id": "2c92ced65e4740ab8a0da8240a28dc97",
       "version_major": 2,
       "version_minor": 0
      },
      "text/plain": [
       "model.safetensors.index.json:   0%|          | 0.00/26.8k [00:00<?, ?B/s]"
      ]
     },
     "metadata": {},
     "output_type": "display_data"
    },
    {
     "data": {
      "application/vnd.jupyter.widget-view+json": {
       "model_id": "5237021f563242f7864655e200038838",
       "version_major": 2,
       "version_minor": 0
      },
      "text/plain": [
       "Fetching 2 files:   0%|          | 0/2 [00:00<?, ?it/s]"
      ]
     },
     "metadata": {},
     "output_type": "display_data"
    },
    {
     "data": {
      "application/vnd.jupyter.widget-view+json": {
       "model_id": "94df6c6cbe274003b3345317fdd088e7",
       "version_major": 2,
       "version_minor": 0
      },
      "text/plain": [
       "model-00001-of-00002.safetensors:   0%|          | 0.00/9.98G [00:00<?, ?B/s]"
      ]
     },
     "metadata": {},
     "output_type": "display_data"
    },
    {
     "data": {
      "application/vnd.jupyter.widget-view+json": {
       "model_id": "fb454e401c2c4e73aec5ed84e82332d5",
       "version_major": 2,
       "version_minor": 0
      },
      "text/plain": [
       "model-00002-of-00002.safetensors:   0%|          | 0.00/3.50G [00:00<?, ?B/s]"
      ]
     },
     "metadata": {},
     "output_type": "display_data"
    },
    {
     "name": "stderr",
     "output_type": "stream",
     "text": [
      "/Users/jk1/opt/anaconda3/envs/evident/lib/python3.10/site-packages/transformers/generation/configuration_utils.py:817: UserWarning: `return_dict_in_generate` is NOT set to `True`, but `output_hidden_states` is. When `return_dict_in_generate` is not `True`, `output_hidden_states` is ignored.\n",
      "  warnings.warn(\n"
     ]
    },
    {
     "data": {
      "application/vnd.jupyter.widget-view+json": {
       "model_id": "7938c0190ae1403b82531f781f468dd6",
       "version_major": 2,
       "version_minor": 0
      },
      "text/plain": [
       "Loading checkpoint shards:   0%|          | 0/2 [00:00<?, ?it/s]"
      ]
     },
     "metadata": {},
     "output_type": "display_data"
    },
    {
     "ename": "RuntimeError",
     "evalue": "Invalid buffer size: 6.28 GB",
     "output_type": "error",
     "traceback": [
      "\u001b[0;31m---------------------------------------------------------------------------\u001b[0m",
      "\u001b[0;31mRuntimeError\u001b[0m                              Traceback (most recent call last)",
      "Cell \u001b[0;32mIn[1], line 4\u001b[0m\n\u001b[1;32m      1\u001b[0m \u001b[38;5;28;01mfrom\u001b[39;00m\u001b[38;5;250m \u001b[39m\u001b[38;5;21;01mangle_emb\u001b[39;00m\u001b[38;5;250m \u001b[39m\u001b[38;5;28;01mimport\u001b[39;00m AnglE, Prompts\n\u001b[1;32m      3\u001b[0m \u001b[38;5;66;03m# init\u001b[39;00m\n\u001b[0;32m----> 4\u001b[0m angle \u001b[38;5;241m=\u001b[39m \u001b[43mAnglE\u001b[49m\u001b[38;5;241;43m.\u001b[39;49m\u001b[43mfrom_pretrained\u001b[49m\u001b[43m(\u001b[49m\u001b[38;5;124;43m'\u001b[39;49m\u001b[38;5;124;43mNousResearch/Llama-2-7b-hf\u001b[39;49m\u001b[38;5;124;43m'\u001b[39;49m\u001b[43m,\u001b[49m\u001b[43m \u001b[49m\u001b[43mpretrained_lora_path\u001b[49m\u001b[38;5;241;43m=\u001b[39;49m\u001b[38;5;124;43m'\u001b[39;49m\u001b[38;5;124;43mSeanLee97/angle-llama-7b-nli-v2\u001b[39;49m\u001b[38;5;124;43m'\u001b[39;49m\u001b[43m)\u001b[49m\n\u001b[1;32m      6\u001b[0m \u001b[38;5;66;03m# set prompt\u001b[39;00m\n\u001b[1;32m      7\u001b[0m \u001b[38;5;28mprint\u001b[39m(\u001b[38;5;124m'\u001b[39m\u001b[38;5;124mAll predefined prompts:\u001b[39m\u001b[38;5;124m'\u001b[39m, Prompts\u001b[38;5;241m.\u001b[39mlist_prompts())\n",
      "File \u001b[0;32m~/opt/anaconda3/envs/evident/lib/python3.10/site-packages/angle_emb/angle.py:1416\u001b[0m, in \u001b[0;36mAnglE.from_pretrained\u001b[0;34m(model_name_or_path, pretrained_model_path, pretrained_lora_path, is_llm, pooling_strategy, train_mode, model_kwargs, **kwargs)\u001b[0m\n\u001b[1;32m   1392\u001b[0m \u001b[38;5;250m\u001b[39m\u001b[38;5;124;03m\"\"\"\u001b[39;00m\n\u001b[1;32m   1393\u001b[0m \u001b[38;5;124;03mLoad AnglE from pretrained model.\u001b[39;00m\n\u001b[1;32m   1394\u001b[0m \n\u001b[0;32m   (...)\u001b[0m\n\u001b[1;32m   1413\u001b[0m \u001b[38;5;124;03m        angle.encode(*args, **kwargs)\u001b[39;00m\n\u001b[1;32m   1414\u001b[0m \u001b[38;5;124;03m\"\"\"\u001b[39;00m\n\u001b[1;32m   1415\u001b[0m kwargs[\u001b[38;5;124m'\u001b[39m\u001b[38;5;124mmodel_kwargs\u001b[39m\u001b[38;5;124m'\u001b[39m] \u001b[38;5;241m=\u001b[39m model_kwargs\n\u001b[0;32m-> 1416\u001b[0m angle \u001b[38;5;241m=\u001b[39m \u001b[43mAnglE\u001b[49m\u001b[43m(\u001b[49m\u001b[43mmodel_name_or_path\u001b[49m\u001b[43m,\u001b[49m\n\u001b[1;32m   1417\u001b[0m \u001b[43m              \u001b[49m\u001b[43mis_llm\u001b[49m\u001b[38;5;241;43m=\u001b[39;49m\u001b[43mis_llm\u001b[49m\u001b[43m,\u001b[49m\n\u001b[1;32m   1418\u001b[0m \u001b[43m              \u001b[49m\u001b[43mpretrained_model_path\u001b[49m\u001b[38;5;241;43m=\u001b[39;49m\u001b[43mpretrained_model_path\u001b[49m\u001b[43m,\u001b[49m\n\u001b[1;32m   1419\u001b[0m \u001b[43m              \u001b[49m\u001b[43mpretrained_lora_path\u001b[49m\u001b[38;5;241;43m=\u001b[39;49m\u001b[43mpretrained_lora_path\u001b[49m\u001b[43m,\u001b[49m\n\u001b[1;32m   1420\u001b[0m \u001b[43m              \u001b[49m\u001b[43mpooling_strategy\u001b[49m\u001b[38;5;241;43m=\u001b[39;49m\u001b[43mpooling_strategy\u001b[49m\u001b[43m,\u001b[49m\n\u001b[1;32m   1421\u001b[0m \u001b[43m              \u001b[49m\u001b[43mtrain_mode\u001b[49m\u001b[38;5;241;43m=\u001b[39;49m\u001b[43mtrain_mode\u001b[49m\u001b[43m,\u001b[49m\n\u001b[1;32m   1422\u001b[0m \u001b[43m              \u001b[49m\u001b[38;5;241;43m*\u001b[39;49m\u001b[38;5;241;43m*\u001b[39;49m\u001b[43mkwargs\u001b[49m\u001b[43m)\u001b[49m\n\u001b[1;32m   1423\u001b[0m \u001b[38;5;28;01mreturn\u001b[39;00m angle\n",
      "File \u001b[0;32m~/opt/anaconda3/envs/evident/lib/python3.10/site-packages/angle_emb/angle.py:1252\u001b[0m, in \u001b[0;36mAnglE.__init__\u001b[0;34m(self, model_name_or_path, tokenizer_name_or_path, max_length, model_kwargs, lora_config_kwargs, pooling_strategy, apply_lora, train_mode, load_kbit, is_llm, pretrained_model_path, pretrained_lora_path, torch_dtype, device, kbit_kwargs, tokenizer_padding_side, apply_billm, billm_model_class, load_mlm_model, **kwargs)\u001b[0m\n\u001b[1;32m   1234\u001b[0m     model \u001b[38;5;241m=\u001b[39m MODEL_CLASS\u001b[38;5;241m.\u001b[39mfrom_pretrained(\n\u001b[1;32m   1235\u001b[0m         model_name_or_path,\n\u001b[1;32m   1236\u001b[0m         config\u001b[38;5;241m=\u001b[39m\u001b[38;5;28;01mNone\u001b[39;00m,\n\u001b[0;32m   (...)\u001b[0m\n\u001b[1;32m   1249\u001b[0m         \u001b[38;5;241m*\u001b[39m\u001b[38;5;241m*\u001b[39m\u001b[38;5;28mself\u001b[39m\u001b[38;5;241m.\u001b[39mmodel_kwargs\n\u001b[1;32m   1250\u001b[0m     )\n\u001b[1;32m   1251\u001b[0m \u001b[38;5;28;01melse\u001b[39;00m:\n\u001b[0;32m-> 1252\u001b[0m     model \u001b[38;5;241m=\u001b[39m \u001b[43mMODEL_CLASS\u001b[49m\u001b[38;5;241;43m.\u001b[39;49m\u001b[43mfrom_pretrained\u001b[49m\u001b[43m(\u001b[49m\u001b[43mmodel_name_or_path\u001b[49m\u001b[43m,\u001b[49m\n\u001b[1;32m   1253\u001b[0m \u001b[43m                                        \u001b[49m\u001b[43mdevice_map\u001b[49m\u001b[38;5;241;43m=\u001b[39;49m\u001b[43mdevice_map\u001b[49m\u001b[43m,\u001b[49m\n\u001b[1;32m   1254\u001b[0m \u001b[43m                                        \u001b[49m\u001b[43moutput_hidden_states\u001b[49m\u001b[38;5;241;43m=\u001b[39;49m\u001b[38;5;28;43;01mTrue\u001b[39;49;00m\u001b[43m,\u001b[49m\n\u001b[1;32m   1255\u001b[0m \u001b[43m                                        \u001b[49m\u001b[43mtrust_remote_code\u001b[49m\u001b[38;5;241;43m=\u001b[39;49m\u001b[38;5;28;43;01mTrue\u001b[39;49;00m\u001b[43m,\u001b[49m\n\u001b[1;32m   1256\u001b[0m \u001b[43m                                        \u001b[49m\u001b[43mtorch_dtype\u001b[49m\u001b[38;5;241;43m=\u001b[39;49m\u001b[43mtorch_dtype\u001b[49m\u001b[43m \u001b[49m\u001b[38;5;129;43;01mor\u001b[39;49;00m\u001b[43m \u001b[49m\u001b[43mtorch\u001b[49m\u001b[38;5;241;43m.\u001b[39;49m\u001b[43mfloat16\u001b[49m\u001b[43m,\u001b[49m\n\u001b[1;32m   1257\u001b[0m \u001b[43m                                        \u001b[49m\u001b[38;5;241;43m*\u001b[39;49m\u001b[38;5;241;43m*\u001b[39;49m\u001b[38;5;28;43mself\u001b[39;49m\u001b[38;5;241;43m.\u001b[39;49m\u001b[43mmodel_kwargs\u001b[49m\u001b[43m)\u001b[49m\n\u001b[1;32m   1258\u001b[0m \u001b[38;5;28;01mif\u001b[39;00m train_mode \u001b[38;5;129;01mand\u001b[39;00m is_kbit:\n\u001b[1;32m   1259\u001b[0m     model \u001b[38;5;241m=\u001b[39m prepare_model_for_kbit_training(model, \u001b[38;5;241m*\u001b[39m\u001b[38;5;241m*\u001b[39mkbit_kwargs)\n",
      "File \u001b[0;32m~/opt/anaconda3/envs/evident/lib/python3.10/site-packages/transformers/models/auto/auto_factory.py:573\u001b[0m, in \u001b[0;36m_BaseAutoModelClass.from_pretrained\u001b[0;34m(cls, pretrained_model_name_or_path, *model_args, **kwargs)\u001b[0m\n\u001b[1;32m    571\u001b[0m \u001b[38;5;28;01melif\u001b[39;00m \u001b[38;5;28mtype\u001b[39m(config) \u001b[38;5;129;01min\u001b[39;00m \u001b[38;5;28mcls\u001b[39m\u001b[38;5;241m.\u001b[39m_model_mapping\u001b[38;5;241m.\u001b[39mkeys():\n\u001b[1;32m    572\u001b[0m     model_class \u001b[38;5;241m=\u001b[39m _get_model_class(config, \u001b[38;5;28mcls\u001b[39m\u001b[38;5;241m.\u001b[39m_model_mapping)\n\u001b[0;32m--> 573\u001b[0m     \u001b[38;5;28;01mreturn\u001b[39;00m \u001b[43mmodel_class\u001b[49m\u001b[38;5;241;43m.\u001b[39;49m\u001b[43mfrom_pretrained\u001b[49m\u001b[43m(\u001b[49m\n\u001b[1;32m    574\u001b[0m \u001b[43m        \u001b[49m\u001b[43mpretrained_model_name_or_path\u001b[49m\u001b[43m,\u001b[49m\u001b[43m \u001b[49m\u001b[38;5;241;43m*\u001b[39;49m\u001b[43mmodel_args\u001b[49m\u001b[43m,\u001b[49m\u001b[43m \u001b[49m\u001b[43mconfig\u001b[49m\u001b[38;5;241;43m=\u001b[39;49m\u001b[43mconfig\u001b[49m\u001b[43m,\u001b[49m\u001b[43m \u001b[49m\u001b[38;5;241;43m*\u001b[39;49m\u001b[38;5;241;43m*\u001b[39;49m\u001b[43mhub_kwargs\u001b[49m\u001b[43m,\u001b[49m\u001b[43m \u001b[49m\u001b[38;5;241;43m*\u001b[39;49m\u001b[38;5;241;43m*\u001b[39;49m\u001b[43mkwargs\u001b[49m\n\u001b[1;32m    575\u001b[0m \u001b[43m    \u001b[49m\u001b[43m)\u001b[49m\n\u001b[1;32m    576\u001b[0m \u001b[38;5;28;01mraise\u001b[39;00m \u001b[38;5;167;01mValueError\u001b[39;00m(\n\u001b[1;32m    577\u001b[0m     \u001b[38;5;124mf\u001b[39m\u001b[38;5;124m\"\u001b[39m\u001b[38;5;124mUnrecognized configuration class \u001b[39m\u001b[38;5;132;01m{\u001b[39;00mconfig\u001b[38;5;241m.\u001b[39m\u001b[38;5;18m__class__\u001b[39m\u001b[38;5;132;01m}\u001b[39;00m\u001b[38;5;124m for this kind of AutoModel: \u001b[39m\u001b[38;5;132;01m{\u001b[39;00m\u001b[38;5;28mcls\u001b[39m\u001b[38;5;241m.\u001b[39m\u001b[38;5;18m__name__\u001b[39m\u001b[38;5;132;01m}\u001b[39;00m\u001b[38;5;124m.\u001b[39m\u001b[38;5;130;01m\\n\u001b[39;00m\u001b[38;5;124m\"\u001b[39m\n\u001b[1;32m    578\u001b[0m     \u001b[38;5;124mf\u001b[39m\u001b[38;5;124m\"\u001b[39m\u001b[38;5;124mModel type should be one of \u001b[39m\u001b[38;5;132;01m{\u001b[39;00m\u001b[38;5;124m'\u001b[39m\u001b[38;5;124m, \u001b[39m\u001b[38;5;124m'\u001b[39m\u001b[38;5;241m.\u001b[39mjoin(c\u001b[38;5;241m.\u001b[39m\u001b[38;5;18m__name__\u001b[39m\u001b[38;5;250m \u001b[39m\u001b[38;5;28;01mfor\u001b[39;00m\u001b[38;5;250m \u001b[39mc\u001b[38;5;250m \u001b[39m\u001b[38;5;129;01min\u001b[39;00m\u001b[38;5;250m \u001b[39m\u001b[38;5;28mcls\u001b[39m\u001b[38;5;241m.\u001b[39m_model_mapping\u001b[38;5;241m.\u001b[39mkeys())\u001b[38;5;132;01m}\u001b[39;00m\u001b[38;5;124m.\u001b[39m\u001b[38;5;124m\"\u001b[39m\n\u001b[1;32m    579\u001b[0m )\n",
      "File \u001b[0;32m~/opt/anaconda3/envs/evident/lib/python3.10/site-packages/transformers/modeling_utils.py:272\u001b[0m, in \u001b[0;36mrestore_default_torch_dtype.<locals>._wrapper\u001b[0;34m(*args, **kwargs)\u001b[0m\n\u001b[1;32m    270\u001b[0m old_dtype \u001b[38;5;241m=\u001b[39m torch\u001b[38;5;241m.\u001b[39mget_default_dtype()\n\u001b[1;32m    271\u001b[0m \u001b[38;5;28;01mtry\u001b[39;00m:\n\u001b[0;32m--> 272\u001b[0m     \u001b[38;5;28;01mreturn\u001b[39;00m \u001b[43mfunc\u001b[49m\u001b[43m(\u001b[49m\u001b[38;5;241;43m*\u001b[39;49m\u001b[43margs\u001b[49m\u001b[43m,\u001b[49m\u001b[43m \u001b[49m\u001b[38;5;241;43m*\u001b[39;49m\u001b[38;5;241;43m*\u001b[39;49m\u001b[43mkwargs\u001b[49m\u001b[43m)\u001b[49m\n\u001b[1;32m    273\u001b[0m \u001b[38;5;28;01mfinally\u001b[39;00m:\n\u001b[1;32m    274\u001b[0m     torch\u001b[38;5;241m.\u001b[39mset_default_dtype(old_dtype)\n",
      "File \u001b[0;32m~/opt/anaconda3/envs/evident/lib/python3.10/site-packages/transformers/modeling_utils.py:4455\u001b[0m, in \u001b[0;36mPreTrainedModel.from_pretrained\u001b[0;34m(cls, pretrained_model_name_or_path, config, cache_dir, ignore_mismatched_sizes, force_download, local_files_only, token, revision, use_safetensors, weights_only, *model_args, **kwargs)\u001b[0m\n\u001b[1;32m   4445\u001b[0m     \u001b[38;5;28;01mif\u001b[39;00m dtype_orig \u001b[38;5;129;01mis\u001b[39;00m \u001b[38;5;129;01mnot\u001b[39;00m \u001b[38;5;28;01mNone\u001b[39;00m:\n\u001b[1;32m   4446\u001b[0m         torch\u001b[38;5;241m.\u001b[39mset_default_dtype(dtype_orig)\n\u001b[1;32m   4448\u001b[0m     (\n\u001b[1;32m   4449\u001b[0m         model,\n\u001b[1;32m   4450\u001b[0m         missing_keys,\n\u001b[1;32m   4451\u001b[0m         unexpected_keys,\n\u001b[1;32m   4452\u001b[0m         mismatched_keys,\n\u001b[1;32m   4453\u001b[0m         offload_index,\n\u001b[1;32m   4454\u001b[0m         error_msgs,\n\u001b[0;32m-> 4455\u001b[0m     ) \u001b[38;5;241m=\u001b[39m \u001b[38;5;28;43mcls\u001b[39;49m\u001b[38;5;241;43m.\u001b[39;49m\u001b[43m_load_pretrained_model\u001b[49m\u001b[43m(\u001b[49m\n\u001b[1;32m   4456\u001b[0m \u001b[43m        \u001b[49m\u001b[43mmodel\u001b[49m\u001b[43m,\u001b[49m\n\u001b[1;32m   4457\u001b[0m \u001b[43m        \u001b[49m\u001b[43mstate_dict\u001b[49m\u001b[43m,\u001b[49m\n\u001b[1;32m   4458\u001b[0m \u001b[43m        \u001b[49m\u001b[43mcheckpoint_files\u001b[49m\u001b[43m,\u001b[49m\n\u001b[1;32m   4459\u001b[0m \u001b[43m        \u001b[49m\u001b[43mpretrained_model_name_or_path\u001b[49m\u001b[43m,\u001b[49m\n\u001b[1;32m   4460\u001b[0m \u001b[43m        \u001b[49m\u001b[43mignore_mismatched_sizes\u001b[49m\u001b[38;5;241;43m=\u001b[39;49m\u001b[43mignore_mismatched_sizes\u001b[49m\u001b[43m,\u001b[49m\n\u001b[1;32m   4461\u001b[0m \u001b[43m        \u001b[49m\u001b[43msharded_metadata\u001b[49m\u001b[38;5;241;43m=\u001b[39;49m\u001b[43msharded_metadata\u001b[49m\u001b[43m,\u001b[49m\n\u001b[1;32m   4462\u001b[0m \u001b[43m        \u001b[49m\u001b[43mlow_cpu_mem_usage\u001b[49m\u001b[38;5;241;43m=\u001b[39;49m\u001b[43mlow_cpu_mem_usage\u001b[49m\u001b[43m,\u001b[49m\n\u001b[1;32m   4463\u001b[0m \u001b[43m        \u001b[49m\u001b[43mdevice_map\u001b[49m\u001b[38;5;241;43m=\u001b[39;49m\u001b[43mdevice_map\u001b[49m\u001b[43m,\u001b[49m\n\u001b[1;32m   4464\u001b[0m \u001b[43m        \u001b[49m\u001b[43mdisk_offload_folder\u001b[49m\u001b[38;5;241;43m=\u001b[39;49m\u001b[43moffload_folder\u001b[49m\u001b[43m,\u001b[49m\n\u001b[1;32m   4465\u001b[0m \u001b[43m        \u001b[49m\u001b[43moffload_state_dict\u001b[49m\u001b[38;5;241;43m=\u001b[39;49m\u001b[43moffload_state_dict\u001b[49m\u001b[43m,\u001b[49m\n\u001b[1;32m   4466\u001b[0m \u001b[43m        \u001b[49m\u001b[43mdtype\u001b[49m\u001b[38;5;241;43m=\u001b[39;49m\u001b[43mtorch_dtype\u001b[49m\u001b[43m,\u001b[49m\n\u001b[1;32m   4467\u001b[0m \u001b[43m        \u001b[49m\u001b[43mhf_quantizer\u001b[49m\u001b[38;5;241;43m=\u001b[39;49m\u001b[43mhf_quantizer\u001b[49m\u001b[43m,\u001b[49m\n\u001b[1;32m   4468\u001b[0m \u001b[43m        \u001b[49m\u001b[43mkeep_in_fp32_modules\u001b[49m\u001b[38;5;241;43m=\u001b[39;49m\u001b[43mkeep_in_fp32_modules\u001b[49m\u001b[43m,\u001b[49m\n\u001b[1;32m   4469\u001b[0m \u001b[43m        \u001b[49m\u001b[43mdevice_mesh\u001b[49m\u001b[38;5;241;43m=\u001b[39;49m\u001b[43mdevice_mesh\u001b[49m\u001b[43m,\u001b[49m\n\u001b[1;32m   4470\u001b[0m \u001b[43m        \u001b[49m\u001b[43mkey_mapping\u001b[49m\u001b[38;5;241;43m=\u001b[39;49m\u001b[43mkey_mapping\u001b[49m\u001b[43m,\u001b[49m\n\u001b[1;32m   4471\u001b[0m \u001b[43m        \u001b[49m\u001b[43mweights_only\u001b[49m\u001b[38;5;241;43m=\u001b[39;49m\u001b[43mweights_only\u001b[49m\u001b[43m,\u001b[49m\n\u001b[1;32m   4472\u001b[0m \u001b[43m        \u001b[49m\u001b[43m_fast_init\u001b[49m\u001b[38;5;241;43m=\u001b[39;49m\u001b[43m_fast_init\u001b[49m\u001b[43m,\u001b[49m\n\u001b[1;32m   4473\u001b[0m \u001b[43m    \u001b[49m\u001b[43m)\u001b[49m\n\u001b[1;32m   4475\u001b[0m \u001b[38;5;66;03m# make sure token embedding weights are still tied if needed\u001b[39;00m\n\u001b[1;32m   4476\u001b[0m model\u001b[38;5;241m.\u001b[39mtie_weights()\n",
      "File \u001b[0;32m~/opt/anaconda3/envs/evident/lib/python3.10/site-packages/transformers/modeling_utils.py:4841\u001b[0m, in \u001b[0;36mPreTrainedModel._load_pretrained_model\u001b[0;34m(cls, model, state_dict, checkpoint_files, pretrained_model_name_or_path, ignore_mismatched_sizes, sharded_metadata, low_cpu_mem_usage, device_map, disk_offload_folder, offload_state_dict, dtype, hf_quantizer, keep_in_fp32_modules, device_mesh, key_mapping, weights_only, _fast_init)\u001b[0m\n\u001b[1;32m   4839\u001b[0m \u001b[38;5;28;01mif\u001b[39;00m device_map \u001b[38;5;129;01mis\u001b[39;00m \u001b[38;5;129;01mnot\u001b[39;00m \u001b[38;5;28;01mNone\u001b[39;00m \u001b[38;5;129;01mand\u001b[39;00m hf_quantizer \u001b[38;5;129;01mis\u001b[39;00m \u001b[38;5;28;01mNone\u001b[39;00m:\n\u001b[1;32m   4840\u001b[0m     expanded_device_map \u001b[38;5;241m=\u001b[39m expand_device_map(device_map, expected_keys)\n\u001b[0;32m-> 4841\u001b[0m     \u001b[43mcaching_allocator_warmup\u001b[49m\u001b[43m(\u001b[49m\u001b[43mmodel_to_load\u001b[49m\u001b[43m,\u001b[49m\u001b[43m \u001b[49m\u001b[43mexpanded_device_map\u001b[49m\u001b[43m)\u001b[49m\n\u001b[1;32m   4843\u001b[0m error_msgs \u001b[38;5;241m=\u001b[39m []\n\u001b[1;32m   4844\u001b[0m mismatched_keys \u001b[38;5;241m=\u001b[39m []\n",
      "File \u001b[0;32m~/opt/anaconda3/envs/evident/lib/python3.10/site-packages/transformers/modeling_utils.py:5853\u001b[0m, in \u001b[0;36mcaching_allocator_warmup\u001b[0;34m(model, expanded_device_map)\u001b[0m\n\u001b[1;32m   5851\u001b[0m     byte_count \u001b[38;5;241m=\u001b[39m \u001b[38;5;28mmin\u001b[39m(byte_count, \u001b[38;5;28mint\u001b[39m(\u001b[38;5;241m0.95\u001b[39m \u001b[38;5;241m*\u001b[39m device_memory))\n\u001b[1;32m   5852\u001b[0m \u001b[38;5;66;03m# Allocate memory\u001b[39;00m\n\u001b[0;32m-> 5853\u001b[0m _ \u001b[38;5;241m=\u001b[39m \u001b[43mtorch\u001b[49m\u001b[38;5;241;43m.\u001b[39;49m\u001b[43mempty\u001b[49m\u001b[43m(\u001b[49m\u001b[43mbyte_count\u001b[49m\u001b[43m \u001b[49m\u001b[38;5;241;43m/\u001b[39;49m\u001b[38;5;241;43m/\u001b[39;49m\u001b[43m \u001b[49m\u001b[38;5;241;43m2\u001b[39;49m\u001b[43m,\u001b[49m\u001b[43m \u001b[49m\u001b[43mdtype\u001b[49m\u001b[38;5;241;43m=\u001b[39;49m\u001b[43mtorch\u001b[49m\u001b[38;5;241;43m.\u001b[39;49m\u001b[43mfloat16\u001b[49m\u001b[43m,\u001b[49m\u001b[43m \u001b[49m\u001b[43mdevice\u001b[49m\u001b[38;5;241;43m=\u001b[39;49m\u001b[43mdevice\u001b[49m\u001b[43m,\u001b[49m\u001b[43m \u001b[49m\u001b[43mrequires_grad\u001b[49m\u001b[38;5;241;43m=\u001b[39;49m\u001b[38;5;28;43;01mFalse\u001b[39;49;00m\u001b[43m)\u001b[49m\n",
      "\u001b[0;31mRuntimeError\u001b[0m: Invalid buffer size: 6.28 GB"
     ]
    }
   ],
   "source": [
    "from angle_emb import AnglE, Prompts\n",
    "\n",
    "# init\n",
    "angle = AnglE.from_pretrained('NousResearch/Llama-2-7b-hf', pretrained_lora_path='SeanLee97/angle-llama-7b-nli-v2')\n",
    "\n",
    "# set prompt\n",
    "print('All predefined prompts:', Prompts.list_prompts())\n",
    "angle.set_prompt(prompt=Prompts.A)\n",
    "print('prompt:', angle.prompt)\n",
    "\n",
    "# encode text\n",
    "vec = angle.encode({'text': 'hello world'}, to_numpy=True)\n",
    "print(vec)\n",
    "vecs = angle.encode([{'text': 'hello world1'}, {'text': 'hello world2'}], to_numpy=True)\n",
    "print(vecs)"
   ]
  },
  {
   "cell_type": "code",
   "execution_count": null,
   "id": "f18f1f4f",
   "metadata": {},
   "outputs": [],
   "source": [
    "from angle_emb import AnglE, Prompts\n",
    "\n",
    "# init\n",
    "angle = AnglE.from_pretrained('NousResearch/Llama-2-7b-hf', pretrained_lora_path='SeanLee97/angle-llama-7b-nli-v2')\n",
    "\n",
    "# set prompt\n",
    "print('All predefined prompts:', Prompts.list_prompts())\n",
    "angle.set_prompt(prompt=Prompts.A)\n",
    "print('prompt:', angle.prompt)\n",
    "\n",
    "# encode text\n",
    "vec = angle.encode({'text': 'hello world'}, to_numpy=True)\n",
    "print(vec)\n",
    "vecs = angle.encode([{'text': 'hello world1'}, {'text': 'hello world2'}], to_numpy=True)\n",
    "print(vecs)"
   ]
  },
  {
   "cell_type": "code",
   "execution_count": null,
   "id": "a2e680be",
   "metadata": {},
   "outputs": [],
   "source": [
    "\n",
    "# set prompt\n",
    "print('All predefined prompts:', Prompts.list_prompts())\n",
    "angle.set_prompt(prompt=Prompts.A)\n",
    "print('prompt:', angle.prompt)\n",
    "\n",
    "# encode text\n",
    "vec = angle.encode({'text': 'hello world'}, to_numpy=True)\n",
    "print(vec)\n",
    "vecs = angle.encode([{'text': 'hello world1'}, {'text': 'hello world2'}], to_numpy=True)\n",
    "print(vecs)"
   ]
  },
  {
   "cell_type": "code",
   "execution_count": 9,
   "id": "c140f56db7c9a08c",
   "metadata": {
    "ExecuteTime": {
     "end_time": "2025-04-04T18:11:47.555481Z",
     "start_time": "2025-04-04T18:11:47.365549Z"
    }
   },
   "outputs": [
    {
     "name": "stdout",
     "output_type": "stream",
     "text": [
      "Tensor encoder similarity: tensor([[0.9646]])\n",
      "Cross encoder similarity: 0.5364323258399963\n",
      "Spacy similarity: 0.9978824100453705\n"
     ]
    }
   ],
   "source": [
    "text1 = 'In patients with low echocardiographic probability of PH without risk factors for PAH or CTEPH, alternative diagnosis should be considered.'\n",
    "text2 = 'In patients with low probability of PH without risk factors for PAH or CTEPH, an alternative diagnosis should be considered.'\n",
    "\n",
    "sentence_embeddings = model.encode([text1, text2])\n",
    "\n",
    "print(f'Tensor encoder similarity: {util.pytorch_cos_sim(sentence_embeddings[0], sentence_embeddings[1])}')\n",
    "print(f'Cross encoder similarity: {ce_model.predict([text1, text2])}')\n",
    "print(f'Spacy similarity: {get_similarity_score(text1, text2)}')"
   ]
  },
  {
   "cell_type": "code",
   "execution_count": 13,
   "id": "2c2b5122",
   "metadata": {},
   "outputs": [
    {
     "data": {
      "text/plain": [
       "0.9645975828170776"
      ]
     },
     "execution_count": 13,
     "metadata": {},
     "output_type": "execute_result"
    }
   ],
   "source": [
    "float(util.pytorch_cos_sim(sentence_embeddings[0], sentence_embeddings[1]))"
   ]
  },
  {
   "cell_type": "code",
   "execution_count": 16,
   "id": "7f2fc760c5563658",
   "metadata": {
    "ExecuteTime": {
     "end_time": "2025-04-04T18:15:04.287554Z",
     "start_time": "2025-04-04T18:15:04.147239Z"
    }
   },
   "outputs": [
    {
     "data": {
      "application/vnd.jupyter.widget-view+json": {
       "model_id": "e5f1c5f276d34a12985f2859a8fe0aa7",
       "version_major": 2,
       "version_minor": 0
      },
      "text/plain": [
       "Batches:   0%|          | 0/1 [00:00<?, ?it/s]"
      ]
     },
     "metadata": {},
     "output_type": "display_data"
    },
    {
     "name": "stdout",
     "output_type": "stream",
     "text": [
      "Tensor encoder similarity: tensor([[0.6276]])\n"
     ]
    },
    {
     "data": {
      "application/vnd.jupyter.widget-view+json": {
       "model_id": "7f469d07a77b4594b89d7c4d3932db8f",
       "version_major": 2,
       "version_minor": 0
      },
      "text/plain": [
       "Batches:   0%|          | 0/1 [00:00<?, ?it/s]"
      ]
     },
     "metadata": {},
     "output_type": "display_data"
    },
    {
     "name": "stdout",
     "output_type": "stream",
     "text": [
      "Cross encoder similarity: 0.45796528458595276\n",
      "Spacy similarity: 0.724624800917954\n"
     ]
    }
   ],
   "source": [
    "text1 = 'It is recommended that PAH patients avoid pregnancy'\n",
    "text2 = 'Avoidance of pregnancy'\n",
    "\n",
    "sentence_embeddings = model.encode([text1, text2])\n",
    "\n",
    "print(f'Tensor encoder similarity: {util.pytorch_cos_sim(sentence_embeddings[0], sentence_embeddings[1])}')\n",
    "print(f'Cross encoder similarity: {ce_model.predict([text1, text2])}')\n",
    "print(f'Spacy similarity: {get_similarity_score(text1, text2)}')"
   ]
  },
  {
   "cell_type": "code",
   "execution_count": 17,
   "id": "8e7ce668",
   "metadata": {},
   "outputs": [
    {
     "data": {
      "application/vnd.jupyter.widget-view+json": {
       "model_id": "0ecab8ea9e51403da88e86ef160d8e49",
       "version_major": 2,
       "version_minor": 0
      },
      "text/plain": [
       "Batches:   0%|          | 0/1 [00:00<?, ?it/s]"
      ]
     },
     "metadata": {},
     "output_type": "display_data"
    },
    {
     "name": "stdout",
     "output_type": "stream",
     "text": [
      "Tensor encoder similarity: tensor([[0.8880]])\n"
     ]
    },
    {
     "data": {
      "application/vnd.jupyter.widget-view+json": {
       "model_id": "c9fdcb5ccb0d437896b721a0515fa85c",
       "version_major": 2,
       "version_minor": 0
      },
      "text/plain": [
       "Batches:   0%|          | 0/1 [00:00<?, ?it/s]"
      ]
     },
     "metadata": {},
     "output_type": "display_data"
    },
    {
     "name": "stdout",
     "output_type": "stream",
     "text": [
      "Cross encoder similarity: 0.3723026216030121\n",
      "Spacy similarity: 0.9737339572642906\n"
     ]
    }
   ],
   "source": [
    "text1 = 'In patients with low echocardiographic probability of PH without risk factors for PAH or CTEPH, alternative diagnosis should be considered.'\n",
    "text2 = 'In patients with intermediate echocardiographic probability of PH without risk factors for PAH or CTEPH, echo follow-up should be considered.'\n",
    "\n",
    "sentence_embeddings = model.encode([text1, text2])\n",
    "print(f'Tensor encoder similarity: {util.pytorch_cos_sim(sentence_embeddings[0], sentence_embeddings[1])}')\n",
    "print(f'Cross encoder similarity: {ce_model.predict([text1, text2])}')\n",
    "print(f'Spacy similarity: {get_similarity_score(text1, text2)}')"
   ]
  },
  {
   "cell_type": "code",
   "execution_count": 58,
   "id": "d05f0f676ddfa9aa",
   "metadata": {
    "ExecuteTime": {
     "end_time": "2025-04-02T14:57:58.478133Z",
     "start_time": "2025-04-02T14:57:58.465548Z"
    }
   },
   "outputs": [],
   "source": [
    "def score_recommendation(recommendation_text:str, recommendation_grade:str, recommendation_level:str, recommendation_gt_df:pd.DataFrame,\n",
    "                         interactive:bool=True, verbose:bool=True) -> tuple:\n",
    "    \"\"\"\n",
    "    This function takes a recommendation text, grade, and level, and returns the scores of the recommendation based on the ground truth dataframe.\n",
    "\n",
    "    if recommendation text is not in the ground truth dataframe, it returns (-1, -1, -1, -1)\n",
    "    if recommendation text is in the ground truth dataframe, TRUE/FALSE for grade and level based on if the recommendation grade and level are the same as the ground truth dataframe, as well as the matched recommendation text and the score of the match.\n",
    "\n",
    "    Parameters\n",
    "    ----------\n",
    "    recommendation_text : str\n",
    "        The recommendation text to be scored.\n",
    "    recommendation_grade : str\n",
    "        The recommendation grade to be scored.\n",
    "    recommendation_level : str\n",
    "        The recommendation level to be scored.\n",
    "    recommendation_gt_df : pd.DataFrame\n",
    "        The ground truth dataframe containing the recommendation text, grade, and level.\n",
    "    verbose : bool\n",
    "        If True, print the fuzzy match found for the recommendation text.\n",
    "\n",
    "\n",
    "    Returns\n",
    "    -------\n",
    "    tuple\n",
    "        A tuple containing the grade evaluation, level evaluation, matched recommendation text, score of the match, as well as manual validation\n",
    "        (grade_eval, level_eval, recommendation_text, score, manual_validation)\n",
    "\n",
    "    \"\"\"\n",
    "\n",
    "    # Check if exact match for recommendation text in the ground truth dataframe\n",
    "    if recommendation_text in recommendation_gt_df.recommendation.values:\n",
    "        match_row = recommendation_gt_df[recommendation_gt_df.recommendation.str.lower() == recommendation_text.lower()]\n",
    "        grade_eval = recommendation_grade.lower() == match_row['class'].values[0].lower()\n",
    "        level_eval = recommendation_level.lower() == match_row.LOE.values[0].lower()\n",
    "        return (grade_eval, level_eval, recommendation_text, 100, False)\n",
    "\n",
    "    # Check if fuzzy match for recommendation text in the ground truth dataframe\n",
    "    matches = process.extractBests(recommendation_text.lower(), recommendation_gt_df.recommendation.str.lower().values,\n",
    "                                   limit=10)\n",
    "\n",
    "    best_match = matches[0]\n",
    "    if best_match[1] >= 95:\n",
    "        match_row = recommendation_gt_df[recommendation_gt_df.recommendation.str.lower() == best_match[0].lower()]\n",
    "        grade_eval = recommendation_grade.lower() == match_row['class'].values[0].lower()\n",
    "        level_eval = recommendation_level.lower() == match_row.LOE.values[0].lower()\n",
    "\n",
    "        if verbose:\n",
    "            print(f'Fuzzy match found for \"{recommendation_text}\" with score {best_match[1]}: \"{best_match[0]}\"')\n",
    "\n",
    "        return (grade_eval, level_eval, best_match[0], best_match[1], False)\n",
    "\n",
    "    else:\n",
    "        if not interactive:\n",
    "            if verbose:\n",
    "                print(f'No match found for \"{recommendation_text}\"')\n",
    "            return (-1, -1, -1, -1, False)\n",
    "        else:\n",
    "            # give choice of best matches to the user\n",
    "            print(f'No exact match found, please choose from the following options:')\n",
    "            print(f'- \"{recommendation_text} -\"')\n",
    "            for i, match in enumerate(matches):\n",
    "                print(f'{i}: {match[0]} - {match[1]}')\n",
    "            # add none option\n",
    "            print(f'{len(matches)}: None')\n",
    "\n",
    "            # get user input\n",
    "            nl = '\\n'\n",
    "            user_choice = input(f'No exact match found, please choose from the following options:'\n",
    "                                f'\\n- \"{recommendation_text} -\"'\n",
    "                                f'\\n{nl.join([f\"{i}: {match[0]} - {match[1]}\" for i, match in enumerate(matches)])}'\n",
    "                                f'\\n{len(matches)}: None'\n",
    "                                f'\\nPlease enter the number of your choice: ')\n",
    "\n",
    "            # check if user input is valid\n",
    "            if user_choice.isdigit() and int(user_choice) < len(matches):\n",
    "                match_row = recommendation_gt_df[recommendation_gt_df.recommendation.str.lower() == matches[int(user_choice)][0].lower()]\n",
    "                grade_eval = recommendation_grade.lower() == match_row['class'].values[0].lower()\n",
    "                level_eval = recommendation_level.lower() == match_row.LOE.values[0].lower()\n",
    "                return (grade_eval, level_eval, matches[int(user_choice)][0], matches[int(user_choice)][1], True)\n",
    "\n",
    "            # no match found\n",
    "            elif user_choice.isdigit() and int(user_choice) == len(matches):\n",
    "                return (-1, -1, -1, -1, True)\n",
    "            else:\n",
    "                print('Invalid choice, no match retained')\n",
    "                return (-1, -1, -1, -1, False)\n",
    "\n"
   ]
  },
  {
   "cell_type": "code",
   "execution_count": 59,
   "id": "37338d7e121c48d7",
   "metadata": {
    "ExecuteTime": {
     "end_time": "2025-04-02T14:57:59.989381Z",
     "start_time": "2025-04-02T14:57:59.979940Z"
    }
   },
   "outputs": [
    {
     "data": {
      "text/html": [
       "<div>\n",
       "<style scoped>\n",
       "    .dataframe tbody tr th:only-of-type {\n",
       "        vertical-align: middle;\n",
       "    }\n",
       "\n",
       "    .dataframe tbody tr th {\n",
       "        vertical-align: top;\n",
       "    }\n",
       "\n",
       "    .dataframe thead th {\n",
       "        text-align: right;\n",
       "    }\n",
       "</style>\n",
       "<table border=\"1\" class=\"dataframe\">\n",
       "  <thead>\n",
       "    <tr style=\"text-align: right;\">\n",
       "      <th></th>\n",
       "      <th>Key</th>\n",
       "      <th>Title</th>\n",
       "      <th>DOI</th>\n",
       "      <th>recommendation</th>\n",
       "      <th>class</th>\n",
       "      <th>LOE</th>\n",
       "    </tr>\n",
       "  </thead>\n",
       "  <tbody>\n",
       "    <tr>\n",
       "      <th>18</th>\n",
       "      <td>NaN</td>\n",
       "      <td>NaN</td>\n",
       "      <td>NaN</td>\n",
       "      <td>Nitric oxide is recommended for performing vas...</td>\n",
       "      <td>I</td>\n",
       "      <td>C</td>\n",
       "    </tr>\n",
       "  </tbody>\n",
       "</table>\n",
       "</div>"
      ],
      "text/plain": [
       "    Key Title  DOI                                     recommendation class  \\\n",
       "18  NaN   NaN  NaN  Nitric oxide is recommended for performing vas...     I   \n",
       "\n",
       "   LOE  \n",
       "18   C  "
      ]
     },
     "execution_count": 59,
     "metadata": {},
     "output_type": "execute_result"
    }
   ],
   "source": [
    "df[df.recommendation.str.lower() == ('Nitric oxide is recommended for performing vasoreactivity testing').lower()]"
   ]
  },
  {
   "cell_type": "code",
   "execution_count": 62,
   "id": "4716de42d668d399",
   "metadata": {
    "ExecuteTime": {
     "end_time": "2025-04-02T14:59:25.191196Z",
     "start_time": "2025-04-02T14:59:25.181059Z"
    }
   },
   "outputs": [
    {
     "name": "stdout",
     "output_type": "stream",
     "text": [
      "Fuzzy match found for \"Nitric oxide is recommended for performing testing\" with score 95: \"nitric oxide is recommended for performing vasoreactivity testing\"\n"
     ]
    },
    {
     "data": {
      "text/plain": [
       "(True,\n",
       " True,\n",
       " 'nitric oxide is recommended for performing vasoreactivity testing',\n",
       " 95,\n",
       " False)"
      ]
     },
     "execution_count": 62,
     "metadata": {},
     "output_type": "execute_result"
    }
   ],
   "source": [
    "score_recommendation('Nitric oxide is recommended for testing', 'I', 'C', df)"
   ]
  },
  {
   "cell_type": "code",
   "execution_count": 68,
   "id": "2853f28ab21fe0ec",
   "metadata": {
    "ExecuteTime": {
     "end_time": "2025-04-02T15:35:01.808919Z",
     "start_time": "2025-04-02T15:35:01.771466Z"
    }
   },
   "outputs": [],
   "source": [
    "def evaluate_guideline_extraction(df:pd.DataFrame, gt_df:pd.DataFrame, interactive:bool=True, verbose:bool=True) -> tuple:\n",
    "    \"\"\"\n",
    "    Evaluate an extracted guideline recommendation dataframe against a ground truth dataframe.\n",
    "    The function iterates through the extracted dataframe, scoring each recommendation based on its text, grade, and level.\n",
    "    Accuracy for grade and level is calculated as the percentage of correct matches.\n",
    "\n",
    "    Parameters\n",
    "    ----------\n",
    "    :param df:\n",
    "    :param gt_df:\n",
    "    :param interactive:\n",
    "    :param verbose:\n",
    "\n",
    "    Returns\n",
    "    -------\n",
    "    :return: tuple\n",
    "        A tuple containing the accuracy of recommendations, accuracy of grades, accuracy of levels, number of missing recommendations,\n",
    "        a dataframe of all matches, and a dataframe of missing recommendations.\n",
    "        (accuracy_recommendation, accuracy_grade, accuracy_level, n_missing_recommendations, all_matches_df, missing_recommendations_df)\n",
    "    \"\"\"\n",
    "    # Initialize variables\n",
    "    n_recommendations = len(df)\n",
    "    n_correct_recommendations = 0\n",
    "    n_correct_grades = 0\n",
    "    n_correct_levels = 0\n",
    "    all_matches = []\n",
    "\n",
    "    # Iterate through the extracted dataframe\n",
    "    for i, row in df.iterrows():\n",
    "        recommendation_text = row['recommendation']\n",
    "        recommendation_grade = row['class']\n",
    "        recommendation_level = row['LOE']\n",
    "\n",
    "        # Score the recommendation\n",
    "        grade_eval, level_eval, matched_text, score, manual_validation = score_recommendation(recommendation_text,\n",
    "                                                                                             recommendation_grade,\n",
    "                                                                                             recommendation_level,\n",
    "                                                                                             gt_df,\n",
    "                                                                                             interactive=interactive,\n",
    "                                                                                             verbose=verbose)\n",
    "\n",
    "        # Update counts based on evaluation\n",
    "        if grade_eval == True:\n",
    "            n_correct_grades += 1\n",
    "        if level_eval == True:\n",
    "            n_correct_levels += 1\n",
    "        if matched_text != -1:\n",
    "            n_correct_recommendations += 1\n",
    "\n",
    "        # Append match to all matches list\n",
    "        all_matches.append((recommendation_text, recommendation_grade, recommendation_level, matched_text, grade_eval, level_eval, score, manual_validation))\n",
    "\n",
    "    # Calculate accuracies\n",
    "    accuracy_recommendation = n_correct_recommendations / n_recommendations * 100\n",
    "    accuracy_grade = n_correct_grades / n_correct_recommendations * 100\n",
    "    accuracy_level = n_correct_levels / n_correct_recommendations * 100\n",
    "\n",
    "    all_matches_df = pd.DataFrame(all_matches, columns=['recommendation_text', 'recommendation_grade', 'recommendation_level', 'matched_text', 'grade_eval', 'level_eval', 'match_score', 'manual_validation'])\n",
    "\n",
    "    # missing recommendations (ie in ground truth but not in extracted)\n",
    "    missing_recommendations_df = gt_df[~gt_df.recommendation.isin(df.recommendation.values)]\n",
    "    n_missing_recommendations = len(missing_recommendations_df)\n",
    "\n",
    "    return (accuracy_recommendation, accuracy_grade, accuracy_level, n_missing_recommendations, all_matches_df, missing_recommendations_df)\n"
   ]
  },
  {
   "cell_type": "code",
   "execution_count": 70,
   "id": "a40515720a568ff9",
   "metadata": {
    "ExecuteTime": {
     "end_time": "2025-04-02T15:35:49.037921Z",
     "start_time": "2025-04-02T15:35:48.900180Z"
    }
   },
   "outputs": [],
   "source": [
    "accuracy_recommendation, accuracy_grade, accuracy_level, n_missing_recommendations, all_matches_df, missing_recommendations_df = evaluate_guideline_extraction(df, df, interactive=False, verbose=True)"
   ]
  },
  {
   "cell_type": "code",
   "execution_count": 71,
   "id": "1a22823535e4b23e",
   "metadata": {
    "ExecuteTime": {
     "end_time": "2025-04-02T15:35:54.191120Z",
     "start_time": "2025-04-02T15:35:54.185875Z"
    }
   },
   "outputs": [
    {
     "data": {
      "text/plain": [
       "(100.0, 100.0, 100.0, 0)"
      ]
     },
     "execution_count": 71,
     "metadata": {},
     "output_type": "execute_result"
    }
   ],
   "source": [
    "accuracy_recommendation, accuracy_grade, accuracy_level, n_missing_recommendations"
   ]
  }
 ],
 "metadata": {
  "kernelspec": {
   "display_name": "evident",
   "language": "python",
   "name": "python3"
  },
  "language_info": {
   "codemirror_mode": {
    "name": "ipython",
    "version": 3
   },
   "file_extension": ".py",
   "mimetype": "text/x-python",
   "name": "python",
   "nbconvert_exporter": "python",
   "pygments_lexer": "ipython3",
   "version": "3.10.16"
  }
 },
 "nbformat": 4,
 "nbformat_minor": 5
}
